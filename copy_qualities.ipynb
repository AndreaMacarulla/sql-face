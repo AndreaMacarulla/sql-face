{
 "cells": [
  {
   "cell_type": "code",
   "execution_count": 5,
   "metadata": {},
   "outputs": [],
   "source": [
    "import os\n",
    "\n",
    "home = os.path.expanduser(\"~\")\n",
    "\n",
    "db_name=  'test_1' #'test_new_creators_4'\n",
    "input_dir = os.path.join(home, 'video_resources', 'image_datasets')\n",
    "output_dir = os.path.join(home, 'video_resources', 'sql_database')\n",
    "database_names=['enfsi','lfw','forenface'] # 'lfw', 'scface',  'enfsi', 'enfsi2015', 'xqlfw', 'utkface','chokepoint','forenface'\n",
    "detector_names=['mtcnn'] # 'dlib', 'mtcnn', 'mtcnn_serfiq'\n",
    "embedding_model_names=[\"QMagFace\"] # , \"Dlib\", \"ArcFace\",\n",
    "attributes_to_update=[]  # 'gender', 'age', 'emotion', 'race'\n",
    "quality_model_names = ['ser_fiq', 'tface'] # 'confusion_score', 'ser_fiq',"
   ]
  },
  {
   "cell_type": "code",
   "execution_count": 6,
   "metadata": {},
   "outputs": [],
   "source": [
    "from sql_face.sqldb import SQLDataBase\n",
    "\n",
    "database = SQLDataBase(db_name=db_name,\n",
    "                        input_dir = input_dir,\n",
    "                        output_dir_name = output_dir,\n",
    "                        database_names = database_names,\n",
    "                        detector_names = detector_names,\n",
    "                        embedding_model_names = embedding_model_names,\n",
    "                        quality_model_names = quality_model_names)"
   ]
  },
  {
   "cell_type": "code",
   "execution_count": 10,
   "metadata": {},
   "outputs": [
    {
     "name": "stderr",
     "output_type": "stream",
     "text": [
      "  0%|          | 0/1 [00:00<?, ?it/s]"
     ]
    }
   ],
   "source": [
    "\n",
    "\n",
    "import pandas as pd\n",
    "from tqdm import tqdm\n",
    "from sql_face.tables import EnfsiPair, EnfsiPair2015, QualityImage, FaceImage, CroppedImage, Image, QualityModel\n",
    "\n",
    "session = database.session\n",
    "\n",
    "\n",
    "# generamos un datafame con la información que necesitamos para los registros sin quality\n",
    "# hacemos una query para actualizar los registros que no tienen quality\n",
    "\n",
    "\n",
    "df_a = pd.read_sql_query(session.query(QualityImage,FaceImage.croppedImage_id)\n",
    "    .join(FaceImage)\n",
    "    .filter(QualityImage.quality != None,FaceImage.embeddingModel_id == 1).statement, con=session.bind)\n",
    "\n",
    "\n",
    "sql_b = (session.query(QualityImage, FaceImage)\n",
    "    .join(FaceImage)\n",
    "    .filter(QualityImage.quality == None).limit(200000).all())\n",
    "n1 = 1000\n",
    "n = n1\n",
    "for Q,F in tqdm(sql_b):\n",
    "    #recorremos el resultado y actualizamos el objeto QualityImage\n",
    "\n",
    "\n",
    "    qm = Q.qualityModel_id\n",
    "    em = F.embeddingModel_id\n",
    "    ci = F.croppedImage_id\n",
    "\n",
    "    df_r = df_a.loc[(df_a['qualityModel_id'] == qm) & (df_a['croppedImage_id'] == ci) ]\n",
    "    assert len(df_r) == 1\n",
    "    Q.quality = float(df_r.quality)\n",
    "    if not n:\n",
    "        session.commit()\n",
    "        n = n1\n",
    "    else:\n",
    "        n-=1\n",
    "session.commit() "
   ]
  },
  {
   "cell_type": "code",
   "execution_count": 8,
   "metadata": {},
   "outputs": [
    {
     "ename": "KeyError",
     "evalue": "'image_quality'",
     "output_type": "error",
     "traceback": [
      "\u001b[0;31m---------------------------------------------------------------------------\u001b[0m",
      "\u001b[0;31mKeyError\u001b[0m                                  Traceback (most recent call last)",
      "\u001b[1;32m/home/jmacarulla/sql-face/copy_qualities.ipynb Cell 4\u001b[0m in \u001b[0;36m5\n\u001b[1;32m      <a href='vscode-notebook-cell://wsl%2Bubuntu/home/jmacarulla/sql-face/copy_qualities.ipynb#W3sdnNjb2RlLXJlbW90ZQ%3D%3D?line=2'>3</a>\u001b[0m \u001b[39mfor\u001b[39;00m img \u001b[39min\u001b[39;00m query:\n\u001b[1;32m      <a href='vscode-notebook-cell://wsl%2Bubuntu/home/jmacarulla/sql-face/copy_qualities.ipynb#W3sdnNjb2RlLXJlbW90ZQ%3D%3D?line=3'>4</a>\u001b[0m     \u001b[39mfilter\u001b[39m \u001b[39m=\u001b[39m [\u001b[39m'\u001b[39m\u001b[39mimage_quality\u001b[39m\u001b[39m'\u001b[39m]\n\u001b[0;32m----> <a href='vscode-notebook-cell://wsl%2Bubuntu/home/jmacarulla/sql-face/copy_qualities.ipynb#W3sdnNjb2RlLXJlbW90ZQ%3D%3D?line=4'>5</a>\u001b[0m     cat \u001b[39m=\u001b[39m img\u001b[39m.\u001b[39;49mget_category(im_category_list \u001b[39m=\u001b[39;49m \u001b[39mfilter\u001b[39;49m,fi_cat_list\u001b[39m=\u001b[39;49m[],detector\u001b[39m=\u001b[39;49m\u001b[39m'\u001b[39;49m\u001b[39mmtcnn\u001b[39;49m\u001b[39m'\u001b[39;49m,embedding_model\u001b[39m=\u001b[39;49m\u001b[39m'\u001b[39;49m\u001b[39mArcface\u001b[39;49m\u001b[39m'\u001b[39;49m)\n\u001b[1;32m      <a href='vscode-notebook-cell://wsl%2Bubuntu/home/jmacarulla/sql-face/copy_qualities.ipynb#W3sdnNjb2RlLXJlbW90ZQ%3D%3D?line=6'>7</a>\u001b[0m     cat2 \u001b[39m=\u001b[39m img\u001b[39m.\u001b[39mget_category([],[],\u001b[39m'\u001b[39m\u001b[39mmtcnn\u001b[39m\u001b[39m'\u001b[39m,\u001b[39m'\u001b[39m\u001b[39mArcface\u001b[39m\u001b[39m'\u001b[39m)\n\u001b[1;32m      <a href='vscode-notebook-cell://wsl%2Bubuntu/home/jmacarulla/sql-face/copy_qualities.ipynb#W3sdnNjb2RlLXJlbW90ZQ%3D%3D?line=8'>9</a>\u001b[0m     a \u001b[39m=\u001b[39m \u001b[39m5\u001b[39m\n",
      "File \u001b[0;32m~/sql-face/sql_face/tables.py:295\u001b[0m, in \u001b[0;36mPair.get_category\u001b[0;34m(self, im_category_list, fi_cat_list, detector, embedding_model)\u001b[0m\n\u001b[1;32m    294\u001b[0m \u001b[39mdef\u001b[39;00m \u001b[39mget_category\u001b[39m(\u001b[39mself\u001b[39m, im_category_list, fi_cat_list, detector, embedding_model):\n\u001b[0;32m--> 295\u001b[0m     \u001b[39mreturn\u001b[39;00m \u001b[39mtuple\u001b[39m((\u001b[39mself\u001b[39;49m\u001b[39m.\u001b[39;49mfirst\u001b[39m.\u001b[39;49mget_category(im_category_list, fi_cat_list, detector, embedding_model),\n\u001b[1;32m    296\u001b[0m                   \u001b[39mself\u001b[39m\u001b[39m.\u001b[39msecond\u001b[39m.\u001b[39mget_category(im_category_list, fi_cat_list, detector, embedding_model)))\n",
      "File \u001b[0;32m~/sql-face/sql_face/tables.py:161\u001b[0m, in \u001b[0;36mImage.get_category\u001b[0;34m(self, im_category_list, fi_cat_list, detector, embedding_model)\u001b[0m\n\u001b[1;32m    158\u001b[0m \u001b[39mdef\u001b[39;00m \u001b[39mget_category\u001b[39m(\u001b[39mself\u001b[39m, im_category_list, fi_cat_list, detector, embedding_model):\n\u001b[1;32m    159\u001b[0m     \u001b[39m# todo: clean some day.\u001b[39;00m\n\u001b[1;32m    160\u001b[0m     \u001b[39mreturn\u001b[39;00m \u001b[39mtuple\u001b[39m(\n\u001b[0;32m--> 161\u001b[0m         \u001b[39mself\u001b[39;49m\u001b[39m.\u001b[39;49mget_im_category(im_category_list) )\n",
      "File \u001b[0;32m~/sql-face/sql_face/tables.py:165\u001b[0m, in \u001b[0;36mImage.get_im_category\u001b[0;34m(self, im_category_list)\u001b[0m\n\u001b[1;32m    164\u001b[0m \u001b[39mdef\u001b[39;00m \u001b[39mget_im_category\u001b[39m(\u001b[39mself\u001b[39m, im_category_list):\n\u001b[0;32m--> 165\u001b[0m     category_values \u001b[39m=\u001b[39m [\u001b[39mself\u001b[39m\u001b[39m.\u001b[39m\u001b[39m__dict__\u001b[39m[category] \u001b[39mfor\u001b[39;00m category \u001b[39min\u001b[39;00m im_category_list]\n\u001b[1;32m    166\u001b[0m     \u001b[39mreturn\u001b[39;00m category_values\n",
      "File \u001b[0;32m~/sql-face/sql_face/tables.py:165\u001b[0m, in \u001b[0;36m<listcomp>\u001b[0;34m(.0)\u001b[0m\n\u001b[1;32m    164\u001b[0m \u001b[39mdef\u001b[39;00m \u001b[39mget_im_category\u001b[39m(\u001b[39mself\u001b[39m, im_category_list):\n\u001b[0;32m--> 165\u001b[0m     category_values \u001b[39m=\u001b[39m [\u001b[39mself\u001b[39;49m\u001b[39m.\u001b[39;49m\u001b[39m__dict__\u001b[39;49m[category] \u001b[39mfor\u001b[39;00m category \u001b[39min\u001b[39;00m im_category_list]\n\u001b[1;32m    166\u001b[0m     \u001b[39mreturn\u001b[39;00m category_values\n",
      "\u001b[0;31mKeyError\u001b[0m: 'image_quality'"
     ]
    }
   ],
   "source": [
    "query = (session.query(EnfsiPair).limit(100).all())\n",
    "\n",
    "for img in query:\n",
    "    filter = ['image_quality']\n",
    "    cat = img.get_category(im_category_list = filter,fi_cat_list=[],detector='mtcnn',embedding_model='Arcface')\n",
    "\n",
    "    cat2 = img.get_category([],[],'mtcnn','Arcface')\n",
    "\n",
    "    a = 5\n"
   ]
  }
 ],
 "metadata": {
  "kernelspec": {
   "display_name": "sql-face",
   "language": "python",
   "name": "python3"
  },
  "language_info": {
   "codemirror_mode": {
    "name": "ipython",
    "version": 3
   },
   "file_extension": ".py",
   "mimetype": "text/x-python",
   "name": "python",
   "nbconvert_exporter": "python",
   "pygments_lexer": "ipython3",
   "version": "3.8.15"
  },
  "orig_nbformat": 4,
  "vscode": {
   "interpreter": {
    "hash": "edd2314f85f22963f985d48f57a085e9a58a34ab11a3cd413d34968a1f6f2e55"
   }
  }
 },
 "nbformat": 4,
 "nbformat_minor": 2
}
