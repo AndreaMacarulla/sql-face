{
 "cells": [
  {
   "cell_type": "markdown",
   "metadata": {},
   "source": [
    "# Parameter definition\n",
    "Choose all the settings for the database creation."
   ]
  },
  {
   "cell_type": "code",
   "execution_count": 1,
   "metadata": {},
   "outputs": [],
   "source": [
    "#TODO: Change absolute to relative paths for input and output dir.\n",
    "import os\n",
    "\n",
    "home = os.path.expanduser(\"~\")\n",
    "\n",
    "db_name= 'test_video_dataset' #'colab_main_dataset'\n",
    "input_dir = os.path.join(home,'image_datasets')\n",
    "output_dir = os.path.join(home,'sql_database')\n",
    "#input_dir = os.path.join(home,'Desktop', 'image_datasets')\n",
    "#output_dir = os.path.join(home,'Desktop','sql_database')\n",
    "database_names=['chokepoint', 'enfsi2015'] # 'lfw', 'scface', 'forenface', 'enfsi', 'enfsi2015' 'xqlfw', 'utkface','chokepoint'\n",
    "detector_names=['mtcnn', 'mtcnn_serfiq'] # 'dlib', 'mtcnn', 'mtcnn_serfiq'\n",
    "embedding_model_names=[\"ArcFace\"] # , \"Dlib\", \"ArcFace\",\n",
    "attributes_to_update=['gender']  # 'gender', 'age', 'emotion', 'race'\n",
    "quality_model_names = ['ser_fiq', 'tface'] # 'confusion_score', 'ser_fiq',\n",
    "save_in_drive = False # To work in google colab\n",
    "\n"
   ]
  },
  {
   "cell_type": "markdown",
   "metadata": {},
   "source": [
    "## SERFIQ model\n",
    "\n",
    "Create SERFIQ model."
   ]
  },
  {
   "cell_type": "code",
   "execution_count": 2,
   "metadata": {},
   "outputs": [
    {
     "name": "stderr",
     "output_type": "stream",
     "text": [
      "/home/jmacarulla/anaconda3/envs/sql-face/lib/python3.7/site-packages/tqdm/auto.py:22: TqdmWarning: IProgress not found. Please update jupyter and ipywidgets. See https://ipywidgets.readthedocs.io/en/stable/user_install.html\n",
      "  from .autonotebook import tqdm as notebook_tqdm\n",
      "[16:45:51] ../src/nnvm/legacy_json_util.cc:208: Loading symbol saved by previous version v1.8.0. Attempting to upgrade...\n",
      "[16:45:51] ../src/nnvm/legacy_json_util.cc:216: Symbol successfully upgraded!\n",
      "/home/jmacarulla/anaconda3/envs/sql-face/lib/python3.7/site-packages/mxnet/gluon/block.py:1784: UserWarning: Cannot decide type for the following arguments. Consider providing them as input:\n",
      "\tdata: None\n",
      "  input_sym_arg_type = in_param.infer_type()[0]\n",
      "[16:45:52] ../src/nnvm/legacy_json_util.cc:208: Loading symbol saved by previous version v0.8.0. Attempting to upgrade...\n",
      "[16:45:52] ../src/nnvm/legacy_json_util.cc:216: Symbol successfully upgraded!\n",
      "[16:45:52] ../src/nnvm/legacy_json_util.cc:208: Loading symbol saved by previous version v0.8.0. Attempting to upgrade...\n",
      "[16:45:52] ../src/nnvm/legacy_json_util.cc:216: Symbol successfully upgraded!\n",
      "[16:45:52] ../src/nnvm/legacy_json_util.cc:208: Loading symbol saved by previous version v0.8.0. Attempting to upgrade...\n",
      "[16:45:52] ../src/nnvm/legacy_json_util.cc:216: Symbol successfully upgraded!\n",
      "[16:45:52] ../src/nnvm/legacy_json_util.cc:208: Loading symbol saved by previous version v0.8.0. Attempting to upgrade...\n",
      "[16:45:52] ../src/nnvm/legacy_json_util.cc:216: Symbol successfully upgraded!\n"
     ]
    }
   ],
   "source": [
    "from sql_face.serfiq import get_serfiq_model\n",
    "serfiq = get_serfiq_model()"
   ]
  },
  {
   "cell_type": "markdown",
   "metadata": {},
   "source": [
    "# Database creation"
   ]
  },
  {
   "cell_type": "markdown",
   "metadata": {},
   "source": [
    "database = SQLDataBase(db_name=db_name,\n",
    "                        database_names=database_names, # , 'scface', 'forenface', 'enfsi', 'enfsi2015'\n",
    "                        detector_names=detector_names,\n",
    "                        embedding_model_names=embedding_model_names,\n",
    "                        quality_model_names=quality_model_names,\n",
    "                        save_in_drive=save_in_drive                        \n",
    "                        )\n",
    "\n",
    "database.fill_db()\n",
    "database.update_db(attributes_to_update=attributes_to_update, force_update=False)"
   ]
  },
  {
   "cell_type": "code",
   "execution_count": 3,
   "metadata": {},
   "outputs": [
    {
     "name": "stderr",
     "output_type": "stream",
     "text": [
      "2022-11-27 16:45:52.576847: I tensorflow/core/platform/cpu_feature_guard.cc:193] This TensorFlow binary is optimized with oneAPI Deep Neural Network Library (oneDNN) to use the following CPU instructions in performance-critical operations:  AVX2 FMA\n",
      "To enable them in other operations, rebuild TensorFlow with the appropriate compiler flags.\n",
      "2022-11-27 16:45:52.769027: E tensorflow/stream_executor/cuda/cuda_blas.cc:2981] Unable to register cuBLAS factory: Attempting to register factory for plugin cuBLAS when one has already been registered\n",
      "2022-11-27 16:45:53.407907: W tensorflow/stream_executor/platform/default/dso_loader.cc:64] Could not load dynamic library 'libnvinfer.so.7'; dlerror: libnvinfer.so.7: cannot open shared object file: No such file or directory; LD_LIBRARY_PATH: /home/jmacarulla/anaconda3/envs/sql-face/lib/python3.7/site-packages/cv2/../../lib64:\n",
      "2022-11-27 16:45:53.408047: W tensorflow/stream_executor/platform/default/dso_loader.cc:64] Could not load dynamic library 'libnvinfer_plugin.so.7'; dlerror: libnvinfer_plugin.so.7: cannot open shared object file: No such file or directory; LD_LIBRARY_PATH: /home/jmacarulla/anaconda3/envs/sql-face/lib/python3.7/site-packages/cv2/../../lib64:\n",
      "2022-11-27 16:45:53.408057: W tensorflow/compiler/tf2tensorrt/utils/py_utils.cc:38] TF-TRT Warning: Cannot dlopen some TensorRT libraries. If you would like to use Nvidia GPU with TensorRT, please make sure the missing libraries mentioned above are installed properly.\n"
     ]
    }
   ],
   "source": [
    "from sql_face.sqldb import SQLDataBase"
   ]
  },
  {
   "cell_type": "code",
   "execution_count": 4,
   "metadata": {},
   "outputs": [],
   "source": [
    "database = SQLDataBase(db_name=db_name,\n",
    "                        input_dir = input_dir,\n",
    "                        output_dir_name = output_dir,\n",
    "                        database_names = database_names,\n",
    "                        detector_names = detector_names,\n",
    "                        embedding_model_names = embedding_model_names,\n",
    "                        quality_model_names = quality_model_names)"
   ]
  },
  {
   "cell_type": "code",
   "execution_count": 5,
   "metadata": {},
   "outputs": [
    {
     "data": {
      "text/plain": [
       "{'db_name': 'test_video_dataset',\n",
       " 'input_dir': '/home/jmacarulla/image_datasets',\n",
       " 'save_in_drive': False,\n",
       " 'output_dir': '/home/jmacarulla/sql_database',\n",
       " 'session': <sqlalchemy.orm.session.Session at 0x7f0455bc9fd0>,\n",
       " 'databases': [<sql_face.databases.ChokePoint at 0x7f0455b85c90>,\n",
       "  <sql_face.databases.Enfsi2015 at 0x7f0455e17450>],\n",
       " 'detector_names': ['mtcnn', 'mtcnn_serfiq'],\n",
       " 'embedding_model_names': ['ArcFace'],\n",
       " 'quality_model_names': ['ser_fiq', 'tface']}"
      ]
     },
     "execution_count": 5,
     "metadata": {},
     "output_type": "execute_result"
    }
   ],
   "source": [
    "database.__dict__"
   ]
  },
  {
   "cell_type": "code",
   "execution_count": 6,
   "metadata": {},
   "outputs": [],
   "source": [
    "database.create_tables(serfiq=serfiq)"
   ]
  },
  {
   "cell_type": "code",
   "execution_count": null,
   "metadata": {},
   "outputs": [],
   "source": [
    "database.update_tables(attributes_to_update, serfiq = serfiq)"
   ]
  }
 ],
 "metadata": {
  "kernelspec": {
   "display_name": "Python 3.7.15 ('sql-face')",
   "language": "python",
   "name": "python3"
  },
  "language_info": {
   "codemirror_mode": {
    "name": "ipython",
    "version": 3
   },
   "file_extension": ".py",
   "mimetype": "text/x-python",
   "name": "python",
   "nbconvert_exporter": "python",
   "pygments_lexer": "ipython3",
   "version": "3.7.15"
  },
  "orig_nbformat": 4,
  "vscode": {
   "interpreter": {
    "hash": "0a84f744ed89671113ba95f00e1aad6d21abade608318eb8af248311f249adcd"
   }
  }
 },
 "nbformat": 4,
 "nbformat_minor": 2
}
