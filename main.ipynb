{
 "cells": [
  {
   "cell_type": "markdown",
   "metadata": {},
   "source": [
    "# Parameter definition\n",
    "Choose all the settings for the database creation."
   ]
  },
  {
   "cell_type": "code",
   "execution_count": 1,
   "metadata": {},
   "outputs": [],
   "source": [
    "db_name= 'test_video_dataset' #'colab_main_dataset'\n",
    "database_names=['enfsi2015'] # , 'scface', 'forenface', 'enfsi', 'enfsi2015'\n",
    "detector_names=['mtcnn_serfiq'] # 'dlib', 'mtcnn'\n",
    "embedding_model_names=[\"ArcFace\"] # , \"Dlib\", \"ArcFace\",\n",
    "attributes_to_update=[]  # 'gender', 'age', 'emotion', 'race'\n",
    "quality_model_names = [] # 'confusion_score',\n",
    "save_in_drive = False # To work in google colab"
   ]
  },
  {
   "cell_type": "markdown",
   "metadata": {},
   "source": [
    "# Database creation"
   ]
  },
  {
   "cell_type": "markdown",
   "metadata": {},
   "source": [
    "database = SQLDataBase(db_name=db_name,\n",
    "                        database_names=database_names, # , 'scface', 'forenface', 'enfsi', 'enfsi2015'\n",
    "                        detector_names=detector_names,\n",
    "                        embedding_model_names=embedding_model_names,\n",
    "                        quality_model_names=quality_model_names,\n",
    "                        save_in_drive=save_in_drive                        \n",
    "                        )\n",
    "\n",
    "database.fill_db()\n",
    "database.update_db(attributes_to_update=attributes_to_update, force_update=False)"
   ]
  },
  {
   "cell_type": "code",
   "execution_count": 2,
   "metadata": {},
   "outputs": [],
   "source": [
    "from sql_face.sqldb import SQLDataBase"
   ]
  },
  {
   "cell_type": "code",
   "execution_count": 3,
   "metadata": {},
   "outputs": [
    {
     "name": "stdout",
     "output_type": "stream",
     "text": [
      "Creating Db file at /home/andrea/Desktop/sql_database/test_video_dataset.db\n"
     ]
    },
    {
     "ename": "NameError",
     "evalue": "name 'Base' is not defined",
     "output_type": "error",
     "traceback": [
      "\u001b[0;31m---------------------------------------------------------------------------\u001b[0m",
      "\u001b[0;31mNameError\u001b[0m                                 Traceback (most recent call last)",
      "\u001b[0;32m/tmp/ipykernel_49169/3562018162.py\u001b[0m in \u001b[0;36m<module>\u001b[0;34m\u001b[0m\n\u001b[0;32m----> 1\u001b[0;31m \u001b[0mdatabase\u001b[0m \u001b[0;34m=\u001b[0m \u001b[0mSQLDataBase\u001b[0m\u001b[0;34m(\u001b[0m\u001b[0mdb_name\u001b[0m\u001b[0;34m=\u001b[0m\u001b[0mdb_name\u001b[0m\u001b[0;34m)\u001b[0m\u001b[0;34m\u001b[0m\u001b[0;34m\u001b[0m\u001b[0m\n\u001b[0m",
      "\u001b[0;32m~/PycharmProjects/sql-face/sql_face/sqldb.py\u001b[0m in \u001b[0;36m__init__\u001b[0;34m(self, db_name, input_dir, output_dir_name, save_in_drive)\u001b[0m\n\u001b[1;32m     29\u001b[0m         \u001b[0mself\u001b[0m\u001b[0;34m.\u001b[0m\u001b[0msave_in_drive\u001b[0m \u001b[0;34m=\u001b[0m \u001b[0msave_in_drive\u001b[0m\u001b[0;34m\u001b[0m\u001b[0;34m\u001b[0m\u001b[0m\n\u001b[1;32m     30\u001b[0m         \u001b[0mself\u001b[0m\u001b[0;34m.\u001b[0m\u001b[0moutput_dir\u001b[0m \u001b[0;34m=\u001b[0m \u001b[0m_get_output_dir\u001b[0m\u001b[0;34m(\u001b[0m\u001b[0moutput_dir_name\u001b[0m\u001b[0;34m,\u001b[0m \u001b[0msave_in_drive\u001b[0m\u001b[0;34m)\u001b[0m\u001b[0;34m\u001b[0m\u001b[0;34m\u001b[0m\u001b[0m\n\u001b[0;32m---> 31\u001b[0;31m         \u001b[0mself\u001b[0m\u001b[0;34m.\u001b[0m\u001b[0msession\u001b[0m \u001b[0;34m=\u001b[0m \u001b[0mget_session\u001b[0m\u001b[0;34m(\u001b[0m\u001b[0moutput_dir_name\u001b[0m\u001b[0;34m,\u001b[0m \u001b[0mdb_name\u001b[0m\u001b[0;34m)\u001b[0m\u001b[0;34m\u001b[0m\u001b[0;34m\u001b[0m\u001b[0m\n\u001b[0m",
      "\u001b[0;32m~/PycharmProjects/sql-face/sql_face/alchemy.py\u001b[0m in \u001b[0;36mget_session\u001b[0;34m(output_dir, db_name)\u001b[0m\n\u001b[1;32m     23\u001b[0m \u001b[0;34m\u001b[0m\u001b[0m\n\u001b[1;32m     24\u001b[0m         \u001b[0mprint\u001b[0m\u001b[0;34m(\u001b[0m\u001b[0;34mf'Creating Db file at {db_path}'\u001b[0m\u001b[0;34m)\u001b[0m\u001b[0;34m\u001b[0m\u001b[0;34m\u001b[0m\u001b[0m\n\u001b[0;32m---> 25\u001b[0;31m         \u001b[0mBase\u001b[0m\u001b[0;34m.\u001b[0m\u001b[0mmetadata\u001b[0m\u001b[0;34m.\u001b[0m\u001b[0mcreate_all\u001b[0m\u001b[0;34m(\u001b[0m\u001b[0mengine\u001b[0m\u001b[0;34m)\u001b[0m\u001b[0;34m\u001b[0m\u001b[0;34m\u001b[0m\u001b[0m\n\u001b[0m\u001b[1;32m     26\u001b[0m \u001b[0;34m\u001b[0m\u001b[0m\n\u001b[1;32m     27\u001b[0m     \u001b[0mSession\u001b[0m \u001b[0;34m=\u001b[0m \u001b[0msessionmaker\u001b[0m\u001b[0;34m(\u001b[0m\u001b[0;34m)\u001b[0m\u001b[0;34m\u001b[0m\u001b[0;34m\u001b[0m\u001b[0m\n",
      "\u001b[0;31mNameError\u001b[0m: name 'Base' is not defined"
     ]
    }
   ],
   "source": [
    "database = SQLDataBase(db_name=db_name)"
   ]
  },
  {
   "cell_type": "code",
   "execution_count": null,
   "metadata": {},
   "outputs": [
    {
     "data": {
      "text/plain": [
       "{'db_name': 'test_video_dataset',\n",
       " 'input_dir': '/home/andrea/Desktop/image_datasets'}"
      ]
     },
     "execution_count": 12,
     "metadata": {},
     "output_type": "execute_result"
    }
   ],
   "source": [
    "database.__dict__"
   ]
  }
 ],
 "metadata": {
  "kernelspec": {
   "display_name": "Python 3.7.13 ('sql-face')",
   "language": "python",
   "name": "python3"
  },
  "language_info": {
   "codemirror_mode": {
    "name": "ipython",
    "version": 3
   },
   "file_extension": ".py",
   "mimetype": "text/x-python",
   "name": "python",
   "nbconvert_exporter": "python",
   "pygments_lexer": "ipython3",
   "version": "3.7.13"
  },
  "orig_nbformat": 4,
  "vscode": {
   "interpreter": {
    "hash": "0a84f744ed89671113ba95f00e1aad6d21abade608318eb8af248311f249adcd"
   }
  }
 },
 "nbformat": 4,
 "nbformat_minor": 2
}
