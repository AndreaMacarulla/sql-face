{
 "cells": [
  {
   "cell_type": "markdown",
   "metadata": {},
   "source": [
    "# Parameter definition\n",
    "Choose all the settings for the database creation. Input, output dir..."
   ]
  },
  {
   "cell_type": "code",
   "execution_count": 1,
   "metadata": {},
   "outputs": [],
   "source": [
    "import os\n",
    "\n",
    "home = os.path.expanduser(\"~\")\n",
    "\n",
    "db_name=  'test_1' #'test_new_creators_4'\n",
    "input_dir = os.path.join(home, 'video_resources', 'image_datasets')\n",
    "output_dir = os.path.join(home, 'video_resources', 'sql_database')\n",
    "database_names=['lfw'] # 'lfw', 'scface',  'enfsi', 'enfsi2015', 'xqlfw', 'utkface','chokepoint','forenface'\n",
    "detector_names=['mtcnn'] # 'dlib', 'mtcnn', 'mtcnn_serfiq'\n",
    "embedding_model_names=[\"QMagFace\"] # , \"Dlib\", \"ArcFace\",\n",
    "attributes_to_update=['pose']  # 'gender', 'age', 'emotion', 'race', 'pose', 'angles'\n",
    "quality_model_names = ['ser_fiq', 'tface'] # 'confusion_score', 'ser_fiq',"
   ]
  },
  {
   "cell_type": "markdown",
   "metadata": {},
   "source": [
    "## SERFIQ model\n",
    "\n",
    "Create SERFIQ model."
   ]
  },
  {
   "cell_type": "code",
   "execution_count": 2,
   "metadata": {},
   "outputs": [
    {
     "name": "stderr",
     "output_type": "stream",
     "text": [
      "[16:25:06] ../src/nnvm/legacy_json_util.cc:208: Loading symbol saved by previous version v1.8.0. Attempting to upgrade...\n",
      "[16:25:06] ../src/nnvm/legacy_json_util.cc:216: Symbol successfully upgraded!\n",
      "/home/jmacarulla/anaconda3/envs/sql-face/lib/python3.8/site-packages/mxnet/gluon/block.py:1784: UserWarning: Cannot decide type for the following arguments. Consider providing them as input:\n",
      "\tdata: None\n",
      "  input_sym_arg_type = in_param.infer_type()[0]\n",
      "[16:25:07] ../src/nnvm/legacy_json_util.cc:208: Loading symbol saved by previous version v0.8.0. Attempting to upgrade...\n",
      "[16:25:07] ../src/nnvm/legacy_json_util.cc:216: Symbol successfully upgraded!\n",
      "[16:25:07] ../src/nnvm/legacy_json_util.cc:208: Loading symbol saved by previous version v0.8.0. Attempting to upgrade...\n",
      "[16:25:07] ../src/nnvm/legacy_json_util.cc:216: Symbol successfully upgraded!\n",
      "[16:25:07] ../src/nnvm/legacy_json_util.cc:208: Loading symbol saved by previous version v0.8.0. Attempting to upgrade...\n",
      "[16:25:07] ../src/nnvm/legacy_json_util.cc:216: Symbol successfully upgraded!\n",
      "[16:25:07] ../src/nnvm/legacy_json_util.cc:208: Loading symbol saved by previous version v0.8.0. Attempting to upgrade...\n",
      "[16:25:07] ../src/nnvm/legacy_json_util.cc:216: Symbol successfully upgraded!\n"
     ]
    }
   ],
   "source": [
    "from sql_face.serfiq import get_serfiq_model\n",
    "serfiq = get_serfiq_model()"
   ]
  },
  {
   "cell_type": "markdown",
   "metadata": {},
   "source": [
    "# Database creation"
   ]
  },
  {
   "cell_type": "markdown",
   "metadata": {},
   "source": [
    "database = SQLDataBase(db_name=db_name,\n",
    "                        database_names=database_names, # , 'scface', 'forenface', 'enfsi', 'enfsi2015'\n",
    "                        detector_names=detector_names,\n",
    "                        embedding_model_names=embedding_model_names,\n",
    "                        quality_model_names=quality_model_names,\n",
    "                        save_in_drive=save_in_drive                        \n",
    "                        )\n",
    "\n",
    "database.fill_db()\n",
    "database.update_db(attributes_to_update=attributes_to_update, force_update=False)"
   ]
  },
  {
   "cell_type": "code",
   "execution_count": 3,
   "metadata": {},
   "outputs": [
    {
     "name": "stderr",
     "output_type": "stream",
     "text": [
      "2023-03-19 16:25:07.968541: I tensorflow/core/platform/cpu_feature_guard.cc:193] This TensorFlow binary is optimized with oneAPI Deep Neural Network Library (oneDNN) to use the following CPU instructions in performance-critical operations:  SSE4.1 SSE4.2 AVX AVX2 FMA\n",
      "To enable them in other operations, rebuild TensorFlow with the appropriate compiler flags.\n",
      "INFO: Created TensorFlow Lite XNNPACK delegate for CPU.\n"
     ]
    }
   ],
   "source": [
    "from sql_face.sqldb import SQLDataBase"
   ]
  },
  {
   "cell_type": "code",
   "execution_count": 4,
   "metadata": {},
   "outputs": [],
   "source": [
    "database = SQLDataBase(db_name=db_name,\n",
    "                        input_dir = input_dir,\n",
    "                        output_dir_name = output_dir,\n",
    "                        database_names = database_names,\n",
    "                        detector_names = detector_names,\n",
    "                        embedding_model_names = embedding_model_names,\n",
    "                        quality_model_names = quality_model_names)"
   ]
  },
  {
   "cell_type": "code",
   "execution_count": 5,
   "metadata": {},
   "outputs": [
    {
     "data": {
      "text/plain": [
       "{'db_name': 'test_1',\n",
       " 'input_dir': '/home/jmacarulla/video_resources/image_datasets',\n",
       " 'save_in_drive': False,\n",
       " 'output_dir': '/home/jmacarulla/video_resources/sql_database',\n",
       " 'session': <sqlalchemy.orm.session.Session at 0x7fa350774490>,\n",
       " 'databases': [<sql_face.databases.LFW at 0x7fa3507744c0>],\n",
       " 'detector_names': ['mtcnn'],\n",
       " 'embedding_model_names': ['QMagFace'],\n",
       " 'quality_model_names': ['ser_fiq', 'tface']}"
      ]
     },
     "execution_count": 5,
     "metadata": {},
     "output_type": "execute_result"
    }
   ],
   "source": [
    "database.__dict__"
   ]
  },
  {
   "cell_type": "code",
   "execution_count": 6,
   "metadata": {},
   "outputs": [],
   "source": [
    "# import pandas as pd\n",
    "# from tqdm import tqdm\n",
    "# from sql_face.tables import EnfsiPair, EnfsiPair2015, QualityImage, FaceImage, CroppedImage\n",
    "\n",
    "# session = database.session\n",
    "\n",
    "# # generamos un datafame con la información que necesitamos para los registros sin quality\n",
    "# # hacemos una query para actualizar los registros que no tienen quality\n",
    "\n",
    "\n",
    "# df_a = pd.read_sql_query(session.query(QualityImage,FaceImage.embeddingModel_id,FaceImage.croppedImage_id)\n",
    "#     .join(FaceImage)\n",
    "#     .filter(QualityImage.quality != None,FaceImage.embeddingModel_id == 1).statement, con=session.bind)\n",
    "\n",
    "\n",
    "# sql_b = (session.query(QualityImage, FaceImage)\n",
    "#     .join(FaceImage)\n",
    "#     .filter(QualityImage.quality == None).all())\n",
    "# n1 = 100\n",
    "# n = n1\n",
    "# for Q,F in tqdm(sql_b):\n",
    "#     #recorremos el resultado y actualizamos el objeto QualityImage\n",
    "\n",
    "\n",
    "#     qm = Q.qualityModel_id\n",
    "#     em = F.embeddingModel_id\n",
    "#     ci = F.croppedImage_id\n",
    "\n",
    "#     df_r = df_a.loc[(df_a['qualityModel_id'] == qm) & (df_a['croppedImage_id'] == ci) & (df_a['embeddingModel_id']== 1)]\n",
    "#     assert len(df_r) == 1\n",
    "#     Q.quality = float(df_r.quality)\n",
    "#     if not n:\n",
    "#         session.commit()\n",
    "#         n = n1\n",
    "#     else:\n",
    "#         n-=1\n",
    "# session.commit()\n",
    "\n"
   ]
  },
  {
   "cell_type": "code",
   "execution_count": 7,
   "metadata": {},
   "outputs": [],
   "source": [
    "#database.create_tables(serfiq=serfiq)"
   ]
  },
  {
   "cell_type": "code",
   "execution_count": 8,
   "metadata": {},
   "outputs": [
    {
     "name": "stderr",
     "output_type": "stream",
     "text": [
      "Update pose:   0%|          | 0/29 [00:57<?, ?it/s]\n"
     ]
    },
    {
     "ename": "TypeError",
     "evalue": "bad operand type for abs(): 'NoneType'",
     "output_type": "error",
     "traceback": [
      "\u001b[0;31m---------------------------------------------------------------------------\u001b[0m",
      "\u001b[0;31mTypeError\u001b[0m                                 Traceback (most recent call last)",
      "\u001b[1;32m/home/jmacarulla/sql-face/main.ipynb Cell 12\u001b[0m in \u001b[0;36m1\n\u001b[0;32m----> <a href='vscode-notebook-cell://wsl%2Bubuntu/home/jmacarulla/sql-face/main.ipynb#X14sdnNjb2RlLXJlbW90ZQ%3D%3D?line=0'>1</a>\u001b[0m database\u001b[39m.\u001b[39;49mupdate_tables(attributes_to_update, force_update \u001b[39m=\u001b[39;49m \u001b[39mFalse\u001b[39;49;00m, serfiq \u001b[39m=\u001b[39;49m serfiq)\n",
      "File \u001b[0;32m~/sql-face/sql_face/sqldb.py:73\u001b[0m, in \u001b[0;36mSQLDataBase.update_tables\u001b[0;34m(self, attributes_to_update, force_update, serfiq)\u001b[0m\n\u001b[1;32m     68\u001b[0m \u001b[39mdef\u001b[39;00m \u001b[39mupdate_tables\u001b[39m(\u001b[39mself\u001b[39m, \n\u001b[1;32m     69\u001b[0m                 attributes_to_update:List[\u001b[39mstr\u001b[39m], \u001b[39m# The list of attributes to update in the tables.\u001b[39;00m\n\u001b[1;32m     70\u001b[0m                 force_update:\u001b[39mbool\u001b[39m\u001b[39m=\u001b[39m\u001b[39mFalse\u001b[39;00m, \u001b[39m# Flag indicating whether to update the attributes even if they are already present in the tables.\u001b[39;00m\n\u001b[1;32m     71\u001b[0m                 serfiq \u001b[39m=\u001b[39m \u001b[39mNone\u001b[39;00m \u001b[39m# object used to calculate the SERFIQ quality score.\u001b[39;00m\n\u001b[1;32m     72\u001b[0m                 ):        \n\u001b[0;32m---> 73\u001b[0m     update_images(\u001b[39mself\u001b[39;49m\u001b[39m.\u001b[39;49msession, \u001b[39mself\u001b[39;49m\u001b[39m.\u001b[39;49minput_dir, \u001b[39mself\u001b[39;49m\u001b[39m.\u001b[39;49mdatabases, attributes_to_update, force_update \u001b[39m=\u001b[39;49m force_update)\n\u001b[1;32m     74\u001b[0m     update_cropped_images(\u001b[39mself\u001b[39m\u001b[39m.\u001b[39msession, \u001b[39mself\u001b[39m\u001b[39m.\u001b[39minput_dir, force_update \u001b[39m=\u001b[39m force_update, serfiq \u001b[39m=\u001b[39m serfiq)\n\u001b[1;32m     75\u001b[0m     update_face_images(\u001b[39mself\u001b[39m\u001b[39m.\u001b[39msession, \u001b[39mself\u001b[39m\u001b[39m.\u001b[39minput_dir, force_update \u001b[39m=\u001b[39m force_update, serfiq \u001b[39m=\u001b[39m serfiq)\n",
      "File \u001b[0;32m~/sql-face/sql_face/alchemy.py:518\u001b[0m, in \u001b[0;36mupdate_images\u001b[0;34m(session, input_dir, databases, attributes, force_update)\u001b[0m\n\u001b[1;32m    516\u001b[0m \u001b[39mfor\u001b[39;00m attribute \u001b[39min\u001b[39;00m attributes:\n\u001b[1;32m    517\u001b[0m     \u001b[39mif\u001b[39;00m attribute \u001b[39min\u001b[39;00m update_functions:\n\u001b[0;32m--> 518\u001b[0m         update_functions[attribute](session, input_dir, databases, force_update)\n",
      "File \u001b[0;32m~/sql-face/sql_face/alchemy.py:467\u001b[0m, in \u001b[0;36mupdate_pose\u001b[0;34m(session, input_dir, databases, force_update)\u001b[0m\n\u001b[1;32m    464\u001b[0m \u001b[39mfor\u001b[39;00m img \u001b[39min\u001b[39;00m tqdm(all_images, desc\u001b[39m=\u001b[39m\u001b[39m'\u001b[39m\u001b[39mUpdate pose\u001b[39m\u001b[39m'\u001b[39m):\n\u001b[1;32m    466\u001b[0m     angles \u001b[39m=\u001b[39m (img\u001b[39m.\u001b[39mpitch, img\u001b[39m.\u001b[39myaw, img\u001b[39m.\u001b[39mroll)\n\u001b[0;32m--> 467\u001b[0m     pitch, yaw, roll \u001b[39m=\u001b[39m compute_pose(angles)\n\u001b[1;32m    469\u001b[0m     upd_img \u001b[39m=\u001b[39m {}\n\u001b[1;32m    470\u001b[0m     \u001b[39mif\u001b[39;00m roll:\n",
      "File \u001b[0;32m~/sql-face/sql_face/faceangles.py:324\u001b[0m, in \u001b[0;36mcompute_pose\u001b[0;34m(angles)\u001b[0m\n\u001b[1;32m    322\u001b[0m \u001b[39mif\u001b[39;00m angles:\n\u001b[1;32m    323\u001b[0m     ang_pitch, ang_yaw, ang_roll \u001b[39m=\u001b[39m angles\n\u001b[0;32m--> 324\u001b[0m     ang_yaw \u001b[39m=\u001b[39m \u001b[39mabs\u001b[39;49m(ang_yaw)\n\u001b[1;32m    325\u001b[0m     ang_roll \u001b[39m=\u001b[39m \u001b[39mabs\u001b[39m(ang_roll)       \n\u001b[1;32m    328\u001b[0m     roll \u001b[39m=\u001b[39m classify_angle(ang_roll, Roll, thresholds[\u001b[39m'\u001b[39m\u001b[39mroll\u001b[39m\u001b[39m'\u001b[39m])\n",
      "\u001b[0;31mTypeError\u001b[0m: bad operand type for abs(): 'NoneType'"
     ]
    }
   ],
   "source": [
    "database.update_tables(attributes_to_update, force_update = False, serfiq = serfiq)"
   ]
  },
  {
   "cell_type": "code",
   "execution_count": null,
   "metadata": {},
   "outputs": [],
   "source": []
  }
 ],
 "metadata": {
  "kernelspec": {
   "display_name": "sql-face",
   "language": "python",
   "name": "python3"
  },
  "language_info": {
   "codemirror_mode": {
    "name": "ipython",
    "version": 3
   },
   "file_extension": ".py",
   "mimetype": "text/x-python",
   "name": "python",
   "nbconvert_exporter": "python",
   "pygments_lexer": "ipython3",
   "version": "3.8.15"
  },
  "orig_nbformat": 4,
  "vscode": {
   "interpreter": {
    "hash": "edd2314f85f22963f985d48f57a085e9a58a34ab11a3cd413d34968a1f6f2e55"
   }
  }
 },
 "nbformat": 4,
 "nbformat_minor": 2
}
