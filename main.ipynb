{
 "cells": [
  {
   "cell_type": "markdown",
   "metadata": {},
   "source": [
    "# Parameter definition\n",
    "Choose all the settings for the database creation."
   ]
  },
  {
   "cell_type": "code",
   "execution_count": 1,
   "metadata": {},
   "outputs": [],
   "source": [
    "#TODO: Change absolute to relative paths for input and output dir.\n",
    "import os\n",
    "\n",
    "home = os.path.expanduser(\"~\")\n",
    "\n",
    "db_name= 'test_video_dataset_chokepoint' #'colab_main_dataset'\n",
    "input_dir = os.path.join(home,'image_datasets')\n",
    "output_dir = os.path.join(home,'sql_database')\n",
    "#input_dir = os.path.join(home,'Desktop', 'image_datasets')\n",
    "#output_dir = os.path.join(home,'Desktop','sql_database')\n",
    "database_names=[ 'chokepoint'] # 'lfw', 'scface', 'forenface', 'enfsi', 'enfsi2015' 'xqlfw', 'utkface','chokepoint'\n",
    "detector_names=['mtcnn', 'mtcnn_serfiq'] # 'dlib', 'mtcnn', 'mtcnn_serfiq'\n",
    "embedding_model_names=[\"ArcFace\"] # , \"Dlib\", \"ArcFace\",\n",
    "attributes_to_update=['gender']  # 'gender', 'age', 'emotion', 'race'\n",
    "quality_model_names = ['ser_fiq', 'tface'] # 'confusion_score', 'ser_fiq',\n",
    "save_in_drive = False # To work in google colab\n",
    "\n"
   ]
  },
  {
   "cell_type": "markdown",
   "metadata": {},
   "source": [
    "## SERFIQ model\n",
    "\n",
    "Create SERFIQ model."
   ]
  },
  {
   "cell_type": "code",
   "execution_count": 2,
   "metadata": {},
   "outputs": [
    {
     "name": "stderr",
     "output_type": "stream",
     "text": [
      "/home/jmacarulla/anaconda3/envs/sql-face/lib/python3.7/site-packages/tqdm/auto.py:22: TqdmWarning: IProgress not found. Please update jupyter and ipywidgets. See https://ipywidgets.readthedocs.io/en/stable/user_install.html\n",
      "  from .autonotebook import tqdm as notebook_tqdm\n",
      "[17:12:23] ../src/nnvm/legacy_json_util.cc:208: Loading symbol saved by previous version v1.8.0. Attempting to upgrade...\n",
      "[17:12:23] ../src/nnvm/legacy_json_util.cc:216: Symbol successfully upgraded!\n",
      "/home/jmacarulla/anaconda3/envs/sql-face/lib/python3.7/site-packages/mxnet/gluon/block.py:1784: UserWarning: Cannot decide type for the following arguments. Consider providing them as input:\n",
      "\tdata: None\n",
      "  input_sym_arg_type = in_param.infer_type()[0]\n",
      "[17:12:24] ../src/nnvm/legacy_json_util.cc:208: Loading symbol saved by previous version v0.8.0. Attempting to upgrade...\n",
      "[17:12:24] ../src/nnvm/legacy_json_util.cc:216: Symbol successfully upgraded!\n",
      "[17:12:24] ../src/nnvm/legacy_json_util.cc:208: Loading symbol saved by previous version v0.8.0. Attempting to upgrade...\n",
      "[17:12:24] ../src/nnvm/legacy_json_util.cc:216: Symbol successfully upgraded!\n",
      "[17:12:24] ../src/nnvm/legacy_json_util.cc:208: Loading symbol saved by previous version v0.8.0. Attempting to upgrade...\n",
      "[17:12:24] ../src/nnvm/legacy_json_util.cc:216: Symbol successfully upgraded!\n",
      "[17:12:24] ../src/nnvm/legacy_json_util.cc:208: Loading symbol saved by previous version v0.8.0. Attempting to upgrade...\n",
      "[17:12:24] ../src/nnvm/legacy_json_util.cc:216: Symbol successfully upgraded!\n"
     ]
    }
   ],
   "source": [
    "from sql_face.serfiq import get_serfiq_model\n",
    "serfiq = get_serfiq_model()"
   ]
  },
  {
   "cell_type": "markdown",
   "metadata": {},
   "source": [
    "# Database creation"
   ]
  },
  {
   "cell_type": "markdown",
   "metadata": {},
   "source": [
    "database = SQLDataBase(db_name=db_name,\n",
    "                        database_names=database_names, # , 'scface', 'forenface', 'enfsi', 'enfsi2015'\n",
    "                        detector_names=detector_names,\n",
    "                        embedding_model_names=embedding_model_names,\n",
    "                        quality_model_names=quality_model_names,\n",
    "                        save_in_drive=save_in_drive                        \n",
    "                        )\n",
    "\n",
    "database.fill_db()\n",
    "database.update_db(attributes_to_update=attributes_to_update, force_update=False)"
   ]
  },
  {
   "cell_type": "code",
   "execution_count": 3,
   "metadata": {},
   "outputs": [
    {
     "name": "stderr",
     "output_type": "stream",
     "text": [
      "2022-12-04 17:12:24.797256: I tensorflow/core/platform/cpu_feature_guard.cc:193] This TensorFlow binary is optimized with oneAPI Deep Neural Network Library (oneDNN) to use the following CPU instructions in performance-critical operations:  AVX2 FMA\n",
      "To enable them in other operations, rebuild TensorFlow with the appropriate compiler flags.\n",
      "2022-12-04 17:12:25.025002: E tensorflow/stream_executor/cuda/cuda_blas.cc:2981] Unable to register cuBLAS factory: Attempting to register factory for plugin cuBLAS when one has already been registered\n",
      "2022-12-04 17:12:25.746853: W tensorflow/stream_executor/platform/default/dso_loader.cc:64] Could not load dynamic library 'libnvinfer.so.7'; dlerror: libnvinfer.so.7: cannot open shared object file: No such file or directory; LD_LIBRARY_PATH: /home/jmacarulla/anaconda3/envs/sql-face/lib/python3.7/site-packages/cv2/../../lib64:\n",
      "2022-12-04 17:12:25.746978: W tensorflow/stream_executor/platform/default/dso_loader.cc:64] Could not load dynamic library 'libnvinfer_plugin.so.7'; dlerror: libnvinfer_plugin.so.7: cannot open shared object file: No such file or directory; LD_LIBRARY_PATH: /home/jmacarulla/anaconda3/envs/sql-face/lib/python3.7/site-packages/cv2/../../lib64:\n",
      "2022-12-04 17:12:25.746987: W tensorflow/compiler/tf2tensorrt/utils/py_utils.cc:38] TF-TRT Warning: Cannot dlopen some TensorRT libraries. If you would like to use Nvidia GPU with TensorRT, please make sure the missing libraries mentioned above are installed properly.\n"
     ]
    }
   ],
   "source": [
    "from sql_face.sqldb import SQLDataBase"
   ]
  },
  {
   "cell_type": "code",
   "execution_count": 4,
   "metadata": {},
   "outputs": [],
   "source": [
    "database = SQLDataBase(db_name=db_name,\n",
    "                        input_dir = input_dir,\n",
    "                        output_dir_name = output_dir,\n",
    "                        database_names = database_names,\n",
    "                        detector_names = detector_names,\n",
    "                        embedding_model_names = embedding_model_names,\n",
    "                        quality_model_names = quality_model_names)"
   ]
  },
  {
   "cell_type": "code",
   "execution_count": 5,
   "metadata": {},
   "outputs": [
    {
     "data": {
      "text/plain": [
       "{'db_name': 'test_video_dataset_chokepoint',\n",
       " 'input_dir': '/home/jmacarulla/image_datasets',\n",
       " 'save_in_drive': False,\n",
       " 'output_dir': '/home/jmacarulla/sql_database',\n",
       " 'session': <sqlalchemy.orm.session.Session at 0x7fe53c3c8510>,\n",
       " 'databases': [<sql_face.databases.ChokePoint at 0x7fe53c384110>],\n",
       " 'detector_names': ['mtcnn', 'mtcnn_serfiq'],\n",
       " 'embedding_model_names': ['ArcFace'],\n",
       " 'quality_model_names': ['ser_fiq', 'tface']}"
      ]
     },
     "execution_count": 5,
     "metadata": {},
     "output_type": "execute_result"
    }
   ],
   "source": [
    "database.__dict__"
   ]
  },
  {
   "cell_type": "code",
   "execution_count": 6,
   "metadata": {},
   "outputs": [
    {
     "name": "stderr",
     "output_type": "stream",
     "text": [
      "TRIM Creating Cropped Images for detector mtcnn:   0%|          | 0/5 [00:00<?, ?it/s]2022-12-04 17:15:41.769842: W tensorflow/stream_executor/platform/default/dso_loader.cc:64] Could not load dynamic library 'libcuda.so.1'; dlerror: libcuda.so.1: cannot open shared object file: No such file or directory; LD_LIBRARY_PATH: /home/jmacarulla/anaconda3/envs/sql-face/lib/python3.7/site-packages/cv2/../../lib64:\n",
      "2022-12-04 17:15:41.769928: W tensorflow/stream_executor/cuda/cuda_driver.cc:263] failed call to cuInit: UNKNOWN ERROR (303)\n",
      "2022-12-04 17:15:41.769952: I tensorflow/stream_executor/cuda/cuda_diagnostics.cc:156] kernel driver does not appear to be running on this host (DESKTOP-NSS2B5R): /proc/driver/nvidia/version does not exist\n",
      "2022-12-04 17:15:41.771017: I tensorflow/core/platform/cpu_feature_guard.cc:193] This TensorFlow binary is optimized with oneAPI Deep Neural Network Library (oneDNN) to use the following CPU instructions in performance-critical operations:  AVX2 FMA\n",
      "To enable them in other operations, rebuild TensorFlow with the appropriate compiler flags.\n"
     ]
    },
    {
     "name": "stdout",
     "output_type": "stream",
     "text": [
      "1/1 [==============================] - 20s 20s/step\n",
      "1/1 [==============================] - 0s 121ms/step\n",
      "1/1 [==============================] - 0s 30ms/step\n",
      "1/1 [==============================] - 0s 29ms/step\n",
      "1/1 [==============================] - 0s 25ms/step\n",
      "1/1 [==============================] - 0s 24ms/step\n",
      "1/1 [==============================] - 0s 24ms/step\n",
      "1/1 [==============================] - 0s 24ms/step\n",
      "1/1 [==============================] - 0s 23ms/step\n",
      "1/1 [==============================] - 0s 23ms/step\n",
      "2/2 [==============================] - 0s 8ms/step\n",
      "1/1 [==============================] - 0s 182ms/step\n"
     ]
    },
    {
     "name": "stderr",
     "output_type": "stream",
     "text": [
      "TRIM Creating Cropped Images for detector mtcnn:  20%|██        | 1/5 [06:01<24:05, 361.36s/it]"
     ]
    },
    {
     "name": "stdout",
     "output_type": "stream",
     "text": [
      "1/1 [==============================] - 0s 54ms/step\n",
      "1/1 [==============================] - 0s 36ms/step\n",
      "1/1 [==============================] - 0s 28ms/step\n",
      "1/1 [==============================] - 0s 26ms/step\n",
      "1/1 [==============================] - 0s 23ms/step\n",
      "1/1 [==============================] - 0s 22ms/step\n",
      "1/1 [==============================] - 0s 22ms/step\n",
      "1/1 [==============================] - 0s 23ms/step\n",
      "1/1 [==============================] - 0s 23ms/step\n",
      "1/1 [==============================] - 0s 21ms/step\n",
      "1/1 [==============================] - 0s 26ms/step\n",
      "1/1 [==============================] - 0s 25ms/step\n"
     ]
    },
    {
     "name": "stderr",
     "output_type": "stream",
     "text": [
      "TRIM Creating Cropped Images for detector mtcnn:  40%|████      | 2/5 [06:07<07:37, 152.41s/it]"
     ]
    },
    {
     "name": "stdout",
     "output_type": "stream",
     "text": [
      "1/1 [==============================] - 0s 68ms/step\n",
      "1/1 [==============================] - 0s 35ms/step\n",
      "1/1 [==============================] - 0s 32ms/step\n",
      "1/1 [==============================] - 0s 26ms/step\n",
      "1/1 [==============================] - 0s 25ms/step\n",
      "1/1 [==============================] - 0s 25ms/step\n",
      "1/1 [==============================] - 0s 24ms/step\n",
      "1/1 [==============================] - 0s 22ms/step\n",
      "1/1 [==============================] - 0s 22ms/step\n",
      "1/1 [==============================] - 0s 21ms/step\n",
      "2/2 [==============================] - 0s 6ms/step\n",
      "1/1 [==============================] - 0s 26ms/step\n"
     ]
    },
    {
     "name": "stderr",
     "output_type": "stream",
     "text": [
      "TRIM Creating Cropped Images for detector mtcnn:  60%|██████    | 3/5 [06:19<02:56, 88.15s/it] "
     ]
    },
    {
     "name": "stdout",
     "output_type": "stream",
     "text": [
      "1/1 [==============================] - 0s 43ms/step\n",
      "1/1 [==============================] - 0s 32ms/step\n",
      "1/1 [==============================] - 0s 25ms/step\n",
      "1/1 [==============================] - 0s 25ms/step\n",
      "1/1 [==============================] - 0s 24ms/step\n",
      "1/1 [==============================] - 0s 22ms/step\n",
      "1/1 [==============================] - 0s 23ms/step\n",
      "1/1 [==============================] - 0s 28ms/step\n",
      "1/1 [==============================] - 0s 23ms/step\n",
      "1/1 [==============================] - 0s 24ms/step\n",
      "2/2 [==============================] - 0s 8ms/step\n",
      "1/1 [==============================] - 0s 25ms/step\n"
     ]
    },
    {
     "name": "stderr",
     "output_type": "stream",
     "text": [
      "TRIM Creating Cropped Images for detector mtcnn:  80%|████████  | 4/5 [06:20<00:53, 53.98s/it]"
     ]
    },
    {
     "name": "stdout",
     "output_type": "stream",
     "text": [
      "1/1 [==============================] - 0s 51ms/step\n",
      "1/1 [==============================] - 0s 32ms/step\n",
      "1/1 [==============================] - 0s 28ms/step\n",
      "1/1 [==============================] - 0s 26ms/step\n",
      "1/1 [==============================] - 0s 25ms/step\n",
      "1/1 [==============================] - 0s 29ms/step\n",
      "1/1 [==============================] - 0s 25ms/step\n",
      "1/1 [==============================] - 0s 22ms/step\n",
      "1/1 [==============================] - 0s 21ms/step\n",
      "1/1 [==============================] - 0s 23ms/step\n",
      "1/1 [==============================] - 0s 26ms/step\n",
      "1/1 [==============================] - 0s 26ms/step\n"
     ]
    },
    {
     "name": "stderr",
     "output_type": "stream",
     "text": [
      "TRIM Creating Cropped Images for detector mtcnn: 100%|██████████| 5/5 [06:22<00:00, 76.46s/it]\n",
      "TRIM Creating Cropped Images for detector mtcnn_serfiq:   0%|          | 0/5 [00:00<?, ?it/s][17:19:33] ../src/executor/graph_executor.cc:1991: Subgraph backend MKLDNN is activated.\n",
      "[17:19:34] ../src/executor/graph_executor.cc:1991: Subgraph backend MKLDNN is activated.\n",
      "[17:19:34] ../src/executor/graph_executor.cc:1991: Subgraph backend MKLDNN is activated.\n",
      "[17:19:34] ../src/executor/graph_executor.cc:1991: Subgraph backend MKLDNN is activated.\n",
      "[17:19:34] ../src/executor/graph_executor.cc:1991: Subgraph backend MKLDNN is activated.\n",
      "[17:19:34] ../src/executor/graph_executor.cc:1991: Subgraph backend MKLDNN is activated.\n",
      "[17:19:34] ../src/executor/graph_executor.cc:1991: Subgraph backend MKLDNN is activated.\n",
      "[17:19:34] ../src/executor/graph_executor.cc:1991: Subgraph backend MKLDNN is activated.\n",
      "[17:19:34] ../src/executor/graph_executor.cc:1991: Subgraph backend MKLDNN is activated.\n",
      "[17:19:34] ../src/executor/graph_executor.cc:1991: Subgraph backend MKLDNN is activated.\n",
      "[17:19:34] ../src/executor/graph_executor.cc:1991: Subgraph backend MKLDNN is activated.\n",
      "[17:19:34] ../src/executor/graph_executor.cc:1991: Subgraph backend MKLDNN is activated.\n",
      "[17:19:34] ../src/executor/graph_executor.cc:1991: Subgraph backend MKLDNN is activated.\n",
      "[17:19:34] ../src/executor/graph_executor.cc:1991: Subgraph backend MKLDNN is activated.\n",
      "[17:19:34] ../src/executor/graph_executor.cc:1991: Subgraph backend MKLDNN is activated.\n",
      "[17:19:34] ../src/executor/graph_executor.cc:1991: Subgraph backend MKLDNN is activated.\n",
      "[17:19:34] ../src/executor/graph_executor.cc:1991: Subgraph backend MKLDNN is activated.\n",
      "[17:19:34] ../src/executor/graph_executor.cc:1991: Subgraph backend MKLDNN is activated.\n",
      "[17:19:34] ../src/executor/graph_executor.cc:1991: Subgraph backend MKLDNN is activated.\n",
      "[17:19:34] ../src/executor/graph_executor.cc:1991: Subgraph backend MKLDNN is activated.\n",
      "[17:19:34] ../src/executor/graph_executor.cc:1991: Subgraph backend MKLDNN is activated.\n",
      "[17:19:34] ../src/executor/graph_executor.cc:1991: Subgraph backend MKLDNN is activated.\n",
      "[17:19:34] ../src/executor/graph_executor.cc:1991: Subgraph backend MKLDNN is activated.\n",
      "TRIM Creating Cropped Images for detector mtcnn_serfiq:  20%|██        | 1/5 [00:01<00:04,  1.22s/it][17:19:35] ../src/executor/graph_executor.cc:1991: Subgraph backend MKLDNN is activated.\n",
      "[17:19:35] ../src/executor/graph_executor.cc:1991: Subgraph backend MKLDNN is activated.\n",
      "[17:19:35] ../src/executor/graph_executor.cc:1991: Subgraph backend MKLDNN is activated.\n",
      "[17:19:35] ../src/executor/graph_executor.cc:1991: Subgraph backend MKLDNN is activated.\n",
      "[17:19:35] ../src/executor/graph_executor.cc:1991: Subgraph backend MKLDNN is activated.\n",
      "[17:19:35] ../src/executor/graph_executor.cc:1991: Subgraph backend MKLDNN is activated.\n",
      "[17:19:35] ../src/executor/graph_executor.cc:1991: Subgraph backend MKLDNN is activated.\n",
      "[17:19:35] ../src/executor/graph_executor.cc:1991: Subgraph backend MKLDNN is activated.\n",
      "[17:19:35] ../src/executor/graph_executor.cc:1991: Subgraph backend MKLDNN is activated.\n",
      "[17:19:35] ../src/executor/graph_executor.cc:1991: Subgraph backend MKLDNN is activated.\n",
      "[17:19:35] ../src/executor/graph_executor.cc:1991: Subgraph backend MKLDNN is activated.\n",
      "[17:19:35] ../src/executor/graph_executor.cc:1991: Subgraph backend MKLDNN is activated.\n",
      "[17:19:35] ../src/executor/graph_executor.cc:1991: Subgraph backend MKLDNN is activated.\n",
      "[17:19:35] ../src/executor/graph_executor.cc:1991: Subgraph backend MKLDNN is activated.\n",
      "[17:19:35] ../src/executor/graph_executor.cc:1991: Subgraph backend MKLDNN is activated.\n",
      "[17:19:35] ../src/executor/graph_executor.cc:1991: Subgraph backend MKLDNN is activated.\n",
      "[17:19:35] ../src/executor/graph_executor.cc:1991: Subgraph backend MKLDNN is activated.\n",
      "[17:19:35] ../src/executor/graph_executor.cc:1991: Subgraph backend MKLDNN is activated.\n",
      "[17:19:35] ../src/executor/graph_executor.cc:1991: Subgraph backend MKLDNN is activated.\n",
      "[17:19:35] ../src/executor/graph_executor.cc:1991: Subgraph backend MKLDNN is activated.\n",
      "[17:19:35] ../src/executor/graph_executor.cc:1991: Subgraph backend MKLDNN is activated.\n",
      "TRIM Creating Cropped Images for detector mtcnn_serfiq:  40%|████      | 2/5 [00:02<00:02,  1.01it/s][17:19:36] ../src/executor/graph_executor.cc:1991: Subgraph backend MKLDNN is activated.\n",
      "[17:19:36] ../src/executor/graph_executor.cc:1991: Subgraph backend MKLDNN is activated.\n",
      "[17:19:36] ../src/executor/graph_executor.cc:1991: Subgraph backend MKLDNN is activated.\n",
      "[17:19:36] ../src/executor/graph_executor.cc:1991: Subgraph backend MKLDNN is activated.\n",
      "[17:19:36] ../src/executor/graph_executor.cc:1991: Subgraph backend MKLDNN is activated.\n",
      "[17:19:36] ../src/executor/graph_executor.cc:1991: Subgraph backend MKLDNN is activated.\n",
      "[17:19:36] ../src/executor/graph_executor.cc:1991: Subgraph backend MKLDNN is activated.\n",
      "[17:19:36] ../src/executor/graph_executor.cc:1991: Subgraph backend MKLDNN is activated.\n",
      "[17:19:36] ../src/executor/graph_executor.cc:1991: Subgraph backend MKLDNN is activated.\n",
      "[17:19:36] ../src/executor/graph_executor.cc:1991: Subgraph backend MKLDNN is activated.\n",
      "[17:19:36] ../src/executor/graph_executor.cc:1991: Subgraph backend MKLDNN is activated.\n",
      "[17:19:36] ../src/executor/graph_executor.cc:1991: Subgraph backend MKLDNN is activated.\n",
      "[17:19:36] ../src/executor/graph_executor.cc:1991: Subgraph backend MKLDNN is activated.\n",
      "[17:19:36] ../src/executor/graph_executor.cc:1991: Subgraph backend MKLDNN is activated.\n",
      "[17:19:36] ../src/executor/graph_executor.cc:1991: Subgraph backend MKLDNN is activated.\n",
      "[17:19:36] ../src/executor/graph_executor.cc:1991: Subgraph backend MKLDNN is activated.\n",
      "[17:19:36] ../src/executor/graph_executor.cc:1991: Subgraph backend MKLDNN is activated.\n",
      "[17:19:36] ../src/executor/graph_executor.cc:1991: Subgraph backend MKLDNN is activated.\n",
      "[17:19:36] ../src/executor/graph_executor.cc:1991: Subgraph backend MKLDNN is activated.\n",
      "[17:19:36] ../src/executor/graph_executor.cc:1991: Subgraph backend MKLDNN is activated.\n",
      "[17:19:36] ../src/executor/graph_executor.cc:1991: Subgraph backend MKLDNN is activated.\n",
      "TRIM Creating Cropped Images for detector mtcnn_serfiq:  60%|██████    | 3/5 [00:02<00:01,  1.11it/s][17:19:36] ../src/executor/graph_executor.cc:1991: Subgraph backend MKLDNN is activated.\n",
      "[17:19:36] ../src/executor/graph_executor.cc:1991: Subgraph backend MKLDNN is activated.\n",
      "[17:19:36] ../src/executor/graph_executor.cc:1991: Subgraph backend MKLDNN is activated.\n",
      "[17:19:36] ../src/executor/graph_executor.cc:1991: Subgraph backend MKLDNN is activated.\n",
      "[17:19:36] ../src/executor/graph_executor.cc:1991: Subgraph backend MKLDNN is activated.\n",
      "[17:19:36] ../src/executor/graph_executor.cc:1991: Subgraph backend MKLDNN is activated.\n",
      "[17:19:36] ../src/executor/graph_executor.cc:1991: Subgraph backend MKLDNN is activated.\n",
      "[17:19:36] ../src/executor/graph_executor.cc:1991: Subgraph backend MKLDNN is activated.\n",
      "[17:19:36] ../src/executor/graph_executor.cc:1991: Subgraph backend MKLDNN is activated.\n",
      "[17:19:36] ../src/executor/graph_executor.cc:1991: Subgraph backend MKLDNN is activated.\n",
      "[17:19:36] ../src/executor/graph_executor.cc:1991: Subgraph backend MKLDNN is activated.\n",
      "[17:19:36] ../src/executor/graph_executor.cc:1991: Subgraph backend MKLDNN is activated.\n",
      "[17:19:37] ../src/executor/graph_executor.cc:1991: Subgraph backend MKLDNN is activated.\n",
      "[17:19:37] ../src/executor/graph_executor.cc:1991: Subgraph backend MKLDNN is activated.\n",
      "[17:19:37] ../src/executor/graph_executor.cc:1991: Subgraph backend MKLDNN is activated.\n",
      "[17:19:37] ../src/executor/graph_executor.cc:1991: Subgraph backend MKLDNN is activated.\n",
      "[17:19:37] ../src/executor/graph_executor.cc:1991: Subgraph backend MKLDNN is activated.\n",
      "[17:19:37] ../src/executor/graph_executor.cc:1991: Subgraph backend MKLDNN is activated.\n",
      "[17:19:37] ../src/executor/graph_executor.cc:1991: Subgraph backend MKLDNN is activated.\n",
      "[17:19:37] ../src/executor/graph_executor.cc:1991: Subgraph backend MKLDNN is activated.\n",
      "[17:19:37] ../src/executor/graph_executor.cc:1991: Subgraph backend MKLDNN is activated.\n",
      "TRIM Creating Cropped Images for detector mtcnn_serfiq:  80%|████████  | 4/5 [00:03<00:00,  1.15it/s][17:19:37] ../src/executor/graph_executor.cc:1991: Subgraph backend MKLDNN is activated.\n",
      "[17:19:37] ../src/executor/graph_executor.cc:1991: Subgraph backend MKLDNN is activated.\n",
      "[17:19:37] ../src/executor/graph_executor.cc:1991: Subgraph backend MKLDNN is activated.\n",
      "[17:19:37] ../src/executor/graph_executor.cc:1991: Subgraph backend MKLDNN is activated.\n",
      "[17:19:37] ../src/executor/graph_executor.cc:1991: Subgraph backend MKLDNN is activated.\n",
      "[17:19:37] ../src/executor/graph_executor.cc:1991: Subgraph backend MKLDNN is activated.\n",
      "[17:19:37] ../src/executor/graph_executor.cc:1991: Subgraph backend MKLDNN is activated.\n",
      "[17:19:37] ../src/executor/graph_executor.cc:1991: Subgraph backend MKLDNN is activated.\n",
      "[17:19:37] ../src/executor/graph_executor.cc:1991: Subgraph backend MKLDNN is activated.\n",
      "[17:19:37] ../src/executor/graph_executor.cc:1991: Subgraph backend MKLDNN is activated.\n",
      "[17:19:37] ../src/executor/graph_executor.cc:1991: Subgraph backend MKLDNN is activated.\n",
      "[17:19:37] ../src/executor/graph_executor.cc:1991: Subgraph backend MKLDNN is activated.\n",
      "[17:19:37] ../src/executor/graph_executor.cc:1991: Subgraph backend MKLDNN is activated.\n",
      "[17:19:37] ../src/executor/graph_executor.cc:1991: Subgraph backend MKLDNN is activated.\n",
      "[17:19:37] ../src/executor/graph_executor.cc:1991: Subgraph backend MKLDNN is activated.\n",
      "[17:19:37] ../src/executor/graph_executor.cc:1991: Subgraph backend MKLDNN is activated.\n",
      "[17:19:37] ../src/executor/graph_executor.cc:1991: Subgraph backend MKLDNN is activated.\n",
      "[17:19:37] ../src/executor/graph_executor.cc:1991: Subgraph backend MKLDNN is activated.\n",
      "[17:19:37] ../src/executor/graph_executor.cc:1991: Subgraph backend MKLDNN is activated.\n",
      "[17:19:37] ../src/executor/graph_executor.cc:1991: Subgraph backend MKLDNN is activated.\n",
      "[17:19:37] ../src/executor/graph_executor.cc:1991: Subgraph backend MKLDNN is activated.\n",
      "[17:19:37] ../src/executor/graph_executor.cc:1991: Subgraph backend MKLDNN is activated.\n",
      "TRIM Creating Cropped Images for detector mtcnn_serfiq: 100%|██████████| 5/5 [00:04<00:00,  1.11it/s]\n",
      "Face images in ArcFace: 100%|██████████| 10/10 [00:00<00:00, 103.84it/s]\n",
      "Embedding models: 100%|██████████| 1/1 [00:00<00:00,  9.19it/s]\n",
      "Quality images in ser_fiq: 100%|██████████| 10/10 [00:00<00:00, 117.51it/s]\n",
      "Quality images in tface: 100%|██████████| 10/10 [00:00<00:00, 126.23it/s]\n",
      "Quality models: 100%|██████████| 2/2 [00:00<00:00, 10.71it/s]\n"
     ]
    }
   ],
   "source": [
    "database.create_tables(serfiq=serfiq)"
   ]
  },
  {
   "cell_type": "code",
   "execution_count": null,
   "metadata": {},
   "outputs": [],
   "source": [
    "database.update_tables(attributes_to_update, serfiq = serfiq)"
   ]
  }
 ],
 "metadata": {
  "kernelspec": {
   "display_name": "Python 3.7.13 ('sql-face')",
   "language": "python",
   "name": "python3"
  },
  "language_info": {
   "codemirror_mode": {
    "name": "ipython",
    "version": 3
   },
   "file_extension": ".py",
   "mimetype": "text/x-python",
   "name": "python",
   "nbconvert_exporter": "python",
   "pygments_lexer": "ipython3",
   "version": "3.7.13"
  },
  "orig_nbformat": 4,
  "vscode": {
   "interpreter": {
    "hash": "edd2314f85f22963f985d48f57a085e9a58a34ab11a3cd413d34968a1f6f2e55"
   }
  }
 },
 "nbformat": 4,
 "nbformat_minor": 2
}
