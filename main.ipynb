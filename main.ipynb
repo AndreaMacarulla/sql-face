{
 "cells": [
  {
   "cell_type": "markdown",
   "metadata": {},
   "source": [
    "# Parameter definition\n",
    "Choose all the settings for the database creation. Input, output dir..."
   ]
  },
  {
   "cell_type": "code",
   "execution_count": 1,
   "metadata": {},
   "outputs": [],
   "source": [
    "import os\n",
    "\n",
    "home = os.path.expanduser(\"~\")\n",
    "\n",
    "db_name= 'test_new_creators_4' #'colab_main_dataset'\n",
    "input_dir = os.path.join(home, 'video_resources', 'image_datasets')\n",
    "output_dir = os.path.join(home, 'video_resources', 'sql_database')\n",
    "database_names=[ 'enfsi'] # 'lfw', 'scface',  'enfsi', 'enfsi2015', 'xqlfw', 'utkface','chokepoint','forenface'\n",
    "detector_names=['mtcnn'] # 'dlib', 'mtcnn', 'mtcnn_serfiq'\n",
    "embedding_model_names=[\"ArcFace\"] # , \"Dlib\", \"ArcFace\",\n",
    "attributes_to_update=['gender']  # 'gender', 'age', 'emotion', 'race'\n",
    "quality_model_names = ['ser_fiq', 'tface'] # 'confusion_score', 'ser_fiq',"
   ]
  },
  {
   "cell_type": "markdown",
   "metadata": {},
   "source": [
    "## SERFIQ model\n",
    "\n",
    "Create SERFIQ model."
   ]
  },
  {
   "cell_type": "code",
   "execution_count": 2,
   "metadata": {},
   "outputs": [
    {
     "name": "stderr",
     "output_type": "stream",
     "text": [
      "/home/andrea/anaconda3/envs/sql-face/lib/python3.8/site-packages/tqdm/auto.py:22: TqdmWarning: IProgress not found. Please update jupyter and ipywidgets. See https://ipywidgets.readthedocs.io/en/stable/user_install.html\n",
      "  from .autonotebook import tqdm as notebook_tqdm\n",
      "[16:39:33] ../src/nnvm/legacy_json_util.cc:208: Loading symbol saved by previous version v1.8.0. Attempting to upgrade...\n",
      "[16:39:33] ../src/nnvm/legacy_json_util.cc:216: Symbol successfully upgraded!\n",
      "/home/andrea/anaconda3/envs/sql-face/lib/python3.8/site-packages/mxnet/gluon/block.py:1784: UserWarning: Cannot decide type for the following arguments. Consider providing them as input:\n",
      "\tdata: None\n",
      "  input_sym_arg_type = in_param.infer_type()[0]\n",
      "[16:39:33] ../src/base.cc:79: cuDNN lib mismatch: linked-against version 8100 != compiled-against version 8101.  Set MXNET_CUDNN_LIB_CHECKING=0 to quiet this warning.\n",
      "[16:39:41] ../src/nnvm/legacy_json_util.cc:208: Loading symbol saved by previous version v0.8.0. Attempting to upgrade...\n",
      "[16:39:41] ../src/nnvm/legacy_json_util.cc:216: Symbol successfully upgraded!\n",
      "[16:39:41] ../src/nnvm/legacy_json_util.cc:208: Loading symbol saved by previous version v0.8.0. Attempting to upgrade...\n",
      "[16:39:41] ../src/nnvm/legacy_json_util.cc:216: Symbol successfully upgraded!\n",
      "[16:39:41] ../src/nnvm/legacy_json_util.cc:208: Loading symbol saved by previous version v0.8.0. Attempting to upgrade...\n",
      "[16:39:41] ../src/nnvm/legacy_json_util.cc:216: Symbol successfully upgraded!\n",
      "[16:39:41] ../src/nnvm/legacy_json_util.cc:208: Loading symbol saved by previous version v0.8.0. Attempting to upgrade...\n",
      "[16:39:41] ../src/nnvm/legacy_json_util.cc:216: Symbol successfully upgraded!\n"
     ]
    }
   ],
   "source": [
    "from sql_face.serfiq import get_serfiq_model\n",
    "serfiq = get_serfiq_model()"
   ]
  },
  {
   "cell_type": "markdown",
   "metadata": {},
   "source": [
    "# Database creation"
   ]
  },
  {
   "cell_type": "markdown",
   "metadata": {},
   "source": [
    "database = SQLDataBase(db_name=db_name,\n",
    "                        database_names=database_names, # , 'scface', 'forenface', 'enfsi', 'enfsi2015'\n",
    "                        detector_names=detector_names,\n",
    "                        embedding_model_names=embedding_model_names,\n",
    "                        quality_model_names=quality_model_names,\n",
    "                        save_in_drive=save_in_drive                        \n",
    "                        )\n",
    "\n",
    "database.fill_db()\n",
    "database.update_db(attributes_to_update=attributes_to_update, force_update=False)"
   ]
  },
  {
   "cell_type": "code",
   "execution_count": 3,
   "metadata": {},
   "outputs": [
    {
     "name": "stderr",
     "output_type": "stream",
     "text": [
      "2023-01-15 16:39:42.010832: I tensorflow/core/platform/cpu_feature_guard.cc:193] This TensorFlow binary is optimized with oneAPI Deep Neural Network Library (oneDNN) to use the following CPU instructions in performance-critical operations:  AVX2 FMA\n",
      "To enable them in other operations, rebuild TensorFlow with the appropriate compiler flags.\n",
      "2023-01-15 16:39:42.746611: W tensorflow/compiler/xla/stream_executor/platform/default/dso_loader.cc:64] Could not load dynamic library 'libnvinfer.so.7'; dlerror: libnvinfer.so.7: cannot open shared object file: No such file or directory; LD_LIBRARY_PATH: /home/andrea/anaconda3/envs/sql-face/lib/python3.8/site-packages/cv2/../../lib64:/home/andrea/Documents/cuda_software/cuda/lib64:/usr/local/cuda-11.2/lib64\n",
      "2023-01-15 16:39:42.746687: W tensorflow/compiler/xla/stream_executor/platform/default/dso_loader.cc:64] Could not load dynamic library 'libnvinfer_plugin.so.7'; dlerror: libnvinfer_plugin.so.7: cannot open shared object file: No such file or directory; LD_LIBRARY_PATH: /home/andrea/anaconda3/envs/sql-face/lib/python3.8/site-packages/cv2/../../lib64:/home/andrea/Documents/cuda_software/cuda/lib64:/usr/local/cuda-11.2/lib64\n",
      "2023-01-15 16:39:42.746695: W tensorflow/compiler/tf2tensorrt/utils/py_utils.cc:38] TF-TRT Warning: Cannot dlopen some TensorRT libraries. If you would like to use Nvidia GPU with TensorRT, please make sure the missing libraries mentioned above are installed properly.\n"
     ]
    }
   ],
   "source": [
    "from sql_face.sqldb import SQLDataBase"
   ]
  },
  {
   "cell_type": "code",
   "execution_count": 4,
   "metadata": {},
   "outputs": [],
   "source": [
    "database = SQLDataBase(db_name=db_name,\n",
    "                        input_dir = input_dir,\n",
    "                        output_dir_name = output_dir,\n",
    "                        database_names = database_names,\n",
    "                        detector_names = detector_names,\n",
    "                        embedding_model_names = embedding_model_names,\n",
    "                        quality_model_names = quality_model_names)"
   ]
  },
  {
   "cell_type": "code",
   "execution_count": 12,
   "metadata": {},
   "outputs": [
    {
     "data": {
      "text/plain": [
       "{'db_name': 'test_new_creators_4',\n",
       " 'input_dir': '/home/andrea/video_resources/image_datasets',\n",
       " 'save_in_drive': False,\n",
       " 'output_dir': '/home/andrea/video_resources/sql_database',\n",
       " 'session': <sqlalchemy.orm.session.Session at 0x7f09d8d3e910>,\n",
       " 'databases': [<sql_face.databases.Enfsi at 0x7f0c543e24f0>],\n",
       " 'detector_names': ['mtcnn'],\n",
       " 'embedding_model_names': ['ArcFace'],\n",
       " 'quality_model_names': ['ser_fiq', 'tface']}"
      ]
     },
     "execution_count": 12,
     "metadata": {},
     "output_type": "execute_result"
    }
   ],
   "source": [
    "database.__dict__"
   ]
  },
  {
   "cell_type": "code",
   "execution_count": 13,
   "metadata": {},
   "outputs": [],
   "source": [
    "# from sql_face.tables import EnfsiPair, EnfsiPair2015\n",
    "\n",
    "# session = database.session\n",
    "\n",
    "# a = (session.query(EnfsiPair2015).all())\n",
    "\n",
    "# for row in a:\n",
    "#     print(row.first.image_id,row.second.image_id,row.get_n_common_attributes())"
   ]
  },
  {
   "cell_type": "code",
   "execution_count": 14,
   "metadata": {},
   "outputs": [],
   "source": [
    "serfiq = None"
   ]
  },
  {
   "cell_type": "code",
   "execution_count": null,
   "metadata": {},
   "outputs": [],
   "source": [
    "database.create_tables(serfiq=serfiq)"
   ]
  },
  {
   "cell_type": "code",
   "execution_count": null,
   "metadata": {},
   "outputs": [],
   "source": [
    "from sql_face.tables import Image\n",
    "images = database.session.query(Image).all()\n",
    "len(images)"
   ]
  },
  {
   "cell_type": "code",
   "execution_count": 5,
   "metadata": {},
   "outputs": [
    {
     "name": "stderr",
     "output_type": "stream",
     "text": [
      "Update gender:   0%|          | 0/390 [44:17<?, ?it/s]\n"
     ]
    },
    {
     "ename": "ResourceExhaustedError",
     "evalue": "{{function_node __wrapped__StatelessRandomUniformV2_device_/job:localhost/replica:0/task:0/device:GPU:0}} OOM when allocating tensor with shape[7,7,512,4096] and type float on /job:localhost/replica:0/task:0/device:GPU:0 by allocator GPU_0_bfc [Op:StatelessRandomUniformV2]",
     "output_type": "error",
     "traceback": [
      "\u001b[0;31m---------------------------------------------------------------------------\u001b[0m",
      "\u001b[0;31mResourceExhaustedError\u001b[0m                    Traceback (most recent call last)",
      "Cell \u001b[0;32mIn[5], line 1\u001b[0m\n\u001b[0;32m----> 1\u001b[0m database\u001b[39m.\u001b[39;49mupdate_tables(attributes_to_update, serfiq \u001b[39m=\u001b[39;49m serfiq)\n",
      "File \u001b[0;32m~/PycharmProjects/sql-face/sql_face/sqldb.py:73\u001b[0m, in \u001b[0;36mSQLDataBase.update_tables\u001b[0;34m(self, attributes_to_update, force_update, serfiq)\u001b[0m\n\u001b[1;32m     68\u001b[0m \u001b[39mdef\u001b[39;00m \u001b[39mupdate_tables\u001b[39m(\u001b[39mself\u001b[39m, \n\u001b[1;32m     69\u001b[0m                 attributes_to_update:List[\u001b[39mstr\u001b[39m], \u001b[39m# The list of attributes to update in the tables.\u001b[39;00m\n\u001b[1;32m     70\u001b[0m                 force_update:\u001b[39mbool\u001b[39m\u001b[39m=\u001b[39m\u001b[39mFalse\u001b[39;00m, \u001b[39m# Flag indicating whether to update the attributes even if they are already present in the tables.\u001b[39;00m\n\u001b[1;32m     71\u001b[0m                 serfiq \u001b[39m=\u001b[39m \u001b[39mNone\u001b[39;00m \u001b[39m# object used to calculate the SERFIQ quality score.\u001b[39;00m\n\u001b[1;32m     72\u001b[0m                 ):        \n\u001b[0;32m---> 73\u001b[0m     update_images(\u001b[39mself\u001b[39;49m\u001b[39m.\u001b[39;49msession, \u001b[39mself\u001b[39;49m\u001b[39m.\u001b[39;49minput_dir, \u001b[39mself\u001b[39;49m\u001b[39m.\u001b[39;49mdatabases, attributes_to_update, force_update \u001b[39m=\u001b[39;49m force_update)\n\u001b[1;32m     74\u001b[0m     update_cropped_images(\u001b[39mself\u001b[39m\u001b[39m.\u001b[39msession, \u001b[39mself\u001b[39m\u001b[39m.\u001b[39minput_dir, force_update \u001b[39m=\u001b[39m force_update, serfiq \u001b[39m=\u001b[39m serfiq)\n\u001b[1;32m     75\u001b[0m     update_face_images(\u001b[39mself\u001b[39m\u001b[39m.\u001b[39msession, \u001b[39mself\u001b[39m\u001b[39m.\u001b[39minput_dir, force_update \u001b[39m=\u001b[39m force_update)\n",
      "File \u001b[0;32m~/PycharmProjects/sql-face/sql_face/alchemy.py:308\u001b[0m, in \u001b[0;36mupdate_images\u001b[0;34m(session, input_dir, databases, attributes, force_update)\u001b[0m\n\u001b[1;32m    306\u001b[0m \u001b[39m\"\u001b[39m\u001b[39mUpdates Image attributes\u001b[39m\u001b[39m\"\u001b[39m\n\u001b[1;32m    307\u001b[0m \u001b[39mif\u001b[39;00m \u001b[39m'\u001b[39m\u001b[39mgender\u001b[39m\u001b[39m'\u001b[39m \u001b[39min\u001b[39;00m attributes:\n\u001b[0;32m--> 308\u001b[0m     update_gender(session, input_dir, databases, force_update)\n\u001b[1;32m    310\u001b[0m \u001b[39mif\u001b[39;00m \u001b[39m'\u001b[39m\u001b[39mage\u001b[39m\u001b[39m'\u001b[39m \u001b[39min\u001b[39;00m attributes:\n\u001b[1;32m    311\u001b[0m     update_age(session, input_dir, databases, force_update)\n",
      "File \u001b[0;32m~/PycharmProjects/sql-face/sql_face/alchemy.py:234\u001b[0m, in \u001b[0;36mupdate_gender\u001b[0;34m(session, input_dir, databases, force_update)\u001b[0m\n\u001b[1;32m    231\u001b[0m \u001b[39mfor\u001b[39;00m img \u001b[39min\u001b[39;00m tqdm(all_img, desc\u001b[39m=\u001b[39m\u001b[39m'\u001b[39m\u001b[39mUpdate gender\u001b[39m\u001b[39m'\u001b[39m):\n\u001b[1;32m    233\u001b[0m     \u001b[39mtry\u001b[39;00m:\n\u001b[0;32m--> 234\u001b[0m         filters \u001b[39m=\u001b[39m DeepFace\u001b[39m.\u001b[39manalyze(img_path\u001b[39m=\u001b[39mimg\u001b[39m.\u001b[39mget_image(input_dir), actions\u001b[39m=\u001b[39m[\u001b[39m'\u001b[39m\u001b[39mgender\u001b[39m\u001b[39m'\u001b[39m], enforce_detection\u001b[39m=\u001b[39m\u001b[39mTrue\u001b[39;00m, detector_backend \u001b[39m=\u001b[39m \u001b[39m'\u001b[39m\u001b[39mmediapipe\u001b[39m\u001b[39m'\u001b[39m) \u001b[39m# detector_backend = 'mediapipe'\u001b[39;00m\n\u001b[1;32m    235\u001b[0m         img\u001b[39m.\u001b[39mgender \u001b[39m=\u001b[39m Gender(filters[\u001b[39m\"\u001b[39m\u001b[39mgender\u001b[39m\u001b[39m\"\u001b[39m])\n\u001b[1;32m    237\u001b[0m     \u001b[39mexcept\u001b[39;00m \u001b[39mValueError\u001b[39;00m:\n",
      "File \u001b[0;32m~/anaconda3/envs/sql-face/lib/python3.8/site-packages/deepface/DeepFace.py:357\u001b[0m, in \u001b[0;36manalyze\u001b[0;34m(img_path, actions, models, enforce_detection, detector_backend, prog_bar)\u001b[0m\n\u001b[1;32m    354\u001b[0m \tmodels[\u001b[39m'\u001b[39m\u001b[39mage\u001b[39m\u001b[39m'\u001b[39m] \u001b[39m=\u001b[39m build_model(\u001b[39m'\u001b[39m\u001b[39mAge\u001b[39m\u001b[39m'\u001b[39m)\n\u001b[1;32m    356\u001b[0m \u001b[39mif\u001b[39;00m \u001b[39m'\u001b[39m\u001b[39mgender\u001b[39m\u001b[39m'\u001b[39m \u001b[39min\u001b[39;00m actions \u001b[39mand\u001b[39;00m \u001b[39m'\u001b[39m\u001b[39mgender\u001b[39m\u001b[39m'\u001b[39m \u001b[39mnot\u001b[39;00m \u001b[39min\u001b[39;00m built_models:\n\u001b[0;32m--> 357\u001b[0m \tmodels[\u001b[39m'\u001b[39m\u001b[39mgender\u001b[39m\u001b[39m'\u001b[39m] \u001b[39m=\u001b[39m build_model(\u001b[39m'\u001b[39;49m\u001b[39mGender\u001b[39;49m\u001b[39m'\u001b[39;49m)\n\u001b[1;32m    359\u001b[0m \u001b[39mif\u001b[39;00m \u001b[39m'\u001b[39m\u001b[39mrace\u001b[39m\u001b[39m'\u001b[39m \u001b[39min\u001b[39;00m actions \u001b[39mand\u001b[39;00m \u001b[39m'\u001b[39m\u001b[39mrace\u001b[39m\u001b[39m'\u001b[39m \u001b[39mnot\u001b[39;00m \u001b[39min\u001b[39;00m built_models:\n\u001b[1;32m    360\u001b[0m \tmodels[\u001b[39m'\u001b[39m\u001b[39mrace\u001b[39m\u001b[39m'\u001b[39m] \u001b[39m=\u001b[39m build_model(\u001b[39m'\u001b[39m\u001b[39mRace\u001b[39m\u001b[39m'\u001b[39m)\n",
      "File \u001b[0;32m~/anaconda3/envs/sql-face/lib/python3.8/site-packages/deepface/DeepFace.py:63\u001b[0m, in \u001b[0;36mbuild_model\u001b[0;34m(model_name)\u001b[0m\n\u001b[1;32m     61\u001b[0m model \u001b[39m=\u001b[39m models\u001b[39m.\u001b[39mget(model_name)\n\u001b[1;32m     62\u001b[0m \u001b[39mif\u001b[39;00m model:\n\u001b[0;32m---> 63\u001b[0m \tmodel \u001b[39m=\u001b[39m model()\n\u001b[1;32m     64\u001b[0m \tmodel_obj[model_name] \u001b[39m=\u001b[39m model\n\u001b[1;32m     65\u001b[0m \t\u001b[39m#print(model_name,\" built\")\u001b[39;00m\n\u001b[1;32m     66\u001b[0m \u001b[39melse\u001b[39;00m:\n",
      "File \u001b[0;32m~/anaconda3/envs/sql-face/lib/python3.8/site-packages/deepface/extendedmodels/Gender.py:23\u001b[0m, in \u001b[0;36mloadModel\u001b[0;34m(url)\u001b[0m\n\u001b[1;32m     21\u001b[0m \u001b[39mdef\u001b[39;00m \u001b[39mloadModel\u001b[39m(url \u001b[39m=\u001b[39m \u001b[39m'\u001b[39m\u001b[39mhttps://github.com/serengil/deepface_models/releases/download/v1.0/gender_model_weights.h5\u001b[39m\u001b[39m'\u001b[39m):\n\u001b[0;32m---> 23\u001b[0m \tmodel \u001b[39m=\u001b[39m VGGFace\u001b[39m.\u001b[39;49mbaseModel()\n\u001b[1;32m     25\u001b[0m \t\u001b[39m#--------------------------\u001b[39;00m\n\u001b[1;32m     27\u001b[0m \tclasses \u001b[39m=\u001b[39m \u001b[39m2\u001b[39m\n",
      "File \u001b[0;32m~/anaconda3/envs/sql-face/lib/python3.8/site-packages/deepface/basemodels/VGGFace.py:58\u001b[0m, in \u001b[0;36mbaseModel\u001b[0;34m()\u001b[0m\n\u001b[1;32m     55\u001b[0m model\u001b[39m.\u001b[39madd(Convolution2D(\u001b[39m512\u001b[39m, (\u001b[39m3\u001b[39m, \u001b[39m3\u001b[39m), activation\u001b[39m=\u001b[39m\u001b[39m'\u001b[39m\u001b[39mrelu\u001b[39m\u001b[39m'\u001b[39m))\n\u001b[1;32m     56\u001b[0m model\u001b[39m.\u001b[39madd(MaxPooling2D((\u001b[39m2\u001b[39m,\u001b[39m2\u001b[39m), strides\u001b[39m=\u001b[39m(\u001b[39m2\u001b[39m,\u001b[39m2\u001b[39m)))\n\u001b[0;32m---> 58\u001b[0m model\u001b[39m.\u001b[39;49madd(Convolution2D(\u001b[39m4096\u001b[39;49m, (\u001b[39m7\u001b[39;49m, \u001b[39m7\u001b[39;49m), activation\u001b[39m=\u001b[39;49m\u001b[39m'\u001b[39;49m\u001b[39mrelu\u001b[39;49m\u001b[39m'\u001b[39;49m))\n\u001b[1;32m     59\u001b[0m model\u001b[39m.\u001b[39madd(Dropout(\u001b[39m0.5\u001b[39m))\n\u001b[1;32m     60\u001b[0m model\u001b[39m.\u001b[39madd(Convolution2D(\u001b[39m4096\u001b[39m, (\u001b[39m1\u001b[39m, \u001b[39m1\u001b[39m), activation\u001b[39m=\u001b[39m\u001b[39m'\u001b[39m\u001b[39mrelu\u001b[39m\u001b[39m'\u001b[39m))\n",
      "File \u001b[0;32m~/anaconda3/envs/sql-face/lib/python3.8/site-packages/tensorflow/python/trackable/base.py:205\u001b[0m, in \u001b[0;36mno_automatic_dependency_tracking.<locals>._method_wrapper\u001b[0;34m(self, *args, **kwargs)\u001b[0m\n\u001b[1;32m    203\u001b[0m \u001b[39mself\u001b[39m\u001b[39m.\u001b[39m_self_setattr_tracking \u001b[39m=\u001b[39m \u001b[39mFalse\u001b[39;00m  \u001b[39m# pylint: disable=protected-access\u001b[39;00m\n\u001b[1;32m    204\u001b[0m \u001b[39mtry\u001b[39;00m:\n\u001b[0;32m--> 205\u001b[0m   result \u001b[39m=\u001b[39m method(\u001b[39mself\u001b[39;49m, \u001b[39m*\u001b[39;49margs, \u001b[39m*\u001b[39;49m\u001b[39m*\u001b[39;49mkwargs)\n\u001b[1;32m    206\u001b[0m \u001b[39mfinally\u001b[39;00m:\n\u001b[1;32m    207\u001b[0m   \u001b[39mself\u001b[39m\u001b[39m.\u001b[39m_self_setattr_tracking \u001b[39m=\u001b[39m previous_value  \u001b[39m# pylint: disable=protected-access\u001b[39;00m\n",
      "File \u001b[0;32m~/anaconda3/envs/sql-face/lib/python3.8/site-packages/keras/utils/traceback_utils.py:70\u001b[0m, in \u001b[0;36mfilter_traceback.<locals>.error_handler\u001b[0;34m(*args, **kwargs)\u001b[0m\n\u001b[1;32m     67\u001b[0m     filtered_tb \u001b[39m=\u001b[39m _process_traceback_frames(e\u001b[39m.\u001b[39m__traceback__)\n\u001b[1;32m     68\u001b[0m     \u001b[39m# To get the full stack trace, call:\u001b[39;00m\n\u001b[1;32m     69\u001b[0m     \u001b[39m# `tf.debugging.disable_traceback_filtering()`\u001b[39;00m\n\u001b[0;32m---> 70\u001b[0m     \u001b[39mraise\u001b[39;00m e\u001b[39m.\u001b[39mwith_traceback(filtered_tb) \u001b[39mfrom\u001b[39;00m \u001b[39mNone\u001b[39m\n\u001b[1;32m     71\u001b[0m \u001b[39mfinally\u001b[39;00m:\n\u001b[1;32m     72\u001b[0m     \u001b[39mdel\u001b[39;00m filtered_tb\n",
      "File \u001b[0;32m~/anaconda3/envs/sql-face/lib/python3.8/site-packages/keras/backend.py:2100\u001b[0m, in \u001b[0;36mRandomGenerator.random_uniform\u001b[0;34m(self, shape, minval, maxval, dtype, nonce)\u001b[0m\n\u001b[1;32m   2098\u001b[0m     \u001b[39mif\u001b[39;00m nonce:\n\u001b[1;32m   2099\u001b[0m         seed \u001b[39m=\u001b[39m tf\u001b[39m.\u001b[39mrandom\u001b[39m.\u001b[39mexperimental\u001b[39m.\u001b[39mstateless_fold_in(seed, nonce)\n\u001b[0;32m-> 2100\u001b[0m     \u001b[39mreturn\u001b[39;00m tf\u001b[39m.\u001b[39;49mrandom\u001b[39m.\u001b[39;49mstateless_uniform(\n\u001b[1;32m   2101\u001b[0m         shape\u001b[39m=\u001b[39;49mshape,\n\u001b[1;32m   2102\u001b[0m         minval\u001b[39m=\u001b[39;49mminval,\n\u001b[1;32m   2103\u001b[0m         maxval\u001b[39m=\u001b[39;49mmaxval,\n\u001b[1;32m   2104\u001b[0m         dtype\u001b[39m=\u001b[39;49mdtype,\n\u001b[1;32m   2105\u001b[0m         seed\u001b[39m=\u001b[39;49mseed,\n\u001b[1;32m   2106\u001b[0m     )\n\u001b[1;32m   2107\u001b[0m \u001b[39mreturn\u001b[39;00m tf\u001b[39m.\u001b[39mrandom\u001b[39m.\u001b[39muniform(\n\u001b[1;32m   2108\u001b[0m     shape\u001b[39m=\u001b[39mshape,\n\u001b[1;32m   2109\u001b[0m     minval\u001b[39m=\u001b[39mminval,\n\u001b[0;32m   (...)\u001b[0m\n\u001b[1;32m   2112\u001b[0m     seed\u001b[39m=\u001b[39m\u001b[39mself\u001b[39m\u001b[39m.\u001b[39mmake_legacy_seed(),\n\u001b[1;32m   2113\u001b[0m )\n",
      "\u001b[0;31mResourceExhaustedError\u001b[0m: {{function_node __wrapped__StatelessRandomUniformV2_device_/job:localhost/replica:0/task:0/device:GPU:0}} OOM when allocating tensor with shape[7,7,512,4096] and type float on /job:localhost/replica:0/task:0/device:GPU:0 by allocator GPU_0_bfc [Op:StatelessRandomUniformV2]"
     ]
    }
   ],
   "source": [
    "database.update_tables(attributes_to_update, serfiq = serfiq)"
   ]
  }
 ],
 "metadata": {
  "kernelspec": {
   "display_name": "sql-face",
   "language": "python",
   "name": "python3"
  },
  "language_info": {
   "codemirror_mode": {
    "name": "ipython",
    "version": 3
   },
   "file_extension": ".py",
   "mimetype": "text/x-python",
   "name": "python",
   "nbconvert_exporter": "python",
   "pygments_lexer": "ipython3",
   "version": "3.8.15"
  },
  "orig_nbformat": 4,
  "vscode": {
   "interpreter": {
    "hash": "0a84f744ed89671113ba95f00e1aad6d21abade608318eb8af248311f249adcd"
   }
  }
 },
 "nbformat": 4,
 "nbformat_minor": 2
}
