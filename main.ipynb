{
 "cells": [
  {
   "cell_type": "markdown",
   "metadata": {},
   "source": [
    "# Parameter definition\n",
    "Choose all the settings for the database creation. Input, output dir..."
   ]
  },
  {
   "cell_type": "code",
   "execution_count": 1,
   "metadata": {},
   "outputs": [],
   "source": [
    "import os\n",
    "\n",
    "home = os.path.expanduser(\"~\")\n",
    "\n",
    "db_name=  'colab_main_dataset' #'test_new_creators_4'\n",
    "input_dir = os.path.join(home, 'video_resources', 'image_datasets')\n",
    "output_dir = os.path.join(home, 'video_resources', 'sql_database')\n",
    "database_names=[ 'lfw'] # 'lfw', 'scface',  'enfsi', 'enfsi2015', 'xqlfw', 'utkface','chokepoint','forenface'\n",
    "detector_names=['mtcnn'] # 'dlib', 'mtcnn', 'mtcnn_serfiq'\n",
    "embedding_model_names=[\"ArcFace\"] # , \"Dlib\", \"ArcFace\",\n",
    "attributes_to_update=['gender','age','emotion','race']  # 'gender', 'age', 'emotion', 'race'\n",
    "quality_model_names = ['ser_fiq', 'tface'] # 'confusion_score', 'ser_fiq',"
   ]
  },
  {
   "cell_type": "markdown",
   "metadata": {},
   "source": [
    "## SERFIQ model\n",
    "\n",
    "Create SERFIQ model."
   ]
  },
  {
   "cell_type": "code",
   "execution_count": 2,
   "metadata": {},
   "outputs": [
    {
     "name": "stderr",
     "output_type": "stream",
     "text": [
      "[20:03:20] ../src/nnvm/legacy_json_util.cc:208: Loading symbol saved by previous version v1.8.0. Attempting to upgrade...\n",
      "[20:03:20] ../src/nnvm/legacy_json_util.cc:216: Symbol successfully upgraded!\n",
      "/home/jmacarulla/anaconda3/envs/sql-face/lib/python3.8/site-packages/mxnet/gluon/block.py:1784: UserWarning: Cannot decide type for the following arguments. Consider providing them as input:\n",
      "\tdata: None\n",
      "  input_sym_arg_type = in_param.infer_type()[0]\n",
      "[20:03:20] ../src/nnvm/legacy_json_util.cc:208: Loading symbol saved by previous version v0.8.0. Attempting to upgrade...\n",
      "[20:03:20] ../src/nnvm/legacy_json_util.cc:216: Symbol successfully upgraded!\n",
      "[20:03:20] ../src/nnvm/legacy_json_util.cc:208: Loading symbol saved by previous version v0.8.0. Attempting to upgrade...\n",
      "[20:03:20] ../src/nnvm/legacy_json_util.cc:216: Symbol successfully upgraded!\n",
      "[20:03:20] ../src/nnvm/legacy_json_util.cc:208: Loading symbol saved by previous version v0.8.0. Attempting to upgrade...\n",
      "[20:03:20] ../src/nnvm/legacy_json_util.cc:216: Symbol successfully upgraded!\n",
      "[20:03:20] ../src/nnvm/legacy_json_util.cc:208: Loading symbol saved by previous version v0.8.0. Attempting to upgrade...\n",
      "[20:03:20] ../src/nnvm/legacy_json_util.cc:216: Symbol successfully upgraded!\n"
     ]
    }
   ],
   "source": [
    "from sql_face.serfiq import get_serfiq_model\n",
    "serfiq = get_serfiq_model()"
   ]
  },
  {
   "cell_type": "markdown",
   "metadata": {},
   "source": [
    "# Database creation"
   ]
  },
  {
   "cell_type": "markdown",
   "metadata": {},
   "source": [
    "database = SQLDataBase(db_name=db_name,\n",
    "                        database_names=database_names, # , 'scface', 'forenface', 'enfsi', 'enfsi2015'\n",
    "                        detector_names=detector_names,\n",
    "                        embedding_model_names=embedding_model_names,\n",
    "                        quality_model_names=quality_model_names,\n",
    "                        save_in_drive=save_in_drive                        \n",
    "                        )\n",
    "\n",
    "database.fill_db()\n",
    "database.update_db(attributes_to_update=attributes_to_update, force_update=False)"
   ]
  },
  {
   "cell_type": "code",
   "execution_count": 3,
   "metadata": {},
   "outputs": [
    {
     "name": "stderr",
     "output_type": "stream",
     "text": [
      "2023-01-18 20:03:21.160934: I tensorflow/core/platform/cpu_feature_guard.cc:193] This TensorFlow binary is optimized with oneAPI Deep Neural Network Library (oneDNN) to use the following CPU instructions in performance-critical operations:  SSE4.1 SSE4.2 AVX AVX2 FMA\n",
      "To enable them in other operations, rebuild TensorFlow with the appropriate compiler flags.\n"
     ]
    }
   ],
   "source": [
    "from sql_face.sqldb import SQLDataBase"
   ]
  },
  {
   "cell_type": "code",
   "execution_count": 4,
   "metadata": {},
   "outputs": [],
   "source": [
    "database = SQLDataBase(db_name=db_name,\n",
    "                        input_dir = input_dir,\n",
    "                        output_dir_name = output_dir,\n",
    "                        database_names = database_names,\n",
    "                        detector_names = detector_names,\n",
    "                        embedding_model_names = embedding_model_names,\n",
    "                        quality_model_names = quality_model_names)"
   ]
  },
  {
   "cell_type": "code",
   "execution_count": 5,
   "metadata": {},
   "outputs": [
    {
     "data": {
      "text/plain": [
       "{'db_name': 'colab_main_dataset',\n",
       " 'input_dir': '/home/jmacarulla/video_resources/image_datasets',\n",
       " 'save_in_drive': False,\n",
       " 'output_dir': '/home/jmacarulla/video_resources/sql_database',\n",
       " 'session': <sqlalchemy.orm.session.Session at 0x7fdec8170640>,\n",
       " 'databases': [<sql_face.databases.LFW at 0x7fdec8170670>],\n",
       " 'detector_names': ['mtcnn'],\n",
       " 'embedding_model_names': ['ArcFace'],\n",
       " 'quality_model_names': ['ser_fiq', 'tface']}"
      ]
     },
     "execution_count": 5,
     "metadata": {},
     "output_type": "execute_result"
    }
   ],
   "source": [
    "database.__dict__"
   ]
  },
  {
   "cell_type": "code",
   "execution_count": 6,
   "metadata": {},
   "outputs": [
    {
     "ename": "AttributeError",
     "evalue": "'str' object has no attribute 'qualityModel'",
     "output_type": "error",
     "traceback": [
      "\u001b[0;31m---------------------------------------------------------------------------\u001b[0m",
      "\u001b[0;31mAttributeError\u001b[0m                            Traceback (most recent call last)",
      "Cell \u001b[0;32mIn [6], line 21\u001b[0m\n\u001b[1;32m     16\u001b[0m b \u001b[39m=\u001b[39m (session\u001b[39m.\u001b[39mquery(QualityImage\u001b[39m.\u001b[39mqualityModel_id, FaceImage\u001b[39m.\u001b[39membeddingModel_id,FaceImage\u001b[39m.\u001b[39mcroppedImage_id)\n\u001b[1;32m     17\u001b[0m     \u001b[39m.\u001b[39mjoin(FaceImage)\n\u001b[1;32m     18\u001b[0m     \u001b[39m.\u001b[39mfilter(QualityImage\u001b[39m.\u001b[39mquality \u001b[39m!=\u001b[39m \u001b[39mNone\u001b[39;00m)\u001b[39m.\u001b[39mall())\n\u001b[1;32m     20\u001b[0m \u001b[39mfor\u001b[39;00m row \u001b[39min\u001b[39;00m a:\n\u001b[0;32m---> 21\u001b[0m     b \u001b[39m=\u001b[39m row[\u001b[39m0\u001b[39;49m]\u001b[39m.\u001b[39;49mqualityModel\n\u001b[1;32m     25\u001b[0m \u001b[39mlen\u001b[39m(a)\n\u001b[1;32m     26\u001b[0m \u001b[39mlen\u001b[39m(b)\n",
      "\u001b[0;31mAttributeError\u001b[0m: 'str' object has no attribute 'qualityModel'"
     ]
    }
   ],
   "source": [
    "import pandas as pd\n",
    "from sql_face.tables import EnfsiPair, EnfsiPair2015, QualityImage, FaceImage, CroppedImage\n",
    "\n",
    "session = database.session\n",
    "\n",
    "\"\"\" pd.read_sql_query(\n",
    "    sql = session.query(Students.first_name,\n",
    "                        Students.last_name).filter(\n",
    "      Students.score > 80).statement, con = engine) \"\"\"\n",
    "\n",
    "# generamos un datafame con la información que necesitamos para los registros sin quality\n",
    "# hacemos una query para actualizar los registros que no tienen quality\n",
    "\n",
    "\n",
    "df_a = pd.read_sql_query(session.query(QualityImage,FaceImage.embeddingModel_id,FaceImage.croppedImage_id)\n",
    "    .join(FaceImage)\n",
    "    .filter(QualityImage.quality != None).statement, con=session.bind)\n",
    "\n",
    "\n",
    "sql_b = (session.query(QualityImage, FaceImage)\n",
    "    .join(FaceImage)\n",
    "    .filter(QualityImage.quality == None).all())\n",
    "\n",
    "for Q,F in sql_b:\n",
    "    #recorremos el resultado y actualizamos el objeto QualityImage\n",
    "\n",
    "\n",
    "    qm = Q.qualityModel_id\n",
    "    em = F.embeddingModel_id\n",
    "    \n",
    "\n",
    "    \n",
    "\n",
    "\n",
    "len(a)\n",
    "len(b)\n",
    "a[0].qualityImage_id\n",
    "b[0].qualityImage_id\n",
    "# for row in a:\n",
    "#     print(row.first.image_id,row.second.image_id,row.get_n_common_attributes())"
   ]
  },
  {
   "cell_type": "code",
   "execution_count": null,
   "metadata": {},
   "outputs": [],
   "source": [
    "serfiq = None"
   ]
  },
  {
   "cell_type": "code",
   "execution_count": null,
   "metadata": {},
   "outputs": [],
   "source": [
    "database.create_tables(serfiq=serfiq)"
   ]
  },
  {
   "cell_type": "code",
   "execution_count": null,
   "metadata": {},
   "outputs": [],
   "source": [
    "from sql_face.tables import Image\n",
    "images = database.session.query(Image).all()\n",
    "len(images)"
   ]
  },
  {
   "cell_type": "code",
   "execution_count": null,
   "metadata": {},
   "outputs": [],
   "source": [
    "database.update_tables(attributes_to_update, serfiq = serfiq)"
   ]
  }
 ],
 "metadata": {
  "kernelspec": {
   "display_name": "sql-face",
   "language": "python",
   "name": "python3"
  },
  "language_info": {
   "codemirror_mode": {
    "name": "ipython",
    "version": 3
   },
   "file_extension": ".py",
   "mimetype": "text/x-python",
   "name": "python",
   "nbconvert_exporter": "python",
   "pygments_lexer": "ipython3",
   "version": "3.8.15"
  },
  "orig_nbformat": 4,
  "vscode": {
   "interpreter": {
    "hash": "edd2314f85f22963f985d48f57a085e9a58a34ab11a3cd413d34968a1f6f2e55"
   }
  }
 },
 "nbformat": 4,
 "nbformat_minor": 2
}
