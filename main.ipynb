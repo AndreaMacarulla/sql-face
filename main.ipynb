{
 "cells": [
  {
   "cell_type": "markdown",
   "metadata": {},
   "source": [
    "# Parameter definition\n",
    "Choose all the settings for the database creation. Input, output dir..."
   ]
  },
  {
   "cell_type": "code",
   "execution_count": 9,
   "metadata": {},
   "outputs": [],
   "source": [
    "import os\n",
    "\n",
    "home = os.path.expanduser(\"~\")\n",
    "\n",
    "db_name=  'test_1' #'test_new_creators_4'\n",
    "# drive/.shared/LR_face_video\n",
    "input_dir = os.path.join(home, 'video_resources', 'image_datasets')\n",
    "#input_dir = os.path.join(home, 'drive', '.shared','LR_face_video')\n",
    "output_dir = os.path.join(home, 'video_resources', 'sql_database')\n",
    "database_names=['enfsi'] # 'lfw', 'scface',  'enfsi', 'enfsi2015', 'xqlfw', 'utkface','chokepoint','forenface'\n",
    "detector_names=['mtcnn', 'mtcnn_serfiq'] # 'dlib', 'mtcnn', 'mtcnn_serfiq'\n",
    "embedding_model_names=[\"QMagFace\", \"ArcFace\"] # , \"Dlib\", \"ArcFace\",\n",
    "attributes_to_update=['gender', 'age', 'emotion', 'race', 'pose', 'angles']  # 'gender', 'age', 'emotion', 'race', 'pose', 'angles'\n",
    "quality_model_names = ['ser_fiq', 'tface'] # 'confusion_score', 'ser_fiq',"
   ]
  },
  {
   "cell_type": "markdown",
   "metadata": {},
   "source": [
    "## SERFIQ model\n",
    "\n",
    "Create SERFIQ model."
   ]
  },
  {
   "cell_type": "code",
   "execution_count": 10,
   "metadata": {},
   "outputs": [
    {
     "name": "stderr",
     "output_type": "stream",
     "text": [
      "[11:51:48] ../src/nnvm/legacy_json_util.cc:208: Loading symbol saved by previous version v1.8.0. Attempting to upgrade...\n",
      "[11:51:48] ../src/nnvm/legacy_json_util.cc:216: Symbol successfully upgraded!\n",
      "[11:51:49] ../src/nnvm/legacy_json_util.cc:208: Loading symbol saved by previous version v0.8.0. Attempting to upgrade...\n",
      "[11:51:49] ../src/nnvm/legacy_json_util.cc:216: Symbol successfully upgraded!\n",
      "[11:51:49] ../src/nnvm/legacy_json_util.cc:208: Loading symbol saved by previous version v0.8.0. Attempting to upgrade...\n",
      "[11:51:49] ../src/nnvm/legacy_json_util.cc:216: Symbol successfully upgraded!\n",
      "[11:51:49] ../src/nnvm/legacy_json_util.cc:208: Loading symbol saved by previous version v0.8.0. Attempting to upgrade...\n",
      "[11:51:49] ../src/nnvm/legacy_json_util.cc:216: Symbol successfully upgraded!\n",
      "[11:51:49] ../src/nnvm/legacy_json_util.cc:208: Loading symbol saved by previous version v0.8.0. Attempting to upgrade...\n",
      "[11:51:49] ../src/nnvm/legacy_json_util.cc:216: Symbol successfully upgraded!\n"
     ]
    }
   ],
   "source": [
    "from sql_face.serfiq import get_serfiq_model\n",
    "serfiq = get_serfiq_model()"
   ]
  },
  {
   "cell_type": "markdown",
   "metadata": {},
   "source": [
    "# Database creation"
   ]
  },
  {
   "cell_type": "markdown",
   "metadata": {},
   "source": [
    "database = SQLDataBase(db_name=db_name,\n",
    "                        database_names=database_names, # , 'scface', 'forenface', 'enfsi', 'enfsi2015'\n",
    "                        detector_names=detector_names,\n",
    "                        embedding_model_names=embedding_model_names,\n",
    "                        quality_model_names=quality_model_names,\n",
    "                        save_in_drive=save_in_drive                        \n",
    "                        )\n",
    "\n",
    "database.fill_db()\n",
    "database.update_db(attributes_to_update=attributes_to_update, force_update=False)"
   ]
  },
  {
   "cell_type": "code",
   "execution_count": 11,
   "metadata": {},
   "outputs": [],
   "source": [
    "from sql_face.sqldb import SQLDataBase"
   ]
  },
  {
   "cell_type": "code",
   "execution_count": 12,
   "metadata": {},
   "outputs": [],
   "source": [
    "database = SQLDataBase(db_name=db_name,\n",
    "                        input_dir = input_dir,\n",
    "                        output_dir_name = output_dir,\n",
    "                        database_names = database_names,\n",
    "                        detector_names = detector_names,\n",
    "                        embedding_model_names = embedding_model_names,\n",
    "                        quality_model_names = quality_model_names)"
   ]
  },
  {
   "cell_type": "code",
   "execution_count": 13,
   "metadata": {},
   "outputs": [
    {
     "data": {
      "text/plain": [
       "{'db_name': 'test_1',\n",
       " 'input_dir': '/home/andrea/video_resources/image_datasets',\n",
       " 'save_in_drive': False,\n",
       " 'output_dir': '/home/andrea/video_resources/sql_database',\n",
       " 'session': <sqlalchemy.orm.session.Session at 0x7f6fc4a3d7f0>,\n",
       " 'databases': [<sql_face.databases.Enfsi at 0x7f6d18a62fa0>],\n",
       " 'detector_names': ['mtcnn', 'mtcnn_serfiq'],\n",
       " 'embedding_model_names': ['QMagFace', 'ArcFace'],\n",
       " 'quality_model_names': ['ser_fiq', 'tface']}"
      ]
     },
     "execution_count": 13,
     "metadata": {},
     "output_type": "execute_result"
    }
   ],
   "source": [
    "database.__dict__"
   ]
  },
  {
   "cell_type": "code",
   "execution_count": 14,
   "metadata": {},
   "outputs": [],
   "source": [
    "# import pandas as pd\n",
    "# from tqdm import tqdm\n",
    "# from sql_face.tables import EnfsiPair, EnfsiPair2015, QualityImage, FaceImage, CroppedImage\n",
    "\n",
    "# session = database.session\n",
    "\n",
    "# # generamos un datafame con la información que necesitamos para los registros sin quality\n",
    "# # hacemos una query para actualizar los registros que no tienen quality\n",
    "\n",
    "\n",
    "# df_a = pd.read_sql_query(session.query(QualityImage,FaceImage.embeddingModel_id,FaceImage.croppedImage_id)\n",
    "#     .join(FaceImage)\n",
    "#     .filter(QualityImage.quality != None,FaceImage.embeddingModel_id == 1).statement, con=session.bind)\n",
    "\n",
    "\n",
    "# sql_b = (session.query(QualityImage, FaceImage)\n",
    "#     .join(FaceImage)\n",
    "#     .filter(QualityImage.quality == None).all())\n",
    "# n1 = 100\n",
    "# n = n1\n",
    "# for Q,F in tqdm(sql_b):\n",
    "#     #recorremos el resultado y actualizamos el objeto QualityImage\n",
    "\n",
    "\n",
    "#     qm = Q.qualityModel_id\n",
    "#     em = F.embeddingModel_id\n",
    "#     ci = F.croppedImage_id\n",
    "\n",
    "#     df_r = df_a.loc[(df_a['qualityModel_id'] == qm) & (df_a['croppedImage_id'] == ci) & (df_a['embeddingModel_id']== 1)]\n",
    "#     assert len(df_r) == 1\n",
    "#     Q.quality = float(df_r.quality)\n",
    "#     if not n:\n",
    "#         session.commit()\n",
    "#         n = n1\n",
    "#     else:\n",
    "#         n-=1\n",
    "# session.commit()\n",
    "\n"
   ]
  },
  {
   "cell_type": "code",
   "execution_count": 15,
   "metadata": {},
   "outputs": [
    {
     "name": "stderr",
     "output_type": "stream",
     "text": [
      "Creating CroppedImages for detector mtcnn: 0it [00:00, ?it/s]\n",
      "Creating CroppedImages for detector mtcnn_serfiq: 0it [00:00, ?it/s]\n",
      "Face images in QMagFace: 0it [00:00, ?it/s]00<?, ?it/s]\n",
      "Face images in ArcFace: 0it [00:00, ?it/s]\n",
      "Embedding models: 100%|██████████| 2/2 [00:00<00:00, 124.57it/s]\n",
      "Quality images in ser_fiq: 0it [00:00, ?it/s], ?it/s]\n",
      "Quality images in tface: 0it [00:00, ?it/s]\n",
      "Quality models: 100%|██████████| 2/2 [00:00<00:00, 103.90it/s]\n"
     ]
    }
   ],
   "source": [
    "database.create_tables(serfiq=serfiq)"
   ]
  },
  {
   "cell_type": "code",
   "execution_count": 16,
   "metadata": {},
   "outputs": [
    {
     "name": "stderr",
     "output_type": "stream",
     "text": [
      "Update gender: 100%|██████████| 3/3 [00:00<00:00, 12.82it/s]\n",
      "Update age:   0%|          | 0/390 [00:10<?, ?it/s]\n"
     ]
    },
    {
     "ename": "ResourceExhaustedError",
     "evalue": "{{function_node __wrapped__StatelessRandomUniformV2_device_/job:localhost/replica:0/task:0/device:GPU:0}} OOM when allocating tensor with shape[7,7,512,4096] and type float on /job:localhost/replica:0/task:0/device:GPU:0 by allocator GPU_0_bfc [Op:StatelessRandomUniformV2]",
     "output_type": "error",
     "traceback": [
      "\u001b[0;31m---------------------------------------------------------------------------\u001b[0m",
      "\u001b[0;31mResourceExhaustedError\u001b[0m                    Traceback (most recent call last)",
      "\u001b[1;32m/home/andrea/PycharmProjects/sql-face/main.ipynb Cell 12\u001b[0m in \u001b[0;36m<cell line: 1>\u001b[0;34m()\u001b[0m\n\u001b[0;32m----> <a href='vscode-notebook-cell:/home/andrea/PycharmProjects/sql-face/main.ipynb#X14sZmlsZQ%3D%3D?line=0'>1</a>\u001b[0m database\u001b[39m.\u001b[39;49mupdate_tables(attributes_to_update, force_update \u001b[39m=\u001b[39;49m \u001b[39mFalse\u001b[39;49;00m, serfiq \u001b[39m=\u001b[39;49m serfiq)\n",
      "File \u001b[0;32m~/PycharmProjects/sql-face/sql_face/sqldb.py:73\u001b[0m, in \u001b[0;36mSQLDataBase.update_tables\u001b[0;34m(self, attributes_to_update, force_update, serfiq)\u001b[0m\n\u001b[1;32m     68\u001b[0m \u001b[39mdef\u001b[39;00m \u001b[39mupdate_tables\u001b[39m(\u001b[39mself\u001b[39m, \n\u001b[1;32m     69\u001b[0m                 attributes_to_update:List[\u001b[39mstr\u001b[39m], \u001b[39m# The list of attributes to update in the tables.\u001b[39;00m\n\u001b[1;32m     70\u001b[0m                 force_update:\u001b[39mbool\u001b[39m\u001b[39m=\u001b[39m\u001b[39mFalse\u001b[39;00m, \u001b[39m# Flag indicating whether to update the attributes even if they are already present in the tables.\u001b[39;00m\n\u001b[1;32m     71\u001b[0m                 serfiq \u001b[39m=\u001b[39m \u001b[39mNone\u001b[39;00m \u001b[39m# object used to calculate the SERFIQ quality score.\u001b[39;00m\n\u001b[1;32m     72\u001b[0m                 ):        \n\u001b[0;32m---> 73\u001b[0m     update_images(\u001b[39mself\u001b[39;49m\u001b[39m.\u001b[39;49msession, \u001b[39mself\u001b[39;49m\u001b[39m.\u001b[39;49minput_dir, \u001b[39mself\u001b[39;49m\u001b[39m.\u001b[39;49mdatabases, attributes_to_update, force_update \u001b[39m=\u001b[39;49m force_update)\n\u001b[1;32m     74\u001b[0m     update_cropped_images(\u001b[39mself\u001b[39m\u001b[39m.\u001b[39msession, \u001b[39mself\u001b[39m\u001b[39m.\u001b[39minput_dir, force_update \u001b[39m=\u001b[39m force_update, serfiq \u001b[39m=\u001b[39m serfiq)\n\u001b[1;32m     75\u001b[0m     update_face_images(\u001b[39mself\u001b[39m\u001b[39m.\u001b[39msession, \u001b[39mself\u001b[39m\u001b[39m.\u001b[39minput_dir, force_update \u001b[39m=\u001b[39m force_update, serfiq \u001b[39m=\u001b[39m serfiq)\n",
      "File \u001b[0;32m~/PycharmProjects/sql-face/sql_face/alchemy.py:422\u001b[0m, in \u001b[0;36mupdate_images\u001b[0;34m(session, input_dir, databases, attributes, force_update)\u001b[0m\n\u001b[1;32m    420\u001b[0m \u001b[39mfor\u001b[39;00m attribute \u001b[39min\u001b[39;00m attributes:\n\u001b[1;32m    421\u001b[0m     \u001b[39mif\u001b[39;00m attribute \u001b[39min\u001b[39;00m update_functions:\n\u001b[0;32m--> 422\u001b[0m         update_functions[attribute](session, input_dir, databases, force_update)\n",
      "File \u001b[0;32m~/PycharmProjects/sql-face/sql_face/alchemy.py:257\u001b[0m, in \u001b[0;36mupdate_age\u001b[0;34m(session, input_dir, databases, force_update)\u001b[0m\n\u001b[1;32m    255\u001b[0m \u001b[39mfor\u001b[39;00m img \u001b[39min\u001b[39;00m tqdm(all_img, desc\u001b[39m=\u001b[39m\u001b[39m'\u001b[39m\u001b[39mUpdate age\u001b[39m\u001b[39m'\u001b[39m):\n\u001b[1;32m    256\u001b[0m     \u001b[39mtry\u001b[39;00m:\n\u001b[0;32m--> 257\u001b[0m         filters \u001b[39m=\u001b[39m DeepFace\u001b[39m.\u001b[39;49manalyze(img_path\u001b[39m=\u001b[39;49mimg\u001b[39m.\u001b[39;49mget_image(input_dir), actions\u001b[39m=\u001b[39;49m[\u001b[39m'\u001b[39;49m\u001b[39mage\u001b[39;49m\u001b[39m'\u001b[39;49m],\n\u001b[1;32m    258\u001b[0m                                    enforce_detection\u001b[39m=\u001b[39;49m\u001b[39mTrue\u001b[39;49;00m, detector_backend\u001b[39m=\u001b[39;49m\u001b[39m'\u001b[39;49m\u001b[39mmediapipe\u001b[39;49m\u001b[39m'\u001b[39;49m)\n\u001b[1;32m    259\u001b[0m         age \u001b[39m=\u001b[39m filters[\u001b[39m\"\u001b[39m\u001b[39mage\u001b[39m\u001b[39m\"\u001b[39m]\n\u001b[1;32m    260\u001b[0m         img\u001b[39m.\u001b[39mage_number \u001b[39m=\u001b[39m age\n",
      "File \u001b[0;32m~/anaconda3/envs/sql-face-38/lib/python3.8/site-packages/deepface/DeepFace.py:354\u001b[0m, in \u001b[0;36manalyze\u001b[0;34m(img_path, actions, models, enforce_detection, detector_backend, prog_bar)\u001b[0m\n\u001b[1;32m    351\u001b[0m \tmodels[\u001b[39m'\u001b[39m\u001b[39memotion\u001b[39m\u001b[39m'\u001b[39m] \u001b[39m=\u001b[39m build_model(\u001b[39m'\u001b[39m\u001b[39mEmotion\u001b[39m\u001b[39m'\u001b[39m)\n\u001b[1;32m    353\u001b[0m \u001b[39mif\u001b[39;00m \u001b[39m'\u001b[39m\u001b[39mage\u001b[39m\u001b[39m'\u001b[39m \u001b[39min\u001b[39;00m actions \u001b[39mand\u001b[39;00m \u001b[39m'\u001b[39m\u001b[39mage\u001b[39m\u001b[39m'\u001b[39m \u001b[39mnot\u001b[39;00m \u001b[39min\u001b[39;00m built_models:\n\u001b[0;32m--> 354\u001b[0m \tmodels[\u001b[39m'\u001b[39m\u001b[39mage\u001b[39m\u001b[39m'\u001b[39m] \u001b[39m=\u001b[39m build_model(\u001b[39m'\u001b[39;49m\u001b[39mAge\u001b[39;49m\u001b[39m'\u001b[39;49m)\n\u001b[1;32m    356\u001b[0m \u001b[39mif\u001b[39;00m \u001b[39m'\u001b[39m\u001b[39mgender\u001b[39m\u001b[39m'\u001b[39m \u001b[39min\u001b[39;00m actions \u001b[39mand\u001b[39;00m \u001b[39m'\u001b[39m\u001b[39mgender\u001b[39m\u001b[39m'\u001b[39m \u001b[39mnot\u001b[39;00m \u001b[39min\u001b[39;00m built_models:\n\u001b[1;32m    357\u001b[0m \tmodels[\u001b[39m'\u001b[39m\u001b[39mgender\u001b[39m\u001b[39m'\u001b[39m] \u001b[39m=\u001b[39m build_model(\u001b[39m'\u001b[39m\u001b[39mGender\u001b[39m\u001b[39m'\u001b[39m)\n",
      "File \u001b[0;32m~/anaconda3/envs/sql-face-38/lib/python3.8/site-packages/deepface/DeepFace.py:63\u001b[0m, in \u001b[0;36mbuild_model\u001b[0;34m(model_name)\u001b[0m\n\u001b[1;32m     61\u001b[0m model \u001b[39m=\u001b[39m models\u001b[39m.\u001b[39mget(model_name)\n\u001b[1;32m     62\u001b[0m \u001b[39mif\u001b[39;00m model:\n\u001b[0;32m---> 63\u001b[0m \tmodel \u001b[39m=\u001b[39m model()\n\u001b[1;32m     64\u001b[0m \tmodel_obj[model_name] \u001b[39m=\u001b[39m model\n\u001b[1;32m     65\u001b[0m \t\u001b[39m#print(model_name,\" built\")\u001b[39;00m\n\u001b[1;32m     66\u001b[0m \u001b[39melse\u001b[39;00m:\n",
      "File \u001b[0;32m~/anaconda3/envs/sql-face-38/lib/python3.8/site-packages/deepface/extendedmodels/Age.py:25\u001b[0m, in \u001b[0;36mloadModel\u001b[0;34m(url)\u001b[0m\n\u001b[1;32m     23\u001b[0m \u001b[39mdef\u001b[39;00m \u001b[39mloadModel\u001b[39m(url \u001b[39m=\u001b[39m \u001b[39m'\u001b[39m\u001b[39mhttps://github.com/serengil/deepface_models/releases/download/v1.0/age_model_weights.h5\u001b[39m\u001b[39m'\u001b[39m):\n\u001b[0;32m---> 25\u001b[0m \tmodel \u001b[39m=\u001b[39m VGGFace\u001b[39m.\u001b[39;49mbaseModel()\n\u001b[1;32m     27\u001b[0m \t\u001b[39m#--------------------------\u001b[39;00m\n\u001b[1;32m     29\u001b[0m \tclasses \u001b[39m=\u001b[39m \u001b[39m101\u001b[39m\n",
      "File \u001b[0;32m~/anaconda3/envs/sql-face-38/lib/python3.8/site-packages/deepface/basemodels/VGGFace.py:58\u001b[0m, in \u001b[0;36mbaseModel\u001b[0;34m()\u001b[0m\n\u001b[1;32m     55\u001b[0m model\u001b[39m.\u001b[39madd(Convolution2D(\u001b[39m512\u001b[39m, (\u001b[39m3\u001b[39m, \u001b[39m3\u001b[39m), activation\u001b[39m=\u001b[39m\u001b[39m'\u001b[39m\u001b[39mrelu\u001b[39m\u001b[39m'\u001b[39m))\n\u001b[1;32m     56\u001b[0m model\u001b[39m.\u001b[39madd(MaxPooling2D((\u001b[39m2\u001b[39m,\u001b[39m2\u001b[39m), strides\u001b[39m=\u001b[39m(\u001b[39m2\u001b[39m,\u001b[39m2\u001b[39m)))\n\u001b[0;32m---> 58\u001b[0m model\u001b[39m.\u001b[39;49madd(Convolution2D(\u001b[39m4096\u001b[39;49m, (\u001b[39m7\u001b[39;49m, \u001b[39m7\u001b[39;49m), activation\u001b[39m=\u001b[39;49m\u001b[39m'\u001b[39;49m\u001b[39mrelu\u001b[39;49m\u001b[39m'\u001b[39;49m))\n\u001b[1;32m     59\u001b[0m model\u001b[39m.\u001b[39madd(Dropout(\u001b[39m0.5\u001b[39m))\n\u001b[1;32m     60\u001b[0m model\u001b[39m.\u001b[39madd(Convolution2D(\u001b[39m4096\u001b[39m, (\u001b[39m1\u001b[39m, \u001b[39m1\u001b[39m), activation\u001b[39m=\u001b[39m\u001b[39m'\u001b[39m\u001b[39mrelu\u001b[39m\u001b[39m'\u001b[39m))\n",
      "File \u001b[0;32m~/anaconda3/envs/sql-face-38/lib/python3.8/site-packages/tensorflow/python/trackable/base.py:205\u001b[0m, in \u001b[0;36mno_automatic_dependency_tracking.<locals>._method_wrapper\u001b[0;34m(self, *args, **kwargs)\u001b[0m\n\u001b[1;32m    203\u001b[0m \u001b[39mself\u001b[39m\u001b[39m.\u001b[39m_self_setattr_tracking \u001b[39m=\u001b[39m \u001b[39mFalse\u001b[39;00m  \u001b[39m# pylint: disable=protected-access\u001b[39;00m\n\u001b[1;32m    204\u001b[0m \u001b[39mtry\u001b[39;00m:\n\u001b[0;32m--> 205\u001b[0m   result \u001b[39m=\u001b[39m method(\u001b[39mself\u001b[39;49m, \u001b[39m*\u001b[39;49margs, \u001b[39m*\u001b[39;49m\u001b[39m*\u001b[39;49mkwargs)\n\u001b[1;32m    206\u001b[0m \u001b[39mfinally\u001b[39;00m:\n\u001b[1;32m    207\u001b[0m   \u001b[39mself\u001b[39m\u001b[39m.\u001b[39m_self_setattr_tracking \u001b[39m=\u001b[39m previous_value  \u001b[39m# pylint: disable=protected-access\u001b[39;00m\n",
      "File \u001b[0;32m~/anaconda3/envs/sql-face-38/lib/python3.8/site-packages/keras/utils/traceback_utils.py:70\u001b[0m, in \u001b[0;36mfilter_traceback.<locals>.error_handler\u001b[0;34m(*args, **kwargs)\u001b[0m\n\u001b[1;32m     67\u001b[0m     filtered_tb \u001b[39m=\u001b[39m _process_traceback_frames(e\u001b[39m.\u001b[39m__traceback__)\n\u001b[1;32m     68\u001b[0m     \u001b[39m# To get the full stack trace, call:\u001b[39;00m\n\u001b[1;32m     69\u001b[0m     \u001b[39m# `tf.debugging.disable_traceback_filtering()`\u001b[39;00m\n\u001b[0;32m---> 70\u001b[0m     \u001b[39mraise\u001b[39;00m e\u001b[39m.\u001b[39mwith_traceback(filtered_tb) \u001b[39mfrom\u001b[39;00m \u001b[39mNone\u001b[39m\n\u001b[1;32m     71\u001b[0m \u001b[39mfinally\u001b[39;00m:\n\u001b[1;32m     72\u001b[0m     \u001b[39mdel\u001b[39;00m filtered_tb\n",
      "File \u001b[0;32m~/anaconda3/envs/sql-face-38/lib/python3.8/site-packages/keras/backend.py:2100\u001b[0m, in \u001b[0;36mRandomGenerator.random_uniform\u001b[0;34m(self, shape, minval, maxval, dtype, nonce)\u001b[0m\n\u001b[1;32m   2098\u001b[0m     \u001b[39mif\u001b[39;00m nonce:\n\u001b[1;32m   2099\u001b[0m         seed \u001b[39m=\u001b[39m tf\u001b[39m.\u001b[39mrandom\u001b[39m.\u001b[39mexperimental\u001b[39m.\u001b[39mstateless_fold_in(seed, nonce)\n\u001b[0;32m-> 2100\u001b[0m     \u001b[39mreturn\u001b[39;00m tf\u001b[39m.\u001b[39;49mrandom\u001b[39m.\u001b[39;49mstateless_uniform(\n\u001b[1;32m   2101\u001b[0m         shape\u001b[39m=\u001b[39;49mshape,\n\u001b[1;32m   2102\u001b[0m         minval\u001b[39m=\u001b[39;49mminval,\n\u001b[1;32m   2103\u001b[0m         maxval\u001b[39m=\u001b[39;49mmaxval,\n\u001b[1;32m   2104\u001b[0m         dtype\u001b[39m=\u001b[39;49mdtype,\n\u001b[1;32m   2105\u001b[0m         seed\u001b[39m=\u001b[39;49mseed,\n\u001b[1;32m   2106\u001b[0m     )\n\u001b[1;32m   2107\u001b[0m \u001b[39mreturn\u001b[39;00m tf\u001b[39m.\u001b[39mrandom\u001b[39m.\u001b[39muniform(\n\u001b[1;32m   2108\u001b[0m     shape\u001b[39m=\u001b[39mshape,\n\u001b[1;32m   2109\u001b[0m     minval\u001b[39m=\u001b[39mminval,\n\u001b[0;32m   (...)\u001b[0m\n\u001b[1;32m   2112\u001b[0m     seed\u001b[39m=\u001b[39m\u001b[39mself\u001b[39m\u001b[39m.\u001b[39mmake_legacy_seed(),\n\u001b[1;32m   2113\u001b[0m )\n",
      "\u001b[0;31mResourceExhaustedError\u001b[0m: {{function_node __wrapped__StatelessRandomUniformV2_device_/job:localhost/replica:0/task:0/device:GPU:0}} OOM when allocating tensor with shape[7,7,512,4096] and type float on /job:localhost/replica:0/task:0/device:GPU:0 by allocator GPU_0_bfc [Op:StatelessRandomUniformV2]"
     ]
    }
   ],
   "source": [
    "database.update_tables(attributes_to_update, force_update = False, serfiq = serfiq)"
   ]
  }
 ],
 "metadata": {
  "kernelspec": {
   "display_name": "sql-face",
   "language": "python",
   "name": "python3"
  },
  "language_info": {
   "codemirror_mode": {
    "name": "ipython",
    "version": 3
   },
   "file_extension": ".py",
   "mimetype": "text/x-python",
   "name": "python",
   "nbconvert_exporter": "python",
   "pygments_lexer": "ipython3",
   "version": "3.8.13"
  },
  "orig_nbformat": 4,
  "vscode": {
   "interpreter": {
    "hash": "edd2314f85f22963f985d48f57a085e9a58a34ab11a3cd413d34968a1f6f2e55"
   }
  }
 },
 "nbformat": 4,
 "nbformat_minor": 2
}
