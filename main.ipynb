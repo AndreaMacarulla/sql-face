{
 "cells": [
  {
   "cell_type": "markdown",
   "metadata": {},
   "source": [
    "# Parameter definition\n",
    "Choose all the settings for the database creation. Input, output dir..."
   ]
  },
  {
   "cell_type": "code",
   "execution_count": 11,
   "metadata": {},
   "outputs": [],
   "source": [
    "#TODO: Change absolute to relative paths for input and output dir.\n",
    "import os\n",
    "\n",
    "home = os.path.expanduser(\"~\")\n",
    "\n",
    "db_name= 'colab_main_dataset' #'colab_main_dataset'\n",
    "input_dir = os.path.join(home, 'video_resources', 'image_datasets')\n",
    "output_dir = os.path.join(home, 'video_resources', 'sql_database')\n",
    "database_names=['lfw', 'scface',  'enfsi', 'enfsi2015'] # 'lfw', 'scface',  'enfsi', 'enfsi2015', 'xqlfw', 'utkface','chokepoint','forenface'\n",
    "detector_names=['mtcnn','mtcnn_serfiq'] # 'dlib', 'mtcnn', 'mtcnn_serfiq'\n",
    "embedding_model_names=[\"ArcFace\"] # , \"Dlib\", \"ArcFace\",\n",
    "attributes_to_update=['gender']  # 'gender', 'age', 'emotion', 'race'\n",
    "quality_model_names = ['ser_fiq', 'tface'] # 'confusion_score', 'ser_fiq',\n",
    "save_in_drive = False # To work in google colab"
   ]
  },
  {
   "cell_type": "markdown",
   "metadata": {},
   "source": [
    "## SERFIQ model\n",
    "\n",
    "Create SERFIQ model."
   ]
  },
  {
   "cell_type": "code",
   "execution_count": 12,
   "metadata": {},
   "outputs": [
    {
     "name": "stderr",
     "output_type": "stream",
     "text": [
      "[17:56:54] ../src/nnvm/legacy_json_util.cc:208: Loading symbol saved by previous version v1.8.0. Attempting to upgrade...\n",
      "[17:56:54] ../src/nnvm/legacy_json_util.cc:216: Symbol successfully upgraded!\n",
      "[17:56:55] ../src/nnvm/legacy_json_util.cc:208: Loading symbol saved by previous version v0.8.0. Attempting to upgrade...\n",
      "[17:56:55] ../src/nnvm/legacy_json_util.cc:216: Symbol successfully upgraded!\n",
      "[17:56:55] ../src/nnvm/legacy_json_util.cc:208: Loading symbol saved by previous version v0.8.0. Attempting to upgrade...\n",
      "[17:56:55] ../src/nnvm/legacy_json_util.cc:216: Symbol successfully upgraded!\n",
      "[17:56:55] ../src/nnvm/legacy_json_util.cc:208: Loading symbol saved by previous version v0.8.0. Attempting to upgrade...\n",
      "[17:56:55] ../src/nnvm/legacy_json_util.cc:216: Symbol successfully upgraded!\n",
      "[17:56:55] ../src/nnvm/legacy_json_util.cc:208: Loading symbol saved by previous version v0.8.0. Attempting to upgrade...\n",
      "[17:56:55] ../src/nnvm/legacy_json_util.cc:216: Symbol successfully upgraded!\n"
     ]
    }
   ],
   "source": [
    "from sql_face.serfiq import get_serfiq_model\n",
    "serfiq = get_serfiq_model()"
   ]
  },
  {
   "cell_type": "markdown",
   "metadata": {},
   "source": [
    "# Database creation"
   ]
  },
  {
   "cell_type": "markdown",
   "metadata": {},
   "source": [
    "database = SQLDataBase(db_name=db_name,\n",
    "                        database_names=database_names, # , 'scface', 'forenface', 'enfsi', 'enfsi2015'\n",
    "                        detector_names=detector_names,\n",
    "                        embedding_model_names=embedding_model_names,\n",
    "                        quality_model_names=quality_model_names,\n",
    "                        save_in_drive=save_in_drive                        \n",
    "                        )\n",
    "\n",
    "database.fill_db()\n",
    "database.update_db(attributes_to_update=attributes_to_update, force_update=False)"
   ]
  },
  {
   "cell_type": "code",
   "execution_count": null,
   "metadata": {},
   "outputs": [
    {
     "ename": "",
     "evalue": "",
     "output_type": "error",
     "traceback": [
      "\u001b[1;31mThe Kernel crashed while executing code in the the current cell or a previous cell. Please review the code in the cell(s) to identify a possible cause of the failure. Click <a href='https://aka.ms/vscodeJupyterKernelCrash'>here</a> for more info. View Jupyter <a href='command:jupyter.viewOutput'>log</a> for further details."
     ]
    },
    {
     "ename": "",
     "evalue": "",
     "output_type": "error",
     "traceback": [
      "\u001b[1;31mCanceled future for execute_request message before replies were done"
     ]
    }
   ],
   "source": [
    "from sql_face.sqldb import SQLDataBase"
   ]
  },
  {
   "cell_type": "code",
   "execution_count": null,
   "metadata": {},
   "outputs": [],
   "source": [
    "database = SQLDataBase(db_name=db_name,\n",
    "                        input_dir = input_dir,\n",
    "                        output_dir_name = output_dir,\n",
    "                        database_names = database_names,\n",
    "                        detector_names = detector_names,\n",
    "                        embedding_model_names = embedding_model_names,\n",
    "                        quality_model_names = quality_model_names)"
   ]
  },
  {
   "cell_type": "code",
   "execution_count": null,
   "metadata": {},
   "outputs": [
    {
     "data": {
      "text/plain": [
       "{'db_name': 'colab_main_dataset',\n",
       " 'input_dir': '/home/andrea/video_resources/image_datasets',\n",
       " 'save_in_drive': False,\n",
       " 'output_dir': '/home/andrea/video_resources/sql_database',\n",
       " 'session': <sqlalchemy.orm.session.Session at 0x7f1dd51bde50>,\n",
       " 'databases': [<sql_face.databases.LFW at 0x7f1dd51bde80>,\n",
       "  <sql_face.databases.SCFace at 0x7f1dd51bdd90>,\n",
       "  <sql_face.databases.Enfsi at 0x7f1dd51bddf0>,\n",
       "  <sql_face.databases.Enfsi2015 at 0x7f1dd51bdf40>],\n",
       " 'detector_names': ['mtcnn', 'mtcnn_serfiq'],\n",
       " 'embedding_model_names': ['ArcFace'],\n",
       " 'quality_model_names': ['ser_fiq', 'tface']}"
      ]
     },
     "execution_count": 5,
     "metadata": {},
     "output_type": "execute_result"
    }
   ],
   "source": [
    "database.__dict__"
   ]
  },
  {
   "cell_type": "code",
   "execution_count": null,
   "metadata": {},
   "outputs": [
    {
     "name": "stderr",
     "output_type": "stream",
     "text": [
      "Creating image record from LFW: 0it [00:00, ?it/s]\n",
      "Creating images in SCFace: 0it [00:00, ?it/s]\n",
      "Creating Cropped Images for detector mtcnn: 0it [00:00, ?it/s]\n",
      "Creating Cropped Images for detector mtcnn_serfiq:   0%|          | 17/21826 [00:07<2:30:03,  2.42it/s]\n"
     ]
    },
    {
     "ename": "KeyboardInterrupt",
     "evalue": "",
     "output_type": "error",
     "traceback": [
      "\u001b[0;31m---------------------------------------------------------------------------\u001b[0m",
      "\u001b[0;31mKeyboardInterrupt\u001b[0m                         Traceback (most recent call last)",
      "\u001b[1;32m/home/andrea/PycharmProjects/sql-face/main.ipynb Cell 10\u001b[0m in \u001b[0;36m<cell line: 1>\u001b[0;34m()\u001b[0m\n\u001b[0;32m----> <a href='vscode-notebook-cell:/home/andrea/PycharmProjects/sql-face/main.ipynb#X12sZmlsZQ%3D%3D?line=0'>1</a>\u001b[0m database\u001b[39m.\u001b[39;49mcreate_tables(serfiq\u001b[39m=\u001b[39;49mserfiq)\n",
      "File \u001b[0;32m~/PycharmProjects/sql-face/sql_face/sqldb.py:59\u001b[0m, in \u001b[0;36mSQLDataBase.create_tables\u001b[0;34m(self, serfiq)\u001b[0m\n\u001b[1;32m     54\u001b[0m     db\u001b[39m.\u001b[39mcreate_images(\u001b[39mself\u001b[39m\u001b[39m.\u001b[39msession)\n\u001b[1;32m     55\u001b[0m \u001b[39m# todo: optimize creating facevacs pairs.\u001b[39;00m\n\u001b[1;32m     56\u001b[0m \u001b[39m# self.create_facevacs_pairs()\u001b[39;00m\n\u001b[0;32m---> 59\u001b[0m create_cropped_images(\u001b[39mself\u001b[39;49m\u001b[39m.\u001b[39;49msession, \u001b[39mself\u001b[39;49m\u001b[39m.\u001b[39;49minput_dir, serfiq) \n\u001b[1;32m     60\u001b[0m create_face_images(\u001b[39mself\u001b[39m\u001b[39m.\u001b[39msession)\n\u001b[1;32m     61\u001b[0m create_quality_images(\u001b[39mself\u001b[39m\u001b[39m.\u001b[39msession)\n",
      "File \u001b[0;32m~/PycharmProjects/sql-face/sql_face/alchemy.py:160\u001b[0m, in \u001b[0;36mcreate_cropped_images\u001b[0;34m(session, input_dir, serfiq)\u001b[0m\n\u001b[1;32m    158\u001b[0m cropped_image\u001b[39m.\u001b[39mimages \u001b[39m=\u001b[39m img\n\u001b[1;32m    159\u001b[0m cropped_image\u001b[39m.\u001b[39mdetectors \u001b[39m=\u001b[39m det\n\u001b[0;32m--> 160\u001b[0m fill_cropped_image(cropped_image, input_dir, ser_fiq \u001b[39m=\u001b[39;49m serfiq)\n\u001b[1;32m    161\u001b[0m session\u001b[39m.\u001b[39madd(cropped_image)\n\u001b[1;32m    162\u001b[0m session\u001b[39m.\u001b[39mcommit()\n",
      "File \u001b[0;32m~/PycharmProjects/sql-face/sql_face/alchemy.py:97\u001b[0m, in \u001b[0;36mfill_cropped_image_serfiq\u001b[0;34m(cr_img, input_dir, ser_fiq)\u001b[0m\n\u001b[1;32m     95\u001b[0m \u001b[39mdef\u001b[39;00m \u001b[39mfill_cropped_image_serfiq\u001b[39m(cr_img: CroppedImage, input_dir, ser_fiq):\n\u001b[1;32m     96\u001b[0m         image \u001b[39m=\u001b[39m cr_img\u001b[39m.\u001b[39mimages\u001b[39m.\u001b[39mget_image(input_dir)\n\u001b[0;32m---> 97\u001b[0m         aligned_img \u001b[39m=\u001b[39m ser_fiq\u001b[39m.\u001b[39;49mapply_mtcnn(image)\n\u001b[1;32m     98\u001b[0m         \u001b[39mif\u001b[39;00m aligned_img \u001b[39mis\u001b[39;00m \u001b[39mNone\u001b[39;00m:\n\u001b[1;32m     99\u001b[0m             cr_img\u001b[39m.\u001b[39mbounding_box \u001b[39m=\u001b[39m []\n",
      "File \u001b[0;32m~/PycharmProjects/sql-face/sql_face/serfiq.py:1018\u001b[0m, in \u001b[0;36mSER_FIQ.apply_mtcnn\u001b[0;34m(self, face_image)\u001b[0m\n\u001b[1;32m   1003\u001b[0m \u001b[39mdef\u001b[39;00m \u001b[39mapply_mtcnn\u001b[39m(\u001b[39mself\u001b[39m, face_image : np\u001b[39m.\u001b[39mndarray):\n\u001b[1;32m   1004\u001b[0m     \u001b[39m\"\"\"\u001b[39;00m\n\u001b[1;32m   1005\u001b[0m \u001b[39m    Applies MTCNN Detector on the given face image and returns\u001b[39;00m\n\u001b[1;32m   1006\u001b[0m \u001b[39m    the cropped image.\u001b[39;00m\n\u001b[0;32m   (...)\u001b[0m\n\u001b[1;32m   1016\u001b[0m \u001b[39m    None, if no face could be detected\u001b[39;00m\n\u001b[1;32m   1017\u001b[0m \u001b[39m    \"\"\"\u001b[39;00m\n\u001b[0;32m-> 1018\u001b[0m     detected \u001b[39m=\u001b[39m \u001b[39mself\u001b[39;49m\u001b[39m.\u001b[39;49mdetector\u001b[39m.\u001b[39;49mdetect_face(face_image, det_type\u001b[39m=\u001b[39;49m\u001b[39mself\u001b[39;49m\u001b[39m.\u001b[39;49mdet)\n\u001b[1;32m   1020\u001b[0m     \u001b[39mif\u001b[39;00m detected \u001b[39mis\u001b[39;00m \u001b[39mNone\u001b[39;00m:\n\u001b[1;32m   1021\u001b[0m         \u001b[39mreturn\u001b[39;00m \u001b[39mNone\u001b[39;00m\n",
      "File \u001b[0;32m~/PycharmProjects/sql-face/sql_face/serfiq.py:624\u001b[0m, in \u001b[0;36mMtcnnDetector.detect_face\u001b[0;34m(self, img, det_type)\u001b[0m\n\u001b[1;32m    621\u001b[0m         tmpim[dy[j]:edy[j]\u001b[39m+\u001b[39m\u001b[39m1\u001b[39m, dx[j]:edx[j]\u001b[39m+\u001b[39m\u001b[39m1\u001b[39m, :] \u001b[39m=\u001b[39m img[y[j]:ey[j]\u001b[39m+\u001b[39m\u001b[39m1\u001b[39m, x[j]:ex[j]\u001b[39m+\u001b[39m\u001b[39m1\u001b[39m, :]\n\u001b[1;32m    622\u001b[0m         input_buf[j, i\u001b[39m*\u001b[39m\u001b[39m3\u001b[39m:i\u001b[39m*\u001b[39m\u001b[39m3\u001b[39m\u001b[39m+\u001b[39m\u001b[39m3\u001b[39m, :, :] \u001b[39m=\u001b[39m adjust_input(cv2\u001b[39m.\u001b[39mresize(tmpim, (\u001b[39m24\u001b[39m, \u001b[39m24\u001b[39m)))\n\u001b[0;32m--> 624\u001b[0m output \u001b[39m=\u001b[39m \u001b[39mself\u001b[39;49m\u001b[39m.\u001b[39;49mLNet\u001b[39m.\u001b[39;49mpredict(input_buf)\n\u001b[1;32m    626\u001b[0m pointx \u001b[39m=\u001b[39m np\u001b[39m.\u001b[39mzeros((num_box, \u001b[39m5\u001b[39m))\n\u001b[1;32m    627\u001b[0m pointy \u001b[39m=\u001b[39m np\u001b[39m.\u001b[39mzeros((num_box, \u001b[39m5\u001b[39m))\n",
      "File \u001b[0;32m~/anaconda3/envs/sql-face-38/lib/python3.8/site-packages/mxnet/model.py:746\u001b[0m, in \u001b[0;36mFeedForward.predict\u001b[0;34m(self, X, num_batch, return_data, reset)\u001b[0m\n\u001b[1;32m    743\u001b[0m real_size \u001b[39m=\u001b[39m batch_size \u001b[39m-\u001b[39m padded\n\u001b[1;32m    745\u001b[0m \u001b[39mfor\u001b[39;00m o_list, o_nd \u001b[39min\u001b[39;00m \u001b[39mzip\u001b[39m(output_list, \u001b[39mself\u001b[39m\u001b[39m.\u001b[39m_pred_exec\u001b[39m.\u001b[39moutputs):\n\u001b[0;32m--> 746\u001b[0m     o_list\u001b[39m.\u001b[39mappend(o_nd[\u001b[39m0\u001b[39;49m:real_size]\u001b[39m.\u001b[39;49masnumpy())\n\u001b[1;32m    748\u001b[0m \u001b[39mif\u001b[39;00m return_data:\n\u001b[1;32m    749\u001b[0m     \u001b[39mfor\u001b[39;00m j, x \u001b[39min\u001b[39;00m \u001b[39menumerate\u001b[39m(batch\u001b[39m.\u001b[39mdata):\n",
      "File \u001b[0;32m~/anaconda3/envs/sql-face-38/lib/python3.8/site-packages/mxnet/ndarray/ndarray.py:2568\u001b[0m, in \u001b[0;36mNDArray.asnumpy\u001b[0;34m(self)\u001b[0m\n\u001b[1;32m   2551\u001b[0m \u001b[39m\"\"\"Returns a ``numpy.ndarray`` object with value copied from this array.\u001b[39;00m\n\u001b[1;32m   2552\u001b[0m \n\u001b[1;32m   2553\u001b[0m \u001b[39mExamples\u001b[39;00m\n\u001b[0;32m   (...)\u001b[0m\n\u001b[1;32m   2565\u001b[0m \u001b[39m       [1, 1, 1]], dtype=int32)\u001b[39;00m\n\u001b[1;32m   2566\u001b[0m \u001b[39m\"\"\"\u001b[39;00m\n\u001b[1;32m   2567\u001b[0m data \u001b[39m=\u001b[39m np\u001b[39m.\u001b[39mempty(\u001b[39mself\u001b[39m\u001b[39m.\u001b[39mshape, dtype\u001b[39m=\u001b[39m\u001b[39mself\u001b[39m\u001b[39m.\u001b[39mdtype)\n\u001b[0;32m-> 2568\u001b[0m check_call(_LIB\u001b[39m.\u001b[39;49mMXNDArraySyncCopyToCPU(\n\u001b[1;32m   2569\u001b[0m     \u001b[39mself\u001b[39;49m\u001b[39m.\u001b[39;49mhandle,\n\u001b[1;32m   2570\u001b[0m     data\u001b[39m.\u001b[39;49mctypes\u001b[39m.\u001b[39;49mdata_as(ctypes\u001b[39m.\u001b[39;49mc_void_p),\n\u001b[1;32m   2571\u001b[0m     ctypes\u001b[39m.\u001b[39;49mc_size_t(data\u001b[39m.\u001b[39;49msize)))\n\u001b[1;32m   2572\u001b[0m \u001b[39mreturn\u001b[39;00m data\n",
      "\u001b[0;31mKeyboardInterrupt\u001b[0m: "
     ]
    }
   ],
   "source": [
    "database.create_tables(serfiq=serfiq)"
   ]
  },
  {
   "cell_type": "code",
   "execution_count": 10,
   "metadata": {},
   "outputs": [
    {
     "name": "stderr",
     "output_type": "stream",
     "text": [
      "Update gender: 0it [00:00, ?it/s]\n",
      "Update gender: 0it [00:00, ?it/s]\n",
      "Update gender: 0it [00:00, ?it/s]\n",
      "Update gender: 0it [00:00, ?it/s]\n",
      "Update cropped images: 0it [00:00, ?it/s]\n",
      "Computing embeddings: 0it [00:00, ?it/s]\n",
      "Computing SER-FIQ quality:   0%|          | 0/15077 [00:00<?, ?it/s]\n"
     ]
    },
    {
     "ename": "AttributeError",
     "evalue": "'NoneType' object has no attribute 'copy'",
     "output_type": "error",
     "traceback": [
      "\u001b[0;31m---------------------------------------------------------------------------\u001b[0m",
      "\u001b[0;31mAttributeError\u001b[0m                            Traceback (most recent call last)",
      "\u001b[1;32m/home/andrea/PycharmProjects/sql-face/main.ipynb Cell 11\u001b[0m in \u001b[0;36m<cell line: 1>\u001b[0;34m()\u001b[0m\n\u001b[0;32m----> <a href='vscode-notebook-cell:/home/andrea/PycharmProjects/sql-face/main.ipynb#X13sZmlsZQ%3D%3D?line=0'>1</a>\u001b[0m database\u001b[39m.\u001b[39;49mupdate_tables(attributes_to_update, serfiq \u001b[39m=\u001b[39;49m serfiq)\n",
      "File \u001b[0;32m~/PycharmProjects/sql-face/sql_face/sqldb.py:67\u001b[0m, in \u001b[0;36mSQLDataBase.update_tables\u001b[0;34m(self, attributes_to_update, force_update, serfiq)\u001b[0m\n\u001b[1;32m     65\u001b[0m update_cropped_images(\u001b[39mself\u001b[39m\u001b[39m.\u001b[39msession, \u001b[39mself\u001b[39m\u001b[39m.\u001b[39minput_dir, force_update \u001b[39m=\u001b[39m force_update, serfiq \u001b[39m=\u001b[39m serfiq)\n\u001b[1;32m     66\u001b[0m update_face_images(\u001b[39mself\u001b[39m\u001b[39m.\u001b[39msession, \u001b[39mself\u001b[39m\u001b[39m.\u001b[39minput_dir, force_update \u001b[39m=\u001b[39m force_update)\n\u001b[0;32m---> 67\u001b[0m update_quality_images(\u001b[39mself\u001b[39;49m\u001b[39m.\u001b[39;49msession, \u001b[39mself\u001b[39;49m\u001b[39m.\u001b[39;49minput_dir, serfiq \u001b[39m=\u001b[39;49m serfiq, force_update \u001b[39m=\u001b[39;49m force_update)\n",
      "File \u001b[0;32m~/PycharmProjects/sql-face/sql_face/alchemy.py:348\u001b[0m, in \u001b[0;36mupdate_quality_images\u001b[0;34m(session, input_dir, serfiq, force_update)\u001b[0m\n\u001b[1;32m    346\u001b[0m \u001b[39mdef\u001b[39;00m \u001b[39mupdate_quality_images\u001b[39m(session, input_dir, serfiq\u001b[39m=\u001b[39m\u001b[39mNone\u001b[39;00m, force_update: \u001b[39mbool\u001b[39m \u001b[39m=\u001b[39m \u001b[39mFalse\u001b[39;00m):\n\u001b[0;32m--> 348\u001b[0m     update_ser_fiq(session, input_dir, serfiq \u001b[39m=\u001b[39;49m serfiq, force_update\u001b[39m=\u001b[39;49mforce_update)\n\u001b[1;32m    349\u001b[0m     update_tface(session, input_dir,  serfiq \u001b[39m=\u001b[39m serfiq, force_update\u001b[39m=\u001b[39mforce_update)\n",
      "File \u001b[0;32m~/PycharmProjects/sql-face/sql_face/alchemy.py:372\u001b[0m, in \u001b[0;36mupdate_ser_fiq\u001b[0;34m(session, input_dir, serfiq, force_update)\u001b[0m\n\u001b[1;32m    369\u001b[0m \u001b[39m# for row in tqdm(all_rows[:5], desc='TRIM Computing SER-FIQ quality'):\u001b[39;00m\n\u001b[1;32m    370\u001b[0m \u001b[39mfor\u001b[39;00m row \u001b[39min\u001b[39;00m tqdm(all_rows, desc\u001b[39m=\u001b[39m\u001b[39m'\u001b[39m\u001b[39mComputing SER-FIQ quality\u001b[39m\u001b[39m'\u001b[39m):             \n\u001b[0;32m--> 372\u001b[0m     aligned_img \u001b[39m=\u001b[39m row\u001b[39m.\u001b[39;49mCroppedImage\u001b[39m.\u001b[39;49mget_aligned_image(input_dir, ser_fiq\u001b[39m=\u001b[39;49mserfiq) \n\u001b[1;32m    373\u001b[0m     quality \u001b[39m=\u001b[39m serfiq\u001b[39m.\u001b[39mget_score(aligned_img, T\u001b[39m=\u001b[39m\u001b[39m100\u001b[39m)\n\u001b[1;32m    375\u001b[0m     row\u001b[39m.\u001b[39mQualityImage\u001b[39m.\u001b[39mquality \u001b[39m=\u001b[39m quality\n",
      "File \u001b[0;32m~/PycharmProjects/sql-face/sql_face/tables.py:374\u001b[0m, in \u001b[0;36mCroppedImage.get_aligned_image\u001b[0;34m(self, input_dir, target_size, ser_fiq)\u001b[0m\n\u001b[1;32m    372\u001b[0m \u001b[39melse\u001b[39;00m:\n\u001b[1;32m    373\u001b[0m     img_abs_path \u001b[39m=\u001b[39m os\u001b[39m.\u001b[39mpath\u001b[39m.\u001b[39mjoin(input_dir, \u001b[39mself\u001b[39m\u001b[39m.\u001b[39mimages\u001b[39m.\u001b[39mpath)\n\u001b[0;32m--> 374\u001b[0m     aligned_img \u001b[39m=\u001b[39m DeepFace\u001b[39m.\u001b[39;49mdetectFace(img_path \u001b[39m=\u001b[39;49m img_abs_path, \n\u001b[1;32m    375\u001b[0m     target_size \u001b[39m=\u001b[39;49m target_size, \n\u001b[1;32m    376\u001b[0m     detector_backend \u001b[39m=\u001b[39;49m \u001b[39mself\u001b[39;49m\u001b[39m.\u001b[39;49mdetectors\u001b[39m.\u001b[39;49mname, \n\u001b[1;32m    377\u001b[0m     align\u001b[39m=\u001b[39;49m\u001b[39mTrue\u001b[39;49;00m,\n\u001b[1;32m    378\u001b[0m     enforce_detection\u001b[39m=\u001b[39;49m\u001b[39mTrue\u001b[39;49;00m)\n\u001b[1;32m    379\u001b[0m     \u001b[39mreturn\u001b[39;00m aligned_img\u001b[39m*\u001b[39m\u001b[39m255\u001b[39m\n",
      "File \u001b[0;32m~/anaconda3/envs/sql-face-38/lib/python3.8/site-packages/deepface/DeepFace.py:819\u001b[0m, in \u001b[0;36mdetectFace\u001b[0;34m(img_path, target_size, detector_backend, enforce_detection, align)\u001b[0m\n\u001b[1;32m    805\u001b[0m \u001b[39mdef\u001b[39;00m \u001b[39mdetectFace\u001b[39m(img_path, target_size \u001b[39m=\u001b[39m (\u001b[39m224\u001b[39m, \u001b[39m224\u001b[39m), detector_backend \u001b[39m=\u001b[39m \u001b[39m'\u001b[39m\u001b[39mopencv\u001b[39m\u001b[39m'\u001b[39m, enforce_detection \u001b[39m=\u001b[39m \u001b[39mTrue\u001b[39;00m, align \u001b[39m=\u001b[39m \u001b[39mTrue\u001b[39;00m):\n\u001b[1;32m    807\u001b[0m \t\u001b[39m\"\"\"\u001b[39;00m\n\u001b[1;32m    808\u001b[0m \u001b[39m\tThis function applies pre-processing stages of a face recognition pipeline including detection and alignment\u001b[39;00m\n\u001b[1;32m    809\u001b[0m \n\u001b[0;32m   (...)\u001b[0m\n\u001b[1;32m    816\u001b[0m \u001b[39m\t\tdeteced and aligned face in numpy format\u001b[39;00m\n\u001b[1;32m    817\u001b[0m \u001b[39m\t\"\"\"\u001b[39;00m\n\u001b[0;32m--> 819\u001b[0m \timg \u001b[39m=\u001b[39m functions\u001b[39m.\u001b[39;49mpreprocess_face(img \u001b[39m=\u001b[39;49m img_path, target_size \u001b[39m=\u001b[39;49m target_size, detector_backend \u001b[39m=\u001b[39;49m detector_backend\n\u001b[1;32m    820\u001b[0m \t\t, enforce_detection \u001b[39m=\u001b[39;49m enforce_detection, align \u001b[39m=\u001b[39;49m align)[\u001b[39m0\u001b[39m] \u001b[39m#preprocess_face returns (1, 224, 224, 3)\u001b[39;00m\n\u001b[1;32m    821\u001b[0m \t\u001b[39mreturn\u001b[39;00m img[:, :, ::\u001b[39m-\u001b[39m\u001b[39m1\u001b[39m]\n",
      "File \u001b[0;32m~/anaconda3/envs/sql-face-38/lib/python3.8/site-packages/deepface/commons/functions.py:176\u001b[0m, in \u001b[0;36mpreprocess_face\u001b[0;34m(img, target_size, grayscale, enforce_detection, detector_backend, return_region, align)\u001b[0m\n\u001b[1;32m    172\u001b[0m \u001b[39mdef\u001b[39;00m \u001b[39mpreprocess_face\u001b[39m(img, target_size\u001b[39m=\u001b[39m(\u001b[39m224\u001b[39m, \u001b[39m224\u001b[39m), grayscale \u001b[39m=\u001b[39m \u001b[39mFalse\u001b[39;00m, enforce_detection \u001b[39m=\u001b[39m \u001b[39mTrue\u001b[39;00m, detector_backend \u001b[39m=\u001b[39m \u001b[39m'\u001b[39m\u001b[39mopencv\u001b[39m\u001b[39m'\u001b[39m, return_region \u001b[39m=\u001b[39m \u001b[39mFalse\u001b[39;00m, align \u001b[39m=\u001b[39m \u001b[39mTrue\u001b[39;00m):\n\u001b[1;32m    173\u001b[0m \n\u001b[1;32m    174\u001b[0m \t\u001b[39m#img might be path, base64 or numpy array. Convert it to numpy whatever it is.\u001b[39;00m\n\u001b[1;32m    175\u001b[0m \timg \u001b[39m=\u001b[39m load_image(img)\n\u001b[0;32m--> 176\u001b[0m \tbase_img \u001b[39m=\u001b[39m img\u001b[39m.\u001b[39;49mcopy()\n\u001b[1;32m    178\u001b[0m \timg, region \u001b[39m=\u001b[39m detect_face(img \u001b[39m=\u001b[39m img, detector_backend \u001b[39m=\u001b[39m detector_backend, grayscale \u001b[39m=\u001b[39m grayscale, enforce_detection \u001b[39m=\u001b[39m enforce_detection, align \u001b[39m=\u001b[39m align)\n\u001b[1;32m    180\u001b[0m \t\u001b[39m#--------------------------\u001b[39;00m\n",
      "\u001b[0;31mAttributeError\u001b[0m: 'NoneType' object has no attribute 'copy'"
     ]
    }
   ],
   "source": [
    "database.update_tables(attributes_to_update, serfiq = serfiq)"
   ]
  }
 ],
 "metadata": {
  "kernelspec": {
   "display_name": "sql-face-38",
   "language": "python",
   "name": "python3"
  },
  "language_info": {
   "codemirror_mode": {
    "name": "ipython",
    "version": 3
   },
   "file_extension": ".py",
   "mimetype": "text/x-python",
   "name": "python",
   "nbconvert_exporter": "python",
   "pygments_lexer": "ipython3",
   "version": "3.8.13"
  },
  "orig_nbformat": 4,
  "vscode": {
   "interpreter": {
    "hash": "cbd09101bb4a110925f15e78ee9b1ee00e6704cd500fee0375fe04d94652967f"
   }
  }
 },
 "nbformat": 4,
 "nbformat_minor": 2
}
