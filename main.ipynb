{
 "cells": [
  {
   "cell_type": "markdown",
   "metadata": {},
   "source": [
    "# Parameter definition\n",
    "Choose all the settings for the database creation."
   ]
  },
  {
   "cell_type": "code",
   "execution_count": 8,
   "metadata": {},
   "outputs": [],
   "source": [
    "#TODO: Change absolute to relative paths for input and output dir.\n",
    "import os\n",
    "\n",
    "home = os.path.expanduser(\"~\")\n",
    "\n",
    "db_name= 'test_video_dataset' #'colab_main_dataset'\n",
    "# input_dir = os.path.join(home,'image_datasets')\n",
    "# output_dir = os.path.join(home,'sql_database')\n",
    "input_dir = os.path.join(home,'Desktop', 'image_datasets')\n",
    "output_dir = os.path.join(home,'Desktop','sql_database')\n",
    "database_names=['lfw'] # , 'scface', 'forenface', 'enfsi', 'enfsi2015'\n",
    "detector_names=['mtcnn', 'mtcnn_serfiq'] # 'dlib', 'mtcnn', 'mtcnn_serfiq'\n",
    "embedding_model_names=[\"ArcFace\"] # , \"Dlib\", \"ArcFace\",\n",
    "attributes_to_update=['gender']  # 'gender', 'age', 'emotion', 'race'\n",
    "quality_model_names = ['tface'] # 'confusion_score', 'ser_fiq',\n",
    "save_in_drive = False # To work in google colab\n",
    "\n"
   ]
  },
  {
   "cell_type": "markdown",
   "metadata": {},
   "source": [
    "## SERFIQ model\n",
    "\n",
    "Create SERFIQ model."
   ]
  },
  {
   "cell_type": "code",
   "execution_count": 9,
   "metadata": {},
   "outputs": [
    {
     "name": "stderr",
     "output_type": "stream",
     "text": [
      "[18:49:13] ../src/nnvm/legacy_json_util.cc:208: Loading symbol saved by previous version v1.8.0. Attempting to upgrade...\n",
      "[18:49:13] ../src/nnvm/legacy_json_util.cc:216: Symbol successfully upgraded!\n",
      "[18:49:13] ../src/nnvm/legacy_json_util.cc:208: Loading symbol saved by previous version v0.8.0. Attempting to upgrade...\n",
      "[18:49:13] ../src/nnvm/legacy_json_util.cc:216: Symbol successfully upgraded!\n",
      "[18:49:13] ../src/nnvm/legacy_json_util.cc:208: Loading symbol saved by previous version v0.8.0. Attempting to upgrade...\n",
      "[18:49:13] ../src/nnvm/legacy_json_util.cc:216: Symbol successfully upgraded!\n",
      "[18:49:13] ../src/nnvm/legacy_json_util.cc:208: Loading symbol saved by previous version v0.8.0. Attempting to upgrade...\n",
      "[18:49:13] ../src/nnvm/legacy_json_util.cc:216: Symbol successfully upgraded!\n",
      "[18:49:13] ../src/nnvm/legacy_json_util.cc:208: Loading symbol saved by previous version v0.8.0. Attempting to upgrade...\n",
      "[18:49:13] ../src/nnvm/legacy_json_util.cc:216: Symbol successfully upgraded!\n"
     ]
    }
   ],
   "source": [
    "from sql_face.serfiq import get_serfiq_model\n",
    "serfiq = get_serfiq_model()"
   ]
  },
  {
   "cell_type": "markdown",
   "metadata": {},
   "source": [
    "# Database creation"
   ]
  },
  {
   "cell_type": "markdown",
   "metadata": {},
   "source": [
    "database = SQLDataBase(db_name=db_name,\n",
    "                        database_names=database_names, # , 'scface', 'forenface', 'enfsi', 'enfsi2015'\n",
    "                        detector_names=detector_names,\n",
    "                        embedding_model_names=embedding_model_names,\n",
    "                        quality_model_names=quality_model_names,\n",
    "                        save_in_drive=save_in_drive                        \n",
    "                        )\n",
    "\n",
    "database.fill_db()\n",
    "database.update_db(attributes_to_update=attributes_to_update, force_update=False)"
   ]
  },
  {
   "cell_type": "code",
   "execution_count": 10,
   "metadata": {},
   "outputs": [],
   "source": [
    "from sql_face.sqldb import SQLDataBase"
   ]
  },
  {
   "cell_type": "code",
   "execution_count": 11,
   "metadata": {},
   "outputs": [],
   "source": [
    "database = SQLDataBase(db_name=db_name,\n",
    "                        input_dir = input_dir,\n",
    "                        output_dir_name = output_dir,\n",
    "                        database_names = database_names,\n",
    "                        detector_names = detector_names,\n",
    "                        embedding_model_names = embedding_model_names,\n",
    "                        quality_model_names = quality_model_names)"
   ]
  },
  {
   "cell_type": "code",
   "execution_count": 12,
   "metadata": {},
   "outputs": [
    {
     "data": {
      "text/plain": [
       "{'db_name': 'test_video_dataset',\n",
       " 'input_dir': '/home/andrea/Desktop/image_datasets',\n",
       " 'save_in_drive': False,\n",
       " 'output_dir': '/home/andrea/Desktop/sql_database',\n",
       " 'session': <sqlalchemy.orm.session.Session at 0x7f4f7c024890>,\n",
       " 'databases': [<sql_face.databases.LFW at 0x7f4f7c024350>],\n",
       " 'detector_names': ['mtcnn', 'mtcnn_serfiq'],\n",
       " 'embedding_model_names': ['ArcFace'],\n",
       " 'quality_model_names': ['tface']}"
      ]
     },
     "execution_count": 12,
     "metadata": {},
     "output_type": "execute_result"
    }
   ],
   "source": [
    "database.__dict__"
   ]
  },
  {
   "cell_type": "code",
   "execution_count": 13,
   "metadata": {},
   "outputs": [
    {
     "name": "stderr",
     "output_type": "stream",
     "text": [
      "Creating image record from LFW: 0it [00:00, ?it/s]\n",
      "TRIM Creating Cropped Images for detector mtcnn:   0%|          | 0/5 [00:00<?, ?it/s]"
     ]
    },
    {
     "name": "stdout",
     "output_type": "stream",
     "text": [
      "1/1 [==============================] - 0s 96ms/step\n",
      "1/1 [==============================] - 0s 25ms/step\n",
      "1/1 [==============================] - 0s 26ms/step\n",
      "1/1 [==============================] - 0s 34ms/step\n",
      "1/1 [==============================] - 0s 25ms/step\n",
      "1/1 [==============================] - 0s 27ms/step\n",
      "1/1 [==============================] - 0s 23ms/step\n",
      "1/1 [==============================] - 0s 23ms/step\n",
      "2/2 [==============================] - 0s 99ms/step\n",
      "1/1 [==============================] - 0s 129ms/step\n"
     ]
    },
    {
     "name": "stderr",
     "output_type": "stream",
     "text": [
      "TRIM Creating Cropped Images for detector mtcnn:  20%|██        | 1/5 [00:01<00:05,  1.35s/it]"
     ]
    },
    {
     "name": "stdout",
     "output_type": "stream",
     "text": [
      "1/1 [==============================] - 0s 21ms/step\n",
      "1/1 [==============================] - 0s 22ms/step\n",
      "1/1 [==============================] - 0s 26ms/step\n",
      "1/1 [==============================] - 0s 26ms/step\n",
      "1/1 [==============================] - 0s 23ms/step\n",
      "1/1 [==============================] - 0s 21ms/step\n",
      "1/1 [==============================] - 0s 23ms/step\n",
      "1/1 [==============================] - 0s 24ms/step\n",
      "2/2 [==============================] - 0s 70ms/step\n",
      "1/1 [==============================] - 0s 20ms/step\n"
     ]
    },
    {
     "name": "stderr",
     "output_type": "stream",
     "text": [
      "TRIM Creating Cropped Images for detector mtcnn:  40%|████      | 2/5 [00:02<00:03,  1.12s/it]"
     ]
    },
    {
     "name": "stdout",
     "output_type": "stream",
     "text": [
      "1/1 [==============================] - 0s 21ms/step\n",
      "1/1 [==============================] - 0s 23ms/step\n",
      "1/1 [==============================] - 0s 22ms/step\n",
      "1/1 [==============================] - 0s 23ms/step\n",
      "1/1 [==============================] - 0s 24ms/step\n",
      "1/1 [==============================] - 0s 23ms/step\n",
      "1/1 [==============================] - 0s 21ms/step\n",
      "1/1 [==============================] - 0s 21ms/step\n",
      "3/3 [==============================] - 0s 3ms/step\n",
      "1/1 [==============================] - 0s 144ms/step\n"
     ]
    },
    {
     "name": "stderr",
     "output_type": "stream",
     "text": [
      "TRIM Creating Cropped Images for detector mtcnn:  60%|██████    | 3/5 [00:03<00:02,  1.06s/it]"
     ]
    },
    {
     "name": "stdout",
     "output_type": "stream",
     "text": [
      "1/1 [==============================] - 0s 22ms/step\n",
      "1/1 [==============================] - 0s 25ms/step\n",
      "1/1 [==============================] - 0s 25ms/step\n",
      "1/1 [==============================] - 0s 25ms/step\n",
      "1/1 [==============================] - 0s 22ms/step\n",
      "1/1 [==============================] - 0s 20ms/step\n",
      "1/1 [==============================] - 0s 22ms/step\n",
      "1/1 [==============================] - 0s 21ms/step\n",
      "1/1 [==============================] - 0s 20ms/step\n",
      "1/1 [==============================] - 0s 31ms/step\n"
     ]
    },
    {
     "name": "stderr",
     "output_type": "stream",
     "text": [
      "TRIM Creating Cropped Images for detector mtcnn:  80%|████████  | 4/5 [00:04<00:00,  1.02it/s]"
     ]
    },
    {
     "name": "stdout",
     "output_type": "stream",
     "text": [
      "1/1 [==============================] - 0s 19ms/step\n",
      "1/1 [==============================] - 0s 24ms/step\n",
      "1/1 [==============================] - 0s 21ms/step\n",
      "1/1 [==============================] - 0s 22ms/step\n",
      "1/1 [==============================] - 0s 21ms/step\n",
      "1/1 [==============================] - 0s 20ms/step\n",
      "1/1 [==============================] - 0s 20ms/step\n",
      "1/1 [==============================] - 0s 21ms/step\n",
      "1/1 [==============================] - 0s 20ms/step\n",
      "1/1 [==============================] - 0s 22ms/step\n"
     ]
    },
    {
     "name": "stderr",
     "output_type": "stream",
     "text": [
      "TRIM Creating Cropped Images for detector mtcnn: 100%|██████████| 5/5 [00:04<00:00,  1.00it/s]\n",
      "TRIM Creating Cropped Images for detector mtcnn_serfiq:   0%|          | 0/5 [00:00<?, ?it/s][18:49:21] ../src/executor/graph_executor.cc:1991: Subgraph backend MKLDNN is activated.\n",
      "[18:49:21] ../src/executor/graph_executor.cc:1991: Subgraph backend MKLDNN is activated.\n",
      "[18:49:21] ../src/executor/graph_executor.cc:1991: Subgraph backend MKLDNN is activated.\n",
      "[18:49:21] ../src/executor/graph_executor.cc:1991: Subgraph backend MKLDNN is activated.\n",
      "[18:49:21] ../src/executor/graph_executor.cc:1991: Subgraph backend MKLDNN is activated.\n",
      "[18:49:21] ../src/executor/graph_executor.cc:1991: Subgraph backend MKLDNN is activated.\n",
      "[18:49:21] ../src/executor/graph_executor.cc:1991: Subgraph backend MKLDNN is activated.\n",
      "[18:49:21] ../src/executor/graph_executor.cc:1991: Subgraph backend MKLDNN is activated.\n",
      "[18:49:21] ../src/executor/graph_executor.cc:1991: Subgraph backend MKLDNN is activated.\n",
      "[18:49:21] ../src/executor/graph_executor.cc:1991: Subgraph backend MKLDNN is activated.\n",
      "[18:49:21] ../src/executor/graph_executor.cc:1991: Subgraph backend MKLDNN is activated.\n",
      "[18:49:21] ../src/executor/graph_executor.cc:1991: Subgraph backend MKLDNN is activated.\n",
      "[18:49:21] ../src/executor/graph_executor.cc:1991: Subgraph backend MKLDNN is activated.\n",
      "[18:49:21] ../src/executor/graph_executor.cc:1991: Subgraph backend MKLDNN is activated.\n",
      "[18:49:21] ../src/executor/graph_executor.cc:1991: Subgraph backend MKLDNN is activated.\n",
      "[18:49:21] ../src/executor/graph_executor.cc:1991: Subgraph backend MKLDNN is activated.\n",
      "[18:49:21] ../src/executor/graph_executor.cc:1991: Subgraph backend MKLDNN is activated.\n",
      "[18:49:22] ../src/executor/graph_executor.cc:1991: Subgraph backend MKLDNN is activated.\n",
      "[18:49:22] ../src/executor/graph_executor.cc:1991: Subgraph backend MKLDNN is activated.\n",
      "TRIM Creating Cropped Images for detector mtcnn_serfiq:  20%|██        | 1/5 [00:00<00:01,  2.19it/s][18:49:22] ../src/executor/graph_executor.cc:1991: Subgraph backend MKLDNN is activated.\n",
      "[18:49:22] ../src/executor/graph_executor.cc:1991: Subgraph backend MKLDNN is activated.\n",
      "[18:49:22] ../src/executor/graph_executor.cc:1991: Subgraph backend MKLDNN is activated.\n",
      "[18:49:22] ../src/executor/graph_executor.cc:1991: Subgraph backend MKLDNN is activated.\n",
      "[18:49:22] ../src/executor/graph_executor.cc:1991: Subgraph backend MKLDNN is activated.\n",
      "[18:49:22] ../src/executor/graph_executor.cc:1991: Subgraph backend MKLDNN is activated.\n",
      "[18:49:22] ../src/executor/graph_executor.cc:1991: Subgraph backend MKLDNN is activated.\n",
      "[18:49:22] ../src/executor/graph_executor.cc:1991: Subgraph backend MKLDNN is activated.\n",
      "[18:49:22] ../src/executor/graph_executor.cc:1991: Subgraph backend MKLDNN is activated.\n",
      "[18:49:22] ../src/executor/graph_executor.cc:1991: Subgraph backend MKLDNN is activated.\n",
      "[18:49:22] ../src/executor/graph_executor.cc:1991: Subgraph backend MKLDNN is activated.\n",
      "[18:49:22] ../src/executor/graph_executor.cc:1991: Subgraph backend MKLDNN is activated.\n",
      "[18:49:22] ../src/executor/graph_executor.cc:1991: Subgraph backend MKLDNN is activated.\n",
      "[18:49:22] ../src/executor/graph_executor.cc:1991: Subgraph backend MKLDNN is activated.\n",
      "[18:49:22] ../src/executor/graph_executor.cc:1991: Subgraph backend MKLDNN is activated.\n",
      "[18:49:22] ../src/executor/graph_executor.cc:1991: Subgraph backend MKLDNN is activated.\n",
      "[18:49:22] ../src/executor/graph_executor.cc:1991: Subgraph backend MKLDNN is activated.\n",
      "TRIM Creating Cropped Images for detector mtcnn_serfiq:  40%|████      | 2/5 [00:00<00:01,  2.66it/s][18:49:22] ../src/executor/graph_executor.cc:1991: Subgraph backend MKLDNN is activated.\n",
      "[18:49:22] ../src/executor/graph_executor.cc:1991: Subgraph backend MKLDNN is activated.\n",
      "[18:49:22] ../src/executor/graph_executor.cc:1991: Subgraph backend MKLDNN is activated.\n",
      "[18:49:22] ../src/executor/graph_executor.cc:1991: Subgraph backend MKLDNN is activated.\n",
      "[18:49:22] ../src/executor/graph_executor.cc:1991: Subgraph backend MKLDNN is activated.\n",
      "[18:49:22] ../src/executor/graph_executor.cc:1991: Subgraph backend MKLDNN is activated.\n",
      "[18:49:22] ../src/executor/graph_executor.cc:1991: Subgraph backend MKLDNN is activated.\n",
      "[18:49:22] ../src/executor/graph_executor.cc:1991: Subgraph backend MKLDNN is activated.\n",
      "[18:49:22] ../src/executor/graph_executor.cc:1991: Subgraph backend MKLDNN is activated.\n",
      "[18:49:22] ../src/executor/graph_executor.cc:1991: Subgraph backend MKLDNN is activated.\n",
      "[18:49:22] ../src/executor/graph_executor.cc:1991: Subgraph backend MKLDNN is activated.\n",
      "[18:49:22] ../src/executor/graph_executor.cc:1991: Subgraph backend MKLDNN is activated.\n",
      "[18:49:22] ../src/executor/graph_executor.cc:1991: Subgraph backend MKLDNN is activated.\n",
      "[18:49:22] ../src/executor/graph_executor.cc:1991: Subgraph backend MKLDNN is activated.\n",
      "[18:49:22] ../src/executor/graph_executor.cc:1991: Subgraph backend MKLDNN is activated.\n",
      "[18:49:22] ../src/executor/graph_executor.cc:1991: Subgraph backend MKLDNN is activated.\n",
      "[18:49:22] ../src/executor/graph_executor.cc:1991: Subgraph backend MKLDNN is activated.\n",
      "[18:49:22] ../src/executor/graph_executor.cc:1991: Subgraph backend MKLDNN is activated.\n",
      "TRIM Creating Cropped Images for detector mtcnn_serfiq:  60%|██████    | 3/5 [00:01<00:00,  2.82it/s][18:49:22] ../src/executor/graph_executor.cc:1991: Subgraph backend MKLDNN is activated.\n",
      "[18:49:22] ../src/executor/graph_executor.cc:1991: Subgraph backend MKLDNN is activated.\n",
      "[18:49:22] ../src/executor/graph_executor.cc:1991: Subgraph backend MKLDNN is activated.\n",
      "[18:49:22] ../src/executor/graph_executor.cc:1991: Subgraph backend MKLDNN is activated.\n",
      "[18:49:22] ../src/executor/graph_executor.cc:1991: Subgraph backend MKLDNN is activated.\n",
      "[18:49:22] ../src/executor/graph_executor.cc:1991: Subgraph backend MKLDNN is activated.\n",
      "[18:49:22] ../src/executor/graph_executor.cc:1991: Subgraph backend MKLDNN is activated.\n",
      "[18:49:22] ../src/executor/graph_executor.cc:1991: Subgraph backend MKLDNN is activated.\n",
      "[18:49:22] ../src/executor/graph_executor.cc:1991: Subgraph backend MKLDNN is activated.\n",
      "[18:49:22] ../src/executor/graph_executor.cc:1991: Subgraph backend MKLDNN is activated.\n",
      "[18:49:23] ../src/executor/graph_executor.cc:1991: Subgraph backend MKLDNN is activated.\n",
      "[18:49:23] ../src/executor/graph_executor.cc:1991: Subgraph backend MKLDNN is activated.\n",
      "[18:49:23] ../src/executor/graph_executor.cc:1991: Subgraph backend MKLDNN is activated.\n",
      "[18:49:23] ../src/executor/graph_executor.cc:1991: Subgraph backend MKLDNN is activated.\n",
      "[18:49:23] ../src/executor/graph_executor.cc:1991: Subgraph backend MKLDNN is activated.\n",
      "[18:49:23] ../src/executor/graph_executor.cc:1991: Subgraph backend MKLDNN is activated.\n",
      "[18:49:23] ../src/executor/graph_executor.cc:1991: Subgraph backend MKLDNN is activated.\n",
      "[18:49:23] ../src/executor/graph_executor.cc:1991: Subgraph backend MKLDNN is activated.\n",
      "TRIM Creating Cropped Images for detector mtcnn_serfiq:  80%|████████  | 4/5 [00:01<00:00,  2.79it/s][18:49:23] ../src/executor/graph_executor.cc:1991: Subgraph backend MKLDNN is activated.\n",
      "[18:49:23] ../src/executor/graph_executor.cc:1991: Subgraph backend MKLDNN is activated.\n",
      "[18:49:23] ../src/executor/graph_executor.cc:1991: Subgraph backend MKLDNN is activated.\n",
      "[18:49:23] ../src/executor/graph_executor.cc:1991: Subgraph backend MKLDNN is activated.\n",
      "[18:49:23] ../src/executor/graph_executor.cc:1991: Subgraph backend MKLDNN is activated.\n",
      "[18:49:23] ../src/executor/graph_executor.cc:1991: Subgraph backend MKLDNN is activated.\n",
      "[18:49:23] ../src/executor/graph_executor.cc:1991: Subgraph backend MKLDNN is activated.\n",
      "[18:49:23] ../src/executor/graph_executor.cc:1991: Subgraph backend MKLDNN is activated.\n",
      "[18:49:23] ../src/executor/graph_executor.cc:1991: Subgraph backend MKLDNN is activated.\n",
      "[18:49:23] ../src/executor/graph_executor.cc:1991: Subgraph backend MKLDNN is activated.\n",
      "[18:49:23] ../src/executor/graph_executor.cc:1991: Subgraph backend MKLDNN is activated.\n",
      "[18:49:23] ../src/executor/graph_executor.cc:1991: Subgraph backend MKLDNN is activated.\n",
      "[18:49:23] ../src/executor/graph_executor.cc:1991: Subgraph backend MKLDNN is activated.\n",
      "[18:49:23] ../src/executor/graph_executor.cc:1991: Subgraph backend MKLDNN is activated.\n",
      "[18:49:23] ../src/executor/graph_executor.cc:1991: Subgraph backend MKLDNN is activated.\n",
      "[18:49:23] ../src/executor/graph_executor.cc:1991: Subgraph backend MKLDNN is activated.\n",
      "[18:49:23] ../src/executor/graph_executor.cc:1991: Subgraph backend MKLDNN is activated.\n",
      "[18:49:23] ../src/executor/graph_executor.cc:1991: Subgraph backend MKLDNN is activated.\n",
      "TRIM Creating Cropped Images for detector mtcnn_serfiq: 100%|██████████| 5/5 [00:01<00:00,  2.72it/s]\n",
      "Face images in ArcFace: 100%|██████████| 10/10 [00:00<00:00, 172.93it/s]\n",
      "Embedding models: 100%|██████████| 1/1 [00:00<00:00, 12.92it/s]\n",
      "Quality images in ser-fiq: 100%|██████████| 10/10 [00:00<00:00, 158.08it/s]\n",
      "Quality images in ser_fiq: 100%|██████████| 10/10 [00:00<00:00, 182.45it/s]\n",
      "Quality images in tface: 100%|██████████| 10/10 [00:00<00:00, 151.35it/s]\n",
      "Quality models: 100%|██████████| 3/3 [00:00<00:00, 14.29it/s]\n"
     ]
    }
   ],
   "source": [
    "database.create_tables(serfiq=serfiq)"
   ]
  },
  {
   "cell_type": "code",
   "execution_count": 14,
   "metadata": {},
   "outputs": [
    {
     "name": "stderr",
     "output_type": "stream",
     "text": [
      "Update cropped images: 0it [00:00, ?it/s]\n",
      "Computing embeddings:   0%|          | 0/5 [00:00<?, ?it/s]"
     ]
    },
    {
     "name": "stdout",
     "output_type": "stream",
     "text": [
      "1/1 [==============================] - 0s 20ms/step\n",
      "1/1 [==============================] - 0s 18ms/step\n",
      "1/1 [==============================] - 0s 18ms/step\n",
      "1/1 [==============================] - 0s 17ms/step\n",
      "1/1 [==============================] - 0s 17ms/step\n",
      "1/1 [==============================] - 0s 16ms/step\n",
      "1/1 [==============================] - 0s 18ms/step\n",
      "1/1 [==============================] - 0s 17ms/step\n",
      "2/2 [==============================] - 0s 3ms/step\n",
      "1/1 [==============================] - 0s 17ms/step\n",
      "1/1 [==============================] - 0s 65ms/step\n"
     ]
    },
    {
     "name": "stderr",
     "output_type": "stream",
     "text": [
      "Computing embeddings:  20%|██        | 1/5 [00:00<00:02,  1.40it/s]"
     ]
    },
    {
     "name": "stdout",
     "output_type": "stream",
     "text": [
      "1/1 [==============================] - 0s 19ms/step\n",
      "1/1 [==============================] - 0s 18ms/step\n",
      "1/1 [==============================] - 0s 17ms/step\n",
      "1/1 [==============================] - 0s 16ms/step\n",
      "1/1 [==============================] - 0s 17ms/step\n",
      "1/1 [==============================] - 0s 19ms/step\n",
      "1/1 [==============================] - 0s 18ms/step\n",
      "1/1 [==============================] - 0s 18ms/step\n",
      "2/2 [==============================] - 0s 3ms/step\n",
      "1/1 [==============================] - 0s 18ms/step\n",
      "1/1 [==============================] - 0s 22ms/step\n"
     ]
    },
    {
     "name": "stderr",
     "output_type": "stream",
     "text": [
      "Computing embeddings:  40%|████      | 2/5 [00:01<00:02,  1.38it/s]"
     ]
    },
    {
     "name": "stdout",
     "output_type": "stream",
     "text": [
      "1/1 [==============================] - 0s 18ms/step\n",
      "1/1 [==============================] - 0s 18ms/step\n",
      "1/1 [==============================] - 0s 16ms/step\n",
      "1/1 [==============================] - 0s 16ms/step\n",
      "1/1 [==============================] - 0s 19ms/step\n",
      "1/1 [==============================] - 0s 19ms/step\n",
      "1/1 [==============================] - 0s 18ms/step\n",
      "1/1 [==============================] - 0s 18ms/step\n",
      "3/3 [==============================] - 0s 3ms/step\n",
      "1/1 [==============================] - 0s 18ms/step\n",
      "1/1 [==============================] - 0s 22ms/step\n"
     ]
    },
    {
     "name": "stderr",
     "output_type": "stream",
     "text": [
      "Computing embeddings:  60%|██████    | 3/5 [00:02<00:01,  1.39it/s]"
     ]
    },
    {
     "name": "stdout",
     "output_type": "stream",
     "text": [
      "1/1 [==============================] - 0s 18ms/step\n",
      "1/1 [==============================] - 0s 19ms/step\n",
      "1/1 [==============================] - 0s 19ms/step\n",
      "1/1 [==============================] - 0s 17ms/step\n",
      "1/1 [==============================] - 0s 18ms/step\n",
      "1/1 [==============================] - 0s 18ms/step\n",
      "1/1 [==============================] - 0s 18ms/step\n",
      "1/1 [==============================] - 0s 18ms/step\n",
      "1/1 [==============================] - 0s 18ms/step\n",
      "1/1 [==============================] - 0s 18ms/step\n",
      "1/1 [==============================] - 0s 26ms/step\n"
     ]
    },
    {
     "name": "stderr",
     "output_type": "stream",
     "text": [
      "Computing embeddings:  80%|████████  | 4/5 [00:02<00:00,  1.41it/s]"
     ]
    },
    {
     "name": "stdout",
     "output_type": "stream",
     "text": [
      "1/1 [==============================] - 0s 20ms/step\n",
      "1/1 [==============================] - 0s 23ms/step\n",
      "1/1 [==============================] - 0s 24ms/step\n",
      "1/1 [==============================] - 0s 20ms/step\n",
      "1/1 [==============================] - 0s 21ms/step\n",
      "1/1 [==============================] - 0s 24ms/step\n",
      "1/1 [==============================] - 0s 26ms/step\n",
      "1/1 [==============================] - 0s 25ms/step\n",
      "1/1 [==============================] - 0s 23ms/step\n",
      "1/1 [==============================] - 0s 19ms/step\n",
      "1/1 [==============================] - 0s 24ms/step\n"
     ]
    },
    {
     "name": "stderr",
     "output_type": "stream",
     "text": [
      "Computing embeddings: 100%|██████████| 5/5 [00:03<00:00,  1.35it/s]\n",
      "TRIM: Computing TFace quality:   0%|          | 0/5 [00:00<?, ?it/s]"
     ]
    },
    {
     "name": "stdout",
     "output_type": "stream",
     "text": [
      "1/1 [==============================] - 0s 18ms/step\n",
      "1/1 [==============================] - 0s 22ms/step\n",
      "1/1 [==============================] - 0s 22ms/step\n",
      "1/1 [==============================] - 0s 19ms/step\n",
      "1/1 [==============================] - 0s 18ms/step\n",
      "1/1 [==============================] - 0s 18ms/step\n",
      "1/1 [==============================] - 0s 28ms/step\n",
      "1/1 [==============================] - 0s 29ms/step\n",
      "2/2 [==============================] - 0s 84ms/step\n",
      "1/1 [==============================] - 0s 26ms/step\n"
     ]
    },
    {
     "name": "stderr",
     "output_type": "stream",
     "text": [
      "TRIM: Computing TFace quality:  20%|██        | 1/5 [00:01<00:04,  1.13s/it]"
     ]
    },
    {
     "name": "stdout",
     "output_type": "stream",
     "text": [
      "1/1 [==============================] - 0s 28ms/step\n",
      "1/1 [==============================] - 0s 19ms/step\n",
      "1/1 [==============================] - 0s 21ms/step\n",
      "1/1 [==============================] - 0s 25ms/step\n",
      "1/1 [==============================] - 0s 20ms/step\n",
      "1/1 [==============================] - 0s 21ms/step\n",
      "1/1 [==============================] - 0s 21ms/step\n",
      "1/1 [==============================] - 0s 24ms/step\n",
      "2/2 [==============================] - 0s 84ms/step\n",
      "1/1 [==============================] - 0s 18ms/step\n"
     ]
    },
    {
     "name": "stderr",
     "output_type": "stream",
     "text": [
      "TRIM: Computing TFace quality:  40%|████      | 2/5 [00:02<00:03,  1.12s/it]"
     ]
    },
    {
     "name": "stdout",
     "output_type": "stream",
     "text": [
      "1/1 [==============================] - 0s 23ms/step\n",
      "1/1 [==============================] - 0s 28ms/step\n",
      "1/1 [==============================] - 0s 26ms/step\n",
      "1/1 [==============================] - 0s 23ms/step\n",
      "1/1 [==============================] - 0s 21ms/step\n",
      "1/1 [==============================] - 0s 23ms/step\n",
      "1/1 [==============================] - 0s 23ms/step\n",
      "1/1 [==============================] - 0s 20ms/step\n",
      "2/2 [==============================] - 0s 85ms/step\n",
      "1/1 [==============================] - 0s 19ms/step\n"
     ]
    },
    {
     "name": "stderr",
     "output_type": "stream",
     "text": [
      "TRIM: Computing TFace quality:  60%|██████    | 3/5 [00:03<00:02,  1.11s/it]"
     ]
    },
    {
     "name": "stdout",
     "output_type": "stream",
     "text": [
      "1/1 [==============================] - 0s 21ms/step\n",
      "1/1 [==============================] - 0s 36ms/step\n",
      "1/1 [==============================] - 0s 22ms/step\n",
      "1/1 [==============================] - 0s 22ms/step\n",
      "1/1 [==============================] - 0s 22ms/step\n",
      "1/1 [==============================] - 0s 25ms/step\n",
      "1/1 [==============================] - 0s 19ms/step\n",
      "1/1 [==============================] - 0s 21ms/step\n",
      "4/4 [==============================] - 0s 31ms/step\n",
      "1/1 [==============================] - 0s 132ms/step\n"
     ]
    },
    {
     "name": "stderr",
     "output_type": "stream",
     "text": [
      "TRIM: Computing TFace quality:  80%|████████  | 4/5 [00:04<00:01,  1.17s/it]"
     ]
    },
    {
     "name": "stdout",
     "output_type": "stream",
     "text": [
      "1/1 [==============================] - 0s 20ms/step\n",
      "1/1 [==============================] - 0s 21ms/step\n",
      "1/1 [==============================] - 0s 21ms/step\n",
      "1/1 [==============================] - 0s 21ms/step\n",
      "1/1 [==============================] - 0s 22ms/step\n",
      "1/1 [==============================] - 0s 21ms/step\n",
      "1/1 [==============================] - 0s 21ms/step\n",
      "1/1 [==============================] - 0s 20ms/step\n",
      "2/2 [==============================] - 0s 3ms/step\n",
      "1/1 [==============================] - 0s 20ms/step\n"
     ]
    },
    {
     "name": "stderr",
     "output_type": "stream",
     "text": [
      "TRIM: Computing TFace quality: 100%|██████████| 5/5 [00:05<00:00,  1.12s/it]\n"
     ]
    }
   ],
   "source": [
    "database.update_tables(attributes_to_update, serfiq = serfiq)"
   ]
  }
 ],
 "metadata": {
  "kernelspec": {
   "display_name": "Python 3.7.15 ('sql-face')",
   "language": "python",
   "name": "python3"
  },
  "language_info": {
   "codemirror_mode": {
    "name": "ipython",
    "version": 3
   },
   "file_extension": ".py",
   "mimetype": "text/x-python",
   "name": "python",
   "nbconvert_exporter": "python",
   "pygments_lexer": "ipython3",
   "version": "3.7.15"
  },
  "orig_nbformat": 4,
  "vscode": {
   "interpreter": {
    "hash": "0a84f744ed89671113ba95f00e1aad6d21abade608318eb8af248311f249adcd"
   }
  }
 },
 "nbformat": 4,
 "nbformat_minor": 2
}
