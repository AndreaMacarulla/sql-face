{
 "cells": [
  {
   "cell_type": "markdown",
   "metadata": {},
   "source": [
    "# Parameter definition\n",
    "Choose all the settings for the database creation."
   ]
  },
  {
   "cell_type": "code",
   "execution_count": 1,
   "metadata": {},
   "outputs": [],
   "source": [
    "#TODO: Change absolute to relative paths for input and output dir.\n",
    "import os\n",
    "\n",
    "home = os.path.expanduser(\"~\")\n",
    "\n",
    "db_name= 'test_video_dataset' #'colab_main_dataset'\n",
    "# input_dir = os.path.join(home,'image_datasets')\n",
    "# output_dir = os.path.join(home,'sql_database')\n",
    "#input_dir = os.path.join(home,'Desktop', 'image_datasets')\n",
    "#output_dir = os.path.join(home,'Desktop','sql_database')\n",
    "database_names=['chokepoint',  'scface'] # 'lfw', 'scface', 'forenface', 'enfsi', 'enfsi2015' 'xqlfw', 'utkface','chokepoint'\n",
    "detector_names=['mtcnn', 'mtcnn_serfiq'] # 'dlib', 'mtcnn', 'mtcnn_serfiq'\n",
    "embedding_model_names=[\"ArcFace\"] # , \"Dlib\", \"ArcFace\",\n",
    "attributes_to_update=['gender']  # 'gender', 'age', 'emotion', 'race'\n",
    "quality_model_names = ['ser_fiq', 'tface'] # 'confusion_score', 'ser_fiq',\n",
    "save_in_drive = False # To work in google colab\n",
    "\n"
   ]
  },
  {
   "cell_type": "markdown",
   "metadata": {},
   "source": [
    "## SERFIQ model\n",
    "\n",
    "Create SERFIQ model."
   ]
  },
  {
   "cell_type": "code",
   "execution_count": 2,
   "metadata": {},
   "outputs": [
    {
     "name": "stderr",
     "output_type": "stream",
     "text": [
      "/home/jmacarulla/anaconda3/envs/sql-face/lib/python3.7/site-packages/tqdm/auto.py:22: TqdmWarning: IProgress not found. Please update jupyter and ipywidgets. See https://ipywidgets.readthedocs.io/en/stable/user_install.html\n",
      "  from .autonotebook import tqdm as notebook_tqdm\n",
      "[15:50:29] ../src/nnvm/legacy_json_util.cc:208: Loading symbol saved by previous version v1.8.0. Attempting to upgrade...\n",
      "[15:50:29] ../src/nnvm/legacy_json_util.cc:216: Symbol successfully upgraded!\n",
      "/home/jmacarulla/anaconda3/envs/sql-face/lib/python3.7/site-packages/mxnet/gluon/block.py:1784: UserWarning: Cannot decide type for the following arguments. Consider providing them as input:\n",
      "\tdata: None\n",
      "  input_sym_arg_type = in_param.infer_type()[0]\n",
      "[15:50:30] ../src/nnvm/legacy_json_util.cc:208: Loading symbol saved by previous version v0.8.0. Attempting to upgrade...\n",
      "[15:50:30] ../src/nnvm/legacy_json_util.cc:216: Symbol successfully upgraded!\n",
      "[15:50:30] ../src/nnvm/legacy_json_util.cc:208: Loading symbol saved by previous version v0.8.0. Attempting to upgrade...\n",
      "[15:50:30] ../src/nnvm/legacy_json_util.cc:216: Symbol successfully upgraded!\n",
      "[15:50:30] ../src/nnvm/legacy_json_util.cc:208: Loading symbol saved by previous version v0.8.0. Attempting to upgrade...\n",
      "[15:50:30] ../src/nnvm/legacy_json_util.cc:216: Symbol successfully upgraded!\n",
      "[15:50:30] ../src/nnvm/legacy_json_util.cc:208: Loading symbol saved by previous version v0.8.0. Attempting to upgrade...\n",
      "[15:50:30] ../src/nnvm/legacy_json_util.cc:216: Symbol successfully upgraded!\n"
     ]
    }
   ],
   "source": [
    "from sql_face.serfiq import get_serfiq_model\n",
    "serfiq = get_serfiq_model()"
   ]
  },
  {
   "cell_type": "markdown",
   "metadata": {},
   "source": [
    "# Database creation"
   ]
  },
  {
   "cell_type": "markdown",
   "metadata": {},
   "source": [
    "database = SQLDataBase(db_name=db_name,\n",
    "                        database_names=database_names, # , 'scface', 'forenface', 'enfsi', 'enfsi2015'\n",
    "                        detector_names=detector_names,\n",
    "                        embedding_model_names=embedding_model_names,\n",
    "                        quality_model_names=quality_model_names,\n",
    "                        save_in_drive=save_in_drive                        \n",
    "                        )\n",
    "\n",
    "database.fill_db()\n",
    "database.update_db(attributes_to_update=attributes_to_update, force_update=False)"
   ]
  },
  {
   "cell_type": "code",
   "execution_count": 3,
   "metadata": {},
   "outputs": [
    {
     "name": "stderr",
     "output_type": "stream",
     "text": [
      "2022-11-20 15:50:30.885251: I tensorflow/core/platform/cpu_feature_guard.cc:193] This TensorFlow binary is optimized with oneAPI Deep Neural Network Library (oneDNN) to use the following CPU instructions in performance-critical operations:  AVX2 FMA\n",
      "To enable them in other operations, rebuild TensorFlow with the appropriate compiler flags.\n",
      "2022-11-20 15:50:31.127860: E tensorflow/stream_executor/cuda/cuda_blas.cc:2981] Unable to register cuBLAS factory: Attempting to register factory for plugin cuBLAS when one has already been registered\n",
      "2022-11-20 15:50:31.892030: W tensorflow/stream_executor/platform/default/dso_loader.cc:64] Could not load dynamic library 'libnvinfer.so.7'; dlerror: libnvinfer.so.7: cannot open shared object file: No such file or directory; LD_LIBRARY_PATH: /home/jmacarulla/anaconda3/envs/sql-face/lib/python3.7/site-packages/cv2/../../lib64:\n",
      "2022-11-20 15:50:31.892172: W tensorflow/stream_executor/platform/default/dso_loader.cc:64] Could not load dynamic library 'libnvinfer_plugin.so.7'; dlerror: libnvinfer_plugin.so.7: cannot open shared object file: No such file or directory; LD_LIBRARY_PATH: /home/jmacarulla/anaconda3/envs/sql-face/lib/python3.7/site-packages/cv2/../../lib64:\n",
      "2022-11-20 15:50:31.892181: W tensorflow/compiler/tf2tensorrt/utils/py_utils.cc:38] TF-TRT Warning: Cannot dlopen some TensorRT libraries. If you would like to use Nvidia GPU with TensorRT, please make sure the missing libraries mentioned above are installed properly.\n"
     ]
    }
   ],
   "source": [
    "from sql_face.sqldb import SQLDataBase"
   ]
  },
  {
   "cell_type": "code",
   "execution_count": 4,
   "metadata": {},
   "outputs": [],
   "source": [
    "database = SQLDataBase(db_name=db_name,\n",
    "                        input_dir = input_dir,\n",
    "                        output_dir_name = output_dir,\n",
    "                        database_names = database_names,\n",
    "                        detector_names = detector_names,\n",
    "                        embedding_model_names = embedding_model_names,\n",
    "                        quality_model_names = quality_model_names)"
   ]
  },
  {
   "cell_type": "code",
   "execution_count": 5,
   "metadata": {},
   "outputs": [
    {
     "data": {
      "text/plain": [
       "{'db_name': 'test_video_dataset_3',\n",
       " 'input_dir': '/home/jmacarulla/image_datasets',\n",
       " 'save_in_drive': False,\n",
       " 'output_dir': '/home/jmacarulla/sql_database',\n",
       " 'session': <sqlalchemy.orm.session.Session at 0x7f25272d7150>,\n",
       " 'databases': [<sql_face.databases.ChokePoint at 0x7f252728ed90>,\n",
       "  <sql_face.databases.SCFace at 0x7f252728ee10>],\n",
       " 'detector_names': ['mtcnn', 'mtcnn_serfiq'],\n",
       " 'embedding_model_names': ['ArcFace'],\n",
       " 'quality_model_names': ['ser_fiq', 'tface']}"
      ]
     },
     "execution_count": 5,
     "metadata": {},
     "output_type": "execute_result"
    }
   ],
   "source": [
    "database.__dict__"
   ]
  },
  {
   "cell_type": "code",
   "execution_count": 6,
   "metadata": {},
   "outputs": [
    {
     "ename": "ImportError",
     "evalue": "lxml not found, please install or use the etree parser.",
     "output_type": "error",
     "traceback": [
      "\u001b[0;31m---------------------------------------------------------------------------\u001b[0m",
      "\u001b[0;31mImportError\u001b[0m                               Traceback (most recent call last)",
      "\u001b[0;32m/tmp/ipykernel_288/3680716616.py\u001b[0m in \u001b[0;36m<module>\u001b[0;34m\u001b[0m\n\u001b[0;32m----> 1\u001b[0;31m \u001b[0mdatabase\u001b[0m\u001b[0;34m.\u001b[0m\u001b[0mcreate_tables\u001b[0m\u001b[0;34m(\u001b[0m\u001b[0mserfiq\u001b[0m\u001b[0;34m=\u001b[0m\u001b[0mserfiq\u001b[0m\u001b[0;34m)\u001b[0m\u001b[0;34m\u001b[0m\u001b[0;34m\u001b[0m\u001b[0m\n\u001b[0m",
      "\u001b[0;32m~/sql-face/sql_face/sqldb.py\u001b[0m in \u001b[0;36mcreate_tables\u001b[0;34m(self, serfiq)\u001b[0m\n\u001b[1;32m     52\u001b[0m \u001b[0;34m\u001b[0m\u001b[0m\n\u001b[1;32m     53\u001b[0m         \u001b[0;32mfor\u001b[0m \u001b[0mdb\u001b[0m \u001b[0;32min\u001b[0m \u001b[0mself\u001b[0m\u001b[0;34m.\u001b[0m\u001b[0mdatabases\u001b[0m\u001b[0;34m:\u001b[0m\u001b[0;34m\u001b[0m\u001b[0;34m\u001b[0m\u001b[0m\n\u001b[0;32m---> 54\u001b[0;31m             \u001b[0mdb\u001b[0m\u001b[0;34m.\u001b[0m\u001b[0mcreate_images\u001b[0m\u001b[0;34m(\u001b[0m\u001b[0mself\u001b[0m\u001b[0;34m.\u001b[0m\u001b[0msession\u001b[0m\u001b[0;34m)\u001b[0m\u001b[0;34m\u001b[0m\u001b[0;34m\u001b[0m\u001b[0m\n\u001b[0m\u001b[1;32m     55\u001b[0m         \u001b[0;31m# todo: optimize creating facevacs pairs.\u001b[0m\u001b[0;34m\u001b[0m\u001b[0;34m\u001b[0m\u001b[0;34m\u001b[0m\u001b[0m\n\u001b[1;32m     56\u001b[0m         \u001b[0;31m# self.create_facevacs_pairs()\u001b[0m\u001b[0;34m\u001b[0m\u001b[0;34m\u001b[0m\u001b[0;34m\u001b[0m\u001b[0m\n",
      "\u001b[0;32m~/sql-face/sql_face/databases.py\u001b[0m in \u001b[0;36mcreate_images\u001b[0;34m(self, session)\u001b[0m\n\u001b[1;32m    503\u001b[0m             \u001b[0;32mif\u001b[0m \u001b[0mos\u001b[0m\u001b[0;34m.\u001b[0m\u001b[0mpath\u001b[0m\u001b[0;34m.\u001b[0m\u001b[0misfile\u001b[0m\u001b[0;34m(\u001b[0m\u001b[0mxmlfile\u001b[0m\u001b[0;34m)\u001b[0m\u001b[0;34m:\u001b[0m\u001b[0;34m\u001b[0m\u001b[0;34m\u001b[0m\u001b[0m\n\u001b[1;32m    504\u001b[0m \u001b[0;34m\u001b[0m\u001b[0m\n\u001b[0;32m--> 505\u001b[0;31m                 \u001b[0mdf\u001b[0m \u001b[0;34m=\u001b[0m \u001b[0mpd\u001b[0m\u001b[0;34m.\u001b[0m\u001b[0mread_xml\u001b[0m\u001b[0;34m(\u001b[0m\u001b[0mxmlfile\u001b[0m\u001b[0;34m)\u001b[0m\u001b[0;34m\u001b[0m\u001b[0;34m\u001b[0m\u001b[0m\n\u001b[0m\u001b[1;32m    506\u001b[0m \u001b[0;34m\u001b[0m\u001b[0m\n\u001b[1;32m    507\u001b[0m \u001b[0;34m\u001b[0m\u001b[0m\n",
      "\u001b[0;32m~/anaconda3/envs/sql-face/lib/python3.7/site-packages/pandas/io/xml.py\u001b[0m in \u001b[0;36mread_xml\u001b[0;34m(path_or_buffer, xpath, namespaces, elems_only, attrs_only, names, encoding, parser, stylesheet, compression, storage_options)\u001b[0m\n\u001b[1;32m    936\u001b[0m         \u001b[0mstylesheet\u001b[0m\u001b[0;34m=\u001b[0m\u001b[0mstylesheet\u001b[0m\u001b[0;34m,\u001b[0m\u001b[0;34m\u001b[0m\u001b[0;34m\u001b[0m\u001b[0m\n\u001b[1;32m    937\u001b[0m         \u001b[0mcompression\u001b[0m\u001b[0;34m=\u001b[0m\u001b[0mcompression\u001b[0m\u001b[0;34m,\u001b[0m\u001b[0;34m\u001b[0m\u001b[0;34m\u001b[0m\u001b[0m\n\u001b[0;32m--> 938\u001b[0;31m         \u001b[0mstorage_options\u001b[0m\u001b[0;34m=\u001b[0m\u001b[0mstorage_options\u001b[0m\u001b[0;34m,\u001b[0m\u001b[0;34m\u001b[0m\u001b[0;34m\u001b[0m\u001b[0m\n\u001b[0m\u001b[1;32m    939\u001b[0m     )\n",
      "\u001b[0;32m~/anaconda3/envs/sql-face/lib/python3.7/site-packages/pandas/io/xml.py\u001b[0m in \u001b[0;36m_parse\u001b[0;34m(path_or_buffer, xpath, namespaces, elems_only, attrs_only, names, encoding, parser, stylesheet, compression, storage_options, **kwargs)\u001b[0m\n\u001b[1;32m    708\u001b[0m             )\n\u001b[1;32m    709\u001b[0m         \u001b[0;32melse\u001b[0m\u001b[0;34m:\u001b[0m\u001b[0;34m\u001b[0m\u001b[0;34m\u001b[0m\u001b[0m\n\u001b[0;32m--> 710\u001b[0;31m             \u001b[0;32mraise\u001b[0m \u001b[0mImportError\u001b[0m\u001b[0;34m(\u001b[0m\u001b[0;34m\"lxml not found, please install or use the etree parser.\"\u001b[0m\u001b[0;34m)\u001b[0m\u001b[0;34m\u001b[0m\u001b[0;34m\u001b[0m\u001b[0m\n\u001b[0m\u001b[1;32m    711\u001b[0m \u001b[0;34m\u001b[0m\u001b[0m\n\u001b[1;32m    712\u001b[0m     \u001b[0;32melif\u001b[0m \u001b[0mparser\u001b[0m \u001b[0;34m==\u001b[0m \u001b[0;34m\"etree\"\u001b[0m\u001b[0;34m:\u001b[0m\u001b[0;34m\u001b[0m\u001b[0;34m\u001b[0m\u001b[0m\n",
      "\u001b[0;31mImportError\u001b[0m: lxml not found, please install or use the etree parser."
     ]
    }
   ],
   "source": [
    "database.create_tables(serfiq=serfiq)"
   ]
  },
  {
   "cell_type": "code",
   "execution_count": 8,
   "metadata": {},
   "outputs": [
    {
     "name": "stderr",
     "output_type": "stream",
     "text": [
      "Update cropped images: 0it [00:00, ?it/s]\n",
      "Computing embeddings: 0it [00:00, ?it/s]\n",
      "TRIM Computing SER-FIQ quality:   0%|          | 0/5 [00:00<?, ?it/s][19:25:37] ../src/executor/graph_executor.cc:1991: Subgraph backend MKLDNN is activated.\n",
      "[19:25:37] ../src/executor/graph_executor.cc:1991: Subgraph backend MKLDNN is activated.\n",
      "[19:25:37] ../src/executor/graph_executor.cc:1991: Subgraph backend MKLDNN is activated.\n",
      "[19:25:37] ../src/executor/graph_executor.cc:1991: Subgraph backend MKLDNN is activated.\n",
      "[19:25:38] ../src/executor/graph_executor.cc:1991: Subgraph backend MKLDNN is activated.\n",
      "[19:25:38] ../src/executor/graph_executor.cc:1991: Subgraph backend MKLDNN is activated.\n",
      "[19:25:38] ../src/executor/graph_executor.cc:1991: Subgraph backend MKLDNN is activated.\n",
      "[19:25:38] ../src/executor/graph_executor.cc:1991: Subgraph backend MKLDNN is activated.\n",
      "[19:25:38] ../src/executor/graph_executor.cc:1991: Subgraph backend MKLDNN is activated.\n",
      "[19:25:38] ../src/executor/graph_executor.cc:1991: Subgraph backend MKLDNN is activated.\n",
      "TRIM Computing SER-FIQ quality:  20%|██        | 1/5 [02:52<11:31, 172.81s/it][19:27:29] ../src/executor/graph_executor.cc:1991: Subgraph backend MKLDNN is activated.\n",
      "[19:27:29] ../src/executor/graph_executor.cc:1991: Subgraph backend MKLDNN is activated.\n",
      "[19:27:29] ../src/executor/graph_executor.cc:1991: Subgraph backend MKLDNN is activated.\n",
      "[19:27:29] ../src/executor/graph_executor.cc:1991: Subgraph backend MKLDNN is activated.\n",
      "[19:27:29] ../src/executor/graph_executor.cc:1991: Subgraph backend MKLDNN is activated.\n",
      "[19:27:29] ../src/executor/graph_executor.cc:1991: Subgraph backend MKLDNN is activated.\n",
      "[19:27:29] ../src/executor/graph_executor.cc:1991: Subgraph backend MKLDNN is activated.\n",
      "[19:27:29] ../src/executor/graph_executor.cc:1991: Subgraph backend MKLDNN is activated.\n",
      "[19:27:29] ../src/executor/graph_executor.cc:1991: Subgraph backend MKLDNN is activated.\n",
      "[19:27:29] ../src/executor/graph_executor.cc:1991: Subgraph backend MKLDNN is activated.\n",
      "TRIM Computing SER-FIQ quality:  40%|████      | 2/5 [03:04<03:54, 78.27s/it] [19:27:41] ../src/executor/graph_executor.cc:1991: Subgraph backend MKLDNN is activated.\n",
      "[19:27:41] ../src/executor/graph_executor.cc:1991: Subgraph backend MKLDNN is activated.\n",
      "[19:27:41] ../src/executor/graph_executor.cc:1991: Subgraph backend MKLDNN is activated.\n",
      "[19:27:41] ../src/executor/graph_executor.cc:1991: Subgraph backend MKLDNN is activated.\n",
      "[19:27:41] ../src/executor/graph_executor.cc:1991: Subgraph backend MKLDNN is activated.\n",
      "[19:27:41] ../src/executor/graph_executor.cc:1991: Subgraph backend MKLDNN is activated.\n",
      "[19:27:41] ../src/executor/graph_executor.cc:1991: Subgraph backend MKLDNN is activated.\n",
      "[19:27:41] ../src/executor/graph_executor.cc:1991: Subgraph backend MKLDNN is activated.\n",
      "[19:27:41] ../src/executor/graph_executor.cc:1991: Subgraph backend MKLDNN is activated.\n",
      "[19:27:41] ../src/executor/graph_executor.cc:1991: Subgraph backend MKLDNN is activated.\n",
      "TRIM Computing SER-FIQ quality:  60%|██████    | 3/5 [03:13<01:33, 46.54s/it][19:27:50] ../src/executor/graph_executor.cc:1991: Subgraph backend MKLDNN is activated.\n",
      "[19:27:50] ../src/executor/graph_executor.cc:1991: Subgraph backend MKLDNN is activated.\n",
      "[19:27:50] ../src/executor/graph_executor.cc:1991: Subgraph backend MKLDNN is activated.\n",
      "[19:27:50] ../src/executor/graph_executor.cc:1991: Subgraph backend MKLDNN is activated.\n",
      "[19:27:50] ../src/executor/graph_executor.cc:1991: Subgraph backend MKLDNN is activated.\n",
      "[19:27:50] ../src/executor/graph_executor.cc:1991: Subgraph backend MKLDNN is activated.\n",
      "[19:27:50] ../src/executor/graph_executor.cc:1991: Subgraph backend MKLDNN is activated.\n",
      "[19:27:50] ../src/executor/graph_executor.cc:1991: Subgraph backend MKLDNN is activated.\n",
      "[19:27:50] ../src/executor/graph_executor.cc:1991: Subgraph backend MKLDNN is activated.\n",
      "[19:27:50] ../src/executor/graph_executor.cc:1991: Subgraph backend MKLDNN is activated.\n",
      "[19:27:50] ../src/executor/graph_executor.cc:1991: Subgraph backend MKLDNN is activated.\n",
      "TRIM Computing SER-FIQ quality:  80%|████████  | 4/5 [03:22<00:31, 31.63s/it][19:27:58] ../src/executor/graph_executor.cc:1991: Subgraph backend MKLDNN is activated.\n",
      "[19:27:58] ../src/executor/graph_executor.cc:1991: Subgraph backend MKLDNN is activated.\n",
      "[19:27:58] ../src/executor/graph_executor.cc:1991: Subgraph backend MKLDNN is activated.\n",
      "[19:27:58] ../src/executor/graph_executor.cc:1991: Subgraph backend MKLDNN is activated.\n",
      "[19:27:58] ../src/executor/graph_executor.cc:1991: Subgraph backend MKLDNN is activated.\n",
      "[19:27:58] ../src/executor/graph_executor.cc:1991: Subgraph backend MKLDNN is activated.\n",
      "[19:27:58] ../src/executor/graph_executor.cc:1991: Subgraph backend MKLDNN is activated.\n",
      "[19:27:58] ../src/executor/graph_executor.cc:1991: Subgraph backend MKLDNN is activated.\n",
      "[19:27:59] ../src/executor/graph_executor.cc:1991: Subgraph backend MKLDNN is activated.\n",
      "[19:27:59] ../src/executor/graph_executor.cc:1991: Subgraph backend MKLDNN is activated.\n",
      "[19:27:59] ../src/executor/graph_executor.cc:1991: Subgraph backend MKLDNN is activated.\n",
      "TRIM Computing SER-FIQ quality: 100%|██████████| 5/5 [03:31<00:00, 42.35s/it]\n",
      "TRIM: Computing TFace quality:   0%|          | 0/5 [00:00<?, ?it/s][19:29:26] ../src/executor/graph_executor.cc:1991: Subgraph backend MKLDNN is activated.\n",
      "[19:29:26] ../src/executor/graph_executor.cc:1991: Subgraph backend MKLDNN is activated.\n",
      "[19:29:26] ../src/executor/graph_executor.cc:1991: Subgraph backend MKLDNN is activated.\n",
      "[19:29:26] ../src/executor/graph_executor.cc:1991: Subgraph backend MKLDNN is activated.\n",
      "[19:29:27] ../src/executor/graph_executor.cc:1991: Subgraph backend MKLDNN is activated.\n",
      "[19:29:27] ../src/executor/graph_executor.cc:1991: Subgraph backend MKLDNN is activated.\n",
      "[19:29:27] ../src/executor/graph_executor.cc:1991: Subgraph backend MKLDNN is activated.\n",
      "[19:29:27] ../src/executor/graph_executor.cc:1991: Subgraph backend MKLDNN is activated.\n",
      "[19:29:27] ../src/executor/graph_executor.cc:1991: Subgraph backend MKLDNN is activated.\n",
      "[19:29:27] ../src/executor/graph_executor.cc:1991: Subgraph backend MKLDNN is activated.\n",
      "TRIM: Computing TFace quality:  20%|██        | 1/5 [00:37<02:29, 37.36s/it][19:30:01] ../src/executor/graph_executor.cc:1991: Subgraph backend MKLDNN is activated.\n",
      "[19:30:01] ../src/executor/graph_executor.cc:1991: Subgraph backend MKLDNN is activated.\n",
      "[19:30:01] ../src/executor/graph_executor.cc:1991: Subgraph backend MKLDNN is activated.\n",
      "[19:30:01] ../src/executor/graph_executor.cc:1991: Subgraph backend MKLDNN is activated.\n",
      "[19:30:01] ../src/executor/graph_executor.cc:1991: Subgraph backend MKLDNN is activated.\n",
      "[19:30:01] ../src/executor/graph_executor.cc:1991: Subgraph backend MKLDNN is activated.\n",
      "[19:30:01] ../src/executor/graph_executor.cc:1991: Subgraph backend MKLDNN is activated.\n",
      "[19:30:01] ../src/executor/graph_executor.cc:1991: Subgraph backend MKLDNN is activated.\n",
      "[19:30:01] ../src/executor/graph_executor.cc:1991: Subgraph backend MKLDNN is activated.\n",
      "[19:30:01] ../src/executor/graph_executor.cc:1991: Subgraph backend MKLDNN is activated.\n",
      "TRIM: Computing TFace quality:  40%|████      | 2/5 [00:51<01:11, 23.99s/it][19:30:16] ../src/executor/graph_executor.cc:1991: Subgraph backend MKLDNN is activated.\n",
      "[19:30:16] ../src/executor/graph_executor.cc:1991: Subgraph backend MKLDNN is activated.\n",
      "[19:30:16] ../src/executor/graph_executor.cc:1991: Subgraph backend MKLDNN is activated.\n",
      "[19:30:16] ../src/executor/graph_executor.cc:1991: Subgraph backend MKLDNN is activated.\n",
      "[19:30:16] ../src/executor/graph_executor.cc:1991: Subgraph backend MKLDNN is activated.\n",
      "[19:30:16] ../src/executor/graph_executor.cc:1991: Subgraph backend MKLDNN is activated.\n",
      "[19:30:16] ../src/executor/graph_executor.cc:1991: Subgraph backend MKLDNN is activated.\n",
      "[19:30:16] ../src/executor/graph_executor.cc:1991: Subgraph backend MKLDNN is activated.\n",
      "[19:30:16] ../src/executor/graph_executor.cc:1991: Subgraph backend MKLDNN is activated.\n",
      "[19:30:16] ../src/executor/graph_executor.cc:1991: Subgraph backend MKLDNN is activated.\n",
      "TRIM: Computing TFace quality:  60%|██████    | 3/5 [01:09<00:41, 20.86s/it][19:30:33] ../src/executor/graph_executor.cc:1991: Subgraph backend MKLDNN is activated.\n",
      "[19:30:33] ../src/executor/graph_executor.cc:1991: Subgraph backend MKLDNN is activated.\n",
      "[19:30:33] ../src/executor/graph_executor.cc:1991: Subgraph backend MKLDNN is activated.\n",
      "[19:30:33] ../src/executor/graph_executor.cc:1991: Subgraph backend MKLDNN is activated.\n",
      "[19:30:33] ../src/executor/graph_executor.cc:1991: Subgraph backend MKLDNN is activated.\n",
      "[19:30:33] ../src/executor/graph_executor.cc:1991: Subgraph backend MKLDNN is activated.\n",
      "[19:30:33] ../src/executor/graph_executor.cc:1991: Subgraph backend MKLDNN is activated.\n",
      "[19:30:33] ../src/executor/graph_executor.cc:1991: Subgraph backend MKLDNN is activated.\n",
      "[19:30:33] ../src/executor/graph_executor.cc:1991: Subgraph backend MKLDNN is activated.\n",
      "[19:30:33] ../src/executor/graph_executor.cc:1991: Subgraph backend MKLDNN is activated.\n",
      "[19:30:33] ../src/executor/graph_executor.cc:1991: Subgraph backend MKLDNN is activated.\n",
      "TRIM: Computing TFace quality:  80%|████████  | 4/5 [01:09<00:12, 12.81s/it][19:30:33] ../src/executor/graph_executor.cc:1991: Subgraph backend MKLDNN is activated.\n",
      "[19:30:33] ../src/executor/graph_executor.cc:1991: Subgraph backend MKLDNN is activated.\n",
      "[19:30:33] ../src/executor/graph_executor.cc:1991: Subgraph backend MKLDNN is activated.\n",
      "[19:30:33] ../src/executor/graph_executor.cc:1991: Subgraph backend MKLDNN is activated.\n",
      "[19:30:33] ../src/executor/graph_executor.cc:1991: Subgraph backend MKLDNN is activated.\n",
      "[19:30:33] ../src/executor/graph_executor.cc:1991: Subgraph backend MKLDNN is activated.\n",
      "[19:30:33] ../src/executor/graph_executor.cc:1991: Subgraph backend MKLDNN is activated.\n",
      "[19:30:33] ../src/executor/graph_executor.cc:1991: Subgraph backend MKLDNN is activated.\n",
      "[19:30:33] ../src/executor/graph_executor.cc:1991: Subgraph backend MKLDNN is activated.\n",
      "[19:30:33] ../src/executor/graph_executor.cc:1991: Subgraph backend MKLDNN is activated.\n",
      "[19:30:34] ../src/executor/graph_executor.cc:1991: Subgraph backend MKLDNN is activated.\n",
      "TRIM: Computing TFace quality: 100%|██████████| 5/5 [01:10<00:00, 14.01s/it]\n"
     ]
    }
   ],
   "source": [
    "database.update_tables(attributes_to_update, serfiq = serfiq)"
   ]
  }
 ],
 "metadata": {
  "kernelspec": {
   "display_name": "Python 3.7.15 ('sql-face')",
   "language": "python",
   "name": "python3"
  },
  "language_info": {
   "codemirror_mode": {
    "name": "ipython",
    "version": 3
   },
   "file_extension": ".py",
   "mimetype": "text/x-python",
   "name": "python",
   "nbconvert_exporter": "python",
   "pygments_lexer": "ipython3",
   "version": "3.7.15"
  },
  "orig_nbformat": 4,
  "vscode": {
   "interpreter": {
    "hash": "0a84f744ed89671113ba95f00e1aad6d21abade608318eb8af248311f249adcd"
   }
  }
 },
 "nbformat": 4,
 "nbformat_minor": 2
}
