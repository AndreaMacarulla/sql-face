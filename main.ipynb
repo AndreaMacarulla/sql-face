{
 "cells": [
  {
   "cell_type": "markdown",
   "metadata": {},
   "source": [
    "# Parameter definition\n",
    "Choose all the settings for the database creation."
   ]
  },
  {
   "cell_type": "code",
   "execution_count": 1,
   "metadata": {},
   "outputs": [],
   "source": [
    "#TODO: Change absolute to relative paths for input and output dir.\n",
    "db_name= 'test_video_dataset' #'colab_main_dataset'\n",
    "input_dir = '/home/andrea/Desktop/image_datasets'\n",
    "output_dir = '/home/andrea/Desktop/sql_database'\n",
    "database_names=['lfw'] # , 'scface', 'forenface', 'enfsi', 'enfsi2015'\n",
    "detector_names=['mtcnn', 'mtcnn_serfiq'] # 'dlib', 'mtcnn', 'mtcnn_serfiq'\n",
    "embedding_model_names=[\"ArcFace\"] # , \"Dlib\", \"ArcFace\",\n",
    "attributes_to_update=['gender', 'age']  # 'gender', 'age', 'emotion', 'race'\n",
    "quality_model_names = ['ser-fiq'] # 'confusion_score',\n",
    "save_in_drive = False # To work in google colab"
   ]
  },
  {
   "cell_type": "markdown",
   "metadata": {},
   "source": [
    "## SERFIQ model\n",
    "Create SERFIQ model."
   ]
  },
  {
   "cell_type": "code",
   "execution_count": 2,
   "metadata": {},
   "outputs": [
    {
     "name": "stderr",
     "output_type": "stream",
     "text": [
      "2022-11-11 13:12:40.666615: I tensorflow/core/platform/cpu_feature_guard.cc:193] This TensorFlow binary is optimized with oneAPI Deep Neural Network Library (oneDNN) to use the following CPU instructions in performance-critical operations:  SSE4.1 SSE4.2 AVX AVX2 FMA\n",
      "To enable them in other operations, rebuild TensorFlow with the appropriate compiler flags.\n",
      "[13:12:41] ../src/nnvm/legacy_json_util.cc:208: Loading symbol saved by previous version v1.8.0. Attempting to upgrade...\n",
      "[13:12:41] ../src/nnvm/legacy_json_util.cc:216: Symbol successfully upgraded!\n",
      "/home/andrea/anaconda3/envs/sql-face/lib/python3.7/site-packages/mxnet/gluon/block.py:1784: UserWarning: Cannot decide type for the following arguments. Consider providing them as input:\n",
      "\tdata: None\n",
      "  input_sym_arg_type = in_param.infer_type()[0]\n",
      "[13:12:42] ../src/nnvm/legacy_json_util.cc:208: Loading symbol saved by previous version v0.8.0. Attempting to upgrade...\n",
      "[13:12:42] ../src/nnvm/legacy_json_util.cc:216: Symbol successfully upgraded!\n",
      "[13:12:42] ../src/nnvm/legacy_json_util.cc:208: Loading symbol saved by previous version v0.8.0. Attempting to upgrade...\n",
      "[13:12:42] ../src/nnvm/legacy_json_util.cc:216: Symbol successfully upgraded!\n",
      "[13:12:42] ../src/nnvm/legacy_json_util.cc:208: Loading symbol saved by previous version v0.8.0. Attempting to upgrade...\n",
      "[13:12:42] ../src/nnvm/legacy_json_util.cc:216: Symbol successfully upgraded!\n",
      "[13:12:42] ../src/nnvm/legacy_json_util.cc:208: Loading symbol saved by previous version v0.8.0. Attempting to upgrade...\n",
      "[13:12:42] ../src/nnvm/legacy_json_util.cc:216: Symbol successfully upgraded!\n"
     ]
    }
   ],
   "source": [
    "from sql_face.serfiq import get_serfiq_model\n",
    "serfiq = get_serfiq_model()"
   ]
  },
  {
   "cell_type": "markdown",
   "metadata": {},
   "source": [
    "# Database creation"
   ]
  },
  {
   "cell_type": "markdown",
   "metadata": {},
   "source": [
    "database = SQLDataBase(db_name=db_name,\n",
    "                        database_names=database_names, # , 'scface', 'forenface', 'enfsi', 'enfsi2015'\n",
    "                        detector_names=detector_names,\n",
    "                        embedding_model_names=embedding_model_names,\n",
    "                        quality_model_names=quality_model_names,\n",
    "                        save_in_drive=save_in_drive                        \n",
    "                        )\n",
    "\n",
    "database.fill_db()\n",
    "database.update_db(attributes_to_update=attributes_to_update, force_update=False)"
   ]
  },
  {
   "cell_type": "code",
   "execution_count": 3,
   "metadata": {},
   "outputs": [],
   "source": [
    "from sql_face.sqldb import SQLDataBase"
   ]
  },
  {
   "cell_type": "code",
   "execution_count": 4,
   "metadata": {},
   "outputs": [],
   "source": [
    "database = SQLDataBase(db_name=db_name,\n",
    "                        input_dir = input_dir,\n",
    "                        output_dir_name = output_dir,\n",
    "                        database_names = database_names,\n",
    "                        detector_names = detector_names,\n",
    "                        embedding_model_names = embedding_model_names,\n",
    "                        quality_model_names = quality_model_names)"
   ]
  },
  {
   "cell_type": "code",
   "execution_count": 5,
   "metadata": {},
   "outputs": [
    {
     "data": {
      "text/plain": [
       "{'db_name': 'test_video_dataset',\n",
       " 'input_dir': '/home/andrea/Desktop/image_datasets',\n",
       " 'save_in_drive': False,\n",
       " 'output_dir': '/home/andrea/Desktop/sql_database',\n",
       " 'session': <sqlalchemy.orm.session.Session at 0x7f6734a750d0>,\n",
       " 'databases': [<sql_face.databases.LFW at 0x7f6734a2ac50>],\n",
       " 'detector_names': ['mtcnn', 'mtcnn_serfiq'],\n",
       " 'embedding_model_names': ['ArcFace'],\n",
       " 'quality_model_names': ['ser-fiq']}"
      ]
     },
     "execution_count": 5,
     "metadata": {},
     "output_type": "execute_result"
    }
   ],
   "source": [
    "database.__dict__"
   ]
  },
  {
   "cell_type": "code",
   "execution_count": 6,
   "metadata": {},
   "outputs": [
    {
     "name": "stderr",
     "output_type": "stream",
     "text": [
      "Creating image record from LFW: 0it [00:00, ?it/s]\n",
      "TRIM Creating Cropped Images for detector mtcnn:   0%|          | 0/5 [00:00<?, ?it/s]"
     ]
    },
    {
     "name": "stdout",
     "output_type": "stream",
     "text": [
      "1/1 [==============================] - 0s 151ms/step\n",
      "1/1 [==============================] - 0s 169ms/step\n",
      "1/1 [==============================] - 0s 70ms/step\n",
      "1/1 [==============================] - 0s 81ms/step\n",
      "1/1 [==============================] - 0s 103ms/step\n",
      "1/1 [==============================] - 0s 60ms/step\n",
      "1/1 [==============================] - 0s 96ms/step\n",
      "1/1 [==============================] - 0s 106ms/step\n",
      "2/2 [==============================] - 0s 14ms/step\n",
      "1/1 [==============================] - 0s 165ms/step\n"
     ]
    },
    {
     "name": "stderr",
     "output_type": "stream",
     "text": [
      "TRIM Creating Cropped Images for detector mtcnn:  20%|██        | 1/5 [00:02<00:10,  2.63s/it]"
     ]
    },
    {
     "name": "stdout",
     "output_type": "stream",
     "text": [
      "1/1 [==============================] - 0s 91ms/step\n",
      "1/1 [==============================] - 0s 53ms/step\n",
      "1/1 [==============================] - 0s 104ms/step\n",
      "1/1 [==============================] - 0s 69ms/step\n",
      "1/1 [==============================] - 0s 67ms/step\n",
      "1/1 [==============================] - 0s 57ms/step\n",
      "1/1 [==============================] - 0s 83ms/step\n",
      "1/1 [==============================] - 0s 85ms/step\n",
      "2/2 [==============================] - 0s 16ms/step\n",
      "1/1 [==============================] - 0s 97ms/step\n"
     ]
    },
    {
     "name": "stderr",
     "output_type": "stream",
     "text": [
      "TRIM Creating Cropped Images for detector mtcnn:  40%|████      | 2/5 [00:04<00:06,  2.20s/it]"
     ]
    },
    {
     "name": "stdout",
     "output_type": "stream",
     "text": [
      "1/1 [==============================] - 0s 156ms/step\n",
      "1/1 [==============================] - 0s 80ms/step\n",
      "1/1 [==============================] - 0s 102ms/step\n",
      "1/1 [==============================] - 0s 66ms/step\n",
      "1/1 [==============================] - 0s 69ms/step\n",
      "1/1 [==============================] - 0s 131ms/step\n",
      "1/1 [==============================] - 0s 70ms/step\n",
      "1/1 [==============================] - 0s 83ms/step\n",
      "2/2 [==============================] - 0s 9ms/step\n",
      "1/1 [==============================] - 0s 119ms/step\n"
     ]
    },
    {
     "name": "stderr",
     "output_type": "stream",
     "text": [
      "TRIM Creating Cropped Images for detector mtcnn:  60%|██████    | 3/5 [00:06<00:04,  2.09s/it]"
     ]
    },
    {
     "name": "stdout",
     "output_type": "stream",
     "text": [
      "1/1 [==============================] - 0s 76ms/step\n",
      "1/1 [==============================] - 0s 105ms/step\n",
      "1/1 [==============================] - 0s 108ms/step\n",
      "1/1 [==============================] - 0s 97ms/step\n",
      "1/1 [==============================] - 0s 64ms/step\n",
      "1/1 [==============================] - 0s 67ms/step\n",
      "1/1 [==============================] - 0s 58ms/step\n",
      "1/1 [==============================] - 0s 110ms/step\n",
      "2/2 [==============================] - 0s 25ms/step\n",
      "1/1 [==============================] - 0s 75ms/step\n"
     ]
    },
    {
     "name": "stderr",
     "output_type": "stream",
     "text": [
      "TRIM Creating Cropped Images for detector mtcnn:  80%|████████  | 4/5 [00:08<00:02,  2.05s/it]"
     ]
    },
    {
     "name": "stdout",
     "output_type": "stream",
     "text": [
      "1/1 [==============================] - 0s 57ms/step\n",
      "1/1 [==============================] - 0s 101ms/step\n",
      "1/1 [==============================] - 0s 79ms/step\n",
      "1/1 [==============================] - 0s 58ms/step\n",
      "1/1 [==============================] - 0s 105ms/step\n",
      "1/1 [==============================] - 0s 93ms/step\n",
      "1/1 [==============================] - 0s 80ms/step\n",
      "1/1 [==============================] - 0s 86ms/step\n",
      "3/3 [==============================] - 0s 35ms/step\n",
      "1/1 [==============================] - 0s 91ms/step\n"
     ]
    },
    {
     "name": "stderr",
     "output_type": "stream",
     "text": [
      "TRIM Creating Cropped Images for detector mtcnn: 100%|██████████| 5/5 [00:10<00:00,  2.07s/it]\n",
      "TRIM Creating Cropped Images for detector mtcnn_serfiq:   0%|          | 0/5 [00:00<?, ?it/s][13:12:54] ../src/executor/graph_executor.cc:1991: Subgraph backend MKLDNN is activated.\n",
      "[13:12:54] ../src/executor/graph_executor.cc:1991: Subgraph backend MKLDNN is activated.\n",
      "[13:12:54] ../src/executor/graph_executor.cc:1991: Subgraph backend MKLDNN is activated.\n",
      "[13:12:54] ../src/executor/graph_executor.cc:1991: Subgraph backend MKLDNN is activated.\n",
      "[13:12:54] ../src/executor/graph_executor.cc:1991: Subgraph backend MKLDNN is activated.\n",
      "[13:12:54] ../src/executor/graph_executor.cc:1991: Subgraph backend MKLDNN is activated.\n",
      "[13:12:54] ../src/executor/graph_executor.cc:1991: Subgraph backend MKLDNN is activated.\n",
      "[13:12:54] ../src/executor/graph_executor.cc:1991: Subgraph backend MKLDNN is activated.\n",
      "[13:12:54] ../src/executor/graph_executor.cc:1991: Subgraph backend MKLDNN is activated.\n",
      "[13:12:54] ../src/executor/graph_executor.cc:1991: Subgraph backend MKLDNN is activated.\n",
      "[13:12:54] ../src/executor/graph_executor.cc:1991: Subgraph backend MKLDNN is activated.\n",
      "[13:12:54] ../src/executor/graph_executor.cc:1991: Subgraph backend MKLDNN is activated.\n",
      "[13:12:54] ../src/executor/graph_executor.cc:1991: Subgraph backend MKLDNN is activated.\n",
      "[13:12:54] ../src/executor/graph_executor.cc:1991: Subgraph backend MKLDNN is activated.\n",
      "[13:12:54] ../src/executor/graph_executor.cc:1991: Subgraph backend MKLDNN is activated.\n",
      "[13:12:54] ../src/executor/graph_executor.cc:1991: Subgraph backend MKLDNN is activated.\n",
      "[13:12:54] ../src/executor/graph_executor.cc:1991: Subgraph backend MKLDNN is activated.\n",
      "[13:12:54] ../src/executor/graph_executor.cc:1991: Subgraph backend MKLDNN is activated.\n",
      "[13:12:54] ../src/executor/graph_executor.cc:1991: Subgraph backend MKLDNN is activated.\n",
      "TRIM Creating Cropped Images for detector mtcnn_serfiq:  20%|██        | 1/5 [00:00<00:01,  3.39it/s][13:12:54] ../src/executor/graph_executor.cc:1991: Subgraph backend MKLDNN is activated.\n",
      "[13:12:54] ../src/executor/graph_executor.cc:1991: Subgraph backend MKLDNN is activated.\n",
      "[13:12:54] ../src/executor/graph_executor.cc:1991: Subgraph backend MKLDNN is activated.\n",
      "[13:12:54] ../src/executor/graph_executor.cc:1991: Subgraph backend MKLDNN is activated.\n",
      "[13:12:54] ../src/executor/graph_executor.cc:1991: Subgraph backend MKLDNN is activated.\n",
      "[13:12:54] ../src/executor/graph_executor.cc:1991: Subgraph backend MKLDNN is activated.\n",
      "[13:12:54] ../src/executor/graph_executor.cc:1991: Subgraph backend MKLDNN is activated.\n",
      "[13:12:54] ../src/executor/graph_executor.cc:1991: Subgraph backend MKLDNN is activated.\n",
      "[13:12:54] ../src/executor/graph_executor.cc:1991: Subgraph backend MKLDNN is activated.\n",
      "[13:12:54] ../src/executor/graph_executor.cc:1991: Subgraph backend MKLDNN is activated.\n",
      "[13:12:54] ../src/executor/graph_executor.cc:1991: Subgraph backend MKLDNN is activated.\n",
      "[13:12:54] ../src/executor/graph_executor.cc:1991: Subgraph backend MKLDNN is activated.\n",
      "[13:12:54] ../src/executor/graph_executor.cc:1991: Subgraph backend MKLDNN is activated.\n",
      "[13:12:54] ../src/executor/graph_executor.cc:1991: Subgraph backend MKLDNN is activated.\n",
      "[13:12:54] ../src/executor/graph_executor.cc:1991: Subgraph backend MKLDNN is activated.\n",
      "[13:12:54] ../src/executor/graph_executor.cc:1991: Subgraph backend MKLDNN is activated.\n",
      "[13:12:54] ../src/executor/graph_executor.cc:1991: Subgraph backend MKLDNN is activated.\n",
      "[13:12:54] ../src/executor/graph_executor.cc:1991: Subgraph backend MKLDNN is activated.\n",
      "TRIM Creating Cropped Images for detector mtcnn_serfiq:  40%|████      | 2/5 [00:00<00:00,  4.21it/s][13:12:54] ../src/executor/graph_executor.cc:1991: Subgraph backend MKLDNN is activated.\n",
      "[13:12:54] ../src/executor/graph_executor.cc:1991: Subgraph backend MKLDNN is activated.\n",
      "[13:12:54] ../src/executor/graph_executor.cc:1991: Subgraph backend MKLDNN is activated.\n",
      "[13:12:54] ../src/executor/graph_executor.cc:1991: Subgraph backend MKLDNN is activated.\n",
      "[13:12:54] ../src/executor/graph_executor.cc:1991: Subgraph backend MKLDNN is activated.\n",
      "[13:12:54] ../src/executor/graph_executor.cc:1991: Subgraph backend MKLDNN is activated.\n",
      "[13:12:54] ../src/executor/graph_executor.cc:1991: Subgraph backend MKLDNN is activated.\n",
      "[13:12:54] ../src/executor/graph_executor.cc:1991: Subgraph backend MKLDNN is activated.\n",
      "[13:12:54] ../src/executor/graph_executor.cc:1991: Subgraph backend MKLDNN is activated.\n",
      "[13:12:54] ../src/executor/graph_executor.cc:1991: Subgraph backend MKLDNN is activated.\n",
      "[13:12:54] ../src/executor/graph_executor.cc:1991: Subgraph backend MKLDNN is activated.\n",
      "[13:12:54] ../src/executor/graph_executor.cc:1991: Subgraph backend MKLDNN is activated.\n",
      "[13:12:54] ../src/executor/graph_executor.cc:1991: Subgraph backend MKLDNN is activated.\n",
      "[13:12:54] ../src/executor/graph_executor.cc:1991: Subgraph backend MKLDNN is activated.\n",
      "[13:12:54] ../src/executor/graph_executor.cc:1991: Subgraph backend MKLDNN is activated.\n",
      "[13:12:54] ../src/executor/graph_executor.cc:1991: Subgraph backend MKLDNN is activated.\n",
      "[13:12:54] ../src/executor/graph_executor.cc:1991: Subgraph backend MKLDNN is activated.\n",
      "[13:12:54] ../src/executor/graph_executor.cc:1991: Subgraph backend MKLDNN is activated.\n",
      "TRIM Creating Cropped Images for detector mtcnn_serfiq:  60%|██████    | 3/5 [00:00<00:00,  4.34it/s][13:12:54] ../src/executor/graph_executor.cc:1991: Subgraph backend MKLDNN is activated.\n",
      "[13:12:54] ../src/executor/graph_executor.cc:1991: Subgraph backend MKLDNN is activated.\n",
      "[13:12:54] ../src/executor/graph_executor.cc:1991: Subgraph backend MKLDNN is activated.\n",
      "[13:12:54] ../src/executor/graph_executor.cc:1991: Subgraph backend MKLDNN is activated.\n",
      "[13:12:54] ../src/executor/graph_executor.cc:1991: Subgraph backend MKLDNN is activated.\n",
      "[13:12:54] ../src/executor/graph_executor.cc:1991: Subgraph backend MKLDNN is activated.\n",
      "[13:12:54] ../src/executor/graph_executor.cc:1991: Subgraph backend MKLDNN is activated.\n",
      "[13:12:54] ../src/executor/graph_executor.cc:1991: Subgraph backend MKLDNN is activated.\n",
      "[13:12:54] ../src/executor/graph_executor.cc:1991: Subgraph backend MKLDNN is activated.\n",
      "[13:12:54] ../src/executor/graph_executor.cc:1991: Subgraph backend MKLDNN is activated.\n",
      "[13:12:54] ../src/executor/graph_executor.cc:1991: Subgraph backend MKLDNN is activated.\n",
      "[13:12:54] ../src/executor/graph_executor.cc:1991: Subgraph backend MKLDNN is activated.\n",
      "[13:12:54] ../src/executor/graph_executor.cc:1991: Subgraph backend MKLDNN is activated.\n",
      "[13:12:54] ../src/executor/graph_executor.cc:1991: Subgraph backend MKLDNN is activated.\n",
      "[13:12:54] ../src/executor/graph_executor.cc:1991: Subgraph backend MKLDNN is activated.\n",
      "[13:12:54] ../src/executor/graph_executor.cc:1991: Subgraph backend MKLDNN is activated.\n",
      "[13:12:54] ../src/executor/graph_executor.cc:1991: Subgraph backend MKLDNN is activated.\n",
      "[13:12:54] ../src/executor/graph_executor.cc:1991: Subgraph backend MKLDNN is activated.\n",
      "TRIM Creating Cropped Images for detector mtcnn_serfiq:  80%|████████  | 4/5 [00:00<00:00,  4.38it/s][13:12:54] ../src/executor/graph_executor.cc:1991: Subgraph backend MKLDNN is activated.\n",
      "[13:12:55] ../src/executor/graph_executor.cc:1991: Subgraph backend MKLDNN is activated.\n",
      "[13:12:55] ../src/executor/graph_executor.cc:1991: Subgraph backend MKLDNN is activated.\n",
      "[13:12:55] ../src/executor/graph_executor.cc:1991: Subgraph backend MKLDNN is activated.\n",
      "[13:12:55] ../src/executor/graph_executor.cc:1991: Subgraph backend MKLDNN is activated.\n",
      "[13:12:55] ../src/executor/graph_executor.cc:1991: Subgraph backend MKLDNN is activated.\n",
      "[13:12:55] ../src/executor/graph_executor.cc:1991: Subgraph backend MKLDNN is activated.\n",
      "[13:12:55] ../src/executor/graph_executor.cc:1991: Subgraph backend MKLDNN is activated.\n",
      "[13:12:55] ../src/executor/graph_executor.cc:1991: Subgraph backend MKLDNN is activated.\n",
      "[13:12:55] ../src/executor/graph_executor.cc:1991: Subgraph backend MKLDNN is activated.\n",
      "[13:12:55] ../src/executor/graph_executor.cc:1991: Subgraph backend MKLDNN is activated.\n",
      "[13:12:55] ../src/executor/graph_executor.cc:1991: Subgraph backend MKLDNN is activated.\n",
      "[13:12:55] ../src/executor/graph_executor.cc:1991: Subgraph backend MKLDNN is activated.\n",
      "[13:12:55] ../src/executor/graph_executor.cc:1991: Subgraph backend MKLDNN is activated.\n",
      "[13:12:55] ../src/executor/graph_executor.cc:1991: Subgraph backend MKLDNN is activated.\n",
      "[13:12:55] ../src/executor/graph_executor.cc:1991: Subgraph backend MKLDNN is activated.\n",
      "[13:12:55] ../src/executor/graph_executor.cc:1991: Subgraph backend MKLDNN is activated.\n",
      "TRIM Creating Cropped Images for detector mtcnn_serfiq: 100%|██████████| 5/5 [00:01<00:00,  4.32it/s]\n",
      "Face images in ArcFace: 100%|██████████| 10/10 [00:00<00:00, 216.05it/s]\n",
      "Embedding models: 100%|██████████| 1/1 [00:00<00:00, 19.37it/s]\n",
      "Quality images in ser-fiq: 100%|██████████| 10/10 [00:00<00:00, 223.57it/s]\n",
      "Quality models: 100%|██████████| 1/1 [00:00<00:00, 19.65it/s]\n"
     ]
    }
   ],
   "source": [
    "database.create_tables(serfiq=serfiq)"
   ]
  },
  {
   "cell_type": "code",
   "execution_count": 7,
   "metadata": {},
   "outputs": [
    {
     "name": "stderr",
     "output_type": "stream",
     "text": [
      "Update cropped images serfiq:   0%|          | 0/30 [00:18<?, ?it/s]\n"
     ]
    },
    {
     "ename": "AttributeError",
     "evalue": "'NoneType' object has no attribute 'apply_mtcnn'",
     "output_type": "error",
     "traceback": [
      "\u001b[0;31m---------------------------------------------------------------------------\u001b[0m",
      "\u001b[0;31mAttributeError\u001b[0m                            Traceback (most recent call last)",
      "\u001b[0;32m/tmp/ipykernel_12370/3778404452.py\u001b[0m in \u001b[0;36m<module>\u001b[0;34m\u001b[0m\n\u001b[0;32m----> 1\u001b[0;31m \u001b[0mdatabase\u001b[0m\u001b[0;34m.\u001b[0m\u001b[0mupdate_tables\u001b[0m\u001b[0;34m(\u001b[0m\u001b[0mattributes_to_update\u001b[0m\u001b[0;34m,\u001b[0m \u001b[0mserfiq\u001b[0m\u001b[0;34m)\u001b[0m\u001b[0;34m\u001b[0m\u001b[0;34m\u001b[0m\u001b[0m\n\u001b[0m",
      "\u001b[0;32m~/PycharmProjects/sql-face/sql_face/sqldb.py\u001b[0m in \u001b[0;36mupdate_tables\u001b[0;34m(self, attributes_to_update, force_update, serfiq)\u001b[0m\n\u001b[1;32m     63\u001b[0m     \u001b[0;32mdef\u001b[0m \u001b[0mupdate_tables\u001b[0m\u001b[0;34m(\u001b[0m\u001b[0mself\u001b[0m\u001b[0;34m,\u001b[0m \u001b[0mattributes_to_update\u001b[0m\u001b[0;34m:\u001b[0m\u001b[0mList\u001b[0m\u001b[0;34m[\u001b[0m\u001b[0mstr\u001b[0m\u001b[0;34m]\u001b[0m\u001b[0;34m,\u001b[0m \u001b[0mforce_update\u001b[0m\u001b[0;34m:\u001b[0m\u001b[0mbool\u001b[0m\u001b[0;34m=\u001b[0m\u001b[0;32mFalse\u001b[0m\u001b[0;34m,\u001b[0m \u001b[0mserfiq\u001b[0m \u001b[0;34m=\u001b[0m \u001b[0;32mNone\u001b[0m\u001b[0;34m)\u001b[0m\u001b[0;34m:\u001b[0m\u001b[0;34m\u001b[0m\u001b[0;34m\u001b[0m\u001b[0m\n\u001b[1;32m     64\u001b[0m         \u001b[0;31m# update_images(self.session, self.databases, attributes_to_update, force_update = force_update)\u001b[0m\u001b[0;34m\u001b[0m\u001b[0;34m\u001b[0m\u001b[0;34m\u001b[0m\u001b[0m\n\u001b[0;32m---> 65\u001b[0;31m         \u001b[0mupdate_cropped_images\u001b[0m\u001b[0;34m(\u001b[0m\u001b[0mself\u001b[0m\u001b[0;34m.\u001b[0m\u001b[0msession\u001b[0m\u001b[0;34m,\u001b[0m \u001b[0mforce_update\u001b[0m \u001b[0;34m=\u001b[0m \u001b[0mforce_update\u001b[0m\u001b[0;34m,\u001b[0m \u001b[0mserfiq\u001b[0m \u001b[0;34m=\u001b[0m \u001b[0mserfiq\u001b[0m\u001b[0;34m)\u001b[0m\u001b[0;34m\u001b[0m\u001b[0;34m\u001b[0m\u001b[0m\n\u001b[0m\u001b[1;32m     66\u001b[0m         \u001b[0mupdate_face_images\u001b[0m\u001b[0;34m(\u001b[0m\u001b[0mself\u001b[0m\u001b[0;34m.\u001b[0m\u001b[0msession\u001b[0m\u001b[0;34m,\u001b[0m \u001b[0mforce_update\u001b[0m \u001b[0;34m=\u001b[0m \u001b[0mforce_update\u001b[0m\u001b[0;34m)\u001b[0m\u001b[0;34m\u001b[0m\u001b[0;34m\u001b[0m\u001b[0m\n\u001b[1;32m     67\u001b[0m         \u001b[0;31m# update_quality_images(self.session, serfiq, force_update = force_update)\u001b[0m\u001b[0;34m\u001b[0m\u001b[0;34m\u001b[0m\u001b[0;34m\u001b[0m\u001b[0m\n",
      "\u001b[0;32m~/PycharmProjects/sql-face/sql_face/alchemy.py\u001b[0m in \u001b[0;36mupdate_cropped_images\u001b[0;34m(session, force_update, serfiq)\u001b[0m\n\u001b[1;32m    304\u001b[0m         \u001b[0mfill_cropped_image\u001b[0m \u001b[0;34m=\u001b[0m \u001b[0mfill_cropped_image_serfiq\u001b[0m\u001b[0;34m\u001b[0m\u001b[0;34m\u001b[0m\u001b[0m\n\u001b[1;32m    305\u001b[0m         \u001b[0;32mfor\u001b[0m \u001b[0mcr_img\u001b[0m \u001b[0;32min\u001b[0m \u001b[0mtqdm\u001b[0m\u001b[0;34m(\u001b[0m\u001b[0mall_cr_img_serfiq\u001b[0m\u001b[0;34m,\u001b[0m \u001b[0mdesc\u001b[0m\u001b[0;34m=\u001b[0m\u001b[0;34m'Update cropped images serfiq'\u001b[0m\u001b[0;34m)\u001b[0m\u001b[0;34m:\u001b[0m\u001b[0;34m\u001b[0m\u001b[0;34m\u001b[0m\u001b[0m\n\u001b[0;32m--> 306\u001b[0;31m             \u001b[0mfill_cropped_image\u001b[0m\u001b[0;34m(\u001b[0m\u001b[0mcr_img\u001b[0m\u001b[0;34m,\u001b[0m \u001b[0mser_fiq\u001b[0m \u001b[0;34m=\u001b[0m \u001b[0mserfiq\u001b[0m\u001b[0;34m)\u001b[0m\u001b[0;34m\u001b[0m\u001b[0;34m\u001b[0m\u001b[0m\n\u001b[0m\u001b[1;32m    307\u001b[0m             \u001b[0msession\u001b[0m\u001b[0;34m.\u001b[0m\u001b[0mcommit\u001b[0m\u001b[0;34m(\u001b[0m\u001b[0;34m)\u001b[0m\u001b[0;34m\u001b[0m\u001b[0;34m\u001b[0m\u001b[0m\n\u001b[1;32m    308\u001b[0m \u001b[0;34m\u001b[0m\u001b[0m\n",
      "\u001b[0;32m~/PycharmProjects/sql-face/sql_face/alchemy.py\u001b[0m in \u001b[0;36mfill_cropped_image_serfiq\u001b[0;34m(cr_img, ser_fiq)\u001b[0m\n\u001b[1;32m     94\u001b[0m \u001b[0;32mdef\u001b[0m \u001b[0mfill_cropped_image_serfiq\u001b[0m\u001b[0;34m(\u001b[0m\u001b[0mcr_img\u001b[0m\u001b[0;34m:\u001b[0m \u001b[0mCroppedImage\u001b[0m\u001b[0;34m,\u001b[0m \u001b[0mser_fiq\u001b[0m\u001b[0;34m)\u001b[0m\u001b[0;34m:\u001b[0m\u001b[0;34m\u001b[0m\u001b[0;34m\u001b[0m\u001b[0m\n\u001b[1;32m     95\u001b[0m         \u001b[0mimage\u001b[0m \u001b[0;34m=\u001b[0m \u001b[0mcr_img\u001b[0m\u001b[0;34m.\u001b[0m\u001b[0mimages\u001b[0m\u001b[0;34m.\u001b[0m\u001b[0mget_image\u001b[0m\u001b[0;34m(\u001b[0m\u001b[0;34m)\u001b[0m\u001b[0;34m\u001b[0m\u001b[0;34m\u001b[0m\u001b[0m\n\u001b[0;32m---> 96\u001b[0;31m         \u001b[0maligned_img\u001b[0m \u001b[0;34m=\u001b[0m \u001b[0mser_fiq\u001b[0m\u001b[0;34m.\u001b[0m\u001b[0mapply_mtcnn\u001b[0m\u001b[0;34m(\u001b[0m\u001b[0mimage\u001b[0m\u001b[0;34m)\u001b[0m\u001b[0;34m\u001b[0m\u001b[0;34m\u001b[0m\u001b[0m\n\u001b[0m\u001b[1;32m     97\u001b[0m         \u001b[0;32mif\u001b[0m \u001b[0maligned_img\u001b[0m \u001b[0;32mis\u001b[0m \u001b[0;32mNone\u001b[0m\u001b[0;34m:\u001b[0m\u001b[0;34m\u001b[0m\u001b[0;34m\u001b[0m\u001b[0m\n\u001b[1;32m     98\u001b[0m             \u001b[0mcr_img\u001b[0m\u001b[0;34m.\u001b[0m\u001b[0mbounding_box\u001b[0m \u001b[0;34m=\u001b[0m \u001b[0;34m[\u001b[0m\u001b[0;34m]\u001b[0m\u001b[0;34m\u001b[0m\u001b[0;34m\u001b[0m\u001b[0m\n",
      "\u001b[0;31mAttributeError\u001b[0m: 'NoneType' object has no attribute 'apply_mtcnn'"
     ]
    }
   ],
   "source": [
    "database.update_tables(attributes_to_update, serfiq)"
   ]
  }
 ],
 "metadata": {
  "kernelspec": {
   "display_name": "Python 3.7.13 ('sql-face')",
   "language": "python",
   "name": "python3"
  },
  "language_info": {
   "codemirror_mode": {
    "name": "ipython",
    "version": 3
   },
   "file_extension": ".py",
   "mimetype": "text/x-python",
   "name": "python",
   "nbconvert_exporter": "python",
   "pygments_lexer": "ipython3",
   "version": "3.7.15"
  },
  "orig_nbformat": 4,
  "vscode": {
   "interpreter": {
    "hash": "0a84f744ed89671113ba95f00e1aad6d21abade608318eb8af248311f249adcd"
   }
  }
 },
 "nbformat": 4,
 "nbformat_minor": 2
}
