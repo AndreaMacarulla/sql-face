{
 "cells": [
  {
   "cell_type": "markdown",
   "metadata": {},
   "source": [
    "# Parameter definition\n",
    "Choose all the settings for the database creation. Input, output dir..."
   ]
  },
  {
   "cell_type": "code",
   "execution_count": 7,
   "metadata": {},
   "outputs": [],
   "source": [
    "import os\n",
    "\n",
    "home = os.path.expanduser(\"~\")\n",
    "\n",
    "db_name=  'colab_main_dataset' #'test_new_creators_4'\n",
    "input_dir = os.path.join(home, 'video_resources', 'image_datasets')\n",
    "output_dir = os.path.join(home, 'video_resources', 'sql_database')\n",
    "database_names=[ 'lfw'] # 'lfw', 'scface',  'enfsi', 'enfsi2015', 'xqlfw', 'utkface','chokepoint','forenface'\n",
    "detector_names=['mtcnn'] # 'dlib', 'mtcnn', 'mtcnn_serfiq'\n",
    "embedding_model_names=[\"ArcFace\"] # , \"Dlib\", \"ArcFace\",\n",
    "attributes_to_update=['gender','age','emotion','race']  # 'gender', 'age', 'emotion', 'race'\n",
    "quality_model_names = ['ser_fiq', 'tface'] # 'confusion_score', 'ser_fiq',"
   ]
  },
  {
   "cell_type": "markdown",
   "metadata": {},
   "source": [
    "## SERFIQ model\n",
    "\n",
    "Create SERFIQ model."
   ]
  },
  {
   "cell_type": "code",
   "execution_count": 8,
   "metadata": {},
   "outputs": [
    {
     "name": "stderr",
     "output_type": "stream",
     "text": [
      "[19:54:41] ../src/nnvm/legacy_json_util.cc:208: Loading symbol saved by previous version v1.8.0. Attempting to upgrade...\n",
      "[19:54:41] ../src/nnvm/legacy_json_util.cc:216: Symbol successfully upgraded!\n",
      "[19:54:41] ../src/nnvm/legacy_json_util.cc:208: Loading symbol saved by previous version v0.8.0. Attempting to upgrade...\n",
      "[19:54:41] ../src/nnvm/legacy_json_util.cc:216: Symbol successfully upgraded!\n",
      "[19:54:41] ../src/nnvm/legacy_json_util.cc:208: Loading symbol saved by previous version v0.8.0. Attempting to upgrade...\n",
      "[19:54:41] ../src/nnvm/legacy_json_util.cc:216: Symbol successfully upgraded!\n",
      "[19:54:41] ../src/nnvm/legacy_json_util.cc:208: Loading symbol saved by previous version v0.8.0. Attempting to upgrade...\n",
      "[19:54:41] ../src/nnvm/legacy_json_util.cc:216: Symbol successfully upgraded!\n",
      "[19:54:41] ../src/nnvm/legacy_json_util.cc:208: Loading symbol saved by previous version v0.8.0. Attempting to upgrade...\n",
      "[19:54:41] ../src/nnvm/legacy_json_util.cc:216: Symbol successfully upgraded!\n"
     ]
    }
   ],
   "source": [
    "from sql_face.serfiq import get_serfiq_model\n",
    "serfiq = get_serfiq_model()"
   ]
  },
  {
   "cell_type": "markdown",
   "metadata": {},
   "source": [
    "# Database creation"
   ]
  },
  {
   "cell_type": "markdown",
   "metadata": {},
   "source": [
    "database = SQLDataBase(db_name=db_name,\n",
    "                        database_names=database_names, # , 'scface', 'forenface', 'enfsi', 'enfsi2015'\n",
    "                        detector_names=detector_names,\n",
    "                        embedding_model_names=embedding_model_names,\n",
    "                        quality_model_names=quality_model_names,\n",
    "                        save_in_drive=save_in_drive                        \n",
    "                        )\n",
    "\n",
    "database.fill_db()\n",
    "database.update_db(attributes_to_update=attributes_to_update, force_update=False)"
   ]
  },
  {
   "cell_type": "code",
   "execution_count": 9,
   "metadata": {},
   "outputs": [],
   "source": [
    "from sql_face.sqldb import SQLDataBase"
   ]
  },
  {
   "cell_type": "code",
   "execution_count": 10,
   "metadata": {},
   "outputs": [],
   "source": [
    "database = SQLDataBase(db_name=db_name,\n",
    "                        input_dir = input_dir,\n",
    "                        output_dir_name = output_dir,\n",
    "                        database_names = database_names,\n",
    "                        detector_names = detector_names,\n",
    "                        embedding_model_names = embedding_model_names,\n",
    "                        quality_model_names = quality_model_names)"
   ]
  },
  {
   "cell_type": "code",
   "execution_count": 11,
   "metadata": {},
   "outputs": [
    {
     "data": {
      "text/plain": [
       "{'db_name': 'colab_main_dataset',\n",
       " 'input_dir': '/home/jmacarulla/video_resources/image_datasets',\n",
       " 'save_in_drive': False,\n",
       " 'output_dir': '/home/jmacarulla/video_resources/sql_database',\n",
       " 'session': <sqlalchemy.orm.session.Session at 0x7f7d9afc2b80>,\n",
       " 'databases': [<sql_face.databases.LFW at 0x7f7ee0574af0>],\n",
       " 'detector_names': ['mtcnn'],\n",
       " 'embedding_model_names': ['ArcFace'],\n",
       " 'quality_model_names': ['ser_fiq', 'tface']}"
      ]
     },
     "execution_count": 11,
     "metadata": {},
     "output_type": "execute_result"
    }
   ],
   "source": [
    "database.__dict__"
   ]
  },
  {
   "cell_type": "code",
   "execution_count": 6,
   "metadata": {},
   "outputs": [
    {
     "ename": "KeyboardInterrupt",
     "evalue": "",
     "output_type": "error",
     "traceback": [
      "\u001b[0;31m---------------------------------------------------------------------------\u001b[0m",
      "\u001b[0;31mKeyboardInterrupt\u001b[0m                         Traceback (most recent call last)",
      "Cell \u001b[0;32mIn [6], line 12\u001b[0m\n\u001b[1;32m      4\u001b[0m session \u001b[39m=\u001b[39m database\u001b[39m.\u001b[39msession\n\u001b[1;32m      7\u001b[0m \u001b[39m\"\"\" pd.read_sql_query(\u001b[39;00m\n\u001b[1;32m      8\u001b[0m \u001b[39m    sql = session.query(Students.first_name,\u001b[39;00m\n\u001b[1;32m      9\u001b[0m \u001b[39m                        Students.last_name).filter(\u001b[39;00m\n\u001b[1;32m     10\u001b[0m \u001b[39m      Students.score > 80).statement, con = engine) \"\"\"\u001b[39;00m\n\u001b[0;32m---> 12\u001b[0m a \u001b[39m=\u001b[39m pd\u001b[39m.\u001b[39;49mread_sql_query(session\u001b[39m.\u001b[39;49mquery(QualityImage,FaceImage\u001b[39m.\u001b[39;49membeddingModel_id,FaceImage\u001b[39m.\u001b[39;49mcroppedImage_id)\n\u001b[1;32m     13\u001b[0m     \u001b[39m.\u001b[39;49mjoin(FaceImage)\n\u001b[1;32m     14\u001b[0m     \u001b[39m.\u001b[39;49mfilter(QualityImage\u001b[39m.\u001b[39;49mquality \u001b[39m==\u001b[39;49m \u001b[39mNone\u001b[39;49;00m)\u001b[39m.\u001b[39;49mstatement, con\u001b[39m=\u001b[39;49msession\u001b[39m.\u001b[39;49mbind)\n\u001b[1;32m     17\u001b[0m b \u001b[39m=\u001b[39m (session\u001b[39m.\u001b[39mquery(QualityImage\u001b[39m.\u001b[39mqualityModel_id, FaceImage\u001b[39m.\u001b[39membeddingModel_id,FaceImage\u001b[39m.\u001b[39mcroppedImage_id)\n\u001b[1;32m     18\u001b[0m     \u001b[39m.\u001b[39mjoin(FaceImage)\n\u001b[1;32m     19\u001b[0m     \u001b[39m.\u001b[39mfilter(QualityImage\u001b[39m.\u001b[39mquality \u001b[39m!=\u001b[39m \u001b[39mNone\u001b[39;00m)\u001b[39m.\u001b[39mall())\n\u001b[1;32m     21\u001b[0m \u001b[39mfor\u001b[39;00m row \u001b[39min\u001b[39;00m a:\n",
      "File \u001b[0;32m~/anaconda3/envs/sql-face/lib/python3.8/site-packages/pandas/io/sql.py:397\u001b[0m, in \u001b[0;36mread_sql_query\u001b[0;34m(sql, con, index_col, coerce_float, params, parse_dates, chunksize, dtype)\u001b[0m\n\u001b[1;32m    339\u001b[0m \u001b[39m\"\"\"\u001b[39;00m\n\u001b[1;32m    340\u001b[0m \u001b[39mRead SQL query into a DataFrame.\u001b[39;00m\n\u001b[1;32m    341\u001b[0m \n\u001b[0;32m   (...)\u001b[0m\n\u001b[1;32m    394\u001b[0m \u001b[39mparameter will be converted to UTC.\u001b[39;00m\n\u001b[1;32m    395\u001b[0m \u001b[39m\"\"\"\u001b[39;00m\n\u001b[1;32m    396\u001b[0m pandas_sql \u001b[39m=\u001b[39m pandasSQL_builder(con)\n\u001b[0;32m--> 397\u001b[0m \u001b[39mreturn\u001b[39;00m pandas_sql\u001b[39m.\u001b[39;49mread_query(\n\u001b[1;32m    398\u001b[0m     sql,\n\u001b[1;32m    399\u001b[0m     index_col\u001b[39m=\u001b[39;49mindex_col,\n\u001b[1;32m    400\u001b[0m     params\u001b[39m=\u001b[39;49mparams,\n\u001b[1;32m    401\u001b[0m     coerce_float\u001b[39m=\u001b[39;49mcoerce_float,\n\u001b[1;32m    402\u001b[0m     parse_dates\u001b[39m=\u001b[39;49mparse_dates,\n\u001b[1;32m    403\u001b[0m     chunksize\u001b[39m=\u001b[39;49mchunksize,\n\u001b[1;32m    404\u001b[0m     dtype\u001b[39m=\u001b[39;49mdtype,\n\u001b[1;32m    405\u001b[0m )\n",
      "File \u001b[0;32m~/anaconda3/envs/sql-face/lib/python3.8/site-packages/pandas/io/sql.py:1574\u001b[0m, in \u001b[0;36mSQLDatabase.read_query\u001b[0;34m(self, sql, index_col, coerce_float, parse_dates, params, chunksize, dtype)\u001b[0m\n\u001b[1;32m   1564\u001b[0m     \u001b[39mreturn\u001b[39;00m \u001b[39mself\u001b[39m\u001b[39m.\u001b[39m_query_iterator(\n\u001b[1;32m   1565\u001b[0m         result,\n\u001b[1;32m   1566\u001b[0m         chunksize,\n\u001b[0;32m   (...)\u001b[0m\n\u001b[1;32m   1571\u001b[0m         dtype\u001b[39m=\u001b[39mdtype,\n\u001b[1;32m   1572\u001b[0m     )\n\u001b[1;32m   1573\u001b[0m \u001b[39melse\u001b[39;00m:\n\u001b[0;32m-> 1574\u001b[0m     data \u001b[39m=\u001b[39m result\u001b[39m.\u001b[39;49mfetchall()\n\u001b[1;32m   1575\u001b[0m     frame \u001b[39m=\u001b[39m _wrap_result(\n\u001b[1;32m   1576\u001b[0m         data,\n\u001b[1;32m   1577\u001b[0m         columns,\n\u001b[0;32m   (...)\u001b[0m\n\u001b[1;32m   1581\u001b[0m         dtype\u001b[39m=\u001b[39mdtype,\n\u001b[1;32m   1582\u001b[0m     )\n\u001b[1;32m   1583\u001b[0m     \u001b[39mreturn\u001b[39;00m frame\n",
      "File \u001b[0;32m~/anaconda3/envs/sql-face/lib/python3.8/site-packages/sqlalchemy/engine/result.py:1024\u001b[0m, in \u001b[0;36mResult.fetchall\u001b[0;34m(self)\u001b[0m\n\u001b[1;32m   1021\u001b[0m \u001b[39mdef\u001b[39;00m \u001b[39mfetchall\u001b[39m(\u001b[39mself\u001b[39m):\n\u001b[1;32m   1022\u001b[0m     \u001b[39m\"\"\"A synonym for the :meth:`_engine.Result.all` method.\"\"\"\u001b[39;00m\n\u001b[0;32m-> 1024\u001b[0m     \u001b[39mreturn\u001b[39;00m \u001b[39mself\u001b[39;49m\u001b[39m.\u001b[39;49m_allrows()\n",
      "File \u001b[0;32m~/anaconda3/envs/sql-face/lib/python3.8/site-packages/sqlalchemy/engine/result.py:403\u001b[0m, in \u001b[0;36mResultInternal._allrows\u001b[0;34m(self)\u001b[0m\n\u001b[1;32m    401\u001b[0m rows \u001b[39m=\u001b[39m \u001b[39mself\u001b[39m\u001b[39m.\u001b[39m_fetchall_impl()\n\u001b[1;32m    402\u001b[0m \u001b[39mif\u001b[39;00m make_row:\n\u001b[0;32m--> 403\u001b[0m     made_rows \u001b[39m=\u001b[39m [make_row(row) \u001b[39mfor\u001b[39;00m row \u001b[39min\u001b[39;00m rows]\n\u001b[1;32m    404\u001b[0m \u001b[39melse\u001b[39;00m:\n\u001b[1;32m    405\u001b[0m     made_rows \u001b[39m=\u001b[39m rows\n",
      "File \u001b[0;32m~/anaconda3/envs/sql-face/lib/python3.8/site-packages/sqlalchemy/engine/result.py:403\u001b[0m, in \u001b[0;36m<listcomp>\u001b[0;34m(.0)\u001b[0m\n\u001b[1;32m    401\u001b[0m rows \u001b[39m=\u001b[39m \u001b[39mself\u001b[39m\u001b[39m.\u001b[39m_fetchall_impl()\n\u001b[1;32m    402\u001b[0m \u001b[39mif\u001b[39;00m make_row:\n\u001b[0;32m--> 403\u001b[0m     made_rows \u001b[39m=\u001b[39m [make_row(row) \u001b[39mfor\u001b[39;00m row \u001b[39min\u001b[39;00m rows]\n\u001b[1;32m    404\u001b[0m \u001b[39melse\u001b[39;00m:\n\u001b[1;32m    405\u001b[0m     made_rows \u001b[39m=\u001b[39m rows\n",
      "File \u001b[0;32m~/anaconda3/envs/sql-face/lib/python3.8/site-packages/sqlalchemy/sql/sqltypes.py:1866\u001b[0m, in \u001b[0;36mPickleType.result_processor.<locals>.process\u001b[0;34m(value)\u001b[0m\n\u001b[1;32m   1863\u001b[0m loads \u001b[39m=\u001b[39m \u001b[39mself\u001b[39m\u001b[39m.\u001b[39mpickler\u001b[39m.\u001b[39mloads\n\u001b[1;32m   1864\u001b[0m \u001b[39mif\u001b[39;00m impl_processor:\n\u001b[0;32m-> 1866\u001b[0m     \u001b[39mdef\u001b[39;00m \u001b[39mprocess\u001b[39m(value):\n\u001b[1;32m   1867\u001b[0m         value \u001b[39m=\u001b[39m impl_processor(value)\n\u001b[1;32m   1868\u001b[0m         \u001b[39mif\u001b[39;00m value \u001b[39mis\u001b[39;00m \u001b[39mNone\u001b[39;00m:\n",
      "\u001b[0;31mKeyboardInterrupt\u001b[0m: "
     ]
    }
   ],
   "source": [
    "import pandas as pd\n",
    "from sql_face.tables import EnfsiPair, EnfsiPair2015, QualityImage, FaceImage, CroppedImage\n",
    "\n",
    "session = database.session\n",
    "\n",
    "\"\"\" pd.read_sql_query(\n",
    "    sql = session.query(Students.first_name,\n",
    "                        Students.last_name).filter(\n",
    "      Students.score > 80).statement, con = engine) \"\"\"\n",
    "\n",
    "a = pd.read_sql_query(session.query(QualityImage,FaceImage.embeddingModel_id,FaceImage.croppedImage_id)\n",
    "    .join(FaceImage)\n",
    "    .filter(QualityImage.quality == None).statement, con=session.bind)\n",
    "\n",
    "\n",
    "b = (session.query(QualityImage.qualityModel_id, FaceImage.embeddingModel_id,FaceImage.croppedImage_id)\n",
    "    .join(FaceImage)\n",
    "    .filter(QualityImage.quality != None).all())\n",
    "\n",
    "for row in a:\n",
    "    b = row[0].qualityModel\n",
    "    \n",
    "\n",
    "\n",
    "len(a)\n",
    "len(b)\n",
    "a[0].qualityImage_id\n",
    "b[0].qualityImage_id\n",
    "# for row in a:\n",
    "#     print(row.first.image_id,row.second.image_id,row.get_n_common_attributes())"
   ]
  },
  {
   "cell_type": "code",
   "execution_count": null,
   "metadata": {},
   "outputs": [],
   "source": [
    "serfiq = None"
   ]
  },
  {
   "cell_type": "code",
   "execution_count": null,
   "metadata": {},
   "outputs": [],
   "source": [
    "database.create_tables(serfiq=serfiq)"
   ]
  },
  {
   "cell_type": "code",
   "execution_count": null,
   "metadata": {},
   "outputs": [],
   "source": [
    "from sql_face.tables import Image\n",
    "images = database.session.query(Image).all()\n",
    "len(images)"
   ]
  },
  {
   "cell_type": "code",
   "execution_count": null,
   "metadata": {},
   "outputs": [],
   "source": [
    "database.update_tables(attributes_to_update, serfiq = serfiq)"
   ]
  }
 ],
 "metadata": {
  "kernelspec": {
   "display_name": "sql-face",
   "language": "python",
   "name": "python3"
  },
  "language_info": {
   "codemirror_mode": {
    "name": "ipython",
    "version": 3
   },
   "file_extension": ".py",
   "mimetype": "text/x-python",
   "name": "python",
   "nbconvert_exporter": "python",
   "pygments_lexer": "ipython3",
   "version": "3.8.15"
  },
  "orig_nbformat": 4,
  "vscode": {
   "interpreter": {
    "hash": "edd2314f85f22963f985d48f57a085e9a58a34ab11a3cd413d34968a1f6f2e55"
   }
  }
 },
 "nbformat": 4,
 "nbformat_minor": 2
}
