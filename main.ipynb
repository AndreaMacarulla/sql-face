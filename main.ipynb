{
 "cells": [
  {
   "cell_type": "markdown",
   "metadata": {},
   "source": [
    "# Parameter definition\n",
    "Choose all the settings for the database creation."
   ]
  },
  {
   "cell_type": "code",
   "execution_count": 11,
   "metadata": {},
   "outputs": [],
   "source": [
    "#TODO: Change absolute to relative paths for input and output dir.\n",
    "import os\n",
    "\n",
    "home = os.path.expanduser(\"~\")\n",
    "\n",
    "db_name= 'test_video_dataset' #'colab_main_dataset'\n",
    "input_dir = os.path.join(home,'image_datasets')\n",
    "output_dir = os.path.join(home,'sql_database')\n",
    "database_names=['lfw'] # , 'scface', 'forenface', 'enfsi', 'enfsi2015'\n",
    "detector_names=['mtcnn', 'mtcnn_serfiq'] # 'dlib', 'mtcnn', 'mtcnn_serfiq'\n",
    "embedding_model_names=[\"ArcFace\"] # , \"Dlib\", \"ArcFace\",\n",
    "attributes_to_update=['gender', 'age']  # 'gender', 'age', 'emotion', 'race'\n",
    "quality_model_names = ['ser_fiq'] # 'confusion_score',\n",
    "save_in_drive = False # To work in google colab\n",
    "\n"
   ]
  },
  {
   "cell_type": "markdown",
   "metadata": {},
   "source": [
    "## SERFIQ model\n",
    "\n",
    "Create SERFIQ model."
   ]
  },
  {
   "cell_type": "code",
   "execution_count": 12,
   "metadata": {},
   "outputs": [
    {
     "name": "stderr",
     "output_type": "stream",
     "text": [
      "[15:11:51] ../src/nnvm/legacy_json_util.cc:208: Loading symbol saved by previous version v1.8.0. Attempting to upgrade...\n",
      "[15:11:51] ../src/nnvm/legacy_json_util.cc:216: Symbol successfully upgraded!\n",
      "[15:11:53] ../src/nnvm/legacy_json_util.cc:208: Loading symbol saved by previous version v0.8.0. Attempting to upgrade...\n",
      "[15:11:53] ../src/nnvm/legacy_json_util.cc:216: Symbol successfully upgraded!\n",
      "[15:11:53] ../src/nnvm/legacy_json_util.cc:208: Loading symbol saved by previous version v0.8.0. Attempting to upgrade...\n",
      "[15:11:53] ../src/nnvm/legacy_json_util.cc:216: Symbol successfully upgraded!\n",
      "[15:11:53] ../src/nnvm/legacy_json_util.cc:208: Loading symbol saved by previous version v0.8.0. Attempting to upgrade...\n",
      "[15:11:53] ../src/nnvm/legacy_json_util.cc:216: Symbol successfully upgraded!\n",
      "[15:11:53] ../src/nnvm/legacy_json_util.cc:208: Loading symbol saved by previous version v0.8.0. Attempting to upgrade...\n",
      "[15:11:53] ../src/nnvm/legacy_json_util.cc:216: Symbol successfully upgraded!\n"
     ]
    }
   ],
   "source": [
    "from sql_face.serfiq import get_serfiq_model\n",
    "serfiq = get_serfiq_model()"
   ]
  },
  {
   "cell_type": "markdown",
   "metadata": {},
   "source": [
    "# Database creation"
   ]
  },
  {
   "cell_type": "markdown",
   "metadata": {},
   "source": [
    "database = SQLDataBase(db_name=db_name,\n",
    "                        database_names=database_names, # , 'scface', 'forenface', 'enfsi', 'enfsi2015'\n",
    "                        detector_names=detector_names,\n",
    "                        embedding_model_names=embedding_model_names,\n",
    "                        quality_model_names=quality_model_names,\n",
    "                        save_in_drive=save_in_drive                        \n",
    "                        )\n",
    "\n",
    "database.fill_db()\n",
    "database.update_db(attributes_to_update=attributes_to_update, force_update=False)"
   ]
  },
  {
   "cell_type": "code",
   "execution_count": 13,
   "metadata": {},
   "outputs": [],
   "source": [
    "from sql_face.sqldb import SQLDataBase"
   ]
  },
  {
   "cell_type": "code",
   "execution_count": 14,
   "metadata": {},
   "outputs": [],
   "source": [
    "database = SQLDataBase(db_name=db_name,\n",
    "                        input_dir = input_dir,\n",
    "                        output_dir_name = output_dir,\n",
    "                        database_names = database_names,\n",
    "                        detector_names = detector_names,\n",
    "                        embedding_model_names = embedding_model_names,\n",
    "                        quality_model_names = quality_model_names)"
   ]
  },
  {
   "cell_type": "code",
   "execution_count": 15,
   "metadata": {},
   "outputs": [
    {
     "data": {
      "text/plain": [
       "{'db_name': 'test_video_dataset',\n",
       " 'input_dir': '/home/jmacarulla/image_datasets',\n",
       " 'save_in_drive': False,\n",
       " 'output_dir': '/home/jmacarulla/sql_database',\n",
       " 'session': <sqlalchemy.orm.session.Session at 0x7fb8e4446490>,\n",
       " 'databases': [<sql_face.databases.LFW at 0x7fb8e4446090>],\n",
       " 'detector_names': ['mtcnn', 'mtcnn_serfiq'],\n",
       " 'embedding_model_names': ['ArcFace'],\n",
       " 'quality_model_names': ['ser_fiq']}"
      ]
     },
     "execution_count": 15,
     "metadata": {},
     "output_type": "execute_result"
    }
   ],
   "source": [
    "database.__dict__"
   ]
  },
  {
   "cell_type": "code",
   "execution_count": 16,
   "metadata": {},
   "outputs": [
    {
     "name": "stderr",
     "output_type": "stream",
     "text": [
      "Creating image record from LFW: 0it [00:00, ?it/s]\n",
      "TRIM Creating Cropped Images for detector mtcnn:   0%|          | 0/5 [00:00<?, ?it/s]"
     ]
    },
    {
     "name": "stdout",
     "output_type": "stream",
     "text": [
      "1/1 [==============================] - 0s 69ms/step\n",
      "1/1 [==============================] - 0s 32ms/step\n",
      "1/1 [==============================] - 0s 27ms/step\n",
      "1/1 [==============================] - 0s 23ms/step\n",
      "1/1 [==============================] - 0s 22ms/step\n",
      "1/1 [==============================] - 0s 22ms/step\n",
      "1/1 [==============================] - 0s 20ms/step\n",
      "1/1 [==============================] - 0s 20ms/step\n",
      "2/2 [==============================] - 0s 6ms/step\n",
      "1/1 [==============================] - 0s 37ms/step\n"
     ]
    },
    {
     "name": "stderr",
     "output_type": "stream",
     "text": [
      "TRIM Creating Cropped Images for detector mtcnn:  20%|██        | 1/5 [00:01<00:04,  1.12s/it]"
     ]
    },
    {
     "name": "stdout",
     "output_type": "stream",
     "text": [
      "1/1 [==============================] - 0s 28ms/step\n",
      "1/1 [==============================] - 0s 27ms/step\n",
      "1/1 [==============================] - 0s 23ms/step\n",
      "1/1 [==============================] - 0s 21ms/step\n",
      "1/1 [==============================] - 0s 20ms/step\n",
      "1/1 [==============================] - 0s 20ms/step\n",
      "1/1 [==============================] - 0s 19ms/step\n",
      "1/1 [==============================] - 0s 20ms/step\n",
      "2/2 [==============================] - 0s 8ms/step\n",
      "1/1 [==============================] - 0s 28ms/step\n"
     ]
    },
    {
     "name": "stderr",
     "output_type": "stream",
     "text": [
      "TRIM Creating Cropped Images for detector mtcnn:  40%|████      | 2/5 [00:01<00:02,  1.05it/s]"
     ]
    },
    {
     "name": "stdout",
     "output_type": "stream",
     "text": [
      "1/1 [==============================] - 0s 26ms/step\n",
      "1/1 [==============================] - 0s 24ms/step\n",
      "1/1 [==============================] - 0s 22ms/step\n",
      "1/1 [==============================] - 0s 20ms/step\n",
      "1/1 [==============================] - 0s 20ms/step\n",
      "1/1 [==============================] - 0s 20ms/step\n",
      "1/1 [==============================] - 0s 21ms/step\n",
      "1/1 [==============================] - 0s 21ms/step\n",
      "3/3 [==============================] - 0s 10ms/step\n",
      "1/1 [==============================] - 0s 26ms/step\n"
     ]
    },
    {
     "name": "stderr",
     "output_type": "stream",
     "text": [
      "TRIM Creating Cropped Images for detector mtcnn:  60%|██████    | 3/5 [00:02<00:01,  1.10it/s]"
     ]
    },
    {
     "name": "stdout",
     "output_type": "stream",
     "text": [
      "1/1 [==============================] - 0s 24ms/step\n",
      "1/1 [==============================] - 0s 22ms/step\n",
      "1/1 [==============================] - 0s 21ms/step\n",
      "1/1 [==============================] - 0s 22ms/step\n",
      "1/1 [==============================] - 0s 21ms/step\n",
      "1/1 [==============================] - 0s 20ms/step\n",
      "1/1 [==============================] - 0s 20ms/step\n",
      "1/1 [==============================] - 0s 21ms/step\n",
      "3/3 [==============================] - 0s 7ms/step\n",
      "1/1 [==============================] - 0s 24ms/step\n"
     ]
    },
    {
     "name": "stderr",
     "output_type": "stream",
     "text": [
      "TRIM Creating Cropped Images for detector mtcnn:  80%|████████  | 4/5 [00:03<00:00,  1.14it/s]"
     ]
    },
    {
     "name": "stdout",
     "output_type": "stream",
     "text": [
      "1/1 [==============================] - 0s 29ms/step\n",
      "1/1 [==============================] - 0s 22ms/step\n",
      "1/1 [==============================] - 0s 21ms/step\n",
      "1/1 [==============================] - 0s 21ms/step\n",
      "1/1 [==============================] - 0s 21ms/step\n",
      "1/1 [==============================] - 0s 20ms/step\n",
      "1/1 [==============================] - 0s 22ms/step\n",
      "1/1 [==============================] - 0s 23ms/step\n",
      "2/2 [==============================] - 0s 7ms/step\n",
      "1/1 [==============================] - 0s 30ms/step\n"
     ]
    },
    {
     "name": "stderr",
     "output_type": "stream",
     "text": [
      "TRIM Creating Cropped Images for detector mtcnn: 100%|██████████| 5/5 [00:04<00:00,  1.08it/s]\n",
      "TRIM Creating Cropped Images for detector mtcnn_serfiq:   0%|          | 0/5 [00:00<?, ?it/s][15:12:01] ../src/executor/graph_executor.cc:1991: Subgraph backend MKLDNN is activated.\n",
      "[15:12:01] ../src/executor/graph_executor.cc:1991: Subgraph backend MKLDNN is activated.\n",
      "[15:12:01] ../src/executor/graph_executor.cc:1991: Subgraph backend MKLDNN is activated.\n",
      "[15:12:01] ../src/executor/graph_executor.cc:1991: Subgraph backend MKLDNN is activated.\n",
      "[15:12:01] ../src/executor/graph_executor.cc:1991: Subgraph backend MKLDNN is activated.\n",
      "[15:12:01] ../src/executor/graph_executor.cc:1991: Subgraph backend MKLDNN is activated.\n",
      "[15:12:01] ../src/executor/graph_executor.cc:1991: Subgraph backend MKLDNN is activated.\n",
      "[15:12:01] ../src/executor/graph_executor.cc:1991: Subgraph backend MKLDNN is activated.\n",
      "[15:12:01] ../src/executor/graph_executor.cc:1991: Subgraph backend MKLDNN is activated.\n",
      "[15:12:01] ../src/executor/graph_executor.cc:1991: Subgraph backend MKLDNN is activated.\n",
      "[15:12:01] ../src/executor/graph_executor.cc:1991: Subgraph backend MKLDNN is activated.\n",
      "[15:12:01] ../src/executor/graph_executor.cc:1991: Subgraph backend MKLDNN is activated.\n",
      "[15:12:01] ../src/executor/graph_executor.cc:1991: Subgraph backend MKLDNN is activated.\n",
      "[15:12:01] ../src/executor/graph_executor.cc:1991: Subgraph backend MKLDNN is activated.\n",
      "[15:12:01] ../src/executor/graph_executor.cc:1991: Subgraph backend MKLDNN is activated.\n",
      "[15:12:01] ../src/executor/graph_executor.cc:1991: Subgraph backend MKLDNN is activated.\n",
      "[15:12:01] ../src/executor/graph_executor.cc:1991: Subgraph backend MKLDNN is activated.\n",
      "[15:12:01] ../src/executor/graph_executor.cc:1991: Subgraph backend MKLDNN is activated.\n",
      "[15:12:01] ../src/executor/graph_executor.cc:1991: Subgraph backend MKLDNN is activated.\n",
      "TRIM Creating Cropped Images for detector mtcnn_serfiq:  20%|██        | 1/5 [00:00<00:01,  2.21it/s][15:12:02] ../src/executor/graph_executor.cc:1991: Subgraph backend MKLDNN is activated.\n",
      "[15:12:02] ../src/executor/graph_executor.cc:1991: Subgraph backend MKLDNN is activated.\n",
      "[15:12:02] ../src/executor/graph_executor.cc:1991: Subgraph backend MKLDNN is activated.\n",
      "[15:12:02] ../src/executor/graph_executor.cc:1991: Subgraph backend MKLDNN is activated.\n",
      "[15:12:02] ../src/executor/graph_executor.cc:1991: Subgraph backend MKLDNN is activated.\n",
      "[15:12:02] ../src/executor/graph_executor.cc:1991: Subgraph backend MKLDNN is activated.\n",
      "[15:12:02] ../src/executor/graph_executor.cc:1991: Subgraph backend MKLDNN is activated.\n",
      "[15:12:02] ../src/executor/graph_executor.cc:1991: Subgraph backend MKLDNN is activated.\n",
      "[15:12:02] ../src/executor/graph_executor.cc:1991: Subgraph backend MKLDNN is activated.\n",
      "[15:12:02] ../src/executor/graph_executor.cc:1991: Subgraph backend MKLDNN is activated.\n",
      "[15:12:02] ../src/executor/graph_executor.cc:1991: Subgraph backend MKLDNN is activated.\n",
      "[15:12:02] ../src/executor/graph_executor.cc:1991: Subgraph backend MKLDNN is activated.\n",
      "[15:12:02] ../src/executor/graph_executor.cc:1991: Subgraph backend MKLDNN is activated.\n",
      "[15:12:02] ../src/executor/graph_executor.cc:1991: Subgraph backend MKLDNN is activated.\n",
      "[15:12:02] ../src/executor/graph_executor.cc:1991: Subgraph backend MKLDNN is activated.\n",
      "[15:12:02] ../src/executor/graph_executor.cc:1991: Subgraph backend MKLDNN is activated.\n",
      "[15:12:02] ../src/executor/graph_executor.cc:1991: Subgraph backend MKLDNN is activated.\n",
      "TRIM Creating Cropped Images for detector mtcnn_serfiq:  40%|████      | 2/5 [00:00<00:01,  2.75it/s][15:12:02] ../src/executor/graph_executor.cc:1991: Subgraph backend MKLDNN is activated.\n",
      "[15:12:02] ../src/executor/graph_executor.cc:1991: Subgraph backend MKLDNN is activated.\n",
      "[15:12:02] ../src/executor/graph_executor.cc:1991: Subgraph backend MKLDNN is activated.\n",
      "[15:12:02] ../src/executor/graph_executor.cc:1991: Subgraph backend MKLDNN is activated.\n",
      "[15:12:02] ../src/executor/graph_executor.cc:1991: Subgraph backend MKLDNN is activated.\n",
      "[15:12:02] ../src/executor/graph_executor.cc:1991: Subgraph backend MKLDNN is activated.\n",
      "[15:12:02] ../src/executor/graph_executor.cc:1991: Subgraph backend MKLDNN is activated.\n",
      "[15:12:02] ../src/executor/graph_executor.cc:1991: Subgraph backend MKLDNN is activated.\n",
      "[15:12:02] ../src/executor/graph_executor.cc:1991: Subgraph backend MKLDNN is activated.\n",
      "[15:12:02] ../src/executor/graph_executor.cc:1991: Subgraph backend MKLDNN is activated.\n",
      "[15:12:02] ../src/executor/graph_executor.cc:1991: Subgraph backend MKLDNN is activated.\n",
      "[15:12:02] ../src/executor/graph_executor.cc:1991: Subgraph backend MKLDNN is activated.\n",
      "[15:12:02] ../src/executor/graph_executor.cc:1991: Subgraph backend MKLDNN is activated.\n",
      "[15:12:02] ../src/executor/graph_executor.cc:1991: Subgraph backend MKLDNN is activated.\n",
      "[15:12:02] ../src/executor/graph_executor.cc:1991: Subgraph backend MKLDNN is activated.\n",
      "[15:12:02] ../src/executor/graph_executor.cc:1991: Subgraph backend MKLDNN is activated.\n",
      "[15:12:02] ../src/executor/graph_executor.cc:1991: Subgraph backend MKLDNN is activated.\n",
      "[15:12:02] ../src/executor/graph_executor.cc:1991: Subgraph backend MKLDNN is activated.\n",
      "[15:12:02] ../src/executor/graph_executor.cc:1991: Subgraph backend MKLDNN is activated.\n",
      "TRIM Creating Cropped Images for detector mtcnn_serfiq:  60%|██████    | 3/5 [00:01<00:00,  2.75it/s][15:12:02] ../src/executor/graph_executor.cc:1991: Subgraph backend MKLDNN is activated.\n",
      "[15:12:02] ../src/executor/graph_executor.cc:1991: Subgraph backend MKLDNN is activated.\n",
      "[15:12:02] ../src/executor/graph_executor.cc:1991: Subgraph backend MKLDNN is activated.\n",
      "[15:12:02] ../src/executor/graph_executor.cc:1991: Subgraph backend MKLDNN is activated.\n",
      "[15:12:02] ../src/executor/graph_executor.cc:1991: Subgraph backend MKLDNN is activated.\n",
      "[15:12:02] ../src/executor/graph_executor.cc:1991: Subgraph backend MKLDNN is activated.\n",
      "[15:12:02] ../src/executor/graph_executor.cc:1991: Subgraph backend MKLDNN is activated.\n",
      "[15:12:02] ../src/executor/graph_executor.cc:1991: Subgraph backend MKLDNN is activated.\n",
      "[15:12:02] ../src/executor/graph_executor.cc:1991: Subgraph backend MKLDNN is activated.\n",
      "[15:12:02] ../src/executor/graph_executor.cc:1991: Subgraph backend MKLDNN is activated.\n",
      "[15:12:02] ../src/executor/graph_executor.cc:1991: Subgraph backend MKLDNN is activated.\n",
      "[15:12:02] ../src/executor/graph_executor.cc:1991: Subgraph backend MKLDNN is activated.\n",
      "[15:12:02] ../src/executor/graph_executor.cc:1991: Subgraph backend MKLDNN is activated.\n",
      "[15:12:02] ../src/executor/graph_executor.cc:1991: Subgraph backend MKLDNN is activated.\n",
      "[15:12:02] ../src/executor/graph_executor.cc:1991: Subgraph backend MKLDNN is activated.\n",
      "[15:12:02] ../src/executor/graph_executor.cc:1991: Subgraph backend MKLDNN is activated.\n",
      "[15:12:02] ../src/executor/graph_executor.cc:1991: Subgraph backend MKLDNN is activated.\n",
      "[15:12:02] ../src/executor/graph_executor.cc:1991: Subgraph backend MKLDNN is activated.\n",
      "[15:12:02] ../src/executor/graph_executor.cc:1991: Subgraph backend MKLDNN is activated.\n",
      "TRIM Creating Cropped Images for detector mtcnn_serfiq:  80%|████████  | 4/5 [00:01<00:00,  2.70it/s][15:12:03] ../src/executor/graph_executor.cc:1991: Subgraph backend MKLDNN is activated.\n",
      "[15:12:03] ../src/executor/graph_executor.cc:1991: Subgraph backend MKLDNN is activated.\n",
      "[15:12:03] ../src/executor/graph_executor.cc:1991: Subgraph backend MKLDNN is activated.\n",
      "[15:12:03] ../src/executor/graph_executor.cc:1991: Subgraph backend MKLDNN is activated.\n",
      "[15:12:03] ../src/executor/graph_executor.cc:1991: Subgraph backend MKLDNN is activated.\n",
      "[15:12:03] ../src/executor/graph_executor.cc:1991: Subgraph backend MKLDNN is activated.\n",
      "[15:12:03] ../src/executor/graph_executor.cc:1991: Subgraph backend MKLDNN is activated.\n",
      "[15:12:03] ../src/executor/graph_executor.cc:1991: Subgraph backend MKLDNN is activated.\n",
      "[15:12:03] ../src/executor/graph_executor.cc:1991: Subgraph backend MKLDNN is activated.\n",
      "[15:12:03] ../src/executor/graph_executor.cc:1991: Subgraph backend MKLDNN is activated.\n",
      "[15:12:03] ../src/executor/graph_executor.cc:1991: Subgraph backend MKLDNN is activated.\n",
      "[15:12:03] ../src/executor/graph_executor.cc:1991: Subgraph backend MKLDNN is activated.\n",
      "[15:12:03] ../src/executor/graph_executor.cc:1991: Subgraph backend MKLDNN is activated.\n",
      "[15:12:03] ../src/executor/graph_executor.cc:1991: Subgraph backend MKLDNN is activated.\n",
      "[15:12:03] ../src/executor/graph_executor.cc:1991: Subgraph backend MKLDNN is activated.\n",
      "[15:12:03] ../src/executor/graph_executor.cc:1991: Subgraph backend MKLDNN is activated.\n",
      "[15:12:03] ../src/executor/graph_executor.cc:1991: Subgraph backend MKLDNN is activated.\n",
      "[15:12:03] ../src/executor/graph_executor.cc:1991: Subgraph backend MKLDNN is activated.\n",
      "TRIM Creating Cropped Images for detector mtcnn_serfiq: 100%|██████████| 5/5 [00:01<00:00,  2.77it/s]\n",
      "Face images in ArcFace: 100%|██████████| 10/10 [00:00<00:00, 125.60it/s]\n",
      "Embedding models: 100%|██████████| 1/1 [00:00<00:00, 11.08it/s]\n",
      "Quality images in ser_fiq: 100%|██████████| 10/10 [00:00<00:00, 117.98it/s]\n",
      "Quality models: 100%|██████████| 1/1 [00:00<00:00, 10.82it/s]\n"
     ]
    }
   ],
   "source": [
    "database.create_tables(serfiq=serfiq)"
   ]
  },
  {
   "cell_type": "code",
   "execution_count": 17,
   "metadata": {},
   "outputs": [
    {
     "name": "stderr",
     "output_type": "stream",
     "text": [
      "Computing SER-FIQ quality:   0%|          | 0/20 [00:00<?, ?it/s]"
     ]
    },
    {
     "name": "stdout",
     "output_type": "stream",
     "text": [
      "1/1 [==============================] - 0s 26ms/step\n",
      "1/1 [==============================] - 0s 22ms/step\n",
      "1/1 [==============================] - 0s 21ms/step\n",
      "1/1 [==============================] - 0s 23ms/step\n",
      "1/1 [==============================] - 0s 20ms/step\n",
      "1/1 [==============================] - 0s 19ms/step\n",
      "1/1 [==============================] - 0s 18ms/step\n",
      "1/1 [==============================] - 0s 19ms/step\n",
      "2/2 [==============================] - 0s 8ms/step\n",
      "1/1 [==============================] - 0s 26ms/step\n"
     ]
    },
    {
     "name": "stderr",
     "output_type": "stream",
     "text": [
      "Computing SER-FIQ quality:   5%|▌         | 1/20 [00:09<03:01,  9.55s/it]"
     ]
    },
    {
     "name": "stdout",
     "output_type": "stream",
     "text": [
      "1/1 [==============================] - 0s 25ms/step\n",
      "1/1 [==============================] - 0s 25ms/step\n",
      "1/1 [==============================] - 0s 21ms/step\n",
      "1/1 [==============================] - 0s 20ms/step\n",
      "1/1 [==============================] - 0s 18ms/step\n",
      "1/1 [==============================] - 0s 18ms/step\n",
      "1/1 [==============================] - 0s 18ms/step\n",
      "1/1 [==============================] - 0s 19ms/step\n",
      "2/2 [==============================] - 0s 7ms/step\n",
      "1/1 [==============================] - 0s 25ms/step\n"
     ]
    },
    {
     "name": "stderr",
     "output_type": "stream",
     "text": [
      "Computing SER-FIQ quality:  10%|█         | 2/20 [00:19<02:54,  9.69s/it]"
     ]
    },
    {
     "name": "stdout",
     "output_type": "stream",
     "text": [
      "1/1 [==============================] - 0s 24ms/step\n",
      "1/1 [==============================] - 0s 29ms/step\n",
      "1/1 [==============================] - 0s 22ms/step\n",
      "1/1 [==============================] - 0s 21ms/step\n",
      "1/1 [==============================] - 0s 20ms/step\n",
      "1/1 [==============================] - 0s 19ms/step\n",
      "1/1 [==============================] - 0s 19ms/step\n",
      "1/1 [==============================] - 0s 19ms/step\n",
      "3/3 [==============================] - 0s 6ms/step\n",
      "1/1 [==============================] - 0s 25ms/step\n"
     ]
    },
    {
     "name": "stderr",
     "output_type": "stream",
     "text": [
      "Computing SER-FIQ quality:  15%|█▌        | 3/20 [00:29<02:46,  9.81s/it]"
     ]
    },
    {
     "name": "stdout",
     "output_type": "stream",
     "text": [
      "1/1 [==============================] - 0s 92ms/step\n",
      "1/1 [==============================] - 0s 24ms/step\n",
      "1/1 [==============================] - 0s 23ms/step\n",
      "1/1 [==============================] - 0s 20ms/step\n",
      "1/1 [==============================] - 0s 20ms/step\n",
      "1/1 [==============================] - 0s 25ms/step\n",
      "1/1 [==============================] - 0s 20ms/step\n",
      "1/1 [==============================] - 0s 20ms/step\n",
      "4/4 [==============================] - 0s 10ms/step\n",
      "1/1 [==============================] - 0s 33ms/step\n"
     ]
    },
    {
     "name": "stderr",
     "output_type": "stream",
     "text": [
      "Computing SER-FIQ quality:  20%|██        | 4/20 [00:39<02:40, 10.03s/it]"
     ]
    },
    {
     "name": "stdout",
     "output_type": "stream",
     "text": [
      "1/1 [==============================] - 0s 29ms/step\n",
      "1/1 [==============================] - 0s 25ms/step\n",
      "1/1 [==============================] - 0s 22ms/step\n",
      "1/1 [==============================] - 0s 20ms/step\n",
      "1/1 [==============================] - 0s 22ms/step\n",
      "1/1 [==============================] - 0s 19ms/step\n",
      "1/1 [==============================] - 0s 19ms/step\n",
      "1/1 [==============================] - 0s 19ms/step\n",
      "1/1 [==============================] - 0s 23ms/step\n",
      "1/1 [==============================] - 0s 30ms/step\n"
     ]
    },
    {
     "name": "stderr",
     "output_type": "stream",
     "text": [
      "Computing SER-FIQ quality:  25%|██▌       | 5/20 [00:49<02:30, 10.04s/it][15:13:39] ../src/executor/graph_executor.cc:1991: Subgraph backend MKLDNN is activated.\n",
      "[15:13:39] ../src/executor/graph_executor.cc:1991: Subgraph backend MKLDNN is activated.\n",
      "[15:13:39] ../src/executor/graph_executor.cc:1991: Subgraph backend MKLDNN is activated.\n",
      "[15:13:39] ../src/executor/graph_executor.cc:1991: Subgraph backend MKLDNN is activated.\n",
      "[15:13:39] ../src/executor/graph_executor.cc:1991: Subgraph backend MKLDNN is activated.\n",
      "[15:13:39] ../src/executor/graph_executor.cc:1991: Subgraph backend MKLDNN is activated.\n",
      "[15:13:39] ../src/executor/graph_executor.cc:1991: Subgraph backend MKLDNN is activated.\n",
      "[15:13:39] ../src/executor/graph_executor.cc:1991: Subgraph backend MKLDNN is activated.\n",
      "[15:13:39] ../src/executor/graph_executor.cc:1991: Subgraph backend MKLDNN is activated.\n",
      "[15:13:39] ../src/executor/graph_executor.cc:1991: Subgraph backend MKLDNN is activated.\n",
      "[15:13:39] ../src/executor/graph_executor.cc:1991: Subgraph backend MKLDNN is activated.\n",
      "Computing SER-FIQ quality:  25%|██▌       | 5/20 [00:49<02:29,  9.98s/it]\n"
     ]
    },
    {
     "ename": "NameError",
     "evalue": "name 'np' is not defined",
     "output_type": "error",
     "traceback": [
      "\u001b[0;31m---------------------------------------------------------------------------\u001b[0m",
      "\u001b[0;31mNameError\u001b[0m                                 Traceback (most recent call last)",
      "\u001b[0;32m/tmp/ipykernel_792/3046650546.py\u001b[0m in \u001b[0;36m<module>\u001b[0;34m\u001b[0m\n\u001b[0;32m----> 1\u001b[0;31m \u001b[0mdatabase\u001b[0m\u001b[0;34m.\u001b[0m\u001b[0mupdate_tables\u001b[0m\u001b[0;34m(\u001b[0m\u001b[0mattributes_to_update\u001b[0m\u001b[0;34m,\u001b[0m \u001b[0mserfiq\u001b[0m \u001b[0;34m=\u001b[0m \u001b[0mserfiq\u001b[0m\u001b[0;34m)\u001b[0m\u001b[0;34m\u001b[0m\u001b[0;34m\u001b[0m\u001b[0m\n\u001b[0m",
      "\u001b[0;32m~/sql-face/sql_face/sqldb.py\u001b[0m in \u001b[0;36mupdate_tables\u001b[0;34m(self, attributes_to_update, force_update, serfiq)\u001b[0m\n\u001b[1;32m     65\u001b[0m         \u001b[0;31m# update_cropped_images(self.session, force_update = force_update, serfiq = serfiq)\u001b[0m\u001b[0;34m\u001b[0m\u001b[0;34m\u001b[0m\u001b[0;34m\u001b[0m\u001b[0m\n\u001b[1;32m     66\u001b[0m         \u001b[0;31m# update_face_images(self.session, force_update = force_update)\u001b[0m\u001b[0;34m\u001b[0m\u001b[0;34m\u001b[0m\u001b[0;34m\u001b[0m\u001b[0m\n\u001b[0;32m---> 67\u001b[0;31m         \u001b[0mupdate_quality_images\u001b[0m\u001b[0;34m(\u001b[0m\u001b[0mself\u001b[0m\u001b[0;34m.\u001b[0m\u001b[0msession\u001b[0m\u001b[0;34m,\u001b[0m \u001b[0mserfiq\u001b[0m \u001b[0;34m=\u001b[0m \u001b[0mserfiq\u001b[0m\u001b[0;34m,\u001b[0m \u001b[0mforce_update\u001b[0m \u001b[0;34m=\u001b[0m \u001b[0mforce_update\u001b[0m\u001b[0;34m)\u001b[0m\u001b[0;34m\u001b[0m\u001b[0;34m\u001b[0m\u001b[0m\n\u001b[0m",
      "\u001b[0;32m~/sql-face/sql_face/alchemy.py\u001b[0m in \u001b[0;36mupdate_quality_images\u001b[0;34m(session, serfiq, force_update)\u001b[0m\n\u001b[1;32m    344\u001b[0m \u001b[0;32mdef\u001b[0m \u001b[0mupdate_quality_images\u001b[0m\u001b[0;34m(\u001b[0m\u001b[0msession\u001b[0m\u001b[0;34m,\u001b[0m \u001b[0mserfiq\u001b[0m\u001b[0;34m=\u001b[0m\u001b[0;32mNone\u001b[0m\u001b[0;34m,\u001b[0m \u001b[0mforce_update\u001b[0m\u001b[0;34m:\u001b[0m \u001b[0mbool\u001b[0m \u001b[0;34m=\u001b[0m \u001b[0;32mFalse\u001b[0m\u001b[0;34m)\u001b[0m\u001b[0;34m:\u001b[0m\u001b[0;34m\u001b[0m\u001b[0;34m\u001b[0m\u001b[0m\n\u001b[1;32m    345\u001b[0m \u001b[0;34m\u001b[0m\u001b[0m\n\u001b[0;32m--> 346\u001b[0;31m     \u001b[0mupdate_ser_fiq\u001b[0m\u001b[0;34m(\u001b[0m\u001b[0msession\u001b[0m\u001b[0;34m,\u001b[0m \u001b[0mserfiq\u001b[0m\u001b[0;34m,\u001b[0m \u001b[0mforce_update\u001b[0m\u001b[0;34m=\u001b[0m\u001b[0mforce_update\u001b[0m\u001b[0;34m)\u001b[0m\u001b[0;34m\u001b[0m\u001b[0;34m\u001b[0m\u001b[0m\n\u001b[0m\u001b[1;32m    347\u001b[0m     \u001b[0mupdate_tface\u001b[0m\u001b[0;34m(\u001b[0m\u001b[0msession\u001b[0m\u001b[0;34m,\u001b[0m \u001b[0mserfiq\u001b[0m\u001b[0;34m,\u001b[0m \u001b[0mforce_update\u001b[0m\u001b[0;34m=\u001b[0m\u001b[0mforce_update\u001b[0m\u001b[0;34m)\u001b[0m\u001b[0;34m\u001b[0m\u001b[0;34m\u001b[0m\u001b[0m\n\u001b[1;32m    348\u001b[0m \u001b[0;34m\u001b[0m\u001b[0m\n",
      "\u001b[0;32m~/sql-face/sql_face/alchemy.py\u001b[0m in \u001b[0;36mupdate_ser_fiq\u001b[0;34m(session, serfiq, force_update)\u001b[0m\n\u001b[1;32m    367\u001b[0m     \u001b[0;32mfor\u001b[0m \u001b[0mrow\u001b[0m \u001b[0;32min\u001b[0m \u001b[0mtqdm\u001b[0m\u001b[0;34m(\u001b[0m\u001b[0mall_rows\u001b[0m\u001b[0;34m,\u001b[0m \u001b[0mdesc\u001b[0m\u001b[0;34m=\u001b[0m\u001b[0;34m'Computing SER-FIQ quality'\u001b[0m\u001b[0;34m)\u001b[0m\u001b[0;34m:\u001b[0m\u001b[0;34m\u001b[0m\u001b[0;34m\u001b[0m\u001b[0m\n\u001b[1;32m    368\u001b[0m \u001b[0;34m\u001b[0m\u001b[0m\n\u001b[0;32m--> 369\u001b[0;31m         \u001b[0maligned_img\u001b[0m \u001b[0;34m=\u001b[0m \u001b[0mrow\u001b[0m\u001b[0;34m.\u001b[0m\u001b[0mCroppedImage\u001b[0m\u001b[0;34m.\u001b[0m\u001b[0mget_aligned_image\u001b[0m\u001b[0;34m(\u001b[0m\u001b[0mser_fiq\u001b[0m\u001b[0;34m=\u001b[0m\u001b[0mserfiq\u001b[0m\u001b[0;34m)\u001b[0m\u001b[0;34m\u001b[0m\u001b[0;34m\u001b[0m\u001b[0m\n\u001b[0m\u001b[1;32m    370\u001b[0m         \u001b[0mquality\u001b[0m \u001b[0;34m=\u001b[0m \u001b[0mserfiq\u001b[0m\u001b[0;34m.\u001b[0m\u001b[0mget_score\u001b[0m\u001b[0;34m(\u001b[0m\u001b[0maligned_img\u001b[0m\u001b[0;34m,\u001b[0m \u001b[0mT\u001b[0m\u001b[0;34m=\u001b[0m\u001b[0;36m100\u001b[0m\u001b[0;34m)\u001b[0m\u001b[0;34m\u001b[0m\u001b[0;34m\u001b[0m\u001b[0m\n\u001b[1;32m    371\u001b[0m \u001b[0;34m\u001b[0m\u001b[0m\n",
      "\u001b[0;32m~/sql-face/sql_face/tables.py\u001b[0m in \u001b[0;36mget_aligned_image\u001b[0;34m(self, target_size, ser_fiq)\u001b[0m\n\u001b[1;32m    170\u001b[0m             \u001b[0mimage\u001b[0m \u001b[0;34m=\u001b[0m \u001b[0mself\u001b[0m\u001b[0;34m.\u001b[0m\u001b[0mimages\u001b[0m\u001b[0;34m.\u001b[0m\u001b[0mget_image\u001b[0m\u001b[0;34m(\u001b[0m\u001b[0;34m)\u001b[0m\u001b[0;34m\u001b[0m\u001b[0;34m\u001b[0m\u001b[0m\n\u001b[1;32m    171\u001b[0m             \u001b[0maligned_image\u001b[0m \u001b[0;34m=\u001b[0m \u001b[0mser_fiq\u001b[0m\u001b[0;34m.\u001b[0m\u001b[0mapply_mtcnn\u001b[0m\u001b[0;34m(\u001b[0m\u001b[0mimage\u001b[0m\u001b[0;34m)\u001b[0m\u001b[0;34m\u001b[0m\u001b[0;34m\u001b[0m\u001b[0m\n\u001b[0;32m--> 172\u001b[0;31m             \u001b[0;32mreturn\u001b[0m \u001b[0mnp\u001b[0m\u001b[0;34m.\u001b[0m\u001b[0mtranspose\u001b[0m\u001b[0;34m(\u001b[0m\u001b[0maligned_image\u001b[0m\u001b[0;34m,\u001b[0m \u001b[0;34m(\u001b[0m\u001b[0;36m1\u001b[0m\u001b[0;34m,\u001b[0m\u001b[0;36m2\u001b[0m\u001b[0;34m,\u001b[0m\u001b[0;36m0\u001b[0m\u001b[0;34m)\u001b[0m\u001b[0;34m)\u001b[0m\u001b[0;34m\u001b[0m\u001b[0;34m\u001b[0m\u001b[0m\n\u001b[0m\u001b[1;32m    173\u001b[0m \u001b[0;34m\u001b[0m\u001b[0m\n\u001b[1;32m    174\u001b[0m         \u001b[0;32melse\u001b[0m\u001b[0;34m:\u001b[0m\u001b[0;34m\u001b[0m\u001b[0;34m\u001b[0m\u001b[0m\n",
      "\u001b[0;31mNameError\u001b[0m: name 'np' is not defined"
     ]
    }
   ],
   "source": [
    "database.update_tables(attributes_to_update, serfiq = serfiq)"
   ]
  }
 ],
 "metadata": {
  "kernelspec": {
   "display_name": "Python 3.7.13 ('sql-face')",
   "language": "python",
   "name": "python3"
  },
  "language_info": {
   "codemirror_mode": {
    "name": "ipython",
    "version": 3
   },
   "file_extension": ".py",
   "mimetype": "text/x-python",
   "name": "python",
   "nbconvert_exporter": "python",
   "pygments_lexer": "ipython3",
   "version": "3.7.13"
  },
  "orig_nbformat": 4,
  "vscode": {
   "interpreter": {
    "hash": "edd2314f85f22963f985d48f57a085e9a58a34ab11a3cd413d34968a1f6f2e55"
   }
  }
 },
 "nbformat": 4,
 "nbformat_minor": 2
}
