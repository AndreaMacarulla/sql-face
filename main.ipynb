{
 "cells": [
  {
   "cell_type": "markdown",
   "metadata": {},
   "source": [
    "# Parameter definition\n",
    "Choose all the settings for the database creation."
   ]
  },
  {
   "cell_type": "code",
   "execution_count": 1,
   "metadata": {},
   "outputs": [],
   "source": [
    "#TODO: Change absolute to relative paths for input and output dir.\n",
    "import os\n",
    "\n",
    "home = os.path.expanduser(\"~\")\n",
    "\n",
    "db_name= 'test_video_dataset_3' #'colab_main_dataset'\n",
    "# input_dir = os.path.join(home,'image_datasets')\n",
    "# output_dir = os.path.join(home,'sql_database')\n",
    "input_dir = os.path.join(home,'Desktop', 'image_datasets')\n",
    "output_dir = os.path.join(home,'Desktop','sql_database')\n",
    "database_names=['lfw', 'xqlfw', 'utkface', 'scface', 'enfsi2015'] # , 'scface', 'forenface', 'enfsi', 'enfsi2015' 'xqlfw', 'utkface'\n",
    "detector_names=['mtcnn', 'mtcnn_serfiq'] # 'dlib', 'mtcnn', 'mtcnn_serfiq'\n",
    "embedding_model_names=[\"ArcFace\"] # , \"Dlib\", \"ArcFace\",\n",
    "attributes_to_update=['gender']  # 'gender', 'age', 'emotion', 'race'\n",
    "quality_model_names = ['ser_fiq', 'tface'] # 'confusion_score', 'ser_fiq',\n",
    "save_in_drive = False # To work in google colab\n",
    "\n"
   ]
  },
  {
   "cell_type": "markdown",
   "metadata": {},
   "source": [
    "## SERFIQ model\n",
    "\n",
    "Create SERFIQ model."
   ]
  },
  {
   "cell_type": "code",
   "execution_count": 2,
   "metadata": {},
   "outputs": [
    {
     "name": "stderr",
     "output_type": "stream",
     "text": [
      "/home/andrea/anaconda3/envs/sql-face/lib/python3.7/site-packages/tqdm/auto.py:22: TqdmWarning: IProgress not found. Please update jupyter and ipywidgets. See https://ipywidgets.readthedocs.io/en/stable/user_install.html\n",
      "  from .autonotebook import tqdm as notebook_tqdm\n",
      "[17:09:56] ../src/nnvm/legacy_json_util.cc:208: Loading symbol saved by previous version v1.8.0. Attempting to upgrade...\n",
      "[17:09:56] ../src/nnvm/legacy_json_util.cc:216: Symbol successfully upgraded!\n",
      "/home/andrea/anaconda3/envs/sql-face/lib/python3.7/site-packages/mxnet/gluon/block.py:1784: UserWarning: Cannot decide type for the following arguments. Consider providing them as input:\n",
      "\tdata: None\n",
      "  input_sym_arg_type = in_param.infer_type()[0]\n",
      "[17:09:56] ../src/nnvm/legacy_json_util.cc:208: Loading symbol saved by previous version v0.8.0. Attempting to upgrade...\n",
      "[17:09:56] ../src/nnvm/legacy_json_util.cc:216: Symbol successfully upgraded!\n",
      "[17:09:56] ../src/nnvm/legacy_json_util.cc:208: Loading symbol saved by previous version v0.8.0. Attempting to upgrade...\n",
      "[17:09:56] ../src/nnvm/legacy_json_util.cc:216: Symbol successfully upgraded!\n",
      "[17:09:56] ../src/nnvm/legacy_json_util.cc:208: Loading symbol saved by previous version v0.8.0. Attempting to upgrade...\n",
      "[17:09:56] ../src/nnvm/legacy_json_util.cc:216: Symbol successfully upgraded!\n",
      "[17:09:56] ../src/nnvm/legacy_json_util.cc:208: Loading symbol saved by previous version v0.8.0. Attempting to upgrade...\n",
      "[17:09:56] ../src/nnvm/legacy_json_util.cc:216: Symbol successfully upgraded!\n"
     ]
    }
   ],
   "source": [
    "from sql_face.serfiq import get_serfiq_model\n",
    "serfiq = get_serfiq_model()"
   ]
  },
  {
   "cell_type": "markdown",
   "metadata": {},
   "source": [
    "# Database creation"
   ]
  },
  {
   "cell_type": "markdown",
   "metadata": {},
   "source": [
    "database = SQLDataBase(db_name=db_name,\n",
    "                        database_names=database_names, # , 'scface', 'forenface', 'enfsi', 'enfsi2015'\n",
    "                        detector_names=detector_names,\n",
    "                        embedding_model_names=embedding_model_names,\n",
    "                        quality_model_names=quality_model_names,\n",
    "                        save_in_drive=save_in_drive                        \n",
    "                        )\n",
    "\n",
    "database.fill_db()\n",
    "database.update_db(attributes_to_update=attributes_to_update, force_update=False)"
   ]
  },
  {
   "cell_type": "code",
   "execution_count": 3,
   "metadata": {},
   "outputs": [
    {
     "name": "stderr",
     "output_type": "stream",
     "text": [
      "2022-11-18 17:09:56.725720: I tensorflow/core/platform/cpu_feature_guard.cc:193] This TensorFlow binary is optimized with oneAPI Deep Neural Network Library (oneDNN) to use the following CPU instructions in performance-critical operations:  AVX2 FMA\n",
      "To enable them in other operations, rebuild TensorFlow with the appropriate compiler flags.\n",
      "2022-11-18 17:09:56.913324: E tensorflow/stream_executor/cuda/cuda_blas.cc:2981] Unable to register cuBLAS factory: Attempting to register factory for plugin cuBLAS when one has already been registered\n",
      "2022-11-18 17:09:57.464004: W tensorflow/stream_executor/platform/default/dso_loader.cc:64] Could not load dynamic library 'libnvinfer.so.7'; dlerror: libnvinfer.so.7: cannot open shared object file: No such file or directory; LD_LIBRARY_PATH: /home/andrea/anaconda3/envs/sql-face/lib/python3.7/site-packages/cv2/../../lib64:/home/andrea/Documents/cuda_software/cuda/lib64:/usr/local/cuda-11.2/lib64\n",
      "2022-11-18 17:09:57.464066: W tensorflow/stream_executor/platform/default/dso_loader.cc:64] Could not load dynamic library 'libnvinfer_plugin.so.7'; dlerror: libnvinfer_plugin.so.7: cannot open shared object file: No such file or directory; LD_LIBRARY_PATH: /home/andrea/anaconda3/envs/sql-face/lib/python3.7/site-packages/cv2/../../lib64:/home/andrea/Documents/cuda_software/cuda/lib64:/usr/local/cuda-11.2/lib64\n",
      "2022-11-18 17:09:57.464074: W tensorflow/compiler/tf2tensorrt/utils/py_utils.cc:38] TF-TRT Warning: Cannot dlopen some TensorRT libraries. If you would like to use Nvidia GPU with TensorRT, please make sure the missing libraries mentioned above are installed properly.\n"
     ]
    }
   ],
   "source": [
    "from sql_face.sqldb import SQLDataBase"
   ]
  },
  {
   "cell_type": "code",
   "execution_count": 4,
   "metadata": {},
   "outputs": [],
   "source": [
    "database = SQLDataBase(db_name=db_name,\n",
    "                        input_dir = input_dir,\n",
    "                        output_dir_name = output_dir,\n",
    "                        database_names = database_names,\n",
    "                        detector_names = detector_names,\n",
    "                        embedding_model_names = embedding_model_names,\n",
    "                        quality_model_names = quality_model_names)"
   ]
  },
  {
   "cell_type": "code",
   "execution_count": 5,
   "metadata": {},
   "outputs": [
    {
     "data": {
      "text/plain": [
       "{'db_name': 'test_video_dataset_3',\n",
       " 'input_dir': '/home/andrea/Desktop/image_datasets',\n",
       " 'save_in_drive': False,\n",
       " 'output_dir': '/home/andrea/Desktop/sql_database',\n",
       " 'session': <sqlalchemy.orm.session.Session at 0x7f41d1dc4110>,\n",
       " 'databases': [<sql_face.databases.Enfsi2015 at 0x7f41d1d53bd0>],\n",
       " 'detector_names': ['mtcnn', 'mtcnn_serfiq'],\n",
       " 'embedding_model_names': ['ArcFace'],\n",
       " 'quality_model_names': ['tface']}"
      ]
     },
     "execution_count": 5,
     "metadata": {},
     "output_type": "execute_result"
    }
   ],
   "source": [
    "database.__dict__"
   ]
  },
  {
   "cell_type": "code",
   "execution_count": 6,
   "metadata": {},
   "outputs": [
    {
     "name": "stderr",
     "output_type": "stream",
     "text": [
      "TRIM Creating Cropped Images for detector mtcnn:   0%|          | 0/5 [00:00<?, ?it/s]2022-11-18 17:10:01.626846: I tensorflow/stream_executor/cuda/cuda_gpu_executor.cc:980] successful NUMA node read from SysFS had negative value (-1), but there must be at least one NUMA node, so returning NUMA node zero\n",
      "2022-11-18 17:10:01.627886: I tensorflow/stream_executor/cuda/cuda_gpu_executor.cc:980] successful NUMA node read from SysFS had negative value (-1), but there must be at least one NUMA node, so returning NUMA node zero\n",
      "2022-11-18 17:10:01.628302: I tensorflow/stream_executor/cuda/cuda_gpu_executor.cc:980] successful NUMA node read from SysFS had negative value (-1), but there must be at least one NUMA node, so returning NUMA node zero\n",
      "2022-11-18 17:10:01.629231: I tensorflow/core/platform/cpu_feature_guard.cc:193] This TensorFlow binary is optimized with oneAPI Deep Neural Network Library (oneDNN) to use the following CPU instructions in performance-critical operations:  AVX2 FMA\n",
      "To enable them in other operations, rebuild TensorFlow with the appropriate compiler flags.\n",
      "2022-11-18 17:10:01.629582: I tensorflow/stream_executor/cuda/cuda_gpu_executor.cc:980] successful NUMA node read from SysFS had negative value (-1), but there must be at least one NUMA node, so returning NUMA node zero\n",
      "2022-11-18 17:10:01.629927: I tensorflow/stream_executor/cuda/cuda_gpu_executor.cc:980] successful NUMA node read from SysFS had negative value (-1), but there must be at least one NUMA node, so returning NUMA node zero\n",
      "2022-11-18 17:10:01.630206: I tensorflow/stream_executor/cuda/cuda_gpu_executor.cc:980] successful NUMA node read from SysFS had negative value (-1), but there must be at least one NUMA node, so returning NUMA node zero\n",
      "2022-11-18 17:10:07.043199: I tensorflow/stream_executor/cuda/cuda_gpu_executor.cc:980] successful NUMA node read from SysFS had negative value (-1), but there must be at least one NUMA node, so returning NUMA node zero\n",
      "2022-11-18 17:10:07.043806: I tensorflow/stream_executor/cuda/cuda_gpu_executor.cc:980] successful NUMA node read from SysFS had negative value (-1), but there must be at least one NUMA node, so returning NUMA node zero\n",
      "2022-11-18 17:10:07.044093: I tensorflow/stream_executor/cuda/cuda_gpu_executor.cc:980] successful NUMA node read from SysFS had negative value (-1), but there must be at least one NUMA node, so returning NUMA node zero\n",
      "2022-11-18 17:10:07.044372: I tensorflow/core/common_runtime/gpu/gpu_device.cc:1616] Created device /job:localhost/replica:0/task:0/device:GPU:0 with 1351 MB memory:  -> device: 0, name: NVIDIA GeForce GTX 1650 with Max-Q Design, pci bus id: 0000:02:00.0, compute capability: 7.5\n",
      "2022-11-18 17:10:08.413342: I tensorflow/stream_executor/cuda/cuda_dnn.cc:384] Loaded cuDNN version 8100\n"
     ]
    },
    {
     "name": "stdout",
     "output_type": "stream",
     "text": [
      "1/1 [==============================] - 3s 3s/step\n",
      "1/1 [==============================] - 0s 261ms/step\n",
      "1/1 [==============================] - 0s 138ms/step\n",
      "1/1 [==============================] - 0s 122ms/step\n",
      "1/1 [==============================] - 0s 108ms/step\n",
      "1/1 [==============================] - 0s 117ms/step\n",
      "1/1 [==============================] - 0s 104ms/step\n",
      "1/1 [==============================] - 0s 104ms/step\n",
      "1/1 [==============================] - 0s 103ms/step\n",
      "1/1 [==============================] - 0s 102ms/step\n",
      "7/7 [==============================] - 0s 11ms/step\n",
      "1/1 [==============================] - 0s 183ms/step\n"
     ]
    },
    {
     "name": "stderr",
     "output_type": "stream",
     "text": [
      "TRIM Creating Cropped Images for detector mtcnn:  20%|██        | 1/5 [00:12<00:48, 12.14s/it]"
     ]
    },
    {
     "name": "stdout",
     "output_type": "stream",
     "text": [
      "Face not found in /home/andrea/Desktop/image_datasets/enfsi/2015/Comparison 1/Questioned/CCTV_1.avi with mtcnn\n",
      "1/1 [==============================] - 0s 22ms/step\n",
      "1/1 [==============================] - 0s 22ms/step\n",
      "1/1 [==============================] - 0s 21ms/step\n",
      "1/1 [==============================] - 0s 21ms/step\n",
      "1/1 [==============================] - 0s 21ms/step\n",
      "1/1 [==============================] - 0s 19ms/step\n",
      "1/1 [==============================] - 0s 20ms/step\n",
      "1/1 [==============================] - 0s 24ms/step\n",
      "1/1 [==============================] - 0s 21ms/step\n",
      "1/1 [==============================] - 0s 22ms/step\n",
      "6/6 [==============================] - 0s 2ms/step\n",
      "1/1 [==============================] - 0s 97ms/step\n"
     ]
    },
    {
     "name": "stderr",
     "output_type": "stream",
     "text": [
      "TRIM Creating Cropped Images for detector mtcnn:  40%|████      | 2/5 [00:13<00:16,  5.52s/it]"
     ]
    },
    {
     "name": "stdout",
     "output_type": "stream",
     "text": [
      "Face not found in /home/andrea/Desktop/image_datasets/enfsi/2015/Comparison 1/Questioned/CCTV_1.avi with mtcnn\n",
      "1/1 [==============================] - 0s 27ms/step\n",
      "1/1 [==============================] - 0s 26ms/step\n",
      "1/1 [==============================] - 0s 28ms/step\n",
      "1/1 [==============================] - 0s 22ms/step\n",
      "1/1 [==============================] - 0s 21ms/step\n",
      "1/1 [==============================] - 0s 21ms/step\n",
      "1/1 [==============================] - 0s 20ms/step\n",
      "1/1 [==============================] - 0s 21ms/step\n",
      "1/1 [==============================] - 0s 21ms/step\n",
      "1/1 [==============================] - 0s 23ms/step\n",
      "6/6 [==============================] - 0s 16ms/step\n",
      "1/1 [==============================] - 0s 116ms/step\n"
     ]
    },
    {
     "name": "stderr",
     "output_type": "stream",
     "text": [
      "TRIM Creating Cropped Images for detector mtcnn:  60%|██████    | 3/5 [00:14<00:06,  3.47s/it]"
     ]
    },
    {
     "name": "stdout",
     "output_type": "stream",
     "text": [
      "Face not found in /home/andrea/Desktop/image_datasets/enfsi/2015/Comparison 1/Questioned/CCTV_1.avi with mtcnn\n",
      "1/1 [==============================] - 0s 24ms/step\n",
      "1/1 [==============================] - 0s 21ms/step\n",
      "1/1 [==============================] - 0s 20ms/step\n",
      "1/1 [==============================] - 0s 20ms/step\n",
      "1/1 [==============================] - 0s 21ms/step\n",
      "1/1 [==============================] - 0s 19ms/step\n",
      "1/1 [==============================] - 0s 20ms/step\n",
      "1/1 [==============================] - 0s 19ms/step\n",
      "1/1 [==============================] - 0s 21ms/step\n",
      "1/1 [==============================] - 0s 20ms/step\n",
      "7/7 [==============================] - 0s 12ms/step\n",
      "1/1 [==============================] - 0s 104ms/step\n"
     ]
    },
    {
     "name": "stderr",
     "output_type": "stream",
     "text": [
      "TRIM Creating Cropped Images for detector mtcnn:  80%|████████  | 4/5 [00:15<00:02,  2.47s/it]"
     ]
    },
    {
     "name": "stdout",
     "output_type": "stream",
     "text": [
      "Face not found in /home/andrea/Desktop/image_datasets/enfsi/2015/Comparison 1/Questioned/CCTV_1.avi with mtcnn\n",
      "1/1 [==============================] - 0s 24ms/step\n",
      "1/1 [==============================] - 0s 27ms/step\n",
      "1/1 [==============================] - 0s 21ms/step\n",
      "1/1 [==============================] - 0s 29ms/step\n",
      "1/1 [==============================] - 0s 23ms/step\n",
      "1/1 [==============================] - 0s 23ms/step\n",
      "1/1 [==============================] - 0s 19ms/step\n",
      "1/1 [==============================] - 0s 21ms/step\n",
      "1/1 [==============================] - 0s 22ms/step\n",
      "1/1 [==============================] - 0s 20ms/step\n",
      "7/7 [==============================] - 0s 12ms/step\n",
      "1/1 [==============================] - 0s 20ms/step\n"
     ]
    },
    {
     "name": "stderr",
     "output_type": "stream",
     "text": [
      "TRIM Creating Cropped Images for detector mtcnn: 100%|██████████| 5/5 [00:15<00:00,  3.18s/it]"
     ]
    },
    {
     "name": "stdout",
     "output_type": "stream",
     "text": [
      "Face not found in /home/andrea/Desktop/image_datasets/enfsi/2015/Comparison 1/Questioned/CCTV_1.avi with mtcnn\n"
     ]
    },
    {
     "name": "stderr",
     "output_type": "stream",
     "text": [
      "\n",
      "TRIM Creating Cropped Images for detector mtcnn_serfiq:   0%|          | 0/5 [00:00<?, ?it/s][17:10:16] ../src/executor/graph_executor.cc:1991: Subgraph backend MKLDNN is activated.\n",
      "[17:10:16] ../src/executor/graph_executor.cc:1991: Subgraph backend MKLDNN is activated.\n",
      "[17:10:16] ../src/executor/graph_executor.cc:1991: Subgraph backend MKLDNN is activated.\n",
      "[17:10:16] ../src/executor/graph_executor.cc:1991: Subgraph backend MKLDNN is activated.\n",
      "[17:10:16] ../src/executor/graph_executor.cc:1991: Subgraph backend MKLDNN is activated.\n",
      "[17:10:16] ../src/executor/graph_executor.cc:1991: Subgraph backend MKLDNN is activated.\n",
      "[17:10:16] ../src/executor/graph_executor.cc:1991: Subgraph backend MKLDNN is activated.\n",
      "[17:10:16] ../src/executor/graph_executor.cc:1991: Subgraph backend MKLDNN is activated.\n",
      "[17:10:16] ../src/executor/graph_executor.cc:1991: Subgraph backend MKLDNN is activated.\n",
      "[17:10:16] ../src/executor/graph_executor.cc:1991: Subgraph backend MKLDNN is activated.\n",
      "[17:10:16] ../src/executor/graph_executor.cc:1991: Subgraph backend MKLDNN is activated.\n",
      "[17:10:16] ../src/executor/graph_executor.cc:1991: Subgraph backend MKLDNN is activated.\n",
      "TRIM Creating Cropped Images for detector mtcnn_serfiq:  20%|██        | 1/5 [00:00<00:01,  3.24it/s][17:10:16] ../src/executor/graph_executor.cc:1991: Subgraph backend MKLDNN is activated.\n",
      "[17:10:16] ../src/executor/graph_executor.cc:1991: Subgraph backend MKLDNN is activated.\n",
      "[17:10:16] ../src/executor/graph_executor.cc:1991: Subgraph backend MKLDNN is activated.\n",
      "[17:10:16] ../src/executor/graph_executor.cc:1991: Subgraph backend MKLDNN is activated.\n",
      "[17:10:16] ../src/executor/graph_executor.cc:1991: Subgraph backend MKLDNN is activated.\n",
      "[17:10:16] ../src/executor/graph_executor.cc:1991: Subgraph backend MKLDNN is activated.\n",
      "[17:10:16] ../src/executor/graph_executor.cc:1991: Subgraph backend MKLDNN is activated.\n",
      "[17:10:16] ../src/executor/graph_executor.cc:1991: Subgraph backend MKLDNN is activated.\n",
      "[17:10:16] ../src/executor/graph_executor.cc:1991: Subgraph backend MKLDNN is activated.\n",
      "[17:10:16] ../src/executor/graph_executor.cc:1991: Subgraph backend MKLDNN is activated.\n",
      "[17:10:16] ../src/executor/graph_executor.cc:1991: Subgraph backend MKLDNN is activated.\n",
      "TRIM Creating Cropped Images for detector mtcnn_serfiq:  40%|████      | 2/5 [00:00<00:00,  3.28it/s][17:10:17] ../src/executor/graph_executor.cc:1991: Subgraph backend MKLDNN is activated.\n",
      "[17:10:17] ../src/executor/graph_executor.cc:1991: Subgraph backend MKLDNN is activated.\n",
      "[17:10:17] ../src/executor/graph_executor.cc:1991: Subgraph backend MKLDNN is activated.\n",
      "[17:10:17] ../src/executor/graph_executor.cc:1991: Subgraph backend MKLDNN is activated.\n",
      "[17:10:17] ../src/executor/graph_executor.cc:1991: Subgraph backend MKLDNN is activated.\n",
      "[17:10:17] ../src/executor/graph_executor.cc:1991: Subgraph backend MKLDNN is activated.\n",
      "[17:10:17] ../src/executor/graph_executor.cc:1991: Subgraph backend MKLDNN is activated.\n",
      "[17:10:17] ../src/executor/graph_executor.cc:1991: Subgraph backend MKLDNN is activated.\n",
      "[17:10:17] ../src/executor/graph_executor.cc:1991: Subgraph backend MKLDNN is activated.\n",
      "[17:10:17] ../src/executor/graph_executor.cc:1991: Subgraph backend MKLDNN is activated.\n",
      "[17:10:17] ../src/executor/graph_executor.cc:1991: Subgraph backend MKLDNN is activated.\n",
      "TRIM Creating Cropped Images for detector mtcnn_serfiq:  60%|██████    | 3/5 [00:00<00:00,  3.51it/s][17:10:17] ../src/executor/graph_executor.cc:1991: Subgraph backend MKLDNN is activated.\n",
      "[17:10:17] ../src/executor/graph_executor.cc:1991: Subgraph backend MKLDNN is activated.\n",
      "[17:10:17] ../src/executor/graph_executor.cc:1991: Subgraph backend MKLDNN is activated.\n",
      "[17:10:17] ../src/executor/graph_executor.cc:1991: Subgraph backend MKLDNN is activated.\n",
      "[17:10:17] ../src/executor/graph_executor.cc:1991: Subgraph backend MKLDNN is activated.\n",
      "[17:10:17] ../src/executor/graph_executor.cc:1991: Subgraph backend MKLDNN is activated.\n",
      "[17:10:17] ../src/executor/graph_executor.cc:1991: Subgraph backend MKLDNN is activated.\n",
      "[17:10:17] ../src/executor/graph_executor.cc:1991: Subgraph backend MKLDNN is activated.\n",
      "[17:10:17] ../src/executor/graph_executor.cc:1991: Subgraph backend MKLDNN is activated.\n",
      "[17:10:17] ../src/executor/graph_executor.cc:1991: Subgraph backend MKLDNN is activated.\n",
      "[17:10:17] ../src/executor/graph_executor.cc:1991: Subgraph backend MKLDNN is activated.\n",
      "TRIM Creating Cropped Images for detector mtcnn_serfiq:  80%|████████  | 4/5 [00:01<00:00,  3.59it/s][17:10:17] ../src/executor/graph_executor.cc:1991: Subgraph backend MKLDNN is activated.\n",
      "[17:10:17] ../src/executor/graph_executor.cc:1991: Subgraph backend MKLDNN is activated.\n",
      "[17:10:17] ../src/executor/graph_executor.cc:1991: Subgraph backend MKLDNN is activated.\n",
      "[17:10:17] ../src/executor/graph_executor.cc:1991: Subgraph backend MKLDNN is activated.\n",
      "[17:10:17] ../src/executor/graph_executor.cc:1991: Subgraph backend MKLDNN is activated.\n",
      "[17:10:17] ../src/executor/graph_executor.cc:1991: Subgraph backend MKLDNN is activated.\n",
      "[17:10:17] ../src/executor/graph_executor.cc:1991: Subgraph backend MKLDNN is activated.\n",
      "[17:10:17] ../src/executor/graph_executor.cc:1991: Subgraph backend MKLDNN is activated.\n",
      "[17:10:17] ../src/executor/graph_executor.cc:1991: Subgraph backend MKLDNN is activated.\n",
      "[17:10:17] ../src/executor/graph_executor.cc:1991: Subgraph backend MKLDNN is activated.\n",
      "[17:10:17] ../src/executor/graph_executor.cc:1991: Subgraph backend MKLDNN is activated.\n",
      "TRIM Creating Cropped Images for detector mtcnn_serfiq: 100%|██████████| 5/5 [00:01<00:00,  3.57it/s]\n",
      "Face images in ArcFace: 0it [00:00, ?it/s]:00<?, ?it/s]\n",
      "Embedding models: 100%|██████████| 1/1 [00:00<00:00, 174.10it/s]\n",
      "Quality images in tface: 0it [00:00, ?it/s]<?, ?it/s]\n",
      "Quality models: 100%|██████████| 1/1 [00:00<00:00, 149.05it/s]\n"
     ]
    }
   ],
   "source": [
    "database.create_tables(serfiq=serfiq)"
   ]
  },
  {
   "cell_type": "code",
   "execution_count": 7,
   "metadata": {},
   "outputs": [
    {
     "name": "stderr",
     "output_type": "stream",
     "text": [
      "Update cropped images: 0it [00:00, ?it/s]\n",
      "Computing embeddings: 0it [00:00, ?it/s]\n",
      "TRIM: Computing TFace quality: 0it [00:00, ?it/s]\n"
     ]
    }
   ],
   "source": [
    "database.update_tables(attributes_to_update, serfiq = serfiq)"
   ]
  }
 ],
 "metadata": {
  "kernelspec": {
   "display_name": "Python 3.7.15 ('sql-face')",
   "language": "python",
   "name": "python3"
  },
  "language_info": {
   "codemirror_mode": {
    "name": "ipython",
    "version": 3
   },
   "file_extension": ".py",
   "mimetype": "text/x-python",
   "name": "python",
   "nbconvert_exporter": "python",
   "pygments_lexer": "ipython3",
   "version": "3.7.15"
  },
  "orig_nbformat": 4,
  "vscode": {
   "interpreter": {
    "hash": "0a84f744ed89671113ba95f00e1aad6d21abade608318eb8af248311f249adcd"
   }
  }
 },
 "nbformat": 4,
 "nbformat_minor": 2
}
