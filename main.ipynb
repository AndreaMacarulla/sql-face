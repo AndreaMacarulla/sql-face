{
 "cells": [
  {
   "cell_type": "markdown",
   "metadata": {},
   "source": [
    "# Parameter definition\n",
    "Choose all the settings for the database creation."
   ]
  },
  {
   "cell_type": "code",
   "execution_count": 1,
   "metadata": {},
   "outputs": [],
   "source": [
    "#TODO: Change absolute to relative paths for input and output dir.\n",
    "import os\n",
    "\n",
    "home = os.path.expanduser(\"~\")\n",
    "\n",
    "db_name= 'test_video_dataset' #'colab_main_dataset'\n",
    "# input_dir = os.path.join(home,'image_datasets')\n",
    "# output_dir = os.path.join(home,'sql_database')\n",
    "input_dir = os.path.join(home,'Desktop', 'image_datasets')\n",
    "output_dir = os.path.join(home,'Desktop','sql_database')\n",
    "database_names=['scface', 'enfsi2015'] # 'lfw', 'scface', 'forenface', 'enfsi', 'enfsi2015' 'xqlfw', 'utkface','chokepoint'\n",
    "detector_names=['mtcnn', 'mtcnn_serfiq'] # 'dlib', 'mtcnn', 'mtcnn_serfiq'\n",
    "embedding_model_names=[\"ArcFace\"] # , \"Dlib\", \"ArcFace\",\n",
    "attributes_to_update=['gender']  # 'gender', 'age', 'emotion', 'race'\n",
    "quality_model_names = ['ser_fiq', 'tface'] # 'confusion_score', 'ser_fiq',\n",
    "save_in_drive = False # To work in google colab\n",
    "\n"
   ]
  },
  {
   "cell_type": "markdown",
   "metadata": {},
   "source": [
    "## SERFIQ model\n",
    "\n",
    "Create SERFIQ model."
   ]
  },
  {
   "cell_type": "code",
   "execution_count": 2,
   "metadata": {},
   "outputs": [
    {
     "name": "stderr",
     "output_type": "stream",
     "text": [
      "/home/andrea/anaconda3/envs/sql-face/lib/python3.7/site-packages/tqdm/auto.py:22: TqdmWarning: IProgress not found. Please update jupyter and ipywidgets. See https://ipywidgets.readthedocs.io/en/stable/user_install.html\n",
      "  from .autonotebook import tqdm as notebook_tqdm\n",
      "[20:52:38] ../src/nnvm/legacy_json_util.cc:208: Loading symbol saved by previous version v1.8.0. Attempting to upgrade...\n",
      "[20:52:38] ../src/nnvm/legacy_json_util.cc:216: Symbol successfully upgraded!\n",
      "/home/andrea/anaconda3/envs/sql-face/lib/python3.7/site-packages/mxnet/gluon/block.py:1784: UserWarning: Cannot decide type for the following arguments. Consider providing them as input:\n",
      "\tdata: None\n",
      "  input_sym_arg_type = in_param.infer_type()[0]\n",
      "[20:52:38] ../src/nnvm/legacy_json_util.cc:208: Loading symbol saved by previous version v0.8.0. Attempting to upgrade...\n",
      "[20:52:38] ../src/nnvm/legacy_json_util.cc:216: Symbol successfully upgraded!\n",
      "[20:52:38] ../src/nnvm/legacy_json_util.cc:208: Loading symbol saved by previous version v0.8.0. Attempting to upgrade...\n",
      "[20:52:38] ../src/nnvm/legacy_json_util.cc:216: Symbol successfully upgraded!\n",
      "[20:52:38] ../src/nnvm/legacy_json_util.cc:208: Loading symbol saved by previous version v0.8.0. Attempting to upgrade...\n",
      "[20:52:38] ../src/nnvm/legacy_json_util.cc:216: Symbol successfully upgraded!\n",
      "[20:52:38] ../src/nnvm/legacy_json_util.cc:208: Loading symbol saved by previous version v0.8.0. Attempting to upgrade...\n",
      "[20:52:38] ../src/nnvm/legacy_json_util.cc:216: Symbol successfully upgraded!\n"
     ]
    }
   ],
   "source": [
    "from sql_face.serfiq import get_serfiq_model\n",
    "serfiq = get_serfiq_model()"
   ]
  },
  {
   "cell_type": "markdown",
   "metadata": {},
   "source": [
    "# Database creation"
   ]
  },
  {
   "cell_type": "markdown",
   "metadata": {},
   "source": [
    "database = SQLDataBase(db_name=db_name,\n",
    "                        database_names=database_names, # , 'scface', 'forenface', 'enfsi', 'enfsi2015'\n",
    "                        detector_names=detector_names,\n",
    "                        embedding_model_names=embedding_model_names,\n",
    "                        quality_model_names=quality_model_names,\n",
    "                        save_in_drive=save_in_drive                        \n",
    "                        )\n",
    "\n",
    "database.fill_db()\n",
    "database.update_db(attributes_to_update=attributes_to_update, force_update=False)"
   ]
  },
  {
   "cell_type": "code",
   "execution_count": 3,
   "metadata": {},
   "outputs": [
    {
     "name": "stderr",
     "output_type": "stream",
     "text": [
      "2022-11-24 20:52:39.093635: I tensorflow/core/platform/cpu_feature_guard.cc:193] This TensorFlow binary is optimized with oneAPI Deep Neural Network Library (oneDNN) to use the following CPU instructions in performance-critical operations:  AVX2 FMA\n",
      "To enable them in other operations, rebuild TensorFlow with the appropriate compiler flags.\n",
      "2022-11-24 20:52:39.291895: E tensorflow/stream_executor/cuda/cuda_blas.cc:2981] Unable to register cuBLAS factory: Attempting to register factory for plugin cuBLAS when one has already been registered\n",
      "2022-11-24 20:52:39.920858: W tensorflow/stream_executor/platform/default/dso_loader.cc:64] Could not load dynamic library 'libnvinfer.so.7'; dlerror: libnvinfer.so.7: cannot open shared object file: No such file or directory; LD_LIBRARY_PATH: /home/andrea/anaconda3/envs/sql-face/lib/python3.7/site-packages/cv2/../../lib64:/home/andrea/Documents/cuda_software/cuda/lib64:/usr/local/cuda-11.2/lib64\n",
      "2022-11-24 20:52:39.920935: W tensorflow/stream_executor/platform/default/dso_loader.cc:64] Could not load dynamic library 'libnvinfer_plugin.so.7'; dlerror: libnvinfer_plugin.so.7: cannot open shared object file: No such file or directory; LD_LIBRARY_PATH: /home/andrea/anaconda3/envs/sql-face/lib/python3.7/site-packages/cv2/../../lib64:/home/andrea/Documents/cuda_software/cuda/lib64:/usr/local/cuda-11.2/lib64\n",
      "2022-11-24 20:52:39.920944: W tensorflow/compiler/tf2tensorrt/utils/py_utils.cc:38] TF-TRT Warning: Cannot dlopen some TensorRT libraries. If you would like to use Nvidia GPU with TensorRT, please make sure the missing libraries mentioned above are installed properly.\n"
     ]
    }
   ],
   "source": [
    "from sql_face.sqldb import SQLDataBase"
   ]
  },
  {
   "cell_type": "code",
   "execution_count": 4,
   "metadata": {},
   "outputs": [
    {
     "name": "stdout",
     "output_type": "stream",
     "text": [
      "Creating Db file at /home/andrea/Desktop/sql_database/test_video_dataset.db\n"
     ]
    }
   ],
   "source": [
    "database = SQLDataBase(db_name=db_name,\n",
    "                        input_dir = input_dir,\n",
    "                        output_dir_name = output_dir,\n",
    "                        database_names = database_names,\n",
    "                        detector_names = detector_names,\n",
    "                        embedding_model_names = embedding_model_names,\n",
    "                        quality_model_names = quality_model_names)"
   ]
  },
  {
   "cell_type": "code",
   "execution_count": 5,
   "metadata": {},
   "outputs": [
    {
     "data": {
      "text/plain": [
       "{'db_name': 'test_video_dataset',\n",
       " 'input_dir': '/home/andrea/Desktop/image_datasets',\n",
       " 'save_in_drive': False,\n",
       " 'output_dir': '/home/andrea/Desktop/sql_database',\n",
       " 'session': <sqlalchemy.orm.session.Session at 0x7fea9c60be50>,\n",
       " 'databases': [<sql_face.databases.SCFace at 0x7fea9c5cd850>,\n",
       "  <sql_face.databases.Enfsi2015 at 0x7fea9c5cdb10>],\n",
       " 'detector_names': ['mtcnn', 'mtcnn_serfiq'],\n",
       " 'embedding_model_names': ['ArcFace'],\n",
       " 'quality_model_names': ['ser_fiq', 'tface']}"
      ]
     },
     "execution_count": 5,
     "metadata": {},
     "output_type": "execute_result"
    }
   ],
   "source": [
    "database.__dict__"
   ]
  },
  {
   "cell_type": "code",
   "execution_count": 6,
   "metadata": {},
   "outputs": [
    {
     "name": "stderr",
     "output_type": "stream",
     "text": [
      "Creating images in SCFace: 4160it [00:00, 18005.56it/s]\n",
      "TRIM Creating Cropped Images for detector mtcnn:   0%|          | 0/5 [00:00<?, ?it/s]2022-11-24 20:52:45.576473: I tensorflow/stream_executor/cuda/cuda_gpu_executor.cc:980] successful NUMA node read from SysFS had negative value (-1), but there must be at least one NUMA node, so returning NUMA node zero\n",
      "2022-11-24 20:52:45.577027: I tensorflow/stream_executor/cuda/cuda_gpu_executor.cc:980] successful NUMA node read from SysFS had negative value (-1), but there must be at least one NUMA node, so returning NUMA node zero\n",
      "2022-11-24 20:52:45.577333: I tensorflow/stream_executor/cuda/cuda_gpu_executor.cc:980] successful NUMA node read from SysFS had negative value (-1), but there must be at least one NUMA node, so returning NUMA node zero\n",
      "2022-11-24 20:52:45.578395: I tensorflow/core/platform/cpu_feature_guard.cc:193] This TensorFlow binary is optimized with oneAPI Deep Neural Network Library (oneDNN) to use the following CPU instructions in performance-critical operations:  AVX2 FMA\n",
      "To enable them in other operations, rebuild TensorFlow with the appropriate compiler flags.\n",
      "2022-11-24 20:52:45.579174: I tensorflow/stream_executor/cuda/cuda_gpu_executor.cc:980] successful NUMA node read from SysFS had negative value (-1), but there must be at least one NUMA node, so returning NUMA node zero\n",
      "2022-11-24 20:52:45.579699: I tensorflow/stream_executor/cuda/cuda_gpu_executor.cc:980] successful NUMA node read from SysFS had negative value (-1), but there must be at least one NUMA node, so returning NUMA node zero\n",
      "2022-11-24 20:52:45.580088: I tensorflow/stream_executor/cuda/cuda_gpu_executor.cc:980] successful NUMA node read from SysFS had negative value (-1), but there must be at least one NUMA node, so returning NUMA node zero\n",
      "2022-11-24 20:52:51.020432: I tensorflow/stream_executor/cuda/cuda_gpu_executor.cc:980] successful NUMA node read from SysFS had negative value (-1), but there must be at least one NUMA node, so returning NUMA node zero\n",
      "2022-11-24 20:52:51.020780: I tensorflow/stream_executor/cuda/cuda_gpu_executor.cc:980] successful NUMA node read from SysFS had negative value (-1), but there must be at least one NUMA node, so returning NUMA node zero\n",
      "2022-11-24 20:52:51.021076: I tensorflow/stream_executor/cuda/cuda_gpu_executor.cc:980] successful NUMA node read from SysFS had negative value (-1), but there must be at least one NUMA node, so returning NUMA node zero\n",
      "2022-11-24 20:52:51.021360: I tensorflow/core/common_runtime/gpu/gpu_device.cc:1616] Created device /job:localhost/replica:0/task:0/device:GPU:0 with 1351 MB memory:  -> device: 0, name: NVIDIA GeForce GTX 1650 with Max-Q Design, pci bus id: 0000:02:00.0, compute capability: 7.5\n",
      "2022-11-24 20:52:52.127184: I tensorflow/stream_executor/cuda/cuda_dnn.cc:384] Loaded cuDNN version 8100\n"
     ]
    },
    {
     "name": "stdout",
     "output_type": "stream",
     "text": [
      "1/1 [==============================] - 2s 2s/step\n",
      "1/1 [==============================] - 0s 243ms/step\n",
      "1/1 [==============================] - 0s 156ms/step\n",
      "1/1 [==============================] - 0s 133ms/step\n",
      "1/1 [==============================] - 0s 123ms/step\n",
      "1/1 [==============================] - 0s 179ms/step\n",
      "1/1 [==============================] - 0s 203ms/step\n"
     ]
    },
    {
     "name": "stderr",
     "output_type": "stream",
     "text": [
      "TRIM Creating Cropped Images for detector mtcnn:  20%|██        | 1/5 [00:09<00:38,  9.52s/it]"
     ]
    },
    {
     "name": "stdout",
     "output_type": "stream",
     "text": [
      "1/1 [==============================] - 0s 20ms/step\n",
      "1/1 [==============================] - 0s 19ms/step\n",
      "1/1 [==============================] - 0s 22ms/step\n",
      "1/1 [==============================] - 0s 18ms/step\n",
      "1/1 [==============================] - 0s 18ms/step\n",
      "1/1 [==============================] - 0s 72ms/step\n",
      "1/1 [==============================] - 0s 99ms/step\n"
     ]
    },
    {
     "name": "stderr",
     "output_type": "stream",
     "text": [
      "TRIM Creating Cropped Images for detector mtcnn:  40%|████      | 2/5 [00:10<00:12,  4.24s/it]"
     ]
    },
    {
     "name": "stdout",
     "output_type": "stream",
     "text": [
      "1/1 [==============================] - 0s 120ms/step\n",
      "1/1 [==============================] - 0s 114ms/step\n",
      "1/1 [==============================] - 0s 103ms/step\n",
      "1/1 [==============================] - 0s 101ms/step\n",
      "1/1 [==============================] - 0s 103ms/step\n",
      "1/1 [==============================] - 0s 103ms/step\n",
      "1/1 [==============================] - 0s 100ms/step\n",
      "1/1 [==============================] - 0s 72ms/step\n",
      "1/1 [==============================] - 0s 98ms/step\n"
     ]
    },
    {
     "name": "stderr",
     "output_type": "stream",
     "text": [
      "TRIM Creating Cropped Images for detector mtcnn:  60%|██████    | 3/5 [00:11<00:05,  2.88s/it]"
     ]
    },
    {
     "name": "stdout",
     "output_type": "stream",
     "text": [
      "1/1 [==============================] - 0s 400ms/step\n",
      "1/1 [==============================] - 0s 246ms/step\n",
      "1/1 [==============================] - 0s 219ms/step\n",
      "1/1 [==============================] - 0s 195ms/step\n",
      "1/1 [==============================] - 0s 138ms/step\n",
      "1/1 [==============================] - 0s 127ms/step\n",
      "1/1 [==============================] - 0s 109ms/step\n",
      "1/1 [==============================] - 0s 21ms/step\n",
      "1/1 [==============================] - 0s 21ms/step\n",
      "1/1 [==============================] - 0s 19ms/step\n",
      "1/1 [==============================] - 0s 19ms/step\n",
      "1/1 [==============================] - 0s 20ms/step\n",
      "6/6 [==============================] - 0s 2ms/step\n",
      "1/1 [==============================] - 0s 98ms/step\n"
     ]
    },
    {
     "name": "stderr",
     "output_type": "stream",
     "text": [
      "TRIM Creating Cropped Images for detector mtcnn:  80%|████████  | 4/5 [00:13<00:02,  2.79s/it]"
     ]
    },
    {
     "name": "stdout",
     "output_type": "stream",
     "text": [
      "1/1 [==============================] - 0s 23ms/step\n",
      "1/1 [==============================] - 0s 18ms/step\n",
      "1/1 [==============================] - 0s 21ms/step\n",
      "1/1 [==============================] - 0s 20ms/step\n",
      "1/1 [==============================] - 0s 18ms/step\n",
      "1/1 [==============================] - 0s 73ms/step\n",
      "1/1 [==============================] - 0s 94ms/step\n"
     ]
    },
    {
     "name": "stderr",
     "output_type": "stream",
     "text": [
      "TRIM Creating Cropped Images for detector mtcnn: 100%|██████████| 5/5 [00:14<00:00,  2.90s/it]\n",
      "TRIM Creating Cropped Images for detector mtcnn_serfiq:   0%|          | 0/5 [00:00<?, ?it/s][20:53:00] ../src/executor/graph_executor.cc:1991: Subgraph backend MKLDNN is activated.\n",
      "[20:53:00] ../src/executor/graph_executor.cc:1991: Subgraph backend MKLDNN is activated.\n",
      "[20:53:00] ../src/executor/graph_executor.cc:1991: Subgraph backend MKLDNN is activated.\n",
      "[20:53:00] ../src/executor/graph_executor.cc:1991: Subgraph backend MKLDNN is activated.\n",
      "[20:53:00] ../src/executor/graph_executor.cc:1991: Subgraph backend MKLDNN is activated.\n",
      "[20:53:00] ../src/executor/graph_executor.cc:1991: Subgraph backend MKLDNN is activated.\n",
      "[20:53:00] ../src/executor/graph_executor.cc:1991: Subgraph backend MKLDNN is activated.\n",
      "[20:53:00] ../src/executor/graph_executor.cc:1991: Subgraph backend MKLDNN is activated.\n",
      "[20:53:00] ../src/executor/graph_executor.cc:1991: Subgraph backend MKLDNN is activated.\n",
      "[20:53:00] ../src/executor/graph_executor.cc:1991: Subgraph backend MKLDNN is activated.\n",
      "[20:53:00] ../src/executor/graph_executor.cc:1991: Subgraph backend MKLDNN is activated.\n",
      "[20:53:00] ../src/executor/graph_executor.cc:1991: Subgraph backend MKLDNN is activated.\n",
      "[20:53:00] ../src/executor/graph_executor.cc:1991: Subgraph backend MKLDNN is activated.\n",
      "TRIM Creating Cropped Images for detector mtcnn_serfiq:  20%|██        | 1/5 [00:00<00:00,  4.66it/s][20:53:00] ../src/executor/graph_executor.cc:1991: Subgraph backend MKLDNN is activated.\n",
      "[20:53:00] ../src/executor/graph_executor.cc:1991: Subgraph backend MKLDNN is activated.\n",
      "[20:53:00] ../src/executor/graph_executor.cc:1991: Subgraph backend MKLDNN is activated.\n",
      "[20:53:00] ../src/executor/graph_executor.cc:1991: Subgraph backend MKLDNN is activated.\n",
      "[20:53:00] ../src/executor/graph_executor.cc:1991: Subgraph backend MKLDNN is activated.\n",
      "[20:53:00] ../src/executor/graph_executor.cc:1991: Subgraph backend MKLDNN is activated.\n",
      "[20:53:00] ../src/executor/graph_executor.cc:1991: Subgraph backend MKLDNN is activated.\n",
      "[20:53:00] ../src/executor/graph_executor.cc:1991: Subgraph backend MKLDNN is activated.\n",
      "[20:53:00] ../src/executor/graph_executor.cc:1991: Subgraph backend MKLDNN is activated.\n",
      "[20:53:00] ../src/executor/graph_executor.cc:1991: Subgraph backend MKLDNN is activated.\n",
      "[20:53:00] ../src/executor/graph_executor.cc:1991: Subgraph backend MKLDNN is activated.\n",
      "[20:53:00] ../src/executor/graph_executor.cc:1991: Subgraph backend MKLDNN is activated.\n",
      "TRIM Creating Cropped Images for detector mtcnn_serfiq:  40%|████      | 2/5 [00:00<00:00,  5.84it/s][20:53:00] ../src/executor/graph_executor.cc:1991: Subgraph backend MKLDNN is activated.\n",
      "[20:53:00] ../src/executor/graph_executor.cc:1991: Subgraph backend MKLDNN is activated.\n",
      "[20:53:00] ../src/executor/graph_executor.cc:1991: Subgraph backend MKLDNN is activated.\n",
      "[20:53:00] ../src/executor/graph_executor.cc:1991: Subgraph backend MKLDNN is activated.\n",
      "[20:53:00] ../src/executor/graph_executor.cc:1991: Subgraph backend MKLDNN is activated.\n",
      "[20:53:00] ../src/executor/graph_executor.cc:1991: Subgraph backend MKLDNN is activated.\n",
      "[20:53:00] ../src/executor/graph_executor.cc:1991: Subgraph backend MKLDNN is activated.\n",
      "[20:53:00] ../src/executor/graph_executor.cc:1991: Subgraph backend MKLDNN is activated.\n",
      "[20:53:00] ../src/executor/graph_executor.cc:1991: Subgraph backend MKLDNN is activated.\n",
      "[20:53:00] ../src/executor/graph_executor.cc:1991: Subgraph backend MKLDNN is activated.\n",
      "[20:53:00] ../src/executor/graph_executor.cc:1991: Subgraph backend MKLDNN is activated.\n",
      "[20:53:00] ../src/executor/graph_executor.cc:1991: Subgraph backend MKLDNN is activated.\n",
      "[20:53:00] ../src/executor/graph_executor.cc:1991: Subgraph backend MKLDNN is activated.\n",
      "[20:53:00] ../src/executor/graph_executor.cc:1991: Subgraph backend MKLDNN is activated.\n",
      "[20:53:00] ../src/executor/graph_executor.cc:1991: Subgraph backend MKLDNN is activated.\n",
      "[20:53:00] ../src/executor/graph_executor.cc:1991: Subgraph backend MKLDNN is activated.\n",
      "TRIM Creating Cropped Images for detector mtcnn_serfiq:  60%|██████    | 3/5 [00:00<00:00,  5.55it/s][20:53:00] ../src/executor/graph_executor.cc:1991: Subgraph backend MKLDNN is activated.\n",
      "[20:53:01] ../src/executor/graph_executor.cc:1991: Subgraph backend MKLDNN is activated.\n",
      "[20:53:01] ../src/executor/graph_executor.cc:1991: Subgraph backend MKLDNN is activated.\n",
      "[20:53:01] ../src/executor/graph_executor.cc:1991: Subgraph backend MKLDNN is activated.\n",
      "[20:53:01] ../src/executor/graph_executor.cc:1991: Subgraph backend MKLDNN is activated.\n",
      "[20:53:01] ../src/executor/graph_executor.cc:1991: Subgraph backend MKLDNN is activated.\n",
      "[20:53:01] ../src/executor/graph_executor.cc:1991: Subgraph backend MKLDNN is activated.\n",
      "[20:53:01] ../src/executor/graph_executor.cc:1991: Subgraph backend MKLDNN is activated.\n",
      "[20:53:01] ../src/executor/graph_executor.cc:1991: Subgraph backend MKLDNN is activated.\n",
      "[20:53:01] ../src/executor/graph_executor.cc:1991: Subgraph backend MKLDNN is activated.\n",
      "[20:53:01] ../src/executor/graph_executor.cc:1991: Subgraph backend MKLDNN is activated.\n",
      "[20:53:01] ../src/executor/graph_executor.cc:1991: Subgraph backend MKLDNN is activated.\n",
      "[20:53:01] ../src/executor/graph_executor.cc:1991: Subgraph backend MKLDNN is activated.\n",
      "[20:53:01] ../src/executor/graph_executor.cc:1991: Subgraph backend MKLDNN is activated.\n",
      "[20:53:01] ../src/executor/graph_executor.cc:1991: Subgraph backend MKLDNN is activated.\n",
      "[20:53:01] ../src/executor/graph_executor.cc:1991: Subgraph backend MKLDNN is activated.\n",
      "[20:53:01] ../src/executor/graph_executor.cc:1991: Subgraph backend MKLDNN is activated.\n",
      "[20:53:01] ../src/executor/graph_executor.cc:1991: Subgraph backend MKLDNN is activated.\n",
      "[20:53:01] ../src/executor/graph_executor.cc:1991: Subgraph backend MKLDNN is activated.\n",
      "[20:53:01] ../src/executor/graph_executor.cc:1991: Subgraph backend MKLDNN is activated.\n",
      "[20:53:01] ../src/executor/graph_executor.cc:1991: Subgraph backend MKLDNN is activated.\n",
      "[20:53:01] ../src/executor/graph_executor.cc:1991: Subgraph backend MKLDNN is activated.\n",
      "[20:53:01] ../src/executor/graph_executor.cc:1991: Subgraph backend MKLDNN is activated.\n",
      "[20:53:01] ../src/executor/graph_executor.cc:1991: Subgraph backend MKLDNN is activated.\n",
      "[20:53:01] ../src/executor/graph_executor.cc:1991: Subgraph backend MKLDNN is activated.\n",
      "[20:53:01] ../src/executor/graph_executor.cc:1991: Subgraph backend MKLDNN is activated.\n",
      "TRIM Creating Cropped Images for detector mtcnn_serfiq:  80%|████████  | 4/5 [00:01<00:00,  2.10it/s][20:53:01] ../src/executor/graph_executor.cc:1991: Subgraph backend MKLDNN is activated.\n",
      "[20:53:01] ../src/executor/graph_executor.cc:1991: Subgraph backend MKLDNN is activated.\n",
      "[20:53:01] ../src/executor/graph_executor.cc:1991: Subgraph backend MKLDNN is activated.\n",
      "[20:53:01] ../src/executor/graph_executor.cc:1991: Subgraph backend MKLDNN is activated.\n",
      "[20:53:01] ../src/executor/graph_executor.cc:1991: Subgraph backend MKLDNN is activated.\n",
      "[20:53:01] ../src/executor/graph_executor.cc:1991: Subgraph backend MKLDNN is activated.\n",
      "[20:53:01] ../src/executor/graph_executor.cc:1991: Subgraph backend MKLDNN is activated.\n",
      "[20:53:01] ../src/executor/graph_executor.cc:1991: Subgraph backend MKLDNN is activated.\n",
      "[20:53:01] ../src/executor/graph_executor.cc:1991: Subgraph backend MKLDNN is activated.\n",
      "[20:53:01] ../src/executor/graph_executor.cc:1991: Subgraph backend MKLDNN is activated.\n",
      "[20:53:01] ../src/executor/graph_executor.cc:1991: Subgraph backend MKLDNN is activated.\n",
      "[20:53:01] ../src/executor/graph_executor.cc:1991: Subgraph backend MKLDNN is activated.\n",
      "TRIM Creating Cropped Images for detector mtcnn_serfiq: 100%|██████████| 5/5 [00:01<00:00,  3.03it/s]\n",
      "Face images in ArcFace: 100%|██████████| 10/10 [00:00<00:00, 274.06it/s]\n",
      "Embedding models: 100%|██████████| 1/1 [00:00<00:00, 23.76it/s]\n",
      "Quality images in ser_fiq: 100%|██████████| 10/10 [00:00<00:00, 268.75it/s]\n",
      "Quality images in tface: 100%|██████████| 10/10 [00:00<00:00, 279.50it/s]\n",
      "Quality models: 100%|██████████| 2/2 [00:00<00:00, 24.24it/s]\n"
     ]
    }
   ],
   "source": [
    "database.create_tables(serfiq=serfiq)"
   ]
  },
  {
   "cell_type": "code",
   "execution_count": 7,
   "metadata": {},
   "outputs": [
    {
     "name": "stderr",
     "output_type": "stream",
     "text": [
      "Update cropped images: 0it [00:00, ?it/s]\n",
      "Computing embeddings:   0%|          | 0/5 [00:00<?, ?it/s]"
     ]
    },
    {
     "name": "stdout",
     "output_type": "stream",
     "text": [
      "1/1 [==============================] - 0s 20ms/step\n",
      "1/1 [==============================] - 0s 19ms/step\n",
      "1/1 [==============================] - 0s 19ms/step\n",
      "1/1 [==============================] - 0s 18ms/step\n",
      "1/1 [==============================] - 0s 18ms/step\n",
      "1/1 [==============================] - 0s 17ms/step\n",
      "1/1 [==============================] - 0s 18ms/step\n",
      "1/1 [==============================] - 1s 1s/step\n"
     ]
    },
    {
     "name": "stderr",
     "output_type": "stream",
     "text": [
      "Computing embeddings:  20%|██        | 1/5 [00:03<00:13,  3.27s/it]"
     ]
    },
    {
     "name": "stdout",
     "output_type": "stream",
     "text": [
      "1/1 [==============================] - 0s 20ms/step\n",
      "1/1 [==============================] - 0s 19ms/step\n",
      "1/1 [==============================] - 0s 20ms/step\n",
      "1/1 [==============================] - 0s 21ms/step\n",
      "1/1 [==============================] - 0s 22ms/step\n",
      "1/1 [==============================] - 0s 20ms/step\n",
      "1/1 [==============================] - 0s 19ms/step\n",
      "1/1 [==============================] - 0s 28ms/step\n"
     ]
    },
    {
     "name": "stderr",
     "output_type": "stream",
     "text": [
      "Computing embeddings:  40%|████      | 2/5 [00:03<00:04,  1.62s/it]"
     ]
    },
    {
     "name": "stdout",
     "output_type": "stream",
     "text": [
      "1/1 [==============================] - 0s 18ms/step\n",
      "1/1 [==============================] - 0s 25ms/step\n",
      "1/1 [==============================] - 0s 20ms/step\n",
      "1/1 [==============================] - 0s 20ms/step\n",
      "1/1 [==============================] - 0s 24ms/step\n",
      "1/1 [==============================] - 0s 20ms/step\n",
      "1/1 [==============================] - 0s 17ms/step\n",
      "1/1 [==============================] - 0s 17ms/step\n",
      "1/1 [==============================] - 0s 17ms/step\n",
      "1/1 [==============================] - 0s 22ms/step\n"
     ]
    },
    {
     "name": "stderr",
     "output_type": "stream",
     "text": [
      "Computing embeddings:  60%|██████    | 3/5 [00:04<00:02,  1.13s/it]"
     ]
    },
    {
     "name": "stdout",
     "output_type": "stream",
     "text": [
      "1/1 [==============================] - 0s 25ms/step\n",
      "1/1 [==============================] - 0s 23ms/step\n",
      "1/1 [==============================] - 0s 20ms/step\n",
      "1/1 [==============================] - 0s 19ms/step\n",
      "1/1 [==============================] - 0s 18ms/step\n",
      "1/1 [==============================] - 0s 20ms/step\n",
      "1/1 [==============================] - 0s 19ms/step\n",
      "1/1 [==============================] - 0s 17ms/step\n",
      "1/1 [==============================] - 0s 21ms/step\n",
      "1/1 [==============================] - 0s 19ms/step\n",
      "1/1 [==============================] - 0s 17ms/step\n",
      "1/1 [==============================] - 0s 17ms/step\n",
      "6/6 [==============================] - 0s 2ms/step\n",
      "1/1 [==============================] - 0s 19ms/step\n",
      "1/1 [==============================] - 0s 23ms/step\n"
     ]
    },
    {
     "name": "stderr",
     "output_type": "stream",
     "text": [
      "Computing embeddings:  80%|████████  | 4/5 [00:05<00:01,  1.11s/it]"
     ]
    },
    {
     "name": "stdout",
     "output_type": "stream",
     "text": [
      "1/1 [==============================] - 0s 17ms/step\n",
      "1/1 [==============================] - 0s 18ms/step\n",
      "1/1 [==============================] - 0s 17ms/step\n",
      "1/1 [==============================] - 0s 18ms/step\n",
      "1/1 [==============================] - 0s 18ms/step\n",
      "1/1 [==============================] - 0s 17ms/step\n",
      "1/1 [==============================] - 0s 20ms/step\n",
      "1/1 [==============================] - 0s 21ms/step\n"
     ]
    },
    {
     "name": "stderr",
     "output_type": "stream",
     "text": [
      "Computing embeddings: 100%|██████████| 5/5 [00:05<00:00,  1.16s/it]\n",
      "TRIM Computing SER-FIQ quality:   0%|          | 0/5 [00:00<?, ?it/s]"
     ]
    },
    {
     "name": "stdout",
     "output_type": "stream",
     "text": [
      "1/1 [==============================] - 0s 19ms/step\n",
      "1/1 [==============================] - 0s 18ms/step\n",
      "1/1 [==============================] - 0s 19ms/step\n",
      "1/1 [==============================] - 0s 18ms/step\n",
      "1/1 [==============================] - 0s 19ms/step\n",
      "1/1 [==============================] - 0s 19ms/step\n",
      "1/1 [==============================] - 0s 20ms/step\n"
     ]
    },
    {
     "name": "stderr",
     "output_type": "stream",
     "text": [
      "TRIM Computing SER-FIQ quality:  20%|██        | 1/5 [00:11<00:45, 11.45s/it]"
     ]
    },
    {
     "name": "stdout",
     "output_type": "stream",
     "text": [
      "1/1 [==============================] - 0s 20ms/step\n",
      "1/1 [==============================] - 0s 19ms/step\n",
      "1/1 [==============================] - 0s 18ms/step\n",
      "1/1 [==============================] - 0s 18ms/step\n",
      "1/1 [==============================] - 0s 19ms/step\n",
      "1/1 [==============================] - 0s 18ms/step\n",
      "1/1 [==============================] - 0s 18ms/step\n"
     ]
    },
    {
     "name": "stderr",
     "output_type": "stream",
     "text": [
      "TRIM Computing SER-FIQ quality:  40%|████      | 2/5 [00:23<00:34, 11.65s/it]"
     ]
    },
    {
     "name": "stdout",
     "output_type": "stream",
     "text": [
      "1/1 [==============================] - 0s 19ms/step\n",
      "1/1 [==============================] - 0s 22ms/step\n",
      "1/1 [==============================] - 0s 19ms/step\n",
      "1/1 [==============================] - 0s 18ms/step\n",
      "1/1 [==============================] - 0s 19ms/step\n",
      "1/1 [==============================] - 0s 18ms/step\n",
      "1/1 [==============================] - 0s 18ms/step\n",
      "1/1 [==============================] - 0s 17ms/step\n",
      "1/1 [==============================] - 0s 17ms/step\n"
     ]
    },
    {
     "name": "stderr",
     "output_type": "stream",
     "text": [
      "TRIM Computing SER-FIQ quality:  60%|██████    | 3/5 [00:35<00:23, 11.76s/it]"
     ]
    },
    {
     "name": "stdout",
     "output_type": "stream",
     "text": [
      "1/1 [==============================] - 0s 30ms/step\n",
      "1/1 [==============================] - 0s 24ms/step\n",
      "1/1 [==============================] - 0s 22ms/step\n",
      "1/1 [==============================] - 0s 19ms/step\n",
      "1/1 [==============================] - 0s 17ms/step\n",
      "1/1 [==============================] - 0s 16ms/step\n",
      "1/1 [==============================] - 0s 18ms/step\n",
      "1/1 [==============================] - 0s 17ms/step\n",
      "1/1 [==============================] - 0s 17ms/step\n",
      "1/1 [==============================] - 0s 17ms/step\n",
      "1/1 [==============================] - 0s 19ms/step\n",
      "1/1 [==============================] - 0s 18ms/step\n",
      "6/6 [==============================] - 0s 2ms/step\n",
      "1/1 [==============================] - 0s 18ms/step\n"
     ]
    },
    {
     "name": "stderr",
     "output_type": "stream",
     "text": [
      "TRIM Computing SER-FIQ quality:  80%|████████  | 4/5 [00:48<00:12, 12.48s/it]"
     ]
    },
    {
     "name": "stdout",
     "output_type": "stream",
     "text": [
      "1/1 [==============================] - 0s 18ms/step\n",
      "1/1 [==============================] - 0s 18ms/step\n",
      "1/1 [==============================] - 0s 20ms/step\n",
      "1/1 [==============================] - 0s 20ms/step\n",
      "1/1 [==============================] - 0s 19ms/step\n",
      "1/1 [==============================] - 0s 18ms/step\n",
      "1/1 [==============================] - 0s 18ms/step\n"
     ]
    },
    {
     "name": "stderr",
     "output_type": "stream",
     "text": [
      "TRIM Computing SER-FIQ quality: 100%|██████████| 5/5 [01:00<00:00, 12.18s/it]\n",
      "TRIM: Computing TFace quality:   0%|          | 0/5 [00:00<?, ?it/s]"
     ]
    },
    {
     "name": "stdout",
     "output_type": "stream",
     "text": [
      "1/1 [==============================] - 0s 20ms/step\n",
      "1/1 [==============================] - 0s 18ms/step\n",
      "1/1 [==============================] - 0s 24ms/step\n",
      "1/1 [==============================] - 0s 18ms/step\n",
      "1/1 [==============================] - 0s 18ms/step\n",
      "1/1 [==============================] - 0s 18ms/step\n",
      "1/1 [==============================] - 0s 18ms/step\n"
     ]
    },
    {
     "name": "stderr",
     "output_type": "stream",
     "text": [
      "TRIM: Computing TFace quality:  20%|██        | 1/5 [00:00<00:02,  1.48it/s]"
     ]
    },
    {
     "name": "stdout",
     "output_type": "stream",
     "text": [
      "1/1 [==============================] - 0s 18ms/step\n",
      "1/1 [==============================] - 0s 18ms/step\n",
      "1/1 [==============================] - 0s 19ms/step\n",
      "1/1 [==============================] - 0s 18ms/step\n",
      "1/1 [==============================] - 0s 20ms/step\n",
      "1/1 [==============================] - 0s 20ms/step\n",
      "1/1 [==============================] - 0s 19ms/step\n"
     ]
    },
    {
     "name": "stderr",
     "output_type": "stream",
     "text": [
      "TRIM: Computing TFace quality:  40%|████      | 2/5 [00:01<00:02,  1.50it/s]"
     ]
    },
    {
     "name": "stdout",
     "output_type": "stream",
     "text": [
      "1/1 [==============================] - 0s 17ms/step\n",
      "1/1 [==============================] - 0s 19ms/step\n",
      "1/1 [==============================] - 0s 19ms/step\n",
      "1/1 [==============================] - 0s 17ms/step\n",
      "1/1 [==============================] - 0s 17ms/step\n",
      "1/1 [==============================] - 0s 17ms/step\n",
      "1/1 [==============================] - 0s 16ms/step\n",
      "1/1 [==============================] - 0s 17ms/step\n",
      "1/1 [==============================] - 0s 19ms/step\n"
     ]
    },
    {
     "name": "stderr",
     "output_type": "stream",
     "text": [
      "TRIM: Computing TFace quality:  60%|██████    | 3/5 [00:02<00:01,  1.42it/s]"
     ]
    },
    {
     "name": "stdout",
     "output_type": "stream",
     "text": [
      "1/1 [==============================] - 0s 26ms/step\n",
      "1/1 [==============================] - 0s 23ms/step\n",
      "1/1 [==============================] - 0s 21ms/step\n",
      "1/1 [==============================] - 0s 19ms/step\n",
      "1/1 [==============================] - 0s 18ms/step\n",
      "1/1 [==============================] - 0s 17ms/step\n",
      "1/1 [==============================] - 0s 18ms/step\n",
      "1/1 [==============================] - 0s 17ms/step\n",
      "1/1 [==============================] - 0s 22ms/step\n",
      "1/1 [==============================] - 0s 18ms/step\n",
      "1/1 [==============================] - 0s 18ms/step\n",
      "1/1 [==============================] - 0s 17ms/step\n",
      "6/6 [==============================] - 0s 2ms/step\n",
      "1/1 [==============================] - 0s 18ms/step\n"
     ]
    },
    {
     "name": "stderr",
     "output_type": "stream",
     "text": [
      "TRIM: Computing TFace quality:  80%|████████  | 4/5 [00:03<00:00,  1.05it/s]"
     ]
    },
    {
     "name": "stdout",
     "output_type": "stream",
     "text": [
      "1/1 [==============================] - 0s 18ms/step\n",
      "1/1 [==============================] - 0s 19ms/step\n",
      "1/1 [==============================] - 0s 19ms/step\n",
      "1/1 [==============================] - 0s 19ms/step\n",
      "1/1 [==============================] - 0s 20ms/step\n",
      "1/1 [==============================] - 0s 19ms/step\n",
      "1/1 [==============================] - 0s 18ms/step\n"
     ]
    },
    {
     "name": "stderr",
     "output_type": "stream",
     "text": [
      "TRIM: Computing TFace quality: 100%|██████████| 5/5 [00:04<00:00,  1.24it/s]\n"
     ]
    }
   ],
   "source": [
    "database.update_tables(attributes_to_update, serfiq = serfiq)"
   ]
  }
 ],
 "metadata": {
  "kernelspec": {
   "display_name": "Python 3.7.15 ('sql-face')",
   "language": "python",
   "name": "python3"
  },
  "language_info": {
   "codemirror_mode": {
    "name": "ipython",
    "version": 3
   },
   "file_extension": ".py",
   "mimetype": "text/x-python",
   "name": "python",
   "nbconvert_exporter": "python",
   "pygments_lexer": "ipython3",
   "version": "3.7.15"
  },
  "orig_nbformat": 4,
  "vscode": {
   "interpreter": {
    "hash": "0a84f744ed89671113ba95f00e1aad6d21abade608318eb8af248311f249adcd"
   }
  }
 },
 "nbformat": 4,
 "nbformat_minor": 2
}
