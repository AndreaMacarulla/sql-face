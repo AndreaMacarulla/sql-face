{
 "cells": [
  {
   "cell_type": "markdown",
   "metadata": {},
   "source": [
    "# Parameter definition\n",
    "Choose all the settings for the database creation."
   ]
  },
  {
   "cell_type": "code",
   "execution_count": 1,
   "metadata": {},
   "outputs": [],
   "source": [
    "#TODO: Change absolute to relative paths for input and output dir.\n",
    "import os\n",
    "\n",
    "home = os.path.expanduser(\"~\")\n",
    "\n",
    "db_name= 'test_video_dataset' #'colab_main_dataset'\n",
    "input_dir = os.path.join(home,'image_datasets')\n",
    "output_dir = os.path.join(home,'sql_database')\n",
    "database_names=['lfw'] # , 'scface', 'forenface', 'enfsi', 'enfsi2015'\n",
    "detector_names=['mtcnn', 'mtcnn_serfiq'] # 'dlib', 'mtcnn', 'mtcnn_serfiq'\n",
    "embedding_model_names=[\"ArcFace\"] # , \"Dlib\", \"ArcFace\",\n",
    "attributes_to_update=['gender', 'age']  # 'gender', 'age', 'emotion', 'race'\n",
    "quality_model_names = ['ser_fiq'] # 'confusion_score',\n",
    "save_in_drive = False # To work in google colab\n",
    "\n"
   ]
  },
  {
   "cell_type": "markdown",
   "metadata": {},
   "source": [
    "## SERFIQ model\n",
    "\n",
    "Create SERFIQ model."
   ]
  },
  {
   "cell_type": "code",
   "execution_count": 2,
   "metadata": {},
   "outputs": [
    {
     "name": "stderr",
     "output_type": "stream",
     "text": [
      "2022-11-13 16:02:55.729563: I tensorflow/core/platform/cpu_feature_guard.cc:193] This TensorFlow binary is optimized with oneAPI Deep Neural Network Library (oneDNN) to use the following CPU instructions in performance-critical operations:  AVX2 FMA\n",
      "To enable them in other operations, rebuild TensorFlow with the appropriate compiler flags.\n",
      "2022-11-13 16:02:55.879274: W tensorflow/stream_executor/platform/default/dso_loader.cc:64] Could not load dynamic library 'libcudart.so.11.0'; dlerror: libcudart.so.11.0: cannot open shared object file: No such file or directory; LD_LIBRARY_PATH: /home/jmacarulla/anaconda3/envs/sql-face/lib/python3.7/site-packages/cv2/../../lib64:\n",
      "2022-11-13 16:02:55.879293: I tensorflow/stream_executor/cuda/cudart_stub.cc:29] Ignore above cudart dlerror if you do not have a GPU set up on your machine.\n",
      "2022-11-13 16:02:55.920429: E tensorflow/stream_executor/cuda/cuda_blas.cc:2981] Unable to register cuBLAS factory: Attempting to register factory for plugin cuBLAS when one has already been registered\n",
      "2022-11-13 16:02:56.523166: W tensorflow/stream_executor/platform/default/dso_loader.cc:64] Could not load dynamic library 'libnvinfer.so.7'; dlerror: libnvinfer.so.7: cannot open shared object file: No such file or directory; LD_LIBRARY_PATH: /home/jmacarulla/anaconda3/envs/sql-face/lib/python3.7/site-packages/cv2/../../lib64:\n",
      "2022-11-13 16:02:56.523273: W tensorflow/stream_executor/platform/default/dso_loader.cc:64] Could not load dynamic library 'libnvinfer_plugin.so.7'; dlerror: libnvinfer_plugin.so.7: cannot open shared object file: No such file or directory; LD_LIBRARY_PATH: /home/jmacarulla/anaconda3/envs/sql-face/lib/python3.7/site-packages/cv2/../../lib64:\n",
      "2022-11-13 16:02:56.523280: W tensorflow/compiler/tf2tensorrt/utils/py_utils.cc:38] TF-TRT Warning: Cannot dlopen some TensorRT libraries. If you would like to use Nvidia GPU with TensorRT, please make sure the missing libraries mentioned above are installed properly.\n",
      "2022-11-13 16:02:57.119084: W tensorflow/stream_executor/platform/default/dso_loader.cc:64] Could not load dynamic library 'libcuda.so.1'; dlerror: libcuda.so.1: cannot open shared object file: No such file or directory; LD_LIBRARY_PATH: /home/jmacarulla/anaconda3/envs/sql-face/lib/python3.7/site-packages/cv2/../../lib64:\n",
      "2022-11-13 16:02:57.119153: W tensorflow/stream_executor/cuda/cuda_driver.cc:263] failed call to cuInit: UNKNOWN ERROR (303)\n",
      "2022-11-13 16:02:57.119172: I tensorflow/stream_executor/cuda/cuda_diagnostics.cc:156] kernel driver does not appear to be running on this host (DESKTOP-NSS2B5R): /proc/driver/nvidia/version does not exist\n",
      "[16:02:57] ../src/nnvm/legacy_json_util.cc:208: Loading symbol saved by previous version v1.8.0. Attempting to upgrade...\n",
      "[16:02:57] ../src/nnvm/legacy_json_util.cc:216: Symbol successfully upgraded!\n",
      "/home/jmacarulla/anaconda3/envs/sql-face/lib/python3.7/site-packages/mxnet/gluon/block.py:1784: UserWarning: Cannot decide type for the following arguments. Consider providing them as input:\n",
      "\tdata: None\n",
      "  input_sym_arg_type = in_param.infer_type()[0]\n",
      "[16:02:57] ../src/nnvm/legacy_json_util.cc:208: Loading symbol saved by previous version v0.8.0. Attempting to upgrade...\n",
      "[16:02:57] ../src/nnvm/legacy_json_util.cc:216: Symbol successfully upgraded!\n",
      "[16:02:57] ../src/nnvm/legacy_json_util.cc:208: Loading symbol saved by previous version v0.8.0. Attempting to upgrade...\n",
      "[16:02:57] ../src/nnvm/legacy_json_util.cc:216: Symbol successfully upgraded!\n",
      "[16:02:57] ../src/nnvm/legacy_json_util.cc:208: Loading symbol saved by previous version v0.8.0. Attempting to upgrade...\n",
      "[16:02:57] ../src/nnvm/legacy_json_util.cc:216: Symbol successfully upgraded!\n",
      "[16:02:57] ../src/nnvm/legacy_json_util.cc:208: Loading symbol saved by previous version v0.8.0. Attempting to upgrade...\n",
      "[16:02:57] ../src/nnvm/legacy_json_util.cc:216: Symbol successfully upgraded!\n"
     ]
    }
   ],
   "source": [
    "from sql_face.serfiq import get_serfiq_model\n",
    "serfiq = get_serfiq_model()"
   ]
  },
  {
   "cell_type": "markdown",
   "metadata": {},
   "source": [
    "# Database creation"
   ]
  },
  {
   "cell_type": "markdown",
   "metadata": {},
   "source": [
    "database = SQLDataBase(db_name=db_name,\n",
    "                        database_names=database_names, # , 'scface', 'forenface', 'enfsi', 'enfsi2015'\n",
    "                        detector_names=detector_names,\n",
    "                        embedding_model_names=embedding_model_names,\n",
    "                        quality_model_names=quality_model_names,\n",
    "                        save_in_drive=save_in_drive                        \n",
    "                        )\n",
    "\n",
    "database.fill_db()\n",
    "database.update_db(attributes_to_update=attributes_to_update, force_update=False)"
   ]
  },
  {
   "cell_type": "code",
   "execution_count": 3,
   "metadata": {},
   "outputs": [],
   "source": [
    "from sql_face.sqldb import SQLDataBase"
   ]
  },
  {
   "cell_type": "code",
   "execution_count": 4,
   "metadata": {},
   "outputs": [],
   "source": [
    "database = SQLDataBase(db_name=db_name,\n",
    "                        input_dir = input_dir,\n",
    "                        output_dir_name = output_dir,\n",
    "                        database_names = database_names,\n",
    "                        detector_names = detector_names,\n",
    "                        embedding_model_names = embedding_model_names,\n",
    "                        quality_model_names = quality_model_names)"
   ]
  },
  {
   "cell_type": "code",
   "execution_count": 5,
   "metadata": {},
   "outputs": [
    {
     "data": {
      "text/plain": [
       "{'db_name': 'test_video_dataset',\n",
       " 'input_dir': '/home/jmacarulla/image_datasets',\n",
       " 'save_in_drive': False,\n",
       " 'output_dir': '/home/jmacarulla/sql_database',\n",
       " 'session': <sqlalchemy.orm.session.Session at 0x7f3ed1f77c10>,\n",
       " 'databases': [<sql_face.databases.LFW at 0x7f3ed1f3b890>],\n",
       " 'detector_names': ['mtcnn', 'mtcnn_serfiq'],\n",
       " 'embedding_model_names': ['ArcFace'],\n",
       " 'quality_model_names': ['ser_fiq']}"
      ]
     },
     "execution_count": 5,
     "metadata": {},
     "output_type": "execute_result"
    }
   ],
   "source": [
    "database.__dict__"
   ]
  },
  {
   "cell_type": "code",
   "execution_count": 6,
   "metadata": {},
   "outputs": [
    {
     "name": "stderr",
     "output_type": "stream",
     "text": [
      "Creating image record from LFW: 0it [00:00, ?it/s]\n",
      "TRIM Creating Cropped Images for detector mtcnn:   0%|          | 0/5 [00:00<?, ?it/s]2022-11-13 16:02:58.798268: I tensorflow/core/platform/cpu_feature_guard.cc:193] This TensorFlow binary is optimized with oneAPI Deep Neural Network Library (oneDNN) to use the following CPU instructions in performance-critical operations:  AVX2 FMA\n",
      "To enable them in other operations, rebuild TensorFlow with the appropriate compiler flags.\n"
     ]
    },
    {
     "name": "stdout",
     "output_type": "stream",
     "text": [
      "1/1 [==============================] - 0s 122ms/step\n",
      "1/1 [==============================] - 0s 78ms/step\n",
      "1/1 [==============================] - 0s 23ms/step\n",
      "1/1 [==============================] - 0s 20ms/step\n",
      "1/1 [==============================] - 0s 21ms/step\n",
      "1/1 [==============================] - 0s 25ms/step\n",
      "1/1 [==============================] - 0s 19ms/step\n",
      "1/1 [==============================] - 0s 20ms/step\n",
      "2/2 [==============================] - 0s 6ms/step\n",
      "1/1 [==============================] - 0s 111ms/step\n"
     ]
    },
    {
     "name": "stderr",
     "output_type": "stream",
     "text": [
      "TRIM Creating Cropped Images for detector mtcnn:  20%|██        | 1/5 [00:01<00:05,  1.44s/it]"
     ]
    },
    {
     "name": "stdout",
     "output_type": "stream",
     "text": [
      "1/1 [==============================] - 0s 24ms/step\n",
      "1/1 [==============================] - 0s 21ms/step\n",
      "1/1 [==============================] - 0s 21ms/step\n",
      "1/1 [==============================] - 0s 20ms/step\n",
      "1/1 [==============================] - 0s 20ms/step\n",
      "1/1 [==============================] - 0s 19ms/step\n",
      "1/1 [==============================] - 0s 18ms/step\n",
      "1/1 [==============================] - 0s 19ms/step\n",
      "3/3 [==============================] - 0s 8ms/step\n",
      "1/1 [==============================] - 0s 24ms/step\n"
     ]
    },
    {
     "name": "stderr",
     "output_type": "stream",
     "text": [
      "TRIM Creating Cropped Images for detector mtcnn:  40%|████      | 2/5 [00:02<00:02,  1.04it/s]"
     ]
    },
    {
     "name": "stdout",
     "output_type": "stream",
     "text": [
      "1/1 [==============================] - 0s 23ms/step\n",
      "1/1 [==============================] - 0s 23ms/step\n",
      "1/1 [==============================] - 0s 20ms/step\n",
      "1/1 [==============================] - 0s 21ms/step\n",
      "1/1 [==============================] - 0s 22ms/step\n",
      "1/1 [==============================] - 0s 19ms/step\n",
      "1/1 [==============================] - 0s 19ms/step\n",
      "1/1 [==============================] - 0s 20ms/step\n",
      "3/3 [==============================] - 0s 6ms/step\n",
      "1/1 [==============================] - 0s 27ms/step\n"
     ]
    },
    {
     "name": "stderr",
     "output_type": "stream",
     "text": [
      "TRIM Creating Cropped Images for detector mtcnn:  60%|██████    | 3/5 [00:02<00:01,  1.23it/s]"
     ]
    },
    {
     "name": "stdout",
     "output_type": "stream",
     "text": [
      "1/1 [==============================] - 0s 24ms/step\n",
      "1/1 [==============================] - 0s 21ms/step\n",
      "1/1 [==============================] - 0s 21ms/step\n",
      "1/1 [==============================] - 0s 29ms/step\n",
      "1/1 [==============================] - 0s 22ms/step\n",
      "1/1 [==============================] - 0s 20ms/step\n",
      "1/1 [==============================] - 0s 19ms/step\n",
      "1/1 [==============================] - 0s 21ms/step\n",
      "2/2 [==============================] - 0s 7ms/step\n",
      "1/1 [==============================] - 0s 22ms/step\n"
     ]
    },
    {
     "name": "stderr",
     "output_type": "stream",
     "text": [
      "TRIM Creating Cropped Images for detector mtcnn:  80%|████████  | 4/5 [00:03<00:00,  1.34it/s]"
     ]
    },
    {
     "name": "stdout",
     "output_type": "stream",
     "text": [
      "1/1 [==============================] - 0s 22ms/step\n",
      "1/1 [==============================] - 0s 21ms/step\n",
      "1/1 [==============================] - 0s 22ms/step\n",
      "1/1 [==============================] - 0s 21ms/step\n",
      "1/1 [==============================] - 0s 20ms/step\n",
      "1/1 [==============================] - 0s 18ms/step\n",
      "1/1 [==============================] - 0s 19ms/step\n",
      "1/1 [==============================] - 0s 19ms/step\n",
      "2/2 [==============================] - 0s 5ms/step\n",
      "1/1 [==============================] - 0s 23ms/step\n"
     ]
    },
    {
     "name": "stderr",
     "output_type": "stream",
     "text": [
      "TRIM Creating Cropped Images for detector mtcnn: 100%|██████████| 5/5 [00:03<00:00,  1.26it/s]\n",
      "TRIM Creating Cropped Images for detector mtcnn_serfiq:   0%|          | 0/5 [00:00<?, ?it/s][16:03:03] ../src/executor/graph_executor.cc:1991: Subgraph backend MKLDNN is activated.\n",
      "[16:03:03] ../src/executor/graph_executor.cc:1991: Subgraph backend MKLDNN is activated.\n",
      "[16:03:03] ../src/executor/graph_executor.cc:1991: Subgraph backend MKLDNN is activated.\n",
      "[16:03:03] ../src/executor/graph_executor.cc:1991: Subgraph backend MKLDNN is activated.\n",
      "[16:03:03] ../src/executor/graph_executor.cc:1991: Subgraph backend MKLDNN is activated.\n",
      "[16:03:03] ../src/executor/graph_executor.cc:1991: Subgraph backend MKLDNN is activated.\n",
      "[16:03:03] ../src/executor/graph_executor.cc:1991: Subgraph backend MKLDNN is activated.\n",
      "[16:03:03] ../src/executor/graph_executor.cc:1991: Subgraph backend MKLDNN is activated.\n",
      "[16:03:03] ../src/executor/graph_executor.cc:1991: Subgraph backend MKLDNN is activated.\n",
      "[16:03:03] ../src/executor/graph_executor.cc:1991: Subgraph backend MKLDNN is activated.\n",
      "[16:03:03] ../src/executor/graph_executor.cc:1991: Subgraph backend MKLDNN is activated.\n",
      "[16:03:03] ../src/executor/graph_executor.cc:1991: Subgraph backend MKLDNN is activated.\n",
      "[16:03:03] ../src/executor/graph_executor.cc:1991: Subgraph backend MKLDNN is activated.\n",
      "[16:03:03] ../src/executor/graph_executor.cc:1991: Subgraph backend MKLDNN is activated.\n",
      "[16:03:03] ../src/executor/graph_executor.cc:1991: Subgraph backend MKLDNN is activated.\n",
      "[16:03:03] ../src/executor/graph_executor.cc:1991: Subgraph backend MKLDNN is activated.\n",
      "[16:03:03] ../src/executor/graph_executor.cc:1991: Subgraph backend MKLDNN is activated.\n",
      "[16:03:03] ../src/executor/graph_executor.cc:1991: Subgraph backend MKLDNN is activated.\n",
      "[16:03:03] ../src/executor/graph_executor.cc:1991: Subgraph backend MKLDNN is activated.\n",
      "TRIM Creating Cropped Images for detector mtcnn_serfiq:  20%|██        | 1/5 [00:00<00:01,  3.08it/s][16:03:03] ../src/executor/graph_executor.cc:1991: Subgraph backend MKLDNN is activated.\n",
      "[16:03:03] ../src/executor/graph_executor.cc:1991: Subgraph backend MKLDNN is activated.\n",
      "[16:03:03] ../src/executor/graph_executor.cc:1991: Subgraph backend MKLDNN is activated.\n",
      "[16:03:03] ../src/executor/graph_executor.cc:1991: Subgraph backend MKLDNN is activated.\n",
      "[16:03:03] ../src/executor/graph_executor.cc:1991: Subgraph backend MKLDNN is activated.\n",
      "[16:03:03] ../src/executor/graph_executor.cc:1991: Subgraph backend MKLDNN is activated.\n",
      "[16:03:03] ../src/executor/graph_executor.cc:1991: Subgraph backend MKLDNN is activated.\n",
      "[16:03:03] ../src/executor/graph_executor.cc:1991: Subgraph backend MKLDNN is activated.\n",
      "[16:03:03] ../src/executor/graph_executor.cc:1991: Subgraph backend MKLDNN is activated.\n",
      "[16:03:03] ../src/executor/graph_executor.cc:1991: Subgraph backend MKLDNN is activated.\n",
      "[16:03:03] ../src/executor/graph_executor.cc:1991: Subgraph backend MKLDNN is activated.\n",
      "[16:03:03] ../src/executor/graph_executor.cc:1991: Subgraph backend MKLDNN is activated.\n",
      "[16:03:03] ../src/executor/graph_executor.cc:1991: Subgraph backend MKLDNN is activated.\n",
      "[16:03:03] ../src/executor/graph_executor.cc:1991: Subgraph backend MKLDNN is activated.\n",
      "[16:03:03] ../src/executor/graph_executor.cc:1991: Subgraph backend MKLDNN is activated.\n",
      "[16:03:03] ../src/executor/graph_executor.cc:1991: Subgraph backend MKLDNN is activated.\n",
      "[16:03:03] ../src/executor/graph_executor.cc:1991: Subgraph backend MKLDNN is activated.\n",
      "TRIM Creating Cropped Images for detector mtcnn_serfiq:  40%|████      | 2/5 [00:00<00:00,  3.64it/s][16:03:03] ../src/executor/graph_executor.cc:1991: Subgraph backend MKLDNN is activated.\n",
      "[16:03:03] ../src/executor/graph_executor.cc:1991: Subgraph backend MKLDNN is activated.\n",
      "[16:03:03] ../src/executor/graph_executor.cc:1991: Subgraph backend MKLDNN is activated.\n",
      "[16:03:03] ../src/executor/graph_executor.cc:1991: Subgraph backend MKLDNN is activated.\n",
      "[16:03:03] ../src/executor/graph_executor.cc:1991: Subgraph backend MKLDNN is activated.\n",
      "[16:03:03] ../src/executor/graph_executor.cc:1991: Subgraph backend MKLDNN is activated.\n",
      "[16:03:03] ../src/executor/graph_executor.cc:1991: Subgraph backend MKLDNN is activated.\n",
      "[16:03:03] ../src/executor/graph_executor.cc:1991: Subgraph backend MKLDNN is activated.\n",
      "[16:03:03] ../src/executor/graph_executor.cc:1991: Subgraph backend MKLDNN is activated.\n",
      "[16:03:03] ../src/executor/graph_executor.cc:1991: Subgraph backend MKLDNN is activated.\n",
      "[16:03:03] ../src/executor/graph_executor.cc:1991: Subgraph backend MKLDNN is activated.\n",
      "[16:03:03] ../src/executor/graph_executor.cc:1991: Subgraph backend MKLDNN is activated.\n",
      "[16:03:03] ../src/executor/graph_executor.cc:1991: Subgraph backend MKLDNN is activated.\n",
      "[16:03:03] ../src/executor/graph_executor.cc:1991: Subgraph backend MKLDNN is activated.\n",
      "[16:03:03] ../src/executor/graph_executor.cc:1991: Subgraph backend MKLDNN is activated.\n",
      "[16:03:03] ../src/executor/graph_executor.cc:1991: Subgraph backend MKLDNN is activated.\n",
      "[16:03:03] ../src/executor/graph_executor.cc:1991: Subgraph backend MKLDNN is activated.\n",
      "[16:03:03] ../src/executor/graph_executor.cc:1991: Subgraph backend MKLDNN is activated.\n",
      "TRIM Creating Cropped Images for detector mtcnn_serfiq:  60%|██████    | 3/5 [00:00<00:00,  3.70it/s][16:03:03] ../src/executor/graph_executor.cc:1991: Subgraph backend MKLDNN is activated.\n",
      "[16:03:03] ../src/executor/graph_executor.cc:1991: Subgraph backend MKLDNN is activated.\n",
      "[16:03:03] ../src/executor/graph_executor.cc:1991: Subgraph backend MKLDNN is activated.\n",
      "[16:03:03] ../src/executor/graph_executor.cc:1991: Subgraph backend MKLDNN is activated.\n",
      "[16:03:03] ../src/executor/graph_executor.cc:1991: Subgraph backend MKLDNN is activated.\n",
      "[16:03:03] ../src/executor/graph_executor.cc:1991: Subgraph backend MKLDNN is activated.\n",
      "[16:03:03] ../src/executor/graph_executor.cc:1991: Subgraph backend MKLDNN is activated.\n",
      "[16:03:03] ../src/executor/graph_executor.cc:1991: Subgraph backend MKLDNN is activated.\n",
      "[16:03:03] ../src/executor/graph_executor.cc:1991: Subgraph backend MKLDNN is activated.\n",
      "[16:03:03] ../src/executor/graph_executor.cc:1991: Subgraph backend MKLDNN is activated.\n",
      "[16:03:03] ../src/executor/graph_executor.cc:1991: Subgraph backend MKLDNN is activated.\n",
      "[16:03:03] ../src/executor/graph_executor.cc:1991: Subgraph backend MKLDNN is activated.\n",
      "[16:03:03] ../src/executor/graph_executor.cc:1991: Subgraph backend MKLDNN is activated.\n",
      "[16:03:03] ../src/executor/graph_executor.cc:1991: Subgraph backend MKLDNN is activated.\n",
      "[16:03:03] ../src/executor/graph_executor.cc:1991: Subgraph backend MKLDNN is activated.\n",
      "[16:03:03] ../src/executor/graph_executor.cc:1991: Subgraph backend MKLDNN is activated.\n",
      "[16:03:04] ../src/executor/graph_executor.cc:1991: Subgraph backend MKLDNN is activated.\n",
      "[16:03:04] ../src/executor/graph_executor.cc:1991: Subgraph backend MKLDNN is activated.\n",
      "TRIM Creating Cropped Images for detector mtcnn_serfiq:  80%|████████  | 4/5 [00:01<00:00,  3.84it/s][16:03:04] ../src/executor/graph_executor.cc:1991: Subgraph backend MKLDNN is activated.\n",
      "[16:03:04] ../src/executor/graph_executor.cc:1991: Subgraph backend MKLDNN is activated.\n",
      "[16:03:04] ../src/executor/graph_executor.cc:1991: Subgraph backend MKLDNN is activated.\n",
      "[16:03:04] ../src/executor/graph_executor.cc:1991: Subgraph backend MKLDNN is activated.\n",
      "[16:03:04] ../src/executor/graph_executor.cc:1991: Subgraph backend MKLDNN is activated.\n",
      "[16:03:04] ../src/executor/graph_executor.cc:1991: Subgraph backend MKLDNN is activated.\n",
      "[16:03:04] ../src/executor/graph_executor.cc:1991: Subgraph backend MKLDNN is activated.\n",
      "[16:03:04] ../src/executor/graph_executor.cc:1991: Subgraph backend MKLDNN is activated.\n",
      "[16:03:04] ../src/executor/graph_executor.cc:1991: Subgraph backend MKLDNN is activated.\n",
      "[16:03:04] ../src/executor/graph_executor.cc:1991: Subgraph backend MKLDNN is activated.\n",
      "[16:03:04] ../src/executor/graph_executor.cc:1991: Subgraph backend MKLDNN is activated.\n",
      "[16:03:04] ../src/executor/graph_executor.cc:1991: Subgraph backend MKLDNN is activated.\n",
      "[16:03:04] ../src/executor/graph_executor.cc:1991: Subgraph backend MKLDNN is activated.\n",
      "[16:03:04] ../src/executor/graph_executor.cc:1991: Subgraph backend MKLDNN is activated.\n",
      "[16:03:04] ../src/executor/graph_executor.cc:1991: Subgraph backend MKLDNN is activated.\n",
      "[16:03:04] ../src/executor/graph_executor.cc:1991: Subgraph backend MKLDNN is activated.\n",
      "[16:03:04] ../src/executor/graph_executor.cc:1991: Subgraph backend MKLDNN is activated.\n",
      "[16:03:04] ../src/executor/graph_executor.cc:1991: Subgraph backend MKLDNN is activated.\n",
      "TRIM Creating Cropped Images for detector mtcnn_serfiq: 100%|██████████| 5/5 [00:01<00:00,  3.81it/s]\n",
      "Face images in ArcFace: 100%|██████████| 10/10 [00:00<00:00, 128.79it/s]\n",
      "Embedding models: 100%|██████████| 1/1 [00:00<00:00, 11.67it/s]\n",
      "Quality images in ser_fiq: 100%|██████████| 10/10 [00:00<00:00, 156.34it/s]\n",
      "Quality models: 100%|██████████| 1/1 [00:00<00:00, 13.99it/s]\n"
     ]
    }
   ],
   "source": [
    "database.create_tables(serfiq=serfiq)"
   ]
  },
  {
   "cell_type": "code",
   "execution_count": 7,
   "metadata": {},
   "outputs": [
    {
     "name": "stderr",
     "output_type": "stream",
     "text": [
      "Computing SER-FIQ quality:   0%|          | 0/10 [00:00<?, ?it/s]"
     ]
    },
    {
     "name": "stdout",
     "output_type": "stream",
     "text": [
      "1/1 [==============================] - 0s 23ms/step\n",
      "1/1 [==============================] - 0s 22ms/step\n",
      "1/1 [==============================] - 0s 19ms/step\n",
      "1/1 [==============================] - 0s 22ms/step\n",
      "1/1 [==============================] - 0s 19ms/step\n",
      "1/1 [==============================] - 0s 20ms/step\n",
      "1/1 [==============================] - 0s 19ms/step\n",
      "1/1 [==============================] - 0s 20ms/step\n",
      "2/2 [==============================] - 0s 5ms/step\n",
      "1/1 [==============================] - 0s 27ms/step\n"
     ]
    },
    {
     "name": "stderr",
     "output_type": "stream",
     "text": [
      "Computing SER-FIQ quality:  10%|█         | 1/10 [00:09<01:27,  9.78s/it]"
     ]
    },
    {
     "name": "stdout",
     "output_type": "stream",
     "text": [
      "1/1 [==============================] - 0s 32ms/step\n",
      "1/1 [==============================] - 0s 23ms/step\n",
      "1/1 [==============================] - 0s 19ms/step\n",
      "1/1 [==============================] - 0s 20ms/step\n",
      "1/1 [==============================] - 0s 20ms/step\n",
      "1/1 [==============================] - 0s 19ms/step\n",
      "1/1 [==============================] - 0s 19ms/step\n",
      "1/1 [==============================] - 0s 25ms/step\n",
      "3/3 [==============================] - 0s 7ms/step\n",
      "1/1 [==============================] - 0s 26ms/step\n"
     ]
    },
    {
     "name": "stderr",
     "output_type": "stream",
     "text": [
      "Computing SER-FIQ quality:  20%|██        | 2/10 [00:19<01:17,  9.67s/it]"
     ]
    },
    {
     "name": "stdout",
     "output_type": "stream",
     "text": [
      "1/1 [==============================] - 0s 30ms/step\n",
      "1/1 [==============================] - 0s 24ms/step\n",
      "1/1 [==============================] - 0s 20ms/step\n",
      "1/1 [==============================] - 0s 21ms/step\n",
      "1/1 [==============================] - 0s 21ms/step\n",
      "1/1 [==============================] - 0s 21ms/step\n",
      "1/1 [==============================] - 0s 31ms/step\n",
      "1/1 [==============================] - 0s 23ms/step\n",
      "3/3 [==============================] - 0s 7ms/step\n",
      "1/1 [==============================] - 0s 28ms/step\n"
     ]
    },
    {
     "name": "stderr",
     "output_type": "stream",
     "text": [
      "Computing SER-FIQ quality:  30%|███       | 3/10 [00:29<01:07,  9.66s/it]"
     ]
    },
    {
     "name": "stdout",
     "output_type": "stream",
     "text": [
      "1/1 [==============================] - 0s 34ms/step\n",
      "1/1 [==============================] - 0s 27ms/step\n",
      "1/1 [==============================] - 0s 19ms/step\n",
      "1/1 [==============================] - 0s 22ms/step\n",
      "1/1 [==============================] - 0s 22ms/step\n",
      "1/1 [==============================] - 0s 20ms/step\n",
      "1/1 [==============================] - 0s 19ms/step\n",
      "1/1 [==============================] - 0s 21ms/step\n",
      "2/2 [==============================] - 0s 7ms/step\n",
      "1/1 [==============================] - 0s 25ms/step\n"
     ]
    },
    {
     "name": "stderr",
     "output_type": "stream",
     "text": [
      "Computing SER-FIQ quality:  40%|████      | 4/10 [00:38<00:57,  9.66s/it]"
     ]
    },
    {
     "name": "stdout",
     "output_type": "stream",
     "text": [
      "1/1 [==============================] - 0s 32ms/step\n",
      "1/1 [==============================] - 0s 25ms/step\n",
      "1/1 [==============================] - 0s 19ms/step\n",
      "1/1 [==============================] - 0s 23ms/step\n",
      "1/1 [==============================] - 0s 20ms/step\n",
      "1/1 [==============================] - 0s 19ms/step\n",
      "1/1 [==============================] - 0s 23ms/step\n",
      "1/1 [==============================] - 0s 20ms/step\n",
      "2/2 [==============================] - 0s 5ms/step\n",
      "1/1 [==============================] - 0s 24ms/step\n"
     ]
    },
    {
     "name": "stderr",
     "output_type": "stream",
     "text": [
      "Computing SER-FIQ quality:  50%|█████     | 5/10 [00:48<00:48,  9.73s/it][16:03:53] ../src/executor/graph_executor.cc:1991: Subgraph backend MKLDNN is activated.\n",
      "[16:03:53] ../src/executor/graph_executor.cc:1991: Subgraph backend MKLDNN is activated.\n",
      "[16:03:53] ../src/executor/graph_executor.cc:1991: Subgraph backend MKLDNN is activated.\n",
      "[16:03:53] ../src/executor/graph_executor.cc:1991: Subgraph backend MKLDNN is activated.\n",
      "[16:03:53] ../src/executor/graph_executor.cc:1991: Subgraph backend MKLDNN is activated.\n",
      "[16:03:53] ../src/executor/graph_executor.cc:1991: Subgraph backend MKLDNN is activated.\n",
      "[16:03:53] ../src/executor/graph_executor.cc:1991: Subgraph backend MKLDNN is activated.\n",
      "[16:03:53] ../src/executor/graph_executor.cc:1991: Subgraph backend MKLDNN is activated.\n",
      "[16:03:53] ../src/executor/graph_executor.cc:1991: Subgraph backend MKLDNN is activated.\n",
      "[16:03:53] ../src/executor/graph_executor.cc:1991: Subgraph backend MKLDNN is activated.\n",
      "Computing SER-FIQ quality:  60%|██████    | 6/10 [00:57<00:38,  9.62s/it][16:04:02] ../src/executor/graph_executor.cc:1991: Subgraph backend MKLDNN is activated.\n",
      "[16:04:02] ../src/executor/graph_executor.cc:1991: Subgraph backend MKLDNN is activated.\n",
      "[16:04:02] ../src/executor/graph_executor.cc:1991: Subgraph backend MKLDNN is activated.\n",
      "[16:04:02] ../src/executor/graph_executor.cc:1991: Subgraph backend MKLDNN is activated.\n",
      "[16:04:02] ../src/executor/graph_executor.cc:1991: Subgraph backend MKLDNN is activated.\n",
      "[16:04:02] ../src/executor/graph_executor.cc:1991: Subgraph backend MKLDNN is activated.\n",
      "[16:04:02] ../src/executor/graph_executor.cc:1991: Subgraph backend MKLDNN is activated.\n",
      "[16:04:02] ../src/executor/graph_executor.cc:1991: Subgraph backend MKLDNN is activated.\n",
      "[16:04:02] ../src/executor/graph_executor.cc:1991: Subgraph backend MKLDNN is activated.\n",
      "Computing SER-FIQ quality:  70%|███████   | 7/10 [01:07<00:28,  9.52s/it][16:04:11] ../src/executor/graph_executor.cc:1991: Subgraph backend MKLDNN is activated.\n",
      "[16:04:11] ../src/executor/graph_executor.cc:1991: Subgraph backend MKLDNN is activated.\n",
      "[16:04:11] ../src/executor/graph_executor.cc:1991: Subgraph backend MKLDNN is activated.\n",
      "[16:04:11] ../src/executor/graph_executor.cc:1991: Subgraph backend MKLDNN is activated.\n",
      "[16:04:11] ../src/executor/graph_executor.cc:1991: Subgraph backend MKLDNN is activated.\n",
      "[16:04:11] ../src/executor/graph_executor.cc:1991: Subgraph backend MKLDNN is activated.\n",
      "[16:04:11] ../src/executor/graph_executor.cc:1991: Subgraph backend MKLDNN is activated.\n",
      "[16:04:11] ../src/executor/graph_executor.cc:1991: Subgraph backend MKLDNN is activated.\n",
      "[16:04:11] ../src/executor/graph_executor.cc:1991: Subgraph backend MKLDNN is activated.\n",
      "[16:04:11] ../src/executor/graph_executor.cc:1991: Subgraph backend MKLDNN is activated.\n",
      "Computing SER-FIQ quality:  80%|████████  | 8/10 [01:16<00:19,  9.52s/it][16:04:21] ../src/executor/graph_executor.cc:1991: Subgraph backend MKLDNN is activated.\n",
      "[16:04:21] ../src/executor/graph_executor.cc:1991: Subgraph backend MKLDNN is activated.\n",
      "[16:04:21] ../src/executor/graph_executor.cc:1991: Subgraph backend MKLDNN is activated.\n",
      "[16:04:21] ../src/executor/graph_executor.cc:1991: Subgraph backend MKLDNN is activated.\n",
      "[16:04:21] ../src/executor/graph_executor.cc:1991: Subgraph backend MKLDNN is activated.\n",
      "[16:04:21] ../src/executor/graph_executor.cc:1991: Subgraph backend MKLDNN is activated.\n",
      "[16:04:21] ../src/executor/graph_executor.cc:1991: Subgraph backend MKLDNN is activated.\n",
      "[16:04:21] ../src/executor/graph_executor.cc:1991: Subgraph backend MKLDNN is activated.\n",
      "[16:04:21] ../src/executor/graph_executor.cc:1991: Subgraph backend MKLDNN is activated.\n",
      "[16:04:21] ../src/executor/graph_executor.cc:1991: Subgraph backend MKLDNN is activated.\n",
      "Computing SER-FIQ quality:  90%|█████████ | 9/10 [01:26<00:09,  9.47s/it][16:04:30] ../src/executor/graph_executor.cc:1991: Subgraph backend MKLDNN is activated.\n",
      "[16:04:30] ../src/executor/graph_executor.cc:1991: Subgraph backend MKLDNN is activated.\n",
      "[16:04:30] ../src/executor/graph_executor.cc:1991: Subgraph backend MKLDNN is activated.\n",
      "[16:04:30] ../src/executor/graph_executor.cc:1991: Subgraph backend MKLDNN is activated.\n",
      "[16:04:30] ../src/executor/graph_executor.cc:1991: Subgraph backend MKLDNN is activated.\n",
      "[16:04:30] ../src/executor/graph_executor.cc:1991: Subgraph backend MKLDNN is activated.\n",
      "[16:04:30] ../src/executor/graph_executor.cc:1991: Subgraph backend MKLDNN is activated.\n",
      "[16:04:30] ../src/executor/graph_executor.cc:1991: Subgraph backend MKLDNN is activated.\n",
      "[16:04:30] ../src/executor/graph_executor.cc:1991: Subgraph backend MKLDNN is activated.\n",
      "[16:04:30] ../src/executor/graph_executor.cc:1991: Subgraph backend MKLDNN is activated.\n",
      "Computing SER-FIQ quality: 100%|██████████| 10/10 [01:35<00:00,  9.55s/it]\n"
     ]
    },
    {
     "ename": "NameError",
     "evalue": "name 'network' is not defined",
     "output_type": "error",
     "traceback": [
      "\u001b[0;31m---------------------------------------------------------------------------\u001b[0m",
      "\u001b[0;31mNameError\u001b[0m                                 Traceback (most recent call last)",
      "\u001b[0;32m/tmp/ipykernel_9706/3046650546.py\u001b[0m in \u001b[0;36m<module>\u001b[0;34m\u001b[0m\n\u001b[0;32m----> 1\u001b[0;31m \u001b[0mdatabase\u001b[0m\u001b[0;34m.\u001b[0m\u001b[0mupdate_tables\u001b[0m\u001b[0;34m(\u001b[0m\u001b[0mattributes_to_update\u001b[0m\u001b[0;34m,\u001b[0m \u001b[0mserfiq\u001b[0m \u001b[0;34m=\u001b[0m \u001b[0mserfiq\u001b[0m\u001b[0;34m)\u001b[0m\u001b[0;34m\u001b[0m\u001b[0;34m\u001b[0m\u001b[0m\n\u001b[0m",
      "\u001b[0;32m~/sql-face/sql_face/sqldb.py\u001b[0m in \u001b[0;36mupdate_tables\u001b[0;34m(self, attributes_to_update, force_update, serfiq)\u001b[0m\n\u001b[1;32m     65\u001b[0m         \u001b[0;31m# update_cropped_images(self.session, force_update = force_update, serfiq = serfiq)\u001b[0m\u001b[0;34m\u001b[0m\u001b[0;34m\u001b[0m\u001b[0;34m\u001b[0m\u001b[0m\n\u001b[1;32m     66\u001b[0m         \u001b[0;31m# update_face_images(self.session, force_update = force_update)\u001b[0m\u001b[0;34m\u001b[0m\u001b[0;34m\u001b[0m\u001b[0;34m\u001b[0m\u001b[0m\n\u001b[0;32m---> 67\u001b[0;31m         \u001b[0mupdate_quality_images\u001b[0m\u001b[0;34m(\u001b[0m\u001b[0mself\u001b[0m\u001b[0;34m.\u001b[0m\u001b[0msession\u001b[0m\u001b[0;34m,\u001b[0m \u001b[0mserfiq\u001b[0m \u001b[0;34m=\u001b[0m \u001b[0mserfiq\u001b[0m\u001b[0;34m,\u001b[0m \u001b[0mforce_update\u001b[0m \u001b[0;34m=\u001b[0m \u001b[0mforce_update\u001b[0m\u001b[0;34m)\u001b[0m\u001b[0;34m\u001b[0m\u001b[0;34m\u001b[0m\u001b[0m\n\u001b[0m",
      "\u001b[0;32m~/sql-face/sql_face/alchemy.py\u001b[0m in \u001b[0;36mupdate_quality_images\u001b[0;34m(session, serfiq, force_update)\u001b[0m\n\u001b[1;32m    345\u001b[0m \u001b[0;34m\u001b[0m\u001b[0m\n\u001b[1;32m    346\u001b[0m     \u001b[0mupdate_ser_fiq\u001b[0m\u001b[0;34m(\u001b[0m\u001b[0msession\u001b[0m\u001b[0;34m,\u001b[0m \u001b[0mserfiq\u001b[0m\u001b[0;34m,\u001b[0m \u001b[0mforce_update\u001b[0m\u001b[0;34m=\u001b[0m\u001b[0mforce_update\u001b[0m\u001b[0;34m)\u001b[0m\u001b[0;34m\u001b[0m\u001b[0;34m\u001b[0m\u001b[0m\n\u001b[0;32m--> 347\u001b[0;31m     \u001b[0mupdate_tface\u001b[0m\u001b[0;34m(\u001b[0m\u001b[0msession\u001b[0m\u001b[0;34m,\u001b[0m \u001b[0mserfiq\u001b[0m\u001b[0;34m,\u001b[0m \u001b[0mforce_update\u001b[0m\u001b[0;34m=\u001b[0m\u001b[0mforce_update\u001b[0m\u001b[0;34m)\u001b[0m\u001b[0;34m\u001b[0m\u001b[0;34m\u001b[0m\u001b[0m\n\u001b[0m\u001b[1;32m    348\u001b[0m \u001b[0;34m\u001b[0m\u001b[0m\n\u001b[1;32m    349\u001b[0m \u001b[0;31m# %% ../nbs/02_alchemy.ipynb 26\u001b[0m\u001b[0;34m\u001b[0m\u001b[0;34m\u001b[0m\u001b[0;34m\u001b[0m\u001b[0m\n",
      "\u001b[0;32m~/sql-face/sql_face/alchemy.py\u001b[0m in \u001b[0;36mupdate_tface\u001b[0;34m(session, serfiq, force_update)\u001b[0m\n\u001b[1;32m    378\u001b[0m     \u001b[0;31m#ser_fiq = self.ser_fiq\u001b[0m\u001b[0;34m\u001b[0m\u001b[0;34m\u001b[0m\u001b[0;34m\u001b[0m\u001b[0m\n\u001b[1;32m    379\u001b[0m     \u001b[0mser_fiq\u001b[0m \u001b[0;34m=\u001b[0m \u001b[0;32mNone\u001b[0m\u001b[0;34m\u001b[0m\u001b[0;34m\u001b[0m\u001b[0m\n\u001b[0;32m--> 380\u001b[0;31m     \u001b[0mnet\u001b[0m \u001b[0;34m=\u001b[0m \u001b[0mnetwork\u001b[0m\u001b[0;34m(\u001b[0m\u001b[0;34m)\u001b[0m\u001b[0;34m\u001b[0m\u001b[0;34m\u001b[0m\u001b[0m\n\u001b[0m\u001b[1;32m    381\u001b[0m \u001b[0;34m\u001b[0m\u001b[0m\n\u001b[1;32m    382\u001b[0m     \u001b[0;31m# todo: Now it is only for ArcFace, it should be expanded to other embedding models. Is it ArcFace or another face recognition model?\u001b[0m\u001b[0;34m\u001b[0m\u001b[0;34m\u001b[0m\u001b[0;34m\u001b[0m\u001b[0m\n",
      "\u001b[0;31mNameError\u001b[0m: name 'network' is not defined"
     ]
    }
   ],
   "source": [
    "database.update_tables(attributes_to_update, serfiq = serfiq)"
   ]
  }
 ],
 "metadata": {
  "kernelspec": {
   "display_name": "Python 3.7.13 ('sql-face')",
   "language": "python",
   "name": "python3"
  },
  "language_info": {
   "codemirror_mode": {
    "name": "ipython",
    "version": 3
   },
   "file_extension": ".py",
   "mimetype": "text/x-python",
   "name": "python",
   "nbconvert_exporter": "python",
   "pygments_lexer": "ipython3",
   "version": "3.7.13"
  },
  "orig_nbformat": 4,
  "vscode": {
   "interpreter": {
    "hash": "edd2314f85f22963f985d48f57a085e9a58a34ab11a3cd413d34968a1f6f2e55"
   }
  }
 },
 "nbformat": 4,
 "nbformat_minor": 2
}
