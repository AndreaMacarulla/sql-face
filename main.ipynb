{
 "cells": [
  {
   "cell_type": "markdown",
   "metadata": {},
   "source": [
    "# Parameter definition\n",
    "Choose all the settings for the database creation."
   ]
  },
  {
   "cell_type": "code",
   "execution_count": 1,
   "metadata": {},
   "outputs": [],
   "source": [
    "#TODO: Change absolute to relative paths for input and output dir.\n",
    "import os\n",
    "\n",
    "home = os.path.expanduser(\"~\")\n",
    "\n",
    "db_name= 'test_video_dataset' #'colab_main_dataset'\n",
    "# input_dir = os.path.join(home,'image_datasets')\n",
    "# output_dir = os.path.join(home,'sql_database')\n",
    "input_dir = os.path.join(home,'Desktop', 'image_datasets')\n",
    "output_dir = os.path.join(home,'Desktop','sql_database')\n",
    "database_names=['lfw'] # , 'scface', 'forenface', 'enfsi', 'enfsi2015'\n",
    "detector_names=['mtcnn', 'mtcnn_serfiq'] # 'dlib', 'mtcnn', 'mtcnn_serfiq'\n",
    "embedding_model_names=[\"ArcFace\"] # , \"Dlib\", \"ArcFace\",\n",
    "attributes_to_update=['gender']  # 'gender', 'age', 'emotion', 'race'\n",
    "quality_model_names = ['tface'] # 'confusion_score', 'ser_fiq',\n",
    "save_in_drive = False # To work in google colab\n",
    "\n"
   ]
  },
  {
   "cell_type": "markdown",
   "metadata": {},
   "source": [
    "## SERFIQ model\n",
    "\n",
    "Create SERFIQ model."
   ]
  },
  {
   "cell_type": "code",
   "execution_count": 2,
   "metadata": {},
   "outputs": [
    {
     "name": "stderr",
     "output_type": "stream",
     "text": [
      "/home/andrea/anaconda3/envs/sql-face/lib/python3.7/site-packages/tqdm/auto.py:22: TqdmWarning: IProgress not found. Please update jupyter and ipywidgets. See https://ipywidgets.readthedocs.io/en/stable/user_install.html\n",
      "  from .autonotebook import tqdm as notebook_tqdm\n",
      "[18:19:02] ../src/nnvm/legacy_json_util.cc:208: Loading symbol saved by previous version v1.8.0. Attempting to upgrade...\n",
      "[18:19:02] ../src/nnvm/legacy_json_util.cc:216: Symbol successfully upgraded!\n",
      "/home/andrea/anaconda3/envs/sql-face/lib/python3.7/site-packages/mxnet/gluon/block.py:1784: UserWarning: Cannot decide type for the following arguments. Consider providing them as input:\n",
      "\tdata: None\n",
      "  input_sym_arg_type = in_param.infer_type()[0]\n",
      "[18:19:03] ../src/nnvm/legacy_json_util.cc:208: Loading symbol saved by previous version v0.8.0. Attempting to upgrade...\n",
      "[18:19:03] ../src/nnvm/legacy_json_util.cc:216: Symbol successfully upgraded!\n",
      "[18:19:03] ../src/nnvm/legacy_json_util.cc:208: Loading symbol saved by previous version v0.8.0. Attempting to upgrade...\n",
      "[18:19:03] ../src/nnvm/legacy_json_util.cc:216: Symbol successfully upgraded!\n",
      "[18:19:03] ../src/nnvm/legacy_json_util.cc:208: Loading symbol saved by previous version v0.8.0. Attempting to upgrade...\n",
      "[18:19:03] ../src/nnvm/legacy_json_util.cc:216: Symbol successfully upgraded!\n",
      "[18:19:03] ../src/nnvm/legacy_json_util.cc:208: Loading symbol saved by previous version v0.8.0. Attempting to upgrade...\n",
      "[18:19:03] ../src/nnvm/legacy_json_util.cc:216: Symbol successfully upgraded!\n"
     ]
    }
   ],
   "source": [
    "from sql_face.serfiq import get_serfiq_model\n",
    "serfiq = get_serfiq_model()"
   ]
  },
  {
   "cell_type": "markdown",
   "metadata": {},
   "source": [
    "# Database creation"
   ]
  },
  {
   "cell_type": "markdown",
   "metadata": {},
   "source": [
    "database = SQLDataBase(db_name=db_name,\n",
    "                        database_names=database_names, # , 'scface', 'forenface', 'enfsi', 'enfsi2015'\n",
    "                        detector_names=detector_names,\n",
    "                        embedding_model_names=embedding_model_names,\n",
    "                        quality_model_names=quality_model_names,\n",
    "                        save_in_drive=save_in_drive                        \n",
    "                        )\n",
    "\n",
    "database.fill_db()\n",
    "database.update_db(attributes_to_update=attributes_to_update, force_update=False)"
   ]
  },
  {
   "cell_type": "code",
   "execution_count": 3,
   "metadata": {},
   "outputs": [
    {
     "name": "stderr",
     "output_type": "stream",
     "text": [
      "2022-11-16 18:19:03.941500: I tensorflow/core/platform/cpu_feature_guard.cc:193] This TensorFlow binary is optimized with oneAPI Deep Neural Network Library (oneDNN) to use the following CPU instructions in performance-critical operations:  AVX2 FMA\n",
      "To enable them in other operations, rebuild TensorFlow with the appropriate compiler flags.\n",
      "2022-11-16 18:19:04.374723: E tensorflow/stream_executor/cuda/cuda_blas.cc:2981] Unable to register cuBLAS factory: Attempting to register factory for plugin cuBLAS when one has already been registered\n",
      "2022-11-16 18:19:05.426663: W tensorflow/stream_executor/platform/default/dso_loader.cc:64] Could not load dynamic library 'libnvinfer.so.7'; dlerror: libnvinfer.so.7: cannot open shared object file: No such file or directory; LD_LIBRARY_PATH: /home/andrea/anaconda3/envs/sql-face/lib/python3.7/site-packages/cv2/../../lib64:/home/andrea/Documents/cuda_software/cuda/lib64:/usr/local/cuda-11.2/lib64\n",
      "2022-11-16 18:19:05.426820: W tensorflow/stream_executor/platform/default/dso_loader.cc:64] Could not load dynamic library 'libnvinfer_plugin.so.7'; dlerror: libnvinfer_plugin.so.7: cannot open shared object file: No such file or directory; LD_LIBRARY_PATH: /home/andrea/anaconda3/envs/sql-face/lib/python3.7/site-packages/cv2/../../lib64:/home/andrea/Documents/cuda_software/cuda/lib64:/usr/local/cuda-11.2/lib64\n",
      "2022-11-16 18:19:05.426830: W tensorflow/compiler/tf2tensorrt/utils/py_utils.cc:38] TF-TRT Warning: Cannot dlopen some TensorRT libraries. If you would like to use Nvidia GPU with TensorRT, please make sure the missing libraries mentioned above are installed properly.\n"
     ]
    }
   ],
   "source": [
    "from sql_face.sqldb import SQLDataBase"
   ]
  },
  {
   "cell_type": "code",
   "execution_count": 4,
   "metadata": {},
   "outputs": [],
   "source": [
    "database = SQLDataBase(db_name=db_name,\n",
    "                        input_dir = input_dir,\n",
    "                        output_dir_name = output_dir,\n",
    "                        database_names = database_names,\n",
    "                        detector_names = detector_names,\n",
    "                        embedding_model_names = embedding_model_names,\n",
    "                        quality_model_names = quality_model_names)"
   ]
  },
  {
   "cell_type": "code",
   "execution_count": 5,
   "metadata": {},
   "outputs": [
    {
     "data": {
      "text/plain": [
       "{'db_name': 'test_video_dataset',\n",
       " 'input_dir': '/home/andrea/Desktop/image_datasets',\n",
       " 'save_in_drive': False,\n",
       " 'output_dir': '/home/andrea/Desktop/sql_database',\n",
       " 'session': <sqlalchemy.orm.session.Session at 0x7f6f112dd210>,\n",
       " 'databases': [<sql_face.databases.LFW at 0x7f6f1126bfd0>],\n",
       " 'detector_names': ['mtcnn', 'mtcnn_serfiq'],\n",
       " 'embedding_model_names': ['ArcFace'],\n",
       " 'quality_model_names': ['tface']}"
      ]
     },
     "execution_count": 5,
     "metadata": {},
     "output_type": "execute_result"
    }
   ],
   "source": [
    "database.__dict__"
   ]
  },
  {
   "cell_type": "code",
   "execution_count": 6,
   "metadata": {},
   "outputs": [
    {
     "name": "stderr",
     "output_type": "stream",
     "text": [
      "Creating image record from LFW: 0it [00:00, ?it/s]\n",
      "TRIM Creating Cropped Images for detector mtcnn:   0%|          | 0/5 [00:00<?, ?it/s]2022-11-16 18:19:08.741550: I tensorflow/stream_executor/cuda/cuda_gpu_executor.cc:980] successful NUMA node read from SysFS had negative value (-1), but there must be at least one NUMA node, so returning NUMA node zero\n",
      "2022-11-16 18:19:08.742436: I tensorflow/stream_executor/cuda/cuda_gpu_executor.cc:980] successful NUMA node read from SysFS had negative value (-1), but there must be at least one NUMA node, so returning NUMA node zero\n",
      "2022-11-16 18:19:08.742820: I tensorflow/stream_executor/cuda/cuda_gpu_executor.cc:980] successful NUMA node read from SysFS had negative value (-1), but there must be at least one NUMA node, so returning NUMA node zero\n",
      "2022-11-16 18:19:08.743625: I tensorflow/core/platform/cpu_feature_guard.cc:193] This TensorFlow binary is optimized with oneAPI Deep Neural Network Library (oneDNN) to use the following CPU instructions in performance-critical operations:  AVX2 FMA\n",
      "To enable them in other operations, rebuild TensorFlow with the appropriate compiler flags.\n",
      "2022-11-16 18:19:08.744443: I tensorflow/stream_executor/cuda/cuda_gpu_executor.cc:980] successful NUMA node read from SysFS had negative value (-1), but there must be at least one NUMA node, so returning NUMA node zero\n",
      "2022-11-16 18:19:08.744868: I tensorflow/stream_executor/cuda/cuda_gpu_executor.cc:980] successful NUMA node read from SysFS had negative value (-1), but there must be at least one NUMA node, so returning NUMA node zero\n",
      "2022-11-16 18:19:08.745284: I tensorflow/stream_executor/cuda/cuda_gpu_executor.cc:980] successful NUMA node read from SysFS had negative value (-1), but there must be at least one NUMA node, so returning NUMA node zero\n",
      "2022-11-16 18:19:14.556694: I tensorflow/stream_executor/cuda/cuda_gpu_executor.cc:980] successful NUMA node read from SysFS had negative value (-1), but there must be at least one NUMA node, so returning NUMA node zero\n",
      "2022-11-16 18:19:14.557295: I tensorflow/stream_executor/cuda/cuda_gpu_executor.cc:980] successful NUMA node read from SysFS had negative value (-1), but there must be at least one NUMA node, so returning NUMA node zero\n",
      "2022-11-16 18:19:14.557591: I tensorflow/stream_executor/cuda/cuda_gpu_executor.cc:980] successful NUMA node read from SysFS had negative value (-1), but there must be at least one NUMA node, so returning NUMA node zero\n",
      "2022-11-16 18:19:14.557870: I tensorflow/core/common_runtime/gpu/gpu_device.cc:1616] Created device /job:localhost/replica:0/task:0/device:GPU:0 with 1358 MB memory:  -> device: 0, name: NVIDIA GeForce GTX 1650 with Max-Q Design, pci bus id: 0000:02:00.0, compute capability: 7.5\n",
      "2022-11-16 18:19:15.978434: I tensorflow/stream_executor/cuda/cuda_dnn.cc:384] Loaded cuDNN version 8100\n"
     ]
    },
    {
     "name": "stdout",
     "output_type": "stream",
     "text": [
      "1/1 [==============================] - 3s 3s/step\n",
      "1/1 [==============================] - 0s 219ms/step\n",
      "1/1 [==============================] - 0s 144ms/step\n",
      "1/1 [==============================] - 0s 122ms/step\n",
      "1/1 [==============================] - 0s 110ms/step\n",
      "1/1 [==============================] - 0s 109ms/step\n",
      "1/1 [==============================] - 0s 106ms/step\n",
      "1/1 [==============================] - 0s 106ms/step\n",
      "2/2 [==============================] - 0s 62ms/step\n",
      "1/1 [==============================] - 0s 208ms/step\n"
     ]
    },
    {
     "name": "stderr",
     "output_type": "stream",
     "text": [
      "TRIM Creating Cropped Images for detector mtcnn:  20%|██        | 1/5 [00:11<00:44, 11.11s/it]"
     ]
    },
    {
     "name": "stdout",
     "output_type": "stream",
     "text": [
      "1/1 [==============================] - 0s 33ms/step\n",
      "1/1 [==============================] - 0s 26ms/step\n",
      "1/1 [==============================] - 0s 29ms/step\n",
      "1/1 [==============================] - 0s 23ms/step\n",
      "1/1 [==============================] - 0s 25ms/step\n",
      "1/1 [==============================] - 0s 23ms/step\n",
      "1/1 [==============================] - 0s 23ms/step\n",
      "1/1 [==============================] - 0s 37ms/step\n",
      "2/2 [==============================] - 0s 60ms/step\n",
      "1/1 [==============================] - 0s 101ms/step\n"
     ]
    },
    {
     "name": "stderr",
     "output_type": "stream",
     "text": [
      "TRIM Creating Cropped Images for detector mtcnn:  40%|████      | 2/5 [00:12<00:15,  5.13s/it]"
     ]
    },
    {
     "name": "stdout",
     "output_type": "stream",
     "text": [
      "1/1 [==============================] - 0s 24ms/step\n",
      "1/1 [==============================] - 0s 25ms/step\n",
      "1/1 [==============================] - 0s 26ms/step\n",
      "1/1 [==============================] - 0s 24ms/step\n",
      "1/1 [==============================] - 0s 22ms/step\n",
      "1/1 [==============================] - 0s 23ms/step\n",
      "1/1 [==============================] - 0s 21ms/step\n",
      "1/1 [==============================] - 0s 22ms/step\n",
      "3/3 [==============================] - 0s 3ms/step\n",
      "1/1 [==============================] - 0s 116ms/step\n"
     ]
    },
    {
     "name": "stderr",
     "output_type": "stream",
     "text": [
      "TRIM Creating Cropped Images for detector mtcnn:  60%|██████    | 3/5 [00:12<00:06,  3.16s/it]"
     ]
    },
    {
     "name": "stdout",
     "output_type": "stream",
     "text": [
      "1/1 [==============================] - 0s 23ms/step\n",
      "1/1 [==============================] - 0s 23ms/step\n",
      "1/1 [==============================] - 0s 23ms/step\n",
      "1/1 [==============================] - 0s 23ms/step\n",
      "1/1 [==============================] - 0s 23ms/step\n",
      "1/1 [==============================] - 0s 22ms/step\n",
      "1/1 [==============================] - 0s 23ms/step\n",
      "1/1 [==============================] - 0s 21ms/step\n",
      "2/2 [==============================] - 0s 67ms/step\n",
      "1/1 [==============================] - 0s 108ms/step\n"
     ]
    },
    {
     "name": "stderr",
     "output_type": "stream",
     "text": [
      "TRIM Creating Cropped Images for detector mtcnn:  80%|████████  | 4/5 [00:13<00:02,  2.26s/it]"
     ]
    },
    {
     "name": "stdout",
     "output_type": "stream",
     "text": [
      "1/1 [==============================] - 0s 25ms/step\n",
      "1/1 [==============================] - 0s 23ms/step\n",
      "1/1 [==============================] - 0s 23ms/step\n",
      "1/1 [==============================] - 0s 30ms/step\n",
      "1/1 [==============================] - 0s 22ms/step\n",
      "1/1 [==============================] - 0s 22ms/step\n",
      "1/1 [==============================] - 0s 24ms/step\n",
      "1/1 [==============================] - 0s 21ms/step\n",
      "2/2 [==============================] - 0s 3ms/step\n",
      "1/1 [==============================] - 0s 23ms/step\n"
     ]
    },
    {
     "name": "stderr",
     "output_type": "stream",
     "text": [
      "TRIM Creating Cropped Images for detector mtcnn: 100%|██████████| 5/5 [00:14<00:00,  2.89s/it]\n",
      "TRIM Creating Cropped Images for detector mtcnn_serfiq:   0%|          | 0/5 [00:00<?, ?it/s][18:19:23] ../src/executor/graph_executor.cc:1991: Subgraph backend MKLDNN is activated.\n",
      "[18:19:23] ../src/executor/graph_executor.cc:1991: Subgraph backend MKLDNN is activated.\n",
      "[18:19:23] ../src/executor/graph_executor.cc:1991: Subgraph backend MKLDNN is activated.\n",
      "[18:19:23] ../src/executor/graph_executor.cc:1991: Subgraph backend MKLDNN is activated.\n",
      "[18:19:23] ../src/executor/graph_executor.cc:1991: Subgraph backend MKLDNN is activated.\n",
      "[18:19:23] ../src/executor/graph_executor.cc:1991: Subgraph backend MKLDNN is activated.\n",
      "[18:19:23] ../src/executor/graph_executor.cc:1991: Subgraph backend MKLDNN is activated.\n",
      "[18:19:23] ../src/executor/graph_executor.cc:1991: Subgraph backend MKLDNN is activated.\n",
      "[18:19:23] ../src/executor/graph_executor.cc:1991: Subgraph backend MKLDNN is activated.\n",
      "[18:19:23] ../src/executor/graph_executor.cc:1991: Subgraph backend MKLDNN is activated.\n",
      "[18:19:23] ../src/executor/graph_executor.cc:1991: Subgraph backend MKLDNN is activated.\n",
      "[18:19:23] ../src/executor/graph_executor.cc:1991: Subgraph backend MKLDNN is activated.\n",
      "[18:19:23] ../src/executor/graph_executor.cc:1991: Subgraph backend MKLDNN is activated.\n",
      "[18:19:23] ../src/executor/graph_executor.cc:1991: Subgraph backend MKLDNN is activated.\n",
      "[18:19:23] ../src/executor/graph_executor.cc:1991: Subgraph backend MKLDNN is activated.\n",
      "[18:19:23] ../src/executor/graph_executor.cc:1991: Subgraph backend MKLDNN is activated.\n",
      "[18:19:23] ../src/executor/graph_executor.cc:1991: Subgraph backend MKLDNN is activated.\n",
      "[18:19:23] ../src/executor/graph_executor.cc:1991: Subgraph backend MKLDNN is activated.\n",
      "[18:19:23] ../src/executor/graph_executor.cc:1991: Subgraph backend MKLDNN is activated.\n",
      "TRIM Creating Cropped Images for detector mtcnn_serfiq:  20%|██        | 1/5 [00:00<00:01,  2.23it/s][18:19:23] ../src/executor/graph_executor.cc:1991: Subgraph backend MKLDNN is activated.\n",
      "[18:19:23] ../src/executor/graph_executor.cc:1991: Subgraph backend MKLDNN is activated.\n",
      "[18:19:23] ../src/executor/graph_executor.cc:1991: Subgraph backend MKLDNN is activated.\n",
      "[18:19:23] ../src/executor/graph_executor.cc:1991: Subgraph backend MKLDNN is activated.\n",
      "[18:19:23] ../src/executor/graph_executor.cc:1991: Subgraph backend MKLDNN is activated.\n",
      "[18:19:23] ../src/executor/graph_executor.cc:1991: Subgraph backend MKLDNN is activated.\n",
      "[18:19:23] ../src/executor/graph_executor.cc:1991: Subgraph backend MKLDNN is activated.\n",
      "[18:19:24] ../src/executor/graph_executor.cc:1991: Subgraph backend MKLDNN is activated.\n",
      "[18:19:24] ../src/executor/graph_executor.cc:1991: Subgraph backend MKLDNN is activated.\n",
      "[18:19:24] ../src/executor/graph_executor.cc:1991: Subgraph backend MKLDNN is activated.\n",
      "[18:19:24] ../src/executor/graph_executor.cc:1991: Subgraph backend MKLDNN is activated.\n",
      "[18:19:24] ../src/executor/graph_executor.cc:1991: Subgraph backend MKLDNN is activated.\n",
      "[18:19:24] ../src/executor/graph_executor.cc:1991: Subgraph backend MKLDNN is activated.\n",
      "[18:19:24] ../src/executor/graph_executor.cc:1991: Subgraph backend MKLDNN is activated.\n",
      "[18:19:24] ../src/executor/graph_executor.cc:1991: Subgraph backend MKLDNN is activated.\n",
      "[18:19:24] ../src/executor/graph_executor.cc:1991: Subgraph backend MKLDNN is activated.\n",
      "[18:19:24] ../src/executor/graph_executor.cc:1991: Subgraph backend MKLDNN is activated.\n",
      "[18:19:24] ../src/executor/graph_executor.cc:1991: Subgraph backend MKLDNN is activated.\n",
      "TRIM Creating Cropped Images for detector mtcnn_serfiq:  40%|████      | 2/5 [00:00<00:01,  2.80it/s][18:19:24] ../src/executor/graph_executor.cc:1991: Subgraph backend MKLDNN is activated.\n",
      "[18:19:24] ../src/executor/graph_executor.cc:1991: Subgraph backend MKLDNN is activated.\n",
      "[18:19:24] ../src/executor/graph_executor.cc:1991: Subgraph backend MKLDNN is activated.\n",
      "[18:19:24] ../src/executor/graph_executor.cc:1991: Subgraph backend MKLDNN is activated.\n",
      "[18:19:24] ../src/executor/graph_executor.cc:1991: Subgraph backend MKLDNN is activated.\n",
      "[18:19:24] ../src/executor/graph_executor.cc:1991: Subgraph backend MKLDNN is activated.\n",
      "[18:19:24] ../src/executor/graph_executor.cc:1991: Subgraph backend MKLDNN is activated.\n",
      "[18:19:24] ../src/executor/graph_executor.cc:1991: Subgraph backend MKLDNN is activated.\n",
      "[18:19:24] ../src/executor/graph_executor.cc:1991: Subgraph backend MKLDNN is activated.\n",
      "[18:19:24] ../src/executor/graph_executor.cc:1991: Subgraph backend MKLDNN is activated.\n",
      "[18:19:24] ../src/executor/graph_executor.cc:1991: Subgraph backend MKLDNN is activated.\n",
      "[18:19:24] ../src/executor/graph_executor.cc:1991: Subgraph backend MKLDNN is activated.\n",
      "[18:19:24] ../src/executor/graph_executor.cc:1991: Subgraph backend MKLDNN is activated.\n",
      "[18:19:24] ../src/executor/graph_executor.cc:1991: Subgraph backend MKLDNN is activated.\n",
      "[18:19:24] ../src/executor/graph_executor.cc:1991: Subgraph backend MKLDNN is activated.\n",
      "[18:19:24] ../src/executor/graph_executor.cc:1991: Subgraph backend MKLDNN is activated.\n",
      "[18:19:24] ../src/executor/graph_executor.cc:1991: Subgraph backend MKLDNN is activated.\n",
      "[18:19:24] ../src/executor/graph_executor.cc:1991: Subgraph backend MKLDNN is activated.\n",
      "TRIM Creating Cropped Images for detector mtcnn_serfiq:  60%|██████    | 3/5 [00:01<00:00,  2.97it/s][18:19:24] ../src/executor/graph_executor.cc:1991: Subgraph backend MKLDNN is activated.\n",
      "[18:19:24] ../src/executor/graph_executor.cc:1991: Subgraph backend MKLDNN is activated.\n",
      "[18:19:24] ../src/executor/graph_executor.cc:1991: Subgraph backend MKLDNN is activated.\n",
      "[18:19:24] ../src/executor/graph_executor.cc:1991: Subgraph backend MKLDNN is activated.\n",
      "[18:19:24] ../src/executor/graph_executor.cc:1991: Subgraph backend MKLDNN is activated.\n",
      "[18:19:24] ../src/executor/graph_executor.cc:1991: Subgraph backend MKLDNN is activated.\n",
      "[18:19:24] ../src/executor/graph_executor.cc:1991: Subgraph backend MKLDNN is activated.\n",
      "[18:19:24] ../src/executor/graph_executor.cc:1991: Subgraph backend MKLDNN is activated.\n",
      "[18:19:24] ../src/executor/graph_executor.cc:1991: Subgraph backend MKLDNN is activated.\n",
      "[18:19:24] ../src/executor/graph_executor.cc:1991: Subgraph backend MKLDNN is activated.\n",
      "[18:19:24] ../src/executor/graph_executor.cc:1991: Subgraph backend MKLDNN is activated.\n",
      "[18:19:24] ../src/executor/graph_executor.cc:1991: Subgraph backend MKLDNN is activated.\n",
      "[18:19:24] ../src/executor/graph_executor.cc:1991: Subgraph backend MKLDNN is activated.\n",
      "[18:19:24] ../src/executor/graph_executor.cc:1991: Subgraph backend MKLDNN is activated.\n",
      "[18:19:24] ../src/executor/graph_executor.cc:1991: Subgraph backend MKLDNN is activated.\n",
      "[18:19:24] ../src/executor/graph_executor.cc:1991: Subgraph backend MKLDNN is activated.\n",
      "[18:19:24] ../src/executor/graph_executor.cc:1991: Subgraph backend MKLDNN is activated.\n",
      "[18:19:24] ../src/executor/graph_executor.cc:1991: Subgraph backend MKLDNN is activated.\n",
      "TRIM Creating Cropped Images for detector mtcnn_serfiq:  80%|████████  | 4/5 [00:01<00:00,  3.10it/s][18:19:24] ../src/executor/graph_executor.cc:1991: Subgraph backend MKLDNN is activated.\n",
      "[18:19:24] ../src/executor/graph_executor.cc:1991: Subgraph backend MKLDNN is activated.\n",
      "[18:19:24] ../src/executor/graph_executor.cc:1991: Subgraph backend MKLDNN is activated.\n",
      "[18:19:24] ../src/executor/graph_executor.cc:1991: Subgraph backend MKLDNN is activated.\n",
      "[18:19:24] ../src/executor/graph_executor.cc:1991: Subgraph backend MKLDNN is activated.\n",
      "[18:19:24] ../src/executor/graph_executor.cc:1991: Subgraph backend MKLDNN is activated.\n",
      "[18:19:24] ../src/executor/graph_executor.cc:1991: Subgraph backend MKLDNN is activated.\n",
      "[18:19:24] ../src/executor/graph_executor.cc:1991: Subgraph backend MKLDNN is activated.\n",
      "[18:19:24] ../src/executor/graph_executor.cc:1991: Subgraph backend MKLDNN is activated.\n",
      "[18:19:24] ../src/executor/graph_executor.cc:1991: Subgraph backend MKLDNN is activated.\n",
      "[18:19:24] ../src/executor/graph_executor.cc:1991: Subgraph backend MKLDNN is activated.\n",
      "[18:19:25] ../src/executor/graph_executor.cc:1991: Subgraph backend MKLDNN is activated.\n",
      "[18:19:25] ../src/executor/graph_executor.cc:1991: Subgraph backend MKLDNN is activated.\n",
      "[18:19:25] ../src/executor/graph_executor.cc:1991: Subgraph backend MKLDNN is activated.\n",
      "[18:19:25] ../src/executor/graph_executor.cc:1991: Subgraph backend MKLDNN is activated.\n",
      "[18:19:25] ../src/executor/graph_executor.cc:1991: Subgraph backend MKLDNN is activated.\n",
      "[18:19:25] ../src/executor/graph_executor.cc:1991: Subgraph backend MKLDNN is activated.\n",
      "[18:19:25] ../src/executor/graph_executor.cc:1991: Subgraph backend MKLDNN is activated.\n",
      "[18:19:25] ../src/executor/graph_executor.cc:1991: Subgraph backend MKLDNN is activated.\n",
      "TRIM Creating Cropped Images for detector mtcnn_serfiq: 100%|██████████| 5/5 [00:01<00:00,  2.92it/s]\n",
      "Face images in ArcFace: 100%|██████████| 20/20 [00:00<00:00, 215.58it/s]\n",
      "Embedding models: 100%|██████████| 1/1 [00:00<00:00,  9.43it/s]\n",
      "Quality images in ser-fiq: 100%|██████████| 20/20 [00:00<00:00, 231.53it/s]\n",
      "Quality images in ser_fiq: 100%|██████████| 20/20 [00:00<00:00, 212.75it/s]\n",
      "Quality images in tface: 100%|██████████| 20/20 [00:00<00:00, 208.19it/s]\n",
      "Quality models: 100%|██████████| 3/3 [00:00<00:00, 10.07it/s]\n"
     ]
    }
   ],
   "source": [
    "database.create_tables(serfiq=serfiq)"
   ]
  },
  {
   "cell_type": "code",
   "execution_count": 7,
   "metadata": {},
   "outputs": [
    {
     "name": "stderr",
     "output_type": "stream",
     "text": [
      "Update cropped images: 0it [00:00, ?it/s]\n",
      "Computing embeddings:   0%|          | 0/15 [00:00<?, ?it/s]"
     ]
    },
    {
     "name": "stdout",
     "output_type": "stream",
     "text": [
      "1/1 [==============================] - 0s 26ms/step\n",
      "1/1 [==============================] - 0s 24ms/step\n",
      "1/1 [==============================] - 0s 23ms/step\n",
      "1/1 [==============================] - 0s 21ms/step\n",
      "1/1 [==============================] - 0s 23ms/step\n",
      "1/1 [==============================] - 0s 27ms/step\n",
      "1/1 [==============================] - 0s 24ms/step\n",
      "1/1 [==============================] - 0s 21ms/step\n",
      "2/2 [==============================] - 0s 87ms/step\n",
      "1/1 [==============================] - 0s 22ms/step\n",
      "1/1 [==============================] - 2s 2s/step\n"
     ]
    },
    {
     "name": "stderr",
     "output_type": "stream",
     "text": [
      "Computing embeddings:   7%|▋         | 1/15 [00:04<00:57,  4.13s/it]"
     ]
    },
    {
     "name": "stdout",
     "output_type": "stream",
     "text": [
      "1/1 [==============================] - 0s 25ms/step\n",
      "1/1 [==============================] - 0s 24ms/step\n",
      "1/1 [==============================] - 0s 22ms/step\n",
      "1/1 [==============================] - 0s 24ms/step\n",
      "1/1 [==============================] - 0s 22ms/step\n",
      "1/1 [==============================] - 0s 21ms/step\n",
      "1/1 [==============================] - 0s 23ms/step\n",
      "1/1 [==============================] - 0s 25ms/step\n",
      "1/1 [==============================] - 0s 21ms/step\n",
      "1/1 [==============================] - 0s 102ms/step\n",
      "1/1 [==============================] - 0s 30ms/step\n"
     ]
    },
    {
     "name": "stderr",
     "output_type": "stream",
     "text": [
      "Computing embeddings:  13%|█▎        | 2/15 [00:04<00:28,  2.18s/it]"
     ]
    },
    {
     "name": "stdout",
     "output_type": "stream",
     "text": [
      "1/1 [==============================] - 0s 23ms/step\n",
      "1/1 [==============================] - 0s 24ms/step\n",
      "1/1 [==============================] - 0s 20ms/step\n",
      "1/1 [==============================] - 0s 21ms/step\n",
      "1/1 [==============================] - 0s 21ms/step\n",
      "1/1 [==============================] - 0s 19ms/step\n",
      "1/1 [==============================] - 0s 22ms/step\n",
      "1/1 [==============================] - 0s 34ms/step\n",
      "2/2 [==============================] - 0s 60ms/step\n",
      "1/1 [==============================] - 0s 109ms/step\n",
      "1/1 [==============================] - 0s 26ms/step\n"
     ]
    },
    {
     "name": "stderr",
     "output_type": "stream",
     "text": [
      "Computing embeddings:  20%|██        | 3/15 [00:05<00:19,  1.60s/it]"
     ]
    },
    {
     "name": "stdout",
     "output_type": "stream",
     "text": [
      "1/1 [==============================] - 0s 22ms/step\n",
      "1/1 [==============================] - 0s 23ms/step\n",
      "1/1 [==============================] - 0s 20ms/step\n",
      "1/1 [==============================] - 0s 20ms/step\n",
      "1/1 [==============================] - 0s 19ms/step\n",
      "1/1 [==============================] - 0s 21ms/step\n",
      "1/1 [==============================] - 0s 22ms/step\n",
      "1/1 [==============================] - 0s 27ms/step\n",
      "2/2 [==============================] - 0s 58ms/step\n",
      "1/1 [==============================] - 0s 100ms/step\n",
      "1/1 [==============================] - 0s 34ms/step\n"
     ]
    },
    {
     "name": "stderr",
     "output_type": "stream",
     "text": [
      "Computing embeddings:  27%|██▋       | 4/15 [00:06<00:14,  1.31s/it]"
     ]
    },
    {
     "name": "stdout",
     "output_type": "stream",
     "text": [
      "1/1 [==============================] - 0s 20ms/step\n",
      "1/1 [==============================] - 0s 24ms/step\n",
      "1/1 [==============================] - 0s 23ms/step\n",
      "1/1 [==============================] - 0s 23ms/step\n",
      "1/1 [==============================] - 0s 24ms/step\n",
      "1/1 [==============================] - 0s 22ms/step\n",
      "1/1 [==============================] - 0s 21ms/step\n",
      "1/1 [==============================] - 0s 26ms/step\n",
      "2/2 [==============================] - 0s 3ms/step\n",
      "1/1 [==============================] - 0s 22ms/step\n",
      "1/1 [==============================] - 0s 32ms/step\n"
     ]
    },
    {
     "name": "stderr",
     "output_type": "stream",
     "text": [
      "Computing embeddings:  33%|███▎      | 5/15 [00:07<00:10,  1.10s/it]"
     ]
    },
    {
     "name": "stdout",
     "output_type": "stream",
     "text": [
      "1/1 [==============================] - 0s 20ms/step\n",
      "1/1 [==============================] - 0s 23ms/step\n",
      "1/1 [==============================] - 0s 22ms/step\n",
      "1/1 [==============================] - 0s 21ms/step\n",
      "1/1 [==============================] - 0s 22ms/step\n",
      "1/1 [==============================] - 0s 21ms/step\n",
      "1/1 [==============================] - 0s 21ms/step\n",
      "1/1 [==============================] - 0s 28ms/step\n",
      "2/2 [==============================] - 0s 58ms/step\n",
      "1/1 [==============================] - 0s 21ms/step\n",
      "1/1 [==============================] - 0s 30ms/step\n"
     ]
    },
    {
     "name": "stderr",
     "output_type": "stream",
     "text": [
      "Computing embeddings:  40%|████      | 6/15 [00:08<00:08,  1.01it/s]"
     ]
    },
    {
     "name": "stdout",
     "output_type": "stream",
     "text": [
      "1/1 [==============================] - 0s 21ms/step\n",
      "1/1 [==============================] - 0s 23ms/step\n",
      "1/1 [==============================] - 0s 22ms/step\n",
      "1/1 [==============================] - 0s 22ms/step\n",
      "1/1 [==============================] - 0s 20ms/step\n",
      "1/1 [==============================] - 0s 22ms/step\n",
      "1/1 [==============================] - 0s 22ms/step\n",
      "1/1 [==============================] - 0s 24ms/step\n",
      "1/1 [==============================] - 0s 100ms/step\n",
      "1/1 [==============================] - 0s 131ms/step\n",
      "1/1 [==============================] - 0s 25ms/step\n"
     ]
    },
    {
     "name": "stderr",
     "output_type": "stream",
     "text": [
      "Computing embeddings:  47%|████▋     | 7/15 [00:09<00:07,  1.04it/s]"
     ]
    },
    {
     "name": "stdout",
     "output_type": "stream",
     "text": [
      "1/1 [==============================] - 0s 22ms/step\n",
      "1/1 [==============================] - 0s 24ms/step\n",
      "1/1 [==============================] - 0s 25ms/step\n",
      "1/1 [==============================] - 0s 23ms/step\n",
      "1/1 [==============================] - 0s 23ms/step\n",
      "1/1 [==============================] - 0s 22ms/step\n",
      "1/1 [==============================] - 0s 22ms/step\n",
      "1/1 [==============================] - 0s 22ms/step\n",
      "4/4 [==============================] - 0s 25ms/step\n",
      "1/1 [==============================] - 0s 118ms/step\n",
      "1/1 [==============================] - 0s 29ms/step\n"
     ]
    },
    {
     "name": "stderr",
     "output_type": "stream",
     "text": [
      "Computing embeddings:  53%|█████▎    | 8/15 [00:10<00:06,  1.06it/s]"
     ]
    },
    {
     "name": "stdout",
     "output_type": "stream",
     "text": [
      "1/1 [==============================] - 0s 20ms/step\n",
      "1/1 [==============================] - 0s 25ms/step\n",
      "1/1 [==============================] - 0s 24ms/step\n",
      "1/1 [==============================] - 0s 22ms/step\n",
      "1/1 [==============================] - 0s 24ms/step\n",
      "1/1 [==============================] - 0s 22ms/step\n",
      "1/1 [==============================] - 0s 21ms/step\n",
      "1/1 [==============================] - 0s 25ms/step\n",
      "1/1 [==============================] - 0s 83ms/step\n",
      "1/1 [==============================] - 0s 23ms/step\n",
      "1/1 [==============================] - 0s 33ms/step\n"
     ]
    },
    {
     "name": "stderr",
     "output_type": "stream",
     "text": [
      "Computing embeddings:  60%|██████    | 9/15 [00:10<00:05,  1.12it/s]"
     ]
    },
    {
     "name": "stdout",
     "output_type": "stream",
     "text": [
      "1/1 [==============================] - 0s 23ms/step\n",
      "1/1 [==============================] - 0s 25ms/step\n",
      "1/1 [==============================] - 0s 24ms/step\n",
      "1/1 [==============================] - 0s 25ms/step\n",
      "1/1 [==============================] - 0s 39ms/step\n",
      "1/1 [==============================] - 0s 23ms/step\n",
      "1/1 [==============================] - 0s 23ms/step\n",
      "1/1 [==============================] - 0s 23ms/step\n",
      "3/3 [==============================] - 0s 33ms/step\n",
      "1/1 [==============================] - 0s 21ms/step\n",
      "1/1 [==============================] - 0s 26ms/step\n"
     ]
    },
    {
     "name": "stderr",
     "output_type": "stream",
     "text": [
      "Computing embeddings:  67%|██████▋   | 10/15 [00:11<00:04,  1.15it/s]"
     ]
    },
    {
     "name": "stdout",
     "output_type": "stream",
     "text": [
      "1/1 [==============================] - 0s 20ms/step\n",
      "1/1 [==============================] - 0s 26ms/step\n",
      "1/1 [==============================] - 0s 26ms/step\n",
      "1/1 [==============================] - 0s 25ms/step\n",
      "1/1 [==============================] - 0s 24ms/step\n",
      "1/1 [==============================] - 0s 24ms/step\n",
      "1/1 [==============================] - 0s 24ms/step\n",
      "1/1 [==============================] - 0s 25ms/step\n",
      "2/2 [==============================] - 0s 3ms/step\n",
      "1/1 [==============================] - 0s 19ms/step\n",
      "1/1 [==============================] - 0s 27ms/step\n"
     ]
    },
    {
     "name": "stderr",
     "output_type": "stream",
     "text": [
      "Computing embeddings:  73%|███████▎  | 11/15 [00:12<00:03,  1.19it/s]"
     ]
    },
    {
     "name": "stdout",
     "output_type": "stream",
     "text": [
      "1/1 [==============================] - 0s 26ms/step\n",
      "1/1 [==============================] - 0s 23ms/step\n",
      "1/1 [==============================] - 0s 24ms/step\n",
      "1/1 [==============================] - 0s 24ms/step\n",
      "1/1 [==============================] - 0s 24ms/step\n",
      "1/1 [==============================] - 0s 26ms/step\n",
      "1/1 [==============================] - 0s 22ms/step\n",
      "1/1 [==============================] - 0s 22ms/step\n",
      "2/2 [==============================] - 0s 3ms/step\n",
      "1/1 [==============================] - 0s 25ms/step\n",
      "1/1 [==============================] - 0s 30ms/step\n"
     ]
    },
    {
     "name": "stderr",
     "output_type": "stream",
     "text": [
      "Computing embeddings:  80%|████████  | 12/15 [00:13<00:02,  1.23it/s]"
     ]
    },
    {
     "name": "stdout",
     "output_type": "stream",
     "text": [
      "1/1 [==============================] - 0s 22ms/step\n",
      "1/1 [==============================] - 0s 21ms/step\n",
      "1/1 [==============================] - 0s 23ms/step\n",
      "1/1 [==============================] - 0s 24ms/step\n",
      "1/1 [==============================] - 0s 23ms/step\n",
      "1/1 [==============================] - 0s 21ms/step\n",
      "1/1 [==============================] - 0s 22ms/step\n",
      "1/1 [==============================] - 0s 24ms/step\n",
      "3/3 [==============================] - 0s 3ms/step\n",
      "1/1 [==============================] - 0s 22ms/step\n",
      "1/1 [==============================] - 0s 27ms/step\n"
     ]
    },
    {
     "name": "stderr",
     "output_type": "stream",
     "text": [
      "Computing embeddings:  87%|████████▋ | 13/15 [00:13<00:01,  1.25it/s]"
     ]
    },
    {
     "name": "stdout",
     "output_type": "stream",
     "text": [
      "1/1 [==============================] - 0s 23ms/step\n",
      "1/1 [==============================] - 0s 25ms/step\n",
      "1/1 [==============================] - 0s 24ms/step\n",
      "1/1 [==============================] - 0s 24ms/step\n",
      "1/1 [==============================] - 0s 24ms/step\n",
      "1/1 [==============================] - 0s 22ms/step\n",
      "1/1 [==============================] - 0s 25ms/step\n",
      "1/1 [==============================] - 0s 23ms/step\n",
      "2/2 [==============================] - 0s 3ms/step\n",
      "1/1 [==============================] - 0s 22ms/step\n",
      "1/1 [==============================] - 0s 27ms/step\n"
     ]
    },
    {
     "name": "stderr",
     "output_type": "stream",
     "text": [
      "Computing embeddings:  93%|█████████▎| 14/15 [00:14<00:00,  1.27it/s]"
     ]
    },
    {
     "name": "stdout",
     "output_type": "stream",
     "text": [
      "1/1 [==============================] - 0s 24ms/step\n",
      "1/1 [==============================] - 0s 25ms/step\n",
      "1/1 [==============================] - 0s 25ms/step\n",
      "1/1 [==============================] - 0s 25ms/step\n",
      "1/1 [==============================] - 0s 27ms/step\n",
      "1/1 [==============================] - 0s 23ms/step\n",
      "1/1 [==============================] - 0s 23ms/step\n",
      "1/1 [==============================] - 0s 23ms/step\n",
      "2/2 [==============================] - 0s 5ms/step\n",
      "1/1 [==============================] - 0s 23ms/step\n",
      "1/1 [==============================] - 0s 29ms/step\n"
     ]
    },
    {
     "name": "stderr",
     "output_type": "stream",
     "text": [
      "Computing embeddings: 100%|██████████| 15/15 [00:15<00:00,  1.03s/it]\n",
      "TRIM Computing SER-FIQ quality:   0%|          | 0/5 [00:00<?, ?it/s]"
     ]
    },
    {
     "name": "stdout",
     "output_type": "stream",
     "text": [
      "1/1 [==============================] - 0s 24ms/step\n",
      "1/1 [==============================] - 0s 25ms/step\n",
      "1/1 [==============================] - 0s 24ms/step\n",
      "1/1 [==============================] - 0s 23ms/step\n",
      "1/1 [==============================] - 0s 22ms/step\n",
      "1/1 [==============================] - 0s 24ms/step\n",
      "1/1 [==============================] - 0s 23ms/step\n",
      "1/1 [==============================] - 0s 23ms/step\n",
      "2/2 [==============================] - 0s 86ms/step\n",
      "1/1 [==============================] - 0s 21ms/step\n"
     ]
    },
    {
     "name": "stderr",
     "output_type": "stream",
     "text": [
      "TRIM Computing SER-FIQ quality:  20%|██        | 1/5 [00:19<01:16, 19.20s/it]"
     ]
    },
    {
     "name": "stdout",
     "output_type": "stream",
     "text": [
      "1/1 [==============================] - 0s 31ms/step\n",
      "1/1 [==============================] - 0s 27ms/step\n",
      "1/1 [==============================] - 0s 27ms/step\n",
      "1/1 [==============================] - 0s 26ms/step\n",
      "1/1 [==============================] - 0s 27ms/step\n",
      "1/1 [==============================] - 0s 27ms/step\n",
      "1/1 [==============================] - 0s 24ms/step\n",
      "1/1 [==============================] - 0s 25ms/step\n",
      "2/2 [==============================] - 0s 86ms/step\n",
      "1/1 [==============================] - 0s 33ms/step\n"
     ]
    },
    {
     "name": "stderr",
     "output_type": "stream",
     "text": [
      "TRIM Computing SER-FIQ quality:  40%|████      | 2/5 [00:38<00:57, 19.33s/it]"
     ]
    },
    {
     "name": "stdout",
     "output_type": "stream",
     "text": [
      "1/1 [==============================] - 0s 28ms/step\n",
      "1/1 [==============================] - 0s 25ms/step\n",
      "1/1 [==============================] - 0s 25ms/step\n",
      "1/1 [==============================] - 0s 29ms/step\n",
      "1/1 [==============================] - 0s 27ms/step\n",
      "1/1 [==============================] - 0s 25ms/step\n",
      "1/1 [==============================] - 0s 24ms/step\n",
      "1/1 [==============================] - 0s 23ms/step\n",
      "2/2 [==============================] - 0s 3ms/step\n",
      "1/1 [==============================] - 0s 23ms/step\n"
     ]
    },
    {
     "name": "stderr",
     "output_type": "stream",
     "text": [
      "TRIM Computing SER-FIQ quality:  60%|██████    | 3/5 [00:57<00:38, 19.10s/it]"
     ]
    },
    {
     "name": "stdout",
     "output_type": "stream",
     "text": [
      "1/1 [==============================] - 0s 29ms/step\n",
      "1/1 [==============================] - 0s 28ms/step\n",
      "1/1 [==============================] - 0s 27ms/step\n",
      "1/1 [==============================] - 0s 27ms/step\n",
      "1/1 [==============================] - 0s 25ms/step\n",
      "1/1 [==============================] - 0s 26ms/step\n",
      "1/1 [==============================] - 0s 25ms/step\n",
      "1/1 [==============================] - 0s 24ms/step\n",
      "2/2 [==============================] - 0s 3ms/step\n",
      "1/1 [==============================] - 0s 23ms/step\n"
     ]
    },
    {
     "name": "stderr",
     "output_type": "stream",
     "text": [
      "TRIM Computing SER-FIQ quality:  80%|████████  | 4/5 [01:16<00:19, 19.19s/it]"
     ]
    },
    {
     "name": "stdout",
     "output_type": "stream",
     "text": [
      "1/1 [==============================] - 0s 36ms/step\n",
      "1/1 [==============================] - 0s 27ms/step\n",
      "1/1 [==============================] - 0s 25ms/step\n",
      "1/1 [==============================] - 0s 26ms/step\n",
      "1/1 [==============================] - 0s 24ms/step\n",
      "1/1 [==============================] - 0s 24ms/step\n",
      "1/1 [==============================] - 0s 23ms/step\n",
      "1/1 [==============================] - 0s 23ms/step\n",
      "3/3 [==============================] - 0s 43ms/step\n",
      "1/1 [==============================] - 0s 21ms/step\n"
     ]
    },
    {
     "name": "stderr",
     "output_type": "stream",
     "text": [
      "TRIM Computing SER-FIQ quality: 100%|██████████| 5/5 [01:35<00:00, 19.17s/it]\n"
     ]
    }
   ],
   "source": [
    "database.update_tables(attributes_to_update, serfiq = serfiq)"
   ]
  }
 ],
 "metadata": {
  "kernelspec": {
   "display_name": "Python 3.7.15 ('sql-face')",
   "language": "python",
   "name": "python3"
  },
  "language_info": {
   "codemirror_mode": {
    "name": "ipython",
    "version": 3
   },
   "file_extension": ".py",
   "mimetype": "text/x-python",
   "name": "python",
   "nbconvert_exporter": "python",
   "pygments_lexer": "ipython3",
   "version": "3.7.15"
  },
  "orig_nbformat": 4,
  "vscode": {
   "interpreter": {
    "hash": "0a84f744ed89671113ba95f00e1aad6d21abade608318eb8af248311f249adcd"
   }
  }
 },
 "nbformat": 4,
 "nbformat_minor": 2
}
