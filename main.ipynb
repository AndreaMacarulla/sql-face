{
 "cells": [
  {
   "cell_type": "markdown",
   "metadata": {},
   "source": [
    "# Parameter definition\n",
    "Choose all the settings for the database creation."
   ]
  },
  {
   "cell_type": "code",
   "execution_count": 5,
   "metadata": {},
   "outputs": [],
   "source": [
    "#TODO: Change absolute to relative paths for input and output dir.\n",
    "import os\n",
    "\n",
    "home = os.path.expanduser(\"~\")\n",
    "\n",
    "db_name= 'test_video_dataset' #'colab_main_dataset'\n",
    "input_dir = os.path.join(home,'image_datasets')\n",
    "output_dir = os.path.join(home,'sql_database')\n",
    "database_names=['lfw'] # , 'scface', 'forenface', 'enfsi', 'enfsi2015'\n",
    "detector_names=['mtcnn', 'mtcnn_serfiq'] # 'dlib', 'mtcnn', 'mtcnn_serfiq'\n",
    "embedding_model_names=[\"ArcFace\"] # , \"Dlib\", \"ArcFace\",\n",
    "attributes_to_update=['gender', 'age']  # 'gender', 'age', 'emotion', 'race'\n",
    "quality_model_names = ['ser_fiq'] # 'confusion_score',\n",
    "save_in_drive = False # To work in google colab\n",
    "\n"
   ]
  },
  {
   "cell_type": "markdown",
   "metadata": {},
   "source": [
    "## SERFIQ model\n",
    "\n",
    "Create SERFIQ model."
   ]
  },
  {
   "cell_type": "code",
   "execution_count": 6,
   "metadata": {},
   "outputs": [
    {
     "name": "stderr",
     "output_type": "stream",
     "text": [
      "[14:10:51] ../src/nnvm/legacy_json_util.cc:208: Loading symbol saved by previous version v1.8.0. Attempting to upgrade...\n",
      "[14:10:51] ../src/nnvm/legacy_json_util.cc:216: Symbol successfully upgraded!\n",
      "[14:10:52] ../src/nnvm/legacy_json_util.cc:208: Loading symbol saved by previous version v0.8.0. Attempting to upgrade...\n",
      "[14:10:52] ../src/nnvm/legacy_json_util.cc:216: Symbol successfully upgraded!\n",
      "[14:10:52] ../src/nnvm/legacy_json_util.cc:208: Loading symbol saved by previous version v0.8.0. Attempting to upgrade...\n",
      "[14:10:52] ../src/nnvm/legacy_json_util.cc:216: Symbol successfully upgraded!\n",
      "[14:10:52] ../src/nnvm/legacy_json_util.cc:208: Loading symbol saved by previous version v0.8.0. Attempting to upgrade...\n",
      "[14:10:52] ../src/nnvm/legacy_json_util.cc:216: Symbol successfully upgraded!\n",
      "[14:10:52] ../src/nnvm/legacy_json_util.cc:208: Loading symbol saved by previous version v0.8.0. Attempting to upgrade...\n",
      "[14:10:52] ../src/nnvm/legacy_json_util.cc:216: Symbol successfully upgraded!\n"
     ]
    }
   ],
   "source": [
    "from sql_face.serfiq import get_serfiq_model\n",
    "serfiq = get_serfiq_model()"
   ]
  },
  {
   "cell_type": "markdown",
   "metadata": {},
   "source": [
    "# Database creation"
   ]
  },
  {
   "cell_type": "markdown",
   "metadata": {},
   "source": [
    "database = SQLDataBase(db_name=db_name,\n",
    "                        database_names=database_names, # , 'scface', 'forenface', 'enfsi', 'enfsi2015'\n",
    "                        detector_names=detector_names,\n",
    "                        embedding_model_names=embedding_model_names,\n",
    "                        quality_model_names=quality_model_names,\n",
    "                        save_in_drive=save_in_drive                        \n",
    "                        )\n",
    "\n",
    "database.fill_db()\n",
    "database.update_db(attributes_to_update=attributes_to_update, force_update=False)"
   ]
  },
  {
   "cell_type": "code",
   "execution_count": 7,
   "metadata": {},
   "outputs": [],
   "source": [
    "from sql_face.sqldb import SQLDataBase"
   ]
  },
  {
   "cell_type": "code",
   "execution_count": 8,
   "metadata": {},
   "outputs": [
    {
     "name": "stdout",
     "output_type": "stream",
     "text": [
      "Creating Db file at /home/jmacarulla/sql_database/test_video_dataset.db\n"
     ]
    }
   ],
   "source": [
    "database = SQLDataBase(db_name=db_name,\n",
    "                        input_dir = input_dir,\n",
    "                        output_dir_name = output_dir,\n",
    "                        database_names = database_names,\n",
    "                        detector_names = detector_names,\n",
    "                        embedding_model_names = embedding_model_names,\n",
    "                        quality_model_names = quality_model_names)"
   ]
  },
  {
   "cell_type": "code",
   "execution_count": 9,
   "metadata": {},
   "outputs": [
    {
     "data": {
      "text/plain": [
       "{'db_name': 'test_video_dataset',\n",
       " 'input_dir': '/home/jmacarulla/image_datasets',\n",
       " 'save_in_drive': False,\n",
       " 'output_dir': '/home/jmacarulla/sql_database',\n",
       " 'session': <sqlalchemy.orm.session.Session at 0x7fb8e6d94e10>,\n",
       " 'databases': [<sql_face.databases.LFW at 0x7fb8e6d4e410>],\n",
       " 'detector_names': ['mtcnn', 'mtcnn_serfiq'],\n",
       " 'embedding_model_names': ['ArcFace'],\n",
       " 'quality_model_names': ['ser_fiq']}"
      ]
     },
     "execution_count": 9,
     "metadata": {},
     "output_type": "execute_result"
    }
   ],
   "source": [
    "database.__dict__"
   ]
  },
  {
   "cell_type": "code",
   "execution_count": 10,
   "metadata": {},
   "outputs": [
    {
     "name": "stderr",
     "output_type": "stream",
     "text": [
      "Creating image record from LFW: 13233it [00:00, 14786.93it/s]\n",
      "TRIM Creating Cropped Images for detector mtcnn:   0%|          | 0/5 [00:00<?, ?it/s]2022-11-13 14:14:44.968694: I tensorflow/core/platform/cpu_feature_guard.cc:193] This TensorFlow binary is optimized with oneAPI Deep Neural Network Library (oneDNN) to use the following CPU instructions in performance-critical operations:  AVX2 FMA\n",
      "To enable them in other operations, rebuild TensorFlow with the appropriate compiler flags.\n"
     ]
    },
    {
     "name": "stdout",
     "output_type": "stream",
     "text": [
      "1/1 [==============================] - 0s 253ms/step\n",
      "1/1 [==============================] - 0s 113ms/step\n",
      "1/1 [==============================] - 0s 22ms/step\n",
      "1/1 [==============================] - 0s 23ms/step\n",
      "1/1 [==============================] - 0s 23ms/step\n",
      "1/1 [==============================] - 0s 21ms/step\n",
      "1/1 [==============================] - 0s 20ms/step\n",
      "1/1 [==============================] - 0s 21ms/step\n",
      "2/2 [==============================] - 0s 13ms/step\n",
      "1/1 [==============================] - 0s 165ms/step\n"
     ]
    },
    {
     "name": "stderr",
     "output_type": "stream",
     "text": [
      "TRIM Creating Cropped Images for detector mtcnn:  20%|██        | 1/5 [02:16<09:05, 136.32s/it]"
     ]
    },
    {
     "name": "stdout",
     "output_type": "stream",
     "text": [
      "1/1 [==============================] - 0s 24ms/step\n",
      "1/1 [==============================] - 0s 24ms/step\n",
      "1/1 [==============================] - 0s 26ms/step\n",
      "1/1 [==============================] - 0s 21ms/step\n",
      "1/1 [==============================] - 0s 21ms/step\n",
      "1/1 [==============================] - 0s 24ms/step\n",
      "1/1 [==============================] - 0s 20ms/step\n",
      "1/1 [==============================] - 0s 20ms/step\n",
      "2/2 [==============================] - 0s 6ms/step\n",
      "1/1 [==============================] - 0s 29ms/step\n"
     ]
    },
    {
     "name": "stderr",
     "output_type": "stream",
     "text": [
      "TRIM Creating Cropped Images for detector mtcnn:  40%|████      | 2/5 [02:24<03:02, 60.90s/it] "
     ]
    },
    {
     "name": "stdout",
     "output_type": "stream",
     "text": [
      "1/1 [==============================] - 0s 35ms/step\n",
      "1/1 [==============================] - 0s 24ms/step\n",
      "1/1 [==============================] - 0s 22ms/step\n",
      "1/1 [==============================] - 0s 22ms/step\n",
      "1/1 [==============================] - 0s 20ms/step\n",
      "1/1 [==============================] - 0s 21ms/step\n",
      "1/1 [==============================] - 0s 21ms/step\n",
      "1/1 [==============================] - 0s 19ms/step\n",
      "3/3 [==============================] - 0s 6ms/step\n",
      "1/1 [==============================] - 0s 25ms/step\n"
     ]
    },
    {
     "name": "stderr",
     "output_type": "stream",
     "text": [
      "TRIM Creating Cropped Images for detector mtcnn:  60%|██████    | 3/5 [02:31<01:12, 36.46s/it]"
     ]
    },
    {
     "name": "stdout",
     "output_type": "stream",
     "text": [
      "1/1 [==============================] - 0s 25ms/step\n",
      "1/1 [==============================] - 0s 22ms/step\n",
      "1/1 [==============================] - 0s 23ms/step\n",
      "1/1 [==============================] - 0s 20ms/step\n",
      "1/1 [==============================] - 0s 21ms/step\n",
      "1/1 [==============================] - 0s 20ms/step\n",
      "1/1 [==============================] - 0s 20ms/step\n",
      "1/1 [==============================] - 0s 19ms/step\n",
      "4/4 [==============================] - 0s 8ms/step\n",
      "1/1 [==============================] - 0s 27ms/step\n"
     ]
    },
    {
     "name": "stderr",
     "output_type": "stream",
     "text": [
      "TRIM Creating Cropped Images for detector mtcnn:  80%|████████  | 4/5 [02:40<00:25, 25.32s/it]"
     ]
    },
    {
     "name": "stdout",
     "output_type": "stream",
     "text": [
      "1/1 [==============================] - 0s 27ms/step\n",
      "1/1 [==============================] - 0s 23ms/step\n",
      "1/1 [==============================] - 0s 23ms/step\n",
      "1/1 [==============================] - 0s 22ms/step\n",
      "1/1 [==============================] - 0s 21ms/step\n",
      "1/1 [==============================] - 0s 20ms/step\n",
      "1/1 [==============================] - 0s 19ms/step\n",
      "1/1 [==============================] - 0s 20ms/step\n",
      "1/1 [==============================] - 0s 23ms/step\n",
      "1/1 [==============================] - 0s 26ms/step\n"
     ]
    },
    {
     "name": "stderr",
     "output_type": "stream",
     "text": [
      "TRIM Creating Cropped Images for detector mtcnn: 100%|██████████| 5/5 [02:46<00:00, 33.28s/it]\n",
      "TRIM Creating Cropped Images for detector mtcnn_serfiq:   0%|          | 0/5 [00:00<?, ?it/s][14:17:36] ../src/executor/graph_executor.cc:1991: Subgraph backend MKLDNN is activated.\n",
      "[14:17:37] ../src/executor/graph_executor.cc:1991: Subgraph backend MKLDNN is activated.\n",
      "[14:17:37] ../src/executor/graph_executor.cc:1991: Subgraph backend MKLDNN is activated.\n",
      "[14:17:37] ../src/executor/graph_executor.cc:1991: Subgraph backend MKLDNN is activated.\n",
      "[14:17:37] ../src/executor/graph_executor.cc:1991: Subgraph backend MKLDNN is activated.\n",
      "[14:17:37] ../src/executor/graph_executor.cc:1991: Subgraph backend MKLDNN is activated.\n",
      "[14:17:37] ../src/executor/graph_executor.cc:1991: Subgraph backend MKLDNN is activated.\n",
      "[14:17:37] ../src/executor/graph_executor.cc:1991: Subgraph backend MKLDNN is activated.\n",
      "[14:17:37] ../src/executor/graph_executor.cc:1991: Subgraph backend MKLDNN is activated.\n",
      "[14:17:37] ../src/executor/graph_executor.cc:1991: Subgraph backend MKLDNN is activated.\n",
      "[14:17:37] ../src/executor/graph_executor.cc:1991: Subgraph backend MKLDNN is activated.\n",
      "[14:25:24] ../src/executor/graph_executor.cc:1991: Subgraph backend MKLDNN is activated.\n",
      "[14:25:24] ../src/executor/graph_executor.cc:1991: Subgraph backend MKLDNN is activated.\n",
      "[14:25:24] ../src/executor/graph_executor.cc:1991: Subgraph backend MKLDNN is activated.\n",
      "[14:25:24] ../src/executor/graph_executor.cc:1991: Subgraph backend MKLDNN is activated.\n",
      "[14:25:24] ../src/executor/graph_executor.cc:1991: Subgraph backend MKLDNN is activated.\n",
      "[14:25:24] ../src/executor/graph_executor.cc:1991: Subgraph backend MKLDNN is activated.\n",
      "[14:25:24] ../src/executor/graph_executor.cc:1991: Subgraph backend MKLDNN is activated.\n",
      "[14:25:24] ../src/executor/graph_executor.cc:1991: Subgraph backend MKLDNN is activated.\n",
      "TRIM Creating Cropped Images for detector mtcnn_serfiq:  20%|██        | 1/5 [08:42<34:49, 522.38s/it][14:25:50] ../src/executor/graph_executor.cc:1991: Subgraph backend MKLDNN is activated.\n",
      "[14:25:50] ../src/executor/graph_executor.cc:1991: Subgraph backend MKLDNN is activated.\n",
      "[14:25:50] ../src/executor/graph_executor.cc:1991: Subgraph backend MKLDNN is activated.\n",
      "[14:25:50] ../src/executor/graph_executor.cc:1991: Subgraph backend MKLDNN is activated.\n",
      "[14:25:50] ../src/executor/graph_executor.cc:1991: Subgraph backend MKLDNN is activated.\n",
      "[14:25:50] ../src/executor/graph_executor.cc:1991: Subgraph backend MKLDNN is activated.\n",
      "[14:25:50] ../src/executor/graph_executor.cc:1991: Subgraph backend MKLDNN is activated.\n",
      "[14:25:50] ../src/executor/graph_executor.cc:1991: Subgraph backend MKLDNN is activated.\n",
      "[14:25:50] ../src/executor/graph_executor.cc:1991: Subgraph backend MKLDNN is activated.\n",
      "[14:25:50] ../src/executor/graph_executor.cc:1991: Subgraph backend MKLDNN is activated.\n",
      "[14:25:50] ../src/executor/graph_executor.cc:1991: Subgraph backend MKLDNN is activated.\n",
      "[14:25:50] ../src/executor/graph_executor.cc:1991: Subgraph backend MKLDNN is activated.\n",
      "[14:25:50] ../src/executor/graph_executor.cc:1991: Subgraph backend MKLDNN is activated.\n",
      "[14:25:50] ../src/executor/graph_executor.cc:1991: Subgraph backend MKLDNN is activated.\n",
      "[14:25:50] ../src/executor/graph_executor.cc:1991: Subgraph backend MKLDNN is activated.\n",
      "[14:25:50] ../src/executor/graph_executor.cc:1991: Subgraph backend MKLDNN is activated.\n",
      "[14:25:50] ../src/executor/graph_executor.cc:1991: Subgraph backend MKLDNN is activated.\n",
      "[14:25:50] ../src/executor/graph_executor.cc:1991: Subgraph backend MKLDNN is activated.\n",
      "[14:25:50] ../src/executor/graph_executor.cc:1991: Subgraph backend MKLDNN is activated.\n",
      "TRIM Creating Cropped Images for detector mtcnn_serfiq:  40%|████      | 2/5 [08:47<10:54, 218.26s/it][14:25:57] ../src/executor/graph_executor.cc:1991: Subgraph backend MKLDNN is activated.\n",
      "[14:25:57] ../src/executor/graph_executor.cc:1991: Subgraph backend MKLDNN is activated.\n",
      "[14:25:57] ../src/executor/graph_executor.cc:1991: Subgraph backend MKLDNN is activated.\n",
      "[14:25:57] ../src/executor/graph_executor.cc:1991: Subgraph backend MKLDNN is activated.\n",
      "[14:25:57] ../src/executor/graph_executor.cc:1991: Subgraph backend MKLDNN is activated.\n",
      "[14:25:57] ../src/executor/graph_executor.cc:1991: Subgraph backend MKLDNN is activated.\n",
      "[14:25:57] ../src/executor/graph_executor.cc:1991: Subgraph backend MKLDNN is activated.\n",
      "[14:25:57] ../src/executor/graph_executor.cc:1991: Subgraph backend MKLDNN is activated.\n",
      "[14:25:57] ../src/executor/graph_executor.cc:1991: Subgraph backend MKLDNN is activated.\n",
      "[14:25:57] ../src/executor/graph_executor.cc:1991: Subgraph backend MKLDNN is activated.\n",
      "[14:25:57] ../src/executor/graph_executor.cc:1991: Subgraph backend MKLDNN is activated.\n",
      "[14:25:57] ../src/executor/graph_executor.cc:1991: Subgraph backend MKLDNN is activated.\n",
      "[14:25:57] ../src/executor/graph_executor.cc:1991: Subgraph backend MKLDNN is activated.\n",
      "[14:25:57] ../src/executor/graph_executor.cc:1991: Subgraph backend MKLDNN is activated.\n",
      "[14:25:57] ../src/executor/graph_executor.cc:1991: Subgraph backend MKLDNN is activated.\n",
      "[14:25:57] ../src/executor/graph_executor.cc:1991: Subgraph backend MKLDNN is activated.\n",
      "[14:25:57] ../src/executor/graph_executor.cc:1991: Subgraph backend MKLDNN is activated.\n",
      "TRIM Creating Cropped Images for detector mtcnn_serfiq:  60%|██████    | 3/5 [08:52<04:01, 120.80s/it][14:25:57] ../src/executor/graph_executor.cc:1991: Subgraph backend MKLDNN is activated.\n",
      "[14:25:57] ../src/executor/graph_executor.cc:1991: Subgraph backend MKLDNN is activated.\n",
      "[14:25:57] ../src/executor/graph_executor.cc:1991: Subgraph backend MKLDNN is activated.\n",
      "[14:25:57] ../src/executor/graph_executor.cc:1991: Subgraph backend MKLDNN is activated.\n",
      "[14:25:57] ../src/executor/graph_executor.cc:1991: Subgraph backend MKLDNN is activated.\n",
      "[14:25:57] ../src/executor/graph_executor.cc:1991: Subgraph backend MKLDNN is activated.\n",
      "[14:25:57] ../src/executor/graph_executor.cc:1991: Subgraph backend MKLDNN is activated.\n",
      "[14:25:57] ../src/executor/graph_executor.cc:1991: Subgraph backend MKLDNN is activated.\n",
      "[14:25:57] ../src/executor/graph_executor.cc:1991: Subgraph backend MKLDNN is activated.\n",
      "[14:25:57] ../src/executor/graph_executor.cc:1991: Subgraph backend MKLDNN is activated.\n",
      "[14:25:57] ../src/executor/graph_executor.cc:1991: Subgraph backend MKLDNN is activated.\n",
      "[14:25:57] ../src/executor/graph_executor.cc:1991: Subgraph backend MKLDNN is activated.\n",
      "[14:25:57] ../src/executor/graph_executor.cc:1991: Subgraph backend MKLDNN is activated.\n",
      "[14:25:57] ../src/executor/graph_executor.cc:1991: Subgraph backend MKLDNN is activated.\n",
      "[14:25:57] ../src/executor/graph_executor.cc:1991: Subgraph backend MKLDNN is activated.\n",
      "[14:25:57] ../src/executor/graph_executor.cc:1991: Subgraph backend MKLDNN is activated.\n",
      "[14:25:57] ../src/executor/graph_executor.cc:1991: Subgraph backend MKLDNN is activated.\n",
      "[14:25:57] ../src/executor/graph_executor.cc:1991: Subgraph backend MKLDNN is activated.\n",
      "TRIM Creating Cropped Images for detector mtcnn_serfiq:  80%|████████  | 4/5 [08:52<01:13, 73.27s/it] [14:25:58] ../src/executor/graph_executor.cc:1991: Subgraph backend MKLDNN is activated.\n",
      "[14:25:58] ../src/executor/graph_executor.cc:1991: Subgraph backend MKLDNN is activated.\n",
      "[14:25:58] ../src/executor/graph_executor.cc:1991: Subgraph backend MKLDNN is activated.\n",
      "[14:25:58] ../src/executor/graph_executor.cc:1991: Subgraph backend MKLDNN is activated.\n",
      "[14:25:58] ../src/executor/graph_executor.cc:1991: Subgraph backend MKLDNN is activated.\n",
      "[14:25:58] ../src/executor/graph_executor.cc:1991: Subgraph backend MKLDNN is activated.\n",
      "[14:25:58] ../src/executor/graph_executor.cc:1991: Subgraph backend MKLDNN is activated.\n",
      "[14:25:58] ../src/executor/graph_executor.cc:1991: Subgraph backend MKLDNN is activated.\n",
      "[14:25:58] ../src/executor/graph_executor.cc:1991: Subgraph backend MKLDNN is activated.\n",
      "[14:25:58] ../src/executor/graph_executor.cc:1991: Subgraph backend MKLDNN is activated.\n",
      "[14:25:58] ../src/executor/graph_executor.cc:1991: Subgraph backend MKLDNN is activated.\n",
      "[14:25:58] ../src/executor/graph_executor.cc:1991: Subgraph backend MKLDNN is activated.\n",
      "[14:25:58] ../src/executor/graph_executor.cc:1991: Subgraph backend MKLDNN is activated.\n",
      "[14:25:58] ../src/executor/graph_executor.cc:1991: Subgraph backend MKLDNN is activated.\n",
      "[14:25:58] ../src/executor/graph_executor.cc:1991: Subgraph backend MKLDNN is activated.\n",
      "[14:25:58] ../src/executor/graph_executor.cc:1991: Subgraph backend MKLDNN is activated.\n",
      "[14:25:58] ../src/executor/graph_executor.cc:1991: Subgraph backend MKLDNN is activated.\n",
      "[14:25:58] ../src/executor/graph_executor.cc:1991: Subgraph backend MKLDNN is activated.\n",
      "[14:25:58] ../src/executor/graph_executor.cc:1991: Subgraph backend MKLDNN is activated.\n",
      "TRIM Creating Cropped Images for detector mtcnn_serfiq: 100%|██████████| 5/5 [08:53<00:00, 106.68s/it]\n",
      "Face images in ArcFace: 100%|██████████| 10/10 [00:00<00:00, 117.21it/s]\n",
      "Embedding models: 100%|██████████| 1/1 [00:00<00:00, 10.47it/s]\n",
      "Quality images in ser_fiq: 100%|██████████| 10/10 [00:00<00:00, 119.68it/s]\n",
      "Quality models: 100%|██████████| 1/1 [00:00<00:00, 10.59it/s]\n"
     ]
    }
   ],
   "source": [
    "database.create_tables(serfiq=serfiq)"
   ]
  },
  {
   "cell_type": "code",
   "execution_count": null,
   "metadata": {},
   "outputs": [
    {
     "name": "stderr",
     "output_type": "stream",
     "text": [
      "Computing SER-FIQ quality:   0%|          | 0/197 [00:00<?, ?it/s]"
     ]
    },
    {
     "name": "stdout",
     "output_type": "stream",
     "text": [
      "1/1 [==============================] - 0s 22ms/step\n",
      "1/1 [==============================] - 0s 71ms/step\n",
      "1/1 [==============================] - 0s 37ms/step\n",
      "1/1 [==============================] - 0s 86ms/step\n",
      "1/1 [==============================] - 0s 71ms/step\n",
      "1/1 [==============================] - 0s 66ms/step\n",
      "1/1 [==============================] - 0s 54ms/step\n",
      "1/1 [==============================] - 0s 70ms/step\n",
      "1/1 [==============================] - 0s 52ms/step\n",
      "1/1 [==============================] - 0s 60ms/step\n"
     ]
    },
    {
     "name": "stderr",
     "output_type": "stream",
     "text": [
      "Computing SER-FIQ quality:   0%|          | 0/197 [00:13<?, ?it/s]\n"
     ]
    },
    {
     "ename": "KeyboardInterrupt",
     "evalue": "",
     "output_type": "error",
     "traceback": [
      "\u001b[0;31m---------------------------------------------------------------------------\u001b[0m",
      "\u001b[0;31mKeyboardInterrupt\u001b[0m                         Traceback (most recent call last)",
      "\u001b[0;32m/tmp/ipykernel_16275/3046650546.py\u001b[0m in \u001b[0;36m<module>\u001b[0;34m\u001b[0m\n\u001b[0;32m----> 1\u001b[0;31m \u001b[0mdatabase\u001b[0m\u001b[0;34m.\u001b[0m\u001b[0mupdate_tables\u001b[0m\u001b[0;34m(\u001b[0m\u001b[0mattributes_to_update\u001b[0m\u001b[0;34m,\u001b[0m \u001b[0mserfiq\u001b[0m \u001b[0;34m=\u001b[0m \u001b[0mserfiq\u001b[0m\u001b[0;34m)\u001b[0m\u001b[0;34m\u001b[0m\u001b[0;34m\u001b[0m\u001b[0m\n\u001b[0m",
      "\u001b[0;32m~/PycharmProjects/sql-face/sql_face/sqldb.py\u001b[0m in \u001b[0;36mupdate_tables\u001b[0;34m(self, attributes_to_update, force_update, serfiq)\u001b[0m\n\u001b[1;32m     65\u001b[0m         \u001b[0;31m# update_cropped_images(self.session, force_update = force_update, serfiq = serfiq)\u001b[0m\u001b[0;34m\u001b[0m\u001b[0;34m\u001b[0m\u001b[0;34m\u001b[0m\u001b[0m\n\u001b[1;32m     66\u001b[0m         \u001b[0;31m# update_face_images(self.session, force_update = force_update)\u001b[0m\u001b[0;34m\u001b[0m\u001b[0;34m\u001b[0m\u001b[0;34m\u001b[0m\u001b[0m\n\u001b[0;32m---> 67\u001b[0;31m         \u001b[0mupdate_quality_images\u001b[0m\u001b[0;34m(\u001b[0m\u001b[0mself\u001b[0m\u001b[0;34m.\u001b[0m\u001b[0msession\u001b[0m\u001b[0;34m,\u001b[0m \u001b[0mserfiq\u001b[0m \u001b[0;34m=\u001b[0m \u001b[0mserfiq\u001b[0m\u001b[0;34m,\u001b[0m \u001b[0mforce_update\u001b[0m \u001b[0;34m=\u001b[0m \u001b[0mforce_update\u001b[0m\u001b[0;34m)\u001b[0m\u001b[0;34m\u001b[0m\u001b[0;34m\u001b[0m\u001b[0m\n\u001b[0m",
      "\u001b[0;32m~/PycharmProjects/sql-face/sql_face/alchemy.py\u001b[0m in \u001b[0;36mupdate_quality_images\u001b[0;34m(session, serfiq, force_update)\u001b[0m\n\u001b[1;32m    344\u001b[0m \u001b[0;32mdef\u001b[0m \u001b[0mupdate_quality_images\u001b[0m\u001b[0;34m(\u001b[0m\u001b[0msession\u001b[0m\u001b[0;34m,\u001b[0m \u001b[0mserfiq\u001b[0m\u001b[0;34m=\u001b[0m\u001b[0;32mNone\u001b[0m\u001b[0;34m,\u001b[0m \u001b[0mforce_update\u001b[0m\u001b[0;34m:\u001b[0m \u001b[0mbool\u001b[0m \u001b[0;34m=\u001b[0m \u001b[0;32mFalse\u001b[0m\u001b[0;34m)\u001b[0m\u001b[0;34m:\u001b[0m\u001b[0;34m\u001b[0m\u001b[0;34m\u001b[0m\u001b[0m\n\u001b[1;32m    345\u001b[0m \u001b[0;34m\u001b[0m\u001b[0m\n\u001b[0;32m--> 346\u001b[0;31m     \u001b[0mupdate_ser_fiq\u001b[0m\u001b[0;34m(\u001b[0m\u001b[0msession\u001b[0m\u001b[0;34m,\u001b[0m \u001b[0mserfiq\u001b[0m\u001b[0;34m,\u001b[0m \u001b[0mforce_update\u001b[0m\u001b[0;34m=\u001b[0m\u001b[0mforce_update\u001b[0m\u001b[0;34m)\u001b[0m\u001b[0;34m\u001b[0m\u001b[0;34m\u001b[0m\u001b[0m\n\u001b[0m\u001b[1;32m    347\u001b[0m     \u001b[0;31m# update_tface(session, force_update=force_update)\u001b[0m\u001b[0;34m\u001b[0m\u001b[0;34m\u001b[0m\u001b[0;34m\u001b[0m\u001b[0m\n\u001b[1;32m    348\u001b[0m \u001b[0;34m\u001b[0m\u001b[0m\n",
      "\u001b[0;32m~/PycharmProjects/sql-face/sql_face/alchemy.py\u001b[0m in \u001b[0;36mupdate_ser_fiq\u001b[0;34m(session, serfiq, force_update)\u001b[0m\n\u001b[1;32m    370\u001b[0m \u001b[0;34m\u001b[0m\u001b[0m\n\u001b[1;32m    371\u001b[0m         \u001b[0maligned_img\u001b[0m \u001b[0;34m=\u001b[0m \u001b[0mrow\u001b[0m\u001b[0;34m.\u001b[0m\u001b[0mCroppedImage\u001b[0m\u001b[0;34m.\u001b[0m\u001b[0mget_aligned_image\u001b[0m\u001b[0;34m(\u001b[0m\u001b[0mser_fiq\u001b[0m\u001b[0;34m=\u001b[0m\u001b[0mserfiq\u001b[0m\u001b[0;34m)\u001b[0m\u001b[0;34m\u001b[0m\u001b[0;34m\u001b[0m\u001b[0m\n\u001b[0;32m--> 372\u001b[0;31m         \u001b[0mquality\u001b[0m \u001b[0;34m=\u001b[0m \u001b[0mserfiq\u001b[0m\u001b[0;34m.\u001b[0m\u001b[0mget_score\u001b[0m\u001b[0;34m(\u001b[0m\u001b[0maligned_img\u001b[0m\u001b[0;34m,\u001b[0m \u001b[0mT\u001b[0m\u001b[0;34m=\u001b[0m\u001b[0;36m100\u001b[0m\u001b[0;34m)\u001b[0m\u001b[0;34m\u001b[0m\u001b[0;34m\u001b[0m\u001b[0m\n\u001b[0m\u001b[1;32m    373\u001b[0m \u001b[0;34m\u001b[0m\u001b[0m\n\u001b[1;32m    374\u001b[0m         \u001b[0mrow\u001b[0m\u001b[0;34m.\u001b[0m\u001b[0mQualityImage\u001b[0m\u001b[0;34m.\u001b[0m\u001b[0mquality\u001b[0m \u001b[0;34m=\u001b[0m \u001b[0mquality\u001b[0m\u001b[0;34m\u001b[0m\u001b[0;34m\u001b[0m\u001b[0m\n",
      "\u001b[0;32m~/PycharmProjects/sql-face/sql_face/serfiq.py\u001b[0m in \u001b[0;36mget_score\u001b[0;34m(self, aligned_img, T, alpha, r)\u001b[0m\n\u001b[1;32m    132\u001b[0m         \u001b[0mgpu_repeated\u001b[0m \u001b[0;34m=\u001b[0m \u001b[0mmx\u001b[0m\u001b[0;34m.\u001b[0m\u001b[0mnd\u001b[0m\u001b[0;34m.\u001b[0m\u001b[0marray\u001b[0m\u001b[0;34m(\u001b[0m\u001b[0mrepeated\u001b[0m\u001b[0;34m,\u001b[0m \u001b[0mctx\u001b[0m\u001b[0;34m=\u001b[0m\u001b[0mself\u001b[0m\u001b[0;34m.\u001b[0m\u001b[0mdevice\u001b[0m\u001b[0;34m)\u001b[0m\u001b[0;34m\u001b[0m\u001b[0;34m\u001b[0m\u001b[0m\n\u001b[1;32m    133\u001b[0m \u001b[0;34m\u001b[0m\u001b[0m\n\u001b[0;32m--> 134\u001b[0;31m         \u001b[0mX\u001b[0m \u001b[0;34m=\u001b[0m \u001b[0mself\u001b[0m\u001b[0;34m.\u001b[0m\u001b[0minsightface\u001b[0m\u001b[0;34m(\u001b[0m\u001b[0mgpu_repeated\u001b[0m\u001b[0;34m)\u001b[0m\u001b[0;34m.\u001b[0m\u001b[0masnumpy\u001b[0m\u001b[0;34m(\u001b[0m\u001b[0;34m)\u001b[0m\u001b[0;34m\u001b[0m\u001b[0;34m\u001b[0m\u001b[0m\n\u001b[0m\u001b[1;32m    135\u001b[0m \u001b[0;34m\u001b[0m\u001b[0m\n\u001b[1;32m    136\u001b[0m         \u001b[0mnorm\u001b[0m \u001b[0;34m=\u001b[0m \u001b[0mnormalize\u001b[0m\u001b[0;34m(\u001b[0m\u001b[0mX\u001b[0m\u001b[0;34m,\u001b[0m \u001b[0maxis\u001b[0m\u001b[0;34m=\u001b[0m\u001b[0;36m1\u001b[0m\u001b[0;34m)\u001b[0m\u001b[0;34m\u001b[0m\u001b[0;34m\u001b[0m\u001b[0m\n",
      "\u001b[0;32m~/anaconda3/envs/sql-face/lib/python3.7/site-packages/mxnet/ndarray/ndarray.py\u001b[0m in \u001b[0;36masnumpy\u001b[0;34m(self)\u001b[0m\n\u001b[1;32m   2569\u001b[0m             \u001b[0mself\u001b[0m\u001b[0;34m.\u001b[0m\u001b[0mhandle\u001b[0m\u001b[0;34m,\u001b[0m\u001b[0;34m\u001b[0m\u001b[0;34m\u001b[0m\u001b[0m\n\u001b[1;32m   2570\u001b[0m             \u001b[0mdata\u001b[0m\u001b[0;34m.\u001b[0m\u001b[0mctypes\u001b[0m\u001b[0;34m.\u001b[0m\u001b[0mdata_as\u001b[0m\u001b[0;34m(\u001b[0m\u001b[0mctypes\u001b[0m\u001b[0;34m.\u001b[0m\u001b[0mc_void_p\u001b[0m\u001b[0;34m)\u001b[0m\u001b[0;34m,\u001b[0m\u001b[0;34m\u001b[0m\u001b[0;34m\u001b[0m\u001b[0m\n\u001b[0;32m-> 2571\u001b[0;31m             ctypes.c_size_t(data.size)))\n\u001b[0m\u001b[1;32m   2572\u001b[0m         \u001b[0;32mreturn\u001b[0m \u001b[0mdata\u001b[0m\u001b[0;34m\u001b[0m\u001b[0;34m\u001b[0m\u001b[0m\n\u001b[1;32m   2573\u001b[0m \u001b[0;34m\u001b[0m\u001b[0m\n",
      "\u001b[0;31mKeyboardInterrupt\u001b[0m: "
     ]
    }
   ],
   "source": [
    "database.update_tables(attributes_to_update, serfiq = serfiq)"
   ]
  }
 ],
 "metadata": {
  "kernelspec": {
   "display_name": "Python 3.7.13 ('sql-face')",
   "language": "python",
   "name": "python3"
  },
  "language_info": {
   "codemirror_mode": {
    "name": "ipython",
    "version": 3
   },
   "file_extension": ".py",
   "mimetype": "text/x-python",
   "name": "python",
   "nbconvert_exporter": "python",
   "pygments_lexer": "ipython3",
   "version": "3.7.13"
  },
  "orig_nbformat": 4,
  "vscode": {
   "interpreter": {
    "hash": "edd2314f85f22963f985d48f57a085e9a58a34ab11a3cd413d34968a1f6f2e55"
   }
  }
 },
 "nbformat": 4,
 "nbformat_minor": 2
}
