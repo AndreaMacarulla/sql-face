{
 "cells": [
  {
   "cell_type": "code",
   "execution_count": 31,
   "metadata": {},
   "outputs": [],
   "source": [
    "import os\n",
    "\n",
    "home = os.path.expanduser(\"~\")\n",
    "\n",
    "db_name=  'colab_main_dataset' #'test_new_creators_4'\n",
    "input_dir = os.path.join(home, 'video_resources', 'image_datasets')\n",
    "output_dir = os.path.join(home, 'video_resources', 'sql_database')\n",
    "database_names=['enfsi','lfw','forenface','scface'] # 'lfw', 'scface',  'enfsi', 'enfsi2015', 'xqlfw', 'utkface','chokepoint','forenface'\n",
    "detector_names=['mtcnn'] # 'dlib', 'mtcnn', 'mtcnn_serfiq'\n",
    "embedding_model_names=[\"QMagFace\"] # , \"Dlib\", \"ArcFace\",\n",
    "attributes_to_update=[]  # 'gender', 'age', 'emotion', 'race'\n",
    "quality_model_names = ['ser_fiq', 'tface'] # 'confusion_score', 'ser_fiq',"
   ]
  },
  {
   "cell_type": "code",
   "execution_count": 32,
   "metadata": {},
   "outputs": [],
   "source": [
    "from sql_face.sqldb import SQLDataBase\n",
    "\n",
    "database = SQLDataBase(db_name=db_name,\n",
    "                        input_dir = input_dir,\n",
    "                        output_dir_name = output_dir,\n",
    "                        database_names = database_names,\n",
    "                        detector_names = detector_names,\n",
    "                        embedding_model_names = embedding_model_names,\n",
    "                        quality_model_names = quality_model_names)"
   ]
  },
  {
   "cell_type": "code",
   "execution_count": 33,
   "metadata": {},
   "outputs": [
    {
     "name": "stdout",
     "output_type": "stream",
     "text": [
      "58983\n"
     ]
    }
   ],
   "source": [
    "\n",
    "import pandas as pd\n",
    "from tqdm import tqdm\n",
    "from sql_face.tables import EnfsiPair, EnfsiPair2015, QualityImage, FaceImage, CroppedImage,Image, Quality\n",
    "\n",
    "session = database.session\n",
    "\n",
    "sql_1 = (session.query(QualityImage,Image.image_id)    \n",
    "    .join(FaceImage)\n",
    "    .join(CroppedImage)\n",
    "    .join(Image)\n",
    "    .filter(QualityImage.quality != None, Image.image_quality == None,\n",
    "        #CroppedImage.image_id == Image.image_id,\n",
    "        CroppedImage.detector_id== 2,\n",
    "        #FaceImage.croppedImage_id==CroppedImage.croppedImage_id,\n",
    "        FaceImage.embeddingModel_id==1,\n",
    "        #QualityImage.faceImage_id==FaceImage.faceImage_id,\n",
    "        QualityImage.qualityModel_id==1)\n",
    "    .limit(200000).all())\n",
    "\n",
    "\n",
    "print(len(sql_1))\n"
   ]
  },
  {
   "cell_type": "code",
   "execution_count": 34,
   "metadata": {},
   "outputs": [
    {
     "name": "stderr",
     "output_type": "stream",
     "text": [
      "100%|██████████| 58983/58983 [14:09<00:00, 69.41it/s]\n"
     ]
    }
   ],
   "source": [
    "n1 = 100\n",
    "n = n1\n",
    "for Q,id in tqdm(sql_1):\n",
    "    sql2 = (session.query(Image).filter(Image.image_id==id).one_or_none())\n",
    "    if sql2:\n",
    "        if Q.quality > 0.8:\n",
    "            sql2.image_quality = Quality.VERY_HIGH\n",
    "        elif Q.quality > 0.6:\n",
    "            sql2.image_quality = Quality.HIGH\n",
    "        elif Q.quality > 0.4:\n",
    "            sql2.image_quality = Quality.MEDIUM\n",
    "        elif Q.quality > 0.2:\n",
    "            sql2.image_quality = Quality.LOW\n",
    "        elif Q.quality > 0.0:\n",
    "            sql2.image_quality = Quality.VERY_LOW\n",
    "        \n",
    "        if n:\n",
    "            n -= 1\n",
    "        else:\n",
    "            session.commit()\n",
    "            n = n1\n",
    "\n",
    "\n",
    "session.commit()\n"
   ]
  }
 ],
 "metadata": {
  "kernelspec": {
   "display_name": "sql-face",
   "language": "python",
   "name": "python3"
  },
  "language_info": {
   "codemirror_mode": {
    "name": "ipython",
    "version": 3
   },
   "file_extension": ".py",
   "mimetype": "text/x-python",
   "name": "python",
   "nbconvert_exporter": "python",
   "pygments_lexer": "ipython3",
   "version": "3.8.15"
  },
  "orig_nbformat": 4,
  "vscode": {
   "interpreter": {
    "hash": "edd2314f85f22963f985d48f57a085e9a58a34ab11a3cd413d34968a1f6f2e55"
   }
  }
 },
 "nbformat": 4,
 "nbformat_minor": 2
}
