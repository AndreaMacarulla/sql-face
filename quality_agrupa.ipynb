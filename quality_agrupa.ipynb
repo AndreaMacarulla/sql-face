{
 "cells": [
  {
   "attachments": {},
   "cell_type": "markdown",
   "metadata": {},
   "source": [
    "Con este programa calculamos percentiles por cada quality model y clasificamos las calidades"
   ]
  },
  {
   "cell_type": "code",
   "execution_count": 1,
   "metadata": {},
   "outputs": [],
   "source": [
    "import os\n",
    "\n",
    "home = os.path.expanduser(\"~\")\n",
    "\n",
    "db_name=  'colab_main_dataset' #'test_new_creators_4'\n",
    "input_dir = os.path.join(home, 'video_resources', 'image_datasets')\n",
    "output_dir = os.path.join(home, 'video_resources', 'sql_database')\n",
    "#output_dir = os.path.join(home, 'drive', '.shared','LR_face_video')\n",
    "database_names=['enfsi','lfw','forenface'] # 'lfw', 'scface',  'enfsi', 'enfsi2015', 'xqlfw', 'utkface','chokepoint','forenface'\n",
    "detector_names=['mtcnn'] # 'dlib', 'mtcnn', 'mtcnn_serfiq'\n",
    "embedding_model_names=[\"QMagFace\"] # , \"Dlib\", \"ArcFace\",\n",
    "attributes_to_update=[]  # 'gender', 'age', 'emotion', 'race'\n",
    "quality_model_names = ['ser_fiq', 'tface'] # 'confusion_score', 'ser_fiq',"
   ]
  },
  {
   "cell_type": "code",
   "execution_count": 2,
   "metadata": {},
   "outputs": [
    {
     "name": "stderr",
     "output_type": "stream",
     "text": [
      "2023-04-15 15:18:18.835813: I tensorflow/core/platform/cpu_feature_guard.cc:193] This TensorFlow binary is optimized with oneAPI Deep Neural Network Library (oneDNN) to use the following CPU instructions in performance-critical operations:  SSE4.1 SSE4.2 AVX AVX2 FMA\n",
      "To enable them in other operations, rebuild TensorFlow with the appropriate compiler flags.\n",
      "INFO: Created TensorFlow Lite XNNPACK delegate for CPU.\n"
     ]
    }
   ],
   "source": [
    "from sql_face.sqldb import SQLDataBase\n",
    "\n",
    "database = SQLDataBase(db_name=db_name,\n",
    "                        input_dir = input_dir,\n",
    "                        output_dir_name = output_dir,\n",
    "                        database_names = database_names,\n",
    "                        detector_names = detector_names,\n",
    "                        embedding_model_names = embedding_model_names,\n",
    "                        quality_model_names = quality_model_names)"
   ]
  },
  {
   "cell_type": "code",
   "execution_count": 3,
   "metadata": {},
   "outputs": [],
   "source": [
    "#session.close()\n"
   ]
  },
  {
   "cell_type": "code",
   "execution_count": 4,
   "metadata": {},
   "outputs": [
    {
     "name": "stderr",
     "output_type": "stream",
     "text": [
      "100%|██████████| 931489/931489 [14:36<00:00, 1062.86it/s]\n",
      "100%|██████████| 859932/859932 [1:03:24<00:00, 226.03it/s]   \n"
     ]
    }
   ],
   "source": [
    "reset_perc = False\n",
    "\n",
    "import pandas as pd\n",
    "import numpy as np\n",
    "from tqdm import tqdm\n",
    "from sql_face.tables import EnfsiPair, EnfsiPair2015, QualityImage, FaceImage, CroppedImage, Image, QualityModel, QualityGroup\n",
    "\n",
    "session = database.session\n",
    "\n",
    "for qm in quality_model_names:\n",
    "\n",
    "    sql1 = session.query(QualityModel).filter(QualityModel.name == qm).one_or_none()\n",
    "    if sql1:\n",
    "\n",
    "        sql = session.query(QualityImage).filter(QualityImage.qualityModel_id == sql1.qualityModel_id, QualityImage.quality != None).all()\n",
    "\n",
    "        if reset_perc or not sql1.threshold:\n",
    "            quality = [row.quality for row in sql]\n",
    "            percentiles = [20, 40, 60, 80]\n",
    "    \n",
    "        # update quality model thresholds\n",
    "            quaperc = list(np.percentile(quality,percentiles) )\n",
    "            sql1.threshold = quaperc\n",
    "            session.commit()\n",
    "\n",
    "\n",
    "        quaperc = sql1.threshold\n",
    "        quaperc += [np.inf]      \n",
    "        \n",
    "\n",
    "        n1 = 4000\n",
    "        n = n1\n",
    "        updated_qimages = []\n",
    "        \n",
    "        for row in tqdm(sql):\n",
    "\n",
    "            quality_group = next(X_Enum   for X_Enum, umbral in zip(QualityGroup,quaperc) if row.quality < umbral)     \n",
    "        \n",
    "            updated_qimages.append({\"qualityImage_id\": row.qualityImage_id,\"quality_group\": quality_group})\n",
    "            \n",
    "            if not n:\n",
    "                session.bulk_update_mappings(QualityImage, updated_qimages)\n",
    "                session.commit()\n",
    "\n",
    "                updated_qimages = []\n",
    "                n = n1\n",
    "            else:\n",
    "                n-=1\n",
    "        if updated_qimages:\n",
    "            session.bulk_update_mappings(QualityImage, updated_qimages)\n",
    "            \n",
    "        \n",
    "        session.commit() "
   ]
  },
  {
   "cell_type": "code",
   "execution_count": null,
   "metadata": {},
   "outputs": [],
   "source": [
    "# query = (session.query(EnfsiPair).limit(100).all())\n",
    "\n",
    "# for img in query:\n",
    "#     filter = ['image_quality']\n",
    "#     cat = img.get_category(im_category_list = filter,fi_cat_list=[],detector='mtcnn',embedding_model='Arcface')\n",
    "\n",
    "#     cat2 = img.get_category([],[],'mtcnn','Arcface')\n",
    "\n",
    "#     a = 5\n"
   ]
  }
 ],
 "metadata": {
  "kernelspec": {
   "display_name": "sql-face",
   "language": "python",
   "name": "python3"
  },
  "language_info": {
   "codemirror_mode": {
    "name": "ipython",
    "version": 3
   },
   "file_extension": ".py",
   "mimetype": "text/x-python",
   "name": "python",
   "nbconvert_exporter": "python",
   "pygments_lexer": "ipython3",
   "version": "3.8.15"
  },
  "orig_nbformat": 4,
  "vscode": {
   "interpreter": {
    "hash": "edd2314f85f22963f985d48f57a085e9a58a34ab11a3cd413d34968a1f6f2e55"
   }
  }
 },
 "nbformat": 4,
 "nbformat_minor": 2
}
