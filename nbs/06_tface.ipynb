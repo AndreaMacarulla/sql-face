{
 "cells": [
  {
   "cell_type": "markdown",
   "metadata": {},
   "source": [
    "# TFace\n",
    "\n",
    "> Face Image Quality model from [SDD-FIQA](https://github.com/Tencent/TFace)."
   ]
  },
  {
   "cell_type": "code",
   "execution_count": null,
   "metadata": {},
   "outputs": [],
   "source": [
    "#| default_exp tface"
   ]
  },
  {
   "cell_type": "code",
   "execution_count": null,
   "metadata": {},
   "outputs": [],
   "source": [
    "#| hide\n",
    "\n",
    "from nbdev.showdoc import *\n",
    "from fastcore.test import *"
   ]
  },
  {
   "cell_type": "code",
   "execution_count": null,
   "metadata": {},
   "outputs": [],
   "source": [
    "#| exporti\n",
    "import numpy as np\n",
    "import torch\n",
    "\n",
    "from tface.utils import network, preprocess_tf_img"
   ]
  },
  {
   "cell_type": "code",
   "execution_count": null,
   "metadata": {},
   "outputs": [],
   "source": [
    "#| export \n",
    "\n",
    "def get_network():\n",
    "\n",
    "    if torch.cuda.is_available():\n",
    "        device = 'cuda:0'\n",
    "        net = network(device=device)\n",
    "    elif not torch.cuda.is_available():\n",
    "        device = 'cpu'\n",
    "        net = network( device=device)        \n",
    "    else:\n",
    "        raise ValueError(f'Value {torch.cuda.is_available()} is not correct')\n",
    "\n",
    "    return net\n"
   ]
  },
  {
   "cell_type": "code",
   "execution_count": null,
   "metadata": {},
   "outputs": [],
   "source": [
    "#| export\n",
    "\n",
    "def compute_tf_quality(aligned_img:np.array, network)->float:\n",
    "    \n",
    "    net = network\n",
    "\n",
    "    if torch.cuda.is_available():\n",
    "        \n",
    "        input_data = preprocess_tf_img(aligned_img).to('cuda:0')\n",
    "        pred_score = net(input_data).data.cuda().numpy().squeeze()     \n",
    "        \n",
    "    elif not torch.cuda.is_available():\n",
    "        \n",
    "        input_data = preprocess_tf_img(aligned_img)\n",
    "        pred_score = net(input_data).data.cpu().numpy().squeeze()\n",
    "           \n",
    "    else:\n",
    "        raise ValueError(f'Value {torch.cuda.is_available()} is not correct')\n",
    "\n",
    "    return pred_score\n",
    "\n"
   ]
  },
  {
   "cell_type": "code",
   "execution_count": null,
   "metadata": {},
   "outputs": [],
   "source": [
    "#| hide\n",
    "import nbdev; nbdev.nbdev_export()"
   ]
  }
 ],
 "metadata": {
  "kernelspec": {
   "display_name": "Python 3.7.15 ('sql-face')",
   "language": "python",
   "name": "python3"
  }
 },
 "nbformat": 4,
 "nbformat_minor": 4
}
