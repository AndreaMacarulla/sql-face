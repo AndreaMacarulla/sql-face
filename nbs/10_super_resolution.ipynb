{
 "cells": [
  {
   "attachments": {},
   "cell_type": "markdown",
   "metadata": {},
   "source": [
    "# codeformer\n",
    "> Improves resolution. Code from [here](https://github.com/sczhou/CodeFormer).\n"
   ]
  },
  {
   "cell_type": "code",
   "execution_count": null,
   "metadata": {},
   "outputs": [],
   "source": [
    "#| default_exp codeformer"
   ]
  },
  {
   "cell_type": "code",
   "execution_count": null,
   "metadata": {},
   "outputs": [],
   "source": [
    "#| hide\n",
    "from nbdev.showdoc import *"
   ]
  },
  {
   "cell_type": "code",
   "execution_count": null,
   "metadata": {},
   "outputs": [
    {
     "ename": "ModuleNotFoundError",
     "evalue": "No module named 'sql_face'",
     "output_type": "error",
     "traceback": [
      "\u001b[0;31m---------------------------------------------------------------------------\u001b[0m",
      "\u001b[0;31mModuleNotFoundError\u001b[0m                       Traceback (most recent call last)",
      "\u001b[1;32m/home/andrea/PycharmProjects/sql-face/nbs/10_super_resolution.ipynb Cell 4\u001b[0m in \u001b[0;36m<cell line: 9>\u001b[0;34m()\u001b[0m\n\u001b[1;32m      <a href='vscode-notebook-cell:/home/andrea/PycharmProjects/sql-face/nbs/10_super_resolution.ipynb#W3sZmlsZQ%3D%3D?line=6'>7</a>\u001b[0m \u001b[39mimport\u001b[39;00m \u001b[39mtorch\u001b[39;00m\n\u001b[1;32m      <a href='vscode-notebook-cell:/home/andrea/PycharmProjects/sql-face/nbs/10_super_resolution.ipynb#W3sZmlsZQ%3D%3D?line=7'>8</a>\u001b[0m \u001b[39mfrom\u001b[39;00m \u001b[39mtorchvision\u001b[39;00m\u001b[39m.\u001b[39;00m\u001b[39mtransforms\u001b[39;00m\u001b[39m.\u001b[39;00m\u001b[39mfunctional\u001b[39;00m \u001b[39mimport\u001b[39;00m normalize\n\u001b[0;32m----> <a href='vscode-notebook-cell:/home/andrea/PycharmProjects/sql-face/nbs/10_super_resolution.ipynb#W3sZmlsZQ%3D%3D?line=8'>9</a>\u001b[0m \u001b[39mfrom\u001b[39;00m \u001b[39msql_face\u001b[39;00m\u001b[39m.\u001b[39;00m\u001b[39msr_utils\u001b[39;00m \u001b[39mimport\u001b[39;00m get_device\n",
      "\u001b[0;31mModuleNotFoundError\u001b[0m: No module named 'sql_face'"
     ]
    }
   ],
   "source": [
    "#|exporti\n",
    "\n",
    "import os\n",
    "import cv2\n",
    "import argparse\n",
    "import glob\n",
    "import torch\n",
    "from torchvision.transforms.functional import normalize\n",
    "from sql_face.sr_utils import get_device\n",
    "# from basicsr.utils import imwrite, img2tensor, tensor2img\n",
    "# from basicsr.utils.download_util import load_file_from_url\n",
    "# from basicsr.utils.misc import gpu_is_available, get_device\n",
    "# from facelib.utils.face_restoration_helper import FaceRestoreHelper\n",
    "# from facelib.utils.misc import is_gray\n",
    "\n",
    "# from basicsr.utils.registry import ARCH_REGISTRY"
   ]
  },
  {
   "cell_type": "code",
   "execution_count": null,
   "metadata": {},
   "outputs": [
    {
     "ename": "NameError",
     "evalue": "name 'get_device' is not defined",
     "output_type": "error",
     "traceback": [
      "\u001b[0;31m---------------------------------------------------------------------------\u001b[0m",
      "\u001b[0;31mNameError\u001b[0m                                 Traceback (most recent call last)",
      "\u001b[1;32m/home/andrea/PycharmProjects/sql-face/nbs/10_super_resolution.ipynb Cell 5\u001b[0m in \u001b[0;36m<cell line: 1>\u001b[0;34m()\u001b[0m\n\u001b[0;32m----> <a href='vscode-notebook-cell:/home/andrea/PycharmProjects/sql-face/nbs/10_super_resolution.ipynb#W5sZmlsZQ%3D%3D?line=0'>1</a>\u001b[0m device \u001b[39m=\u001b[39m get_device()\n",
      "\u001b[0;31mNameError\u001b[0m: name 'get_device' is not defined"
     ]
    }
   ],
   "source": [
    "device = get_device()"
   ]
  },
  {
   "cell_type": "code",
   "execution_count": null,
   "metadata": {},
   "outputs": [],
   "source": [
    "#| hide\n",
    "import nbdev; nbdev.nbdev_export()"
   ]
  }
 ],
 "metadata": {
  "kernelspec": {
   "display_name": "sql-face",
   "language": "python",
   "name": "python3"
  }
 },
 "nbformat": 4,
 "nbformat_minor": 4
}
