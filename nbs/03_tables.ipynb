{
 "cells": [
  {
   "cell_type": "markdown",
   "metadata": {},
   "source": [
    "# SQL Tables Definition\n",
    "\n",
    "> Class declarations of the database tables."
   ]
  },
  {
   "cell_type": "code",
   "execution_count": null,
   "metadata": {},
   "outputs": [],
   "source": [
    "#| default_exp tables"
   ]
  },
  {
   "cell_type": "code",
   "execution_count": null,
   "metadata": {},
   "outputs": [],
   "source": [
    "#| hide\n",
    "from nbdev.showdoc import *"
   ]
  },
  {
   "cell_type": "code",
   "execution_count": null,
   "metadata": {},
   "outputs": [],
   "source": [
    "#| exporti\n",
    "\n",
    "from typing import Tuple\n",
    "\n",
    "from sqlalchemy import Column, Integer, String, Enum, Boolean, PickleType, ForeignKey, Table, Float\n",
    "from sqlalchemy.orm import relationship, declarative_mixin, declared_attr\n",
    "from sqlalchemy.ext.declarative import declarative_base\n",
    "\n",
    "from deepface import DeepFace\n",
    "import cv2\n",
    "import enum\n",
    "import numpy as np\n"
   ]
  },
  {
   "cell_type": "code",
   "execution_count": null,
   "metadata": {},
   "outputs": [],
   "source": [
    "#|exporti\n",
    "\n",
    "#To start table creation.\n",
    "Base = declarative_base()"
   ]
  },
  {
   "cell_type": "markdown",
   "metadata": {},
   "source": [
    "## Enums\n",
    "For face attributes."
   ]
  },
  {
   "cell_type": "code",
   "execution_count": null,
   "metadata": {},
   "outputs": [],
   "source": [
    "#| exporti\n",
    "\n",
    "\n",
    "## All the attribute Enum for the Image.\n",
    "\n",
    "\n",
    "class Gender(enum.Enum):\n",
    "    MALE = \"Man\"\n",
    "    FEMALE = \"Woman\"\n",
    "\n",
    "class Age(enum.Enum):\n",
    "    # todo: fill enum with age number.\n",
    "    CHILD = \"0-12\"\n",
    "    ADOLESCENT = '13-17'\n",
    "    YOUNG_ADULT = '18-30'\n",
    "    ADULT = '31-45'\n",
    "    MIDDLE_AGED_ADULT = '46-64'\n",
    "    SENIOR = '65-100'\n",
    "\n",
    "    @staticmethod\n",
    "    def age2enum(age:int)->Enum:\n",
    "        if age > 65:\n",
    "            age_enum = Age.SENIOR\n",
    "        elif age > 45:\n",
    "            age_enum = Age.MIDDLE_AGED_ADULT\n",
    "        elif age > 30:\n",
    "            age_enum = Age.ADULT\n",
    "        elif age > 18:\n",
    "            age_enum = Age.YOUNG_ADULT\n",
    "        elif age > 12:\n",
    "            age_enum = Age.ADOLESCENT\n",
    "        elif age > 0:\n",
    "            age_enum = Age.CHILD\n",
    "        else:\n",
    "            age_enum = None\n",
    "            print(f'Age {age} not in range, None returned')\n",
    "\n",
    "        return age_enum\n",
    "\n",
    "\n",
    "class Yaw(enum.Enum):\n",
    "    FRONTAL = \"straight\"\n",
    "    HALF_TURNED = \"slightly_turned\"\n",
    "    PROFILE = \"sideways\"\n",
    "\n",
    "\n",
    "class Pitch(enum.Enum):\n",
    "    UP = \"upwards\"\n",
    "    HALF_UP = \"slightly_upwards\"\n",
    "    FRONTAL = \"straight\"\n",
    "    HALF_DOWN = \"slightly_downwards\"\n",
    "    DOWN = \"downwards\"\n",
    "    \n",
    "class Roll(enum.Enum):\n",
    "    FRONTAL = \"straight\"\n",
    "    HALF_LEANING = \"slightly_inclined\"\n",
    "    HORIZONTAL = \"completely_inclined\"\n",
    "\n",
    "class Emotion(enum.Enum):\n",
    "    '''angry, fear, neutral, sad, disgust, happy and surprise'''\n",
    "    ANGRY = 'angry'\n",
    "    FEAR = 'fear'\n",
    "    NEUTRAL = 'neutral'\n",
    "    SAD = 'sad'\n",
    "    DISGUST = 'disgust'\n",
    "    HAPPY = 'happy'\n",
    "    SURPRISE = 'surprise'\n",
    "    \n",
    "\n",
    "class Race(enum.Enum):\n",
    "    '''asian, white, middle eastern, indian, latino and black'''\n",
    "    ASIAN='asian'\n",
    "    WHITE = 'white'\n",
    "    MIDDLE_EASTERN = 'middle eastern'\n",
    "    INDIAN = 'indian'\n",
    "    LATINO = 'latino hispanic'\n",
    "    BLACK = 'black'\n",
    "\n",
    "\n",
    "class Distance(enum.Enum):\n",
    "    '''asian, white, middle eastern, indian, latino and black'''\n",
    "    FRONTAL = 50\n",
    "    SHORT= 100\n",
    "    MEDIUM= 260\n",
    "    FAR = 420\n"
   ]
  },
  {
   "cell_type": "markdown",
   "metadata": {},
   "source": [
    "## Images\n",
    "Main class and different types (such as SCface)"
   ]
  },
  {
   "cell_type": "code",
   "execution_count": null,
   "metadata": {},
   "outputs": [],
   "source": [
    "#| exports\n",
    "\n",
    "class Image(Base):\n",
    "    \"Image SQL class\"\n",
    "    __tablename__ = \"image\"\n",
    "    image_id = Column(Integer, primary_key=True) # Image primary key\n",
    "    path = Column(String) # Absolute or relative path\n",
    "    identity = Column(String) # Person identity of the image\n",
    "    source = Column(String) # Database the image belongs to\n",
    "    gender = Column(Enum(Gender))\n",
    "    age = Column(Enum(Age))\n",
    "    age_number = Column(Float)\n",
    "    emotion = Column(Enum(Emotion))\n",
    "    race = Column(Enum(Race))\n",
    "    yaw = Column(Enum(Yaw))\n",
    "    pitch = Column(Enum(Pitch))\n",
    "    roll = Column(Enum(Roll))\n",
    "    headgear = Column(Boolean)\n",
    "    glasses = Column(Boolean)\n",
    "    beard = Column(Boolean)\n",
    "    other_occlusions = Column(Boolean)\n",
    "    low_quality = Column(Boolean)\n",
    "    \n",
    "\n",
    "    type = Column(String)\n",
    "    __mapper_args__ = {\n",
    "        'polymorphic_identity': 'image',\n",
    "        'polymorphic_on': type\n",
    "    }\n",
    "\n",
    "    croppedImages = relationship(\"CroppedImage\", back_populates=\"images\", lazy='subquery')\n",
    "\n",
    "    def get_image(self):\n",
    "        return cv2.imread(self.path)"
   ]
  },
  {
   "cell_type": "code",
   "execution_count": null,
   "metadata": {},
   "outputs": [],
   "source": [
    "#| exports\n",
    "\n",
    "class SCImage(Image):\n",
    "    \"SCFace database\"\n",
    "    \n",
    "    __tablename__ = 'scImage'\n",
    "    scImage_id = Column(Integer, ForeignKey('image.image_id'), primary_key=True)\n",
    "\n",
    "    sc_type = Column(String)\n",
    "    distance = Column(Enum(Distance))\n",
    "    infrared = Column(Boolean)\n",
    "\n",
    "    __mapper_args__ = {\n",
    "        'polymorphic_identity': 'scImage',\n",
    "    }"
   ]
  },
  {
   "cell_type": "markdown",
   "metadata": {},
   "source": [
    "## Mixins\n",
    "To combine classes, such as image and Enfsi or Image and Video"
   ]
  },
  {
   "cell_type": "code",
   "execution_count": null,
   "metadata": {},
   "outputs": [],
   "source": [
    "#| exports\n",
    "\n",
    "@declarative_mixin\n",
    "class EnfsiMixin:\n",
    "    year = Column(Integer)\n",
    "\n",
    "    @declared_attr\n",
    "    def image_id(cls):\n",
    "        return Column(Integer, ForeignKey('image.image_id'), primary_key=True)"
   ]
  },
  {
   "cell_type": "code",
   "execution_count": null,
   "metadata": {},
   "outputs": [],
   "source": [
    "#| exports\n",
    "\n",
    "@declarative_mixin\n",
    "class VideoMixin:\n",
    "    source_video = Column(String)\n",
    "    n_frame = Column(Integer)\n",
    "\n",
    "    @declared_attr\n",
    "    def image_id(cls):\n",
    "        return Column(Integer, ForeignKey('image.image_id'), primary_key=True)\n",
    "\n",
    "    def get_image(self):\n",
    "        video = cv2.VideoCapture(self.path)\n",
    "        video.set(1, self.n_frame)\n",
    "        ret, image = video.read()\n",
    "        if ret:\n",
    "            return image"
   ]
  },
  {
   "cell_type": "markdown",
   "metadata": {},
   "source": [
    "### Enfsi Image\n",
    "Enfsi + Image"
   ]
  },
  {
   "cell_type": "code",
   "execution_count": null,
   "metadata": {},
   "outputs": [],
   "source": [
    "#| exports\n",
    "\n",
    "class EnfsiImage(EnfsiMixin, Image):\n",
    "    __tablename__ = 'enfsiImage'\n",
    "    __mapper_args__ = {\n",
    "        'polymorphic_identity': 'enfsiImage',\n",
    "    }\n"
   ]
  },
  {
   "cell_type": "markdown",
   "metadata": {},
   "source": [
    "### Video Frame\n",
    "\n",
    "Video + Image"
   ]
  },
  {
   "cell_type": "code",
   "execution_count": null,
   "metadata": {},
   "outputs": [],
   "source": [
    "#| exports\n",
    "\n",
    "class VideoFrame(VideoMixin, Image):\n",
    "    __tablename__ = 'videoFrame'\n",
    "    __mapper_args__ = {\n",
    "        'polymorphic_identity': 'videoFrame',\n",
    "    }"
   ]
  },
  {
   "cell_type": "code",
   "execution_count": null,
   "metadata": {},
   "outputs": [],
   "source": [
    "#| exports\n",
    "\n",
    "class EnfsiVideoFrame(EnfsiMixin, VideoMixin, Image):\n",
    "    __tablename__ = 'enfsiVideoFrame'\n",
    "    __mapper_args__ = {\n",
    "        'polymorphic_identity': 'enfsiVideoFrame',\n",
    "    }"
   ]
  },
  {
   "cell_type": "code",
   "execution_count": null,
   "metadata": {},
   "outputs": [],
   "source": [
    "#| exports\n",
    "\n",
    "class Detector(Base):\n",
    "    \"Detector SQL class\"\n",
    "    __tablename__ = \"detector\"\n",
    "    detector_id = Column(Integer, primary_key=True)\n",
    "    name = Column(String)"
   ]
  },
  {
   "cell_type": "code",
   "execution_count": null,
   "metadata": {},
   "outputs": [],
   "source": [
    "#| exports\n",
    "\n",
    "class CroppedImage(Base):\n",
    "    __tablename__ = 'croppedImage'\n",
    "    croppedImage_id = Column(Integer, primary_key=True)\n",
    "\n",
    "    image_id = Column(Integer, ForeignKey('image.image_id'))\n",
    "    detector_id = Column(Integer, ForeignKey('detector.detector_id'))\n",
    "\n",
    "    bounding_box = Column(PickleType)\n",
    "    landmarks = Column(PickleType)\n",
    "    face_detected = Column(Boolean)\n",
    "\n",
    "    images = relationship(\"Image\", foreign_keys=[image_id])\n",
    "    detectors = relationship(\"Detector\", foreign_keys=[detector_id])\n",
    "    faceImages = relationship(\"FaceImage\", back_populates=\"croppedImages\")\n",
    "\n",
    "    def get_cropped_image(self):\n",
    "        image = self.images.get_image()\n",
    "        if self.face_detected:\n",
    "            return image[self.bounding_box[1]:self.bounding_box[1] + self.bounding_box[3],\n",
    "                   self.bounding_box[0]:self.bounding_box[0] + self.bounding_box[2], :]\n",
    "        else:\n",
    "            return image\n",
    "\n",
    "    def get_aligned_image(self, target_size:Tuple[int,int]=(112,112), ser_fiq = None):\n",
    "        \n",
    "        if self.detectors.name == 'mtcnn_serfiq':\n",
    "            image = self.images.get_image() \n",
    "            aligned_image = ser_fiq.apply_mtcnn(image)                     \n",
    "            return np.transpose(aligned_image, (1,2,0)) \n",
    "        \n",
    "        else:\n",
    "            \n",
    "            aligned_img = DeepFace.detectFace(img_path = self.images.path, \n",
    "            target_size = target_size, \n",
    "            detector_backend = self.detectors.name, \n",
    "            align=True,\n",
    "            enforce_detection=True)\n",
    "            return aligned_img*255"
   ]
  },
  {
   "cell_type": "code",
   "execution_count": null,
   "metadata": {},
   "outputs": [],
   "source": [
    "#| exports\n",
    "\n",
    "class EmbeddingModel(Base):\n",
    "    __tablename__ = \"embeddingModel\"\n",
    "    embeddingModel_id = Column(Integer, primary_key=True)\n",
    "    name = Column(String)"
   ]
  },
  {
   "cell_type": "code",
   "execution_count": null,
   "metadata": {},
   "outputs": [],
   "source": [
    "#| exports\n",
    "\n",
    "class FaceImage(Base):\n",
    "    __tablename__ = 'faceImage'\n",
    "    faceImage_id = Column(Integer, primary_key=True)\n",
    "\n",
    "    croppedImage_id = Column(Integer, ForeignKey('croppedImage.croppedImage_id'))\n",
    "    embeddingModel_id = Column(Integer, ForeignKey('embeddingModel.embeddingModel_id'))\n",
    "\n",
    "    embeddings = Column(PickleType)\n",
    "    confusion_score = Column(Float)\n",
    "\n",
    "    croppedImages = relationship(\"CroppedImage\", foreign_keys=[croppedImage_id])\n",
    "    embeddingModels = relationship(\"EmbeddingModel\", foreign_keys=[embeddingModel_id])"
   ]
  },
  {
   "cell_type": "code",
   "execution_count": null,
   "metadata": {},
   "outputs": [],
   "source": [
    "#| exports\n",
    "\n",
    "class QualityModel(Base):\n",
    "    __tablename__ = \"qualityModel\"\n",
    "    qualityModel_id = Column(Integer, primary_key=True)\n",
    "    name = Column(String)"
   ]
  },
  {
   "cell_type": "code",
   "execution_count": null,
   "metadata": {},
   "outputs": [],
   "source": [
    "#| exports\n",
    "\n",
    "class QualityImage(Base):\n",
    "    __tablename__ = 'qualityImage'\n",
    "    qualityImage_id = Column(Integer, primary_key=True)\n",
    "\n",
    "    faceImage_id = Column(Integer, ForeignKey('faceImage.faceImage_id'))\n",
    "    qualityModel_id = Column(Integer, ForeignKey('qualityModel.qualityModel_id'))\n",
    "\n",
    "    quality = Column(Float)\n",
    "    quality_vec = Column(PickleType)\n",
    "\n",
    "    faceImages = relationship(\"FaceImage\", foreign_keys=[faceImage_id])\n",
    "    qualityModels = relationship(\"QualityModel\", foreign_keys=[qualityModel_id])"
   ]
  },
  {
   "cell_type": "code",
   "execution_count": null,
   "metadata": {},
   "outputs": [],
   "source": [
    "#| hide\n",
    "import nbdev; nbdev.nbdev_export()"
   ]
  }
 ],
 "metadata": {
  "kernelspec": {
   "display_name": "Python 3.7.15 ('sql-face')",
   "language": "python",
   "name": "python3"
  },
  "language_info": {
   "name": "python",
   "version": "3.7.15"
  },
  "vscode": {
   "interpreter": {
    "hash": "0a84f744ed89671113ba95f00e1aad6d21abade608318eb8af248311f249adcd"
   }
  }
 },
 "nbformat": 4,
 "nbformat_minor": 4
}
