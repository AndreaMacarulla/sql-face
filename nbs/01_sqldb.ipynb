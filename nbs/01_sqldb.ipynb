{
 "cells": [
  {
   "cell_type": "markdown",
   "metadata": {},
   "source": [
    "# SQL DB\n",
    "\n",
    "> SQL main functions."
   ]
  },
  {
   "cell_type": "code",
   "execution_count": null,
   "metadata": {},
   "outputs": [],
   "source": [
    "#| default_exp sqldb"
   ]
  },
  {
   "cell_type": "code",
   "execution_count": null,
   "metadata": {},
   "outputs": [],
   "source": [
    "#| hide\n",
    "from nbdev.showdoc import *"
   ]
  },
  {
   "cell_type": "code",
   "execution_count": null,
   "metadata": {},
   "outputs": [],
   "source": [
    "#|exporti\n",
    "\n",
    "from typing import List"
   ]
  },
  {
   "cell_type": "code",
   "execution_count": null,
   "metadata": {},
   "outputs": [],
   "source": [
    "#| exporti\n",
    "\n",
    "from sql_face.alchemy import get_session\n",
    "from sql_face.databases import get_image_db"
   ]
  },
  {
   "cell_type": "code",
   "execution_count": null,
   "metadata": {},
   "outputs": [],
   "source": [
    "#| export\n",
    "def _get_output_dir(output_dir_name:str, save_in_drive:bool):\n",
    "    if save_in_drive:\n",
    "        return os.path.join('../drive', 'MyDrive', output_dir_name)\n",
    "    else:\n",
    "        return output_dir_name "
   ]
  },
  {
   "cell_type": "code",
   "execution_count": null,
   "metadata": {},
   "outputs": [],
   "source": [
    "#| export\n",
    "\n",
    "class SQLDataBase:\n",
    "    \"A SQL `class` to save face attributes\"\n",
    "    #TODO: Change absolute to relative paths.\n",
    "    def __init__(self,\n",
    "        db_name: str, # Dataset file name\n",
    "        input_dir:str = '/home/andrea/Desktop/image_datasets', # Folder with face datasets files\n",
    "        output_dir_name:str = '/home/andrea/Desktop/sql_database', #Folder where the .db will be saved\n",
    "        save_in_drive: bool = False, # Flag for working in local / Google Colab\n",
    "        database_names: List[str] = [] # List of database names to be processed\n",
    "    ): \n",
    "    \n",
    "        self.db_name=db_name\n",
    "        self.input_dir = input_dir        \n",
    "        self.save_in_drive = save_in_drive\n",
    "        self.output_dir = _get_output_dir(output_dir_name, save_in_drive)\n",
    "        self.session = get_session(output_dir_name, db_name) \n",
    "        self.databases = get_image_db(input_dir, database_names)"
   ]
  },
  {
   "cell_type": "code",
   "execution_count": null,
   "metadata": {},
   "outputs": [],
   "source": [
    "#| hide\n",
    "import nbdev; nbdev.nbdev_export()"
   ]
  }
 ],
 "metadata": {
  "kernelspec": {
   "display_name": "Python 3.7.13 ('sql-face')",
   "language": "python",
   "name": "python3"
  }
 },
 "nbformat": 4,
 "nbformat_minor": 4
}
