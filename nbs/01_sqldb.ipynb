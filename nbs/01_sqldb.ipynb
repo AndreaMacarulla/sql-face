{
 "cells": [
  {
   "attachments": {},
   "cell_type": "markdown",
   "metadata": {},
   "source": [
    "# SQL DB\n",
    "\n",
    "> SQL main functions"
   ]
  },
  {
   "attachments": {},
   "cell_type": "markdown",
   "metadata": {},
   "source": [
    "This module provides main functions for working with SQL databases. The SQLDataBase class allows storing face attributes in a SQL database. The attributes include information about images, face detectors, embedding models, and quality models.\n",
    "The methods of the SQLDataBase class allow creating and updating the database tables. create_tables creates the tables and only fills the cropped images. update_tables updates the tables with the specified attributes."
   ]
  },
  {
   "cell_type": "code",
   "execution_count": null,
   "metadata": {},
   "outputs": [],
   "source": [
    "#| default_exp sqldb"
   ]
  },
  {
   "cell_type": "code",
   "execution_count": null,
   "metadata": {},
   "outputs": [],
   "source": [
    "#| hide\n",
    "from nbdev.showdoc import *"
   ]
  },
  {
   "cell_type": "code",
   "execution_count": null,
   "metadata": {},
   "outputs": [],
   "source": [
    "#|exporti\n",
    "\n",
    "from typing import List\n",
    "from tqdm import tqdm\n",
    "\n",
    "from sql_face.alchemy import * \n",
    "from sql_face.databases import get_image_db"
   ]
  },
  {
   "cell_type": "code",
   "execution_count": null,
   "metadata": {},
   "outputs": [],
   "source": [
    "#| hide\n",
    "def get_output_dir(output_dir_name:str, # The name of the output directory.\n",
    "                    save_in_drive:bool # Flag indicating whether the output directory should be saved in Google Drive or in the local file system.\n",
    "                    )-> str: # The path to the output directory.\n",
    "    \"Obtains the path to the output directory\"\n",
    "\n",
    "    if save_in_drive:\n",
    "        return os.path.join('../drive', 'MyDrive', output_dir_name)\n",
    "    else:\n",
    "        return output_dir_name "
   ]
  },
  {
   "cell_type": "code",
   "execution_count": null,
   "metadata": {},
   "outputs": [],
   "source": [
    "#| export\n",
    "\n",
    "class SQLDataBase:\n",
    "    \"A SQL `class` to save face attributes\"\n",
    "    \n",
    "    def __init__(self,\n",
    "        db_name: str, # Dataset file name\n",
    "        input_dir:str, # Folder with face datasets files\n",
    "        output_dir_name:str, #Folder where the .db will be saved\n",
    "        database_names: List[str], # List of database names to be processed\n",
    "        detector_names: List[str], # List of detector names to be processed\n",
    "        embedding_model_names: List[str], # List of embedding model names to be processed\n",
    "        quality_model_names: List[str], # List of quality names to be processed\n",
    "        # save_in_drive: bool = False # Flag for working in local / Google Colab\n",
    "        \n",
    "    ): \n",
    "    \n",
    "        self.db_name=db_name\n",
    "        self.input_dir = input_dir        \n",
    "        # self.save_in_drive = save_in_drive\n",
    "        self.output_dir = output_dir_name\n",
    "        self.session = get_session(output_dir_name, db_name) \n",
    "        self.databases = get_image_db(input_dir, database_names)\n",
    "        self.detector_names = detector_names\n",
    "        self.embedding_model_names = embedding_model_names\n",
    "        self.quality_model_names = quality_model_names\n",
    "\n",
    "    def create_tables(self, \n",
    "                    serfiq=None # object used to calculate the SERFIQ quality score.\n",
    "                    ):\n",
    "        \"Creates the SQL tables and fills ONLY the Cropped Images.\"\n",
    "        create_detectors(self.session, self.detector_names)\n",
    "        create_embedding_models(self.session, self.embedding_model_names)\n",
    "        create_quality_models(self.session, self.quality_model_names)\n",
    "\n",
    "        for db in self.databases:\n",
    "            db.create_images(self.session)\n",
    "        # todo: optimize creating facevacs pairs.\n",
    "        # self.create_facevacs_pairs()\n",
    "        \n",
    "\n",
    "        create_cropped_images(self.session, self.input_dir, serfiq) \n",
    "        create_face_images(self.session)\n",
    "        create_quality_images(self.session)\n",
    "\n",
    "    def update_tables(self, \n",
    "                    attributes_to_update:List[str], # The list of attributes to update in the tables.\n",
    "                    force_update:bool=False, # Flag indicating whether to update the attributes even if they are already present in the tables.\n",
    "                    serfiq = None # object used to calculate the SERFIQ quality score.\n",
    "                    ):        \n",
    "        update_images(self.session, self.input_dir, self.databases, attributes_to_update, force_update = force_update)\n",
    "        update_cropped_images(self.session, self.input_dir, force_update = force_update, serfiq = serfiq)\n",
    "        update_face_images(self.session, self.input_dir, force_update = force_update, serfiq = serfiq)\n",
    "        update_quality_images(self.session, self.input_dir, serfiq = serfiq, force_update = force_update)"
   ]
  },
  {
   "cell_type": "code",
   "execution_count": null,
   "metadata": {},
   "outputs": [],
   "source": [
    "show_doc(SQLDataBase.create_tables)"
   ]
  },
  {
   "cell_type": "code",
   "execution_count": null,
   "metadata": {},
   "outputs": [],
   "source": [
    "show_doc(SQLDataBase.update_tables)"
   ]
  },
  {
   "cell_type": "code",
   "execution_count": null,
   "metadata": {},
   "outputs": [],
   "source": [
    "#| hide\n",
    "import nbdev; nbdev.nbdev_export()"
   ]
  }
 ],
 "metadata": {
  "kernelspec": {
   "display_name": "sql-face",
   "language": "python",
   "name": "python3"
  }
 },
 "nbformat": 4,
 "nbformat_minor": 4
}
