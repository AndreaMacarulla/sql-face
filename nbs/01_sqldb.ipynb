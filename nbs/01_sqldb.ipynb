{
 "cells": [
  {
   "cell_type": "markdown",
   "metadata": {},
   "source": [
    "# SQL DB\n",
    "\n",
    "> SQL main functions."
   ]
  },
  {
   "cell_type": "code",
   "execution_count": null,
   "metadata": {},
   "outputs": [],
   "source": [
    "#| default_exp sqldb"
   ]
  },
  {
   "cell_type": "code",
   "execution_count": null,
   "metadata": {},
   "outputs": [],
   "source": [
    "#| hide\n",
    "from nbdev.showdoc import *"
   ]
  },
  {
   "cell_type": "code",
   "execution_count": null,
   "metadata": {},
   "outputs": [],
   "source": [
    "#|exporti\n",
    "\n",
    "from typing import List\n",
    "from tqdm import tqdm"
   ]
  },
  {
   "cell_type": "code",
   "execution_count": null,
   "metadata": {},
   "outputs": [],
   "source": [
    "#| exporti\n",
    "\n",
    "from sql_face.alchemy import * \n",
    "from sql_face.databases import get_image_db"
   ]
  },
  {
   "cell_type": "code",
   "execution_count": null,
   "metadata": {},
   "outputs": [],
   "source": [
    "#| export\n",
    "def _get_output_dir(output_dir_name:str, save_in_drive:bool):\n",
    "    if save_in_drive:\n",
    "        return os.path.join('../drive', 'MyDrive', output_dir_name)\n",
    "    else:\n",
    "        return output_dir_name "
   ]
  },
  {
   "cell_type": "code",
   "execution_count": null,
   "metadata": {},
   "outputs": [],
   "source": [
    "#| export\n",
    "\n",
    "class SQLDataBase:\n",
    "    \"A SQL `class` to save face attributes\"\n",
    "    #TODO: Change absolute to relative paths.\n",
    "    def __init__(self,\n",
    "        db_name: str, # Dataset file name\n",
    "        input_dir:str, # Folder with face datasets files\n",
    "        output_dir_name:str, #Folder where the .db will be saved\n",
    "        database_names: List[str], # List of database names to be processed\n",
    "        detector_names: List[str], # List of detector names to be processed\n",
    "        embedding_model_names: List[str], # List of embedding model names to be processed\n",
    "        quality_model_names: List[str], # List of quality names to be processed\n",
    "        save_in_drive: bool = False # Flag for working in local / Google Colab\n",
    "        \n",
    "    ): \n",
    "    \n",
    "        self.db_name=db_name\n",
    "        self.input_dir = input_dir        \n",
    "        self.save_in_drive = save_in_drive\n",
    "        self.output_dir = _get_output_dir(output_dir_name, save_in_drive)\n",
    "        self.session = get_session(output_dir_name, db_name) \n",
    "        self.databases = get_image_db(input_dir, database_names)\n",
    "        self.detector_names = detector_names\n",
    "        self.embedding_model_names = embedding_model_names\n",
    "        self.quality_model_names = quality_model_names\n",
    "\n",
    "    def create_tables(self):\n",
    "        create_detectors(self.session, self.detector_names)\n",
    "        create_embedding_models(self.session, self.embedding_model_names)\n",
    "        create_quality_models(self.session, self.quality_model_names)\n",
    "\n",
    "        for db in self.databases:\n",
    "            db.create_images(self.session)\n",
    "        # # todo: optimize creating facevacs pairs.\n",
    "        # # self.create_facevacs_pairs()\n",
    "        \n",
    "\n",
    "        create_cropped_images(self.session) \n",
    "        create_face_images(self.session)\n",
    "        create_quality_images(self.session)\n",
    "\n",
    "    def update_tables(self, attributes_to_update:List[str], force_update:bool=False):\n",
    "        for db in tqdm(self.databases, desc=f'Updating attributes in databases'):\n",
    "            print(f'Database {db}')\n",
    "            db.update_images(self.session, attributes_to_update, force_update = force_update)\n",
    "        # self.update_cropped_images(force_update = force_update)\n",
    "        # self.update_face_images(force_update = force_update)\n",
    "        # self.update_quality_images(force_update = force_update)"
   ]
  },
  {
   "cell_type": "code",
   "execution_count": null,
   "metadata": {},
   "outputs": [],
   "source": [
    "#| hide\n",
    "import nbdev; nbdev.nbdev_export()"
   ]
  }
 ],
 "metadata": {
  "kernelspec": {
   "display_name": "Python 3.7.13 ('sql-face')",
   "language": "python",
   "name": "python3"
  }
 },
 "nbformat": 4,
 "nbformat_minor": 4
}
