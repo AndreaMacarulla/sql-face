{
 "cells": [
  {
   "cell_type": "markdown",
   "metadata": {},
   "source": [
    "# SQL Alchemy\n",
    "\n",
    "> Alchemy related functions."
   ]
  },
  {
   "cell_type": "code",
   "execution_count": null,
   "metadata": {},
   "outputs": [],
   "source": [
    "#| default_exp alchemy"
   ]
  },
  {
   "cell_type": "code",
   "execution_count": null,
   "metadata": {},
   "outputs": [],
   "source": [
    "#| hide\n",
    "from nbdev.showdoc import *"
   ]
  },
  {
   "cell_type": "code",
   "execution_count": null,
   "metadata": {},
   "outputs": [],
   "source": [
    "#| exporti\n",
    "import os\n",
    "\n",
    "from typing import List\n",
    "from tqdm import tqdm\n",
    "\n",
    "from sqlalchemy import create_engine\n",
    "from sqlalchemy.orm import sessionmaker\n",
    "\n",
    "from deepface.commons import functions\n",
    "\n",
    "from sql_face.tables import Base, Image, Detector, CroppedImage, EmbeddingModel, FaceImage, QualityModel, QualityImage"
   ]
  },
  {
   "cell_type": "markdown",
   "metadata": {},
   "source": [
    "## Connect session\n",
    "Connect to SQL database"
   ]
  },
  {
   "cell_type": "code",
   "execution_count": null,
   "metadata": {},
   "outputs": [],
   "source": [
    "#| export\n",
    "\n",
    "def get_session(\n",
    "    output_dir:str, # Output directory\n",
    "    db_name:str, # .db file name\n",
    "                    ):  \n",
    "    db_path = os.path.join(output_dir,db_name+'.db')       \n",
    "    engine = create_engine(f\"sqlite:///{db_path}\")\n",
    "    if not os.path.exists(db_path):\n",
    "        if not os.path.exists(output_dir):\n",
    "            print(f'Creating output directory at {output_dir}')\n",
    "            os.mkdir(output_dir)\n",
    "            \n",
    "        print(f'Creating Db file at {db_path}')\n",
    "        Base.metadata.create_all(engine)\n",
    "\n",
    "    Session = sessionmaker()\n",
    "    Session.configure(bind=engine)\n",
    "    session = Session()\n",
    "    return session"
   ]
  },
  {
   "cell_type": "markdown",
   "metadata": {},
   "source": [
    "## Table creators \n",
    "Detectors, Images, Cropped Images, etc."
   ]
  },
  {
   "cell_type": "code",
   "execution_count": null,
   "metadata": {},
   "outputs": [],
   "source": [
    "#| export\n",
    "\n",
    "def create_detectors(\n",
    "                session,\n",
    "                detector_names: List[str]\n",
    "                ):\n",
    "        \n",
    "        for detector_entry in detector_names:\n",
    "                detector = (\n",
    "                        session.query(Detector)\n",
    "                        .filter(Detector.name == detector_entry)\n",
    "                        .one_or_none()\n",
    "                        )\n",
    "                if detector is None:\n",
    "                        detector = Detector(name=detector_entry)\n",
    "                        session.add(detector)\n",
    "                session.commit()"
   ]
  },
  {
   "cell_type": "code",
   "execution_count": null,
   "metadata": {},
   "outputs": [],
   "source": [
    "#| export\n",
    "\n",
    "def create_embedding_models(session,\n",
    "                            embedding_model_names: List[str]):\n",
    "        \n",
    "        for emb_model_entry in embedding_model_names:\n",
    "            emb_model = (\n",
    "                session.query(EmbeddingModel)\n",
    "                    .filter(EmbeddingModel.name == emb_model_entry)\n",
    "                    .one_or_none()\n",
    "            )\n",
    "            if emb_model is None:\n",
    "                emb_model = EmbeddingModel(name=emb_model_entry)\n",
    "                session.add(emb_model)\n",
    "        session.commit()\n"
   ]
  },
  {
   "cell_type": "code",
   "execution_count": null,
   "metadata": {},
   "outputs": [],
   "source": [
    "#| export\n",
    "\n",
    "def create_quality_models(session,\n",
    "                            quality_model_names: List[str]):\n",
    "        \n",
    "        for qua_model_entry in quality_model_names:\n",
    "            qua_model = (\n",
    "                session.query(QualityModel)\n",
    "                    .filter(QualityModel.name == qua_model_entry)\n",
    "                    .one_or_none()\n",
    "            )\n",
    "            if qua_model is None:\n",
    "                qua_model = QualityModel(name=qua_model_entry)\n",
    "                session.add(qua_model)\n",
    "        session.commit()"
   ]
  },
  {
   "cell_type": "code",
   "execution_count": null,
   "metadata": {},
   "outputs": [],
   "source": [
    "#| export\n",
    "\n",
    "def fill_cropped_image_general(cr_img: CroppedImage, **kwargs):\n",
    "    image = cr_img.images.get_image()      \n",
    "    \n",
    "        \n",
    "    # todo : maybe save the image cropped somewhere?\n",
    "    try:\n",
    "        img_cropped, bounding_box = functions.preprocess_face(img=image,\n",
    "                                                                detector_backend=cr_img.detectors.name,\n",
    "                                                                enforce_detection=True,\n",
    "                                                                return_region=True)\n",
    "        \n",
    "        cr_img.bounding_box = bounding_box\n",
    "        cr_img.face_detected = True\n",
    "\n",
    "    except ValueError:\n",
    "        cr_img.bounding_box = []\n",
    "        cr_img.face_detected = False\n",
    "        # todo: change warning if the image is a video(frame).\n",
    "        print(f'Face not found in {cr_img.images.path} with {cr_img.detectors.name}')\n",
    "\n"
   ]
  },
  {
   "cell_type": "code",
   "execution_count": null,
   "metadata": {},
   "outputs": [],
   "source": [
    "#| export\n",
    "\n",
    "def create_cropped_images(session, \n",
    "                ):\n",
    "        \n",
    "        all_detectors = (session.query(Detector).all())\n",
    "        for det in all_detectors:\n",
    "\n",
    "            # Load SERFIQ model if neccesary\n",
    "            # TODO: serfiq detector not implemented.\n",
    "            if det.name == 'mtcnn_serfiq':\n",
    "                ser_fiq = self.ser_fiq\n",
    "                fill_cropped_image = self.fill_cropped_image_serfiq\n",
    "            else:\n",
    "                ser_fiq = None\n",
    "                fill_cropped_image = fill_cropped_image_general\n",
    "\n",
    "            subquery = session.query(CroppedImage.image_id) \\\n",
    "                .filter(CroppedImage.detectors == det)\n",
    "            images = (\n",
    "                session.query(Image)\n",
    "                    .filter(Image.image_id.notin_(subquery))\n",
    "                    .all()\n",
    "            )\n",
    "\n",
    "            for img in tqdm(images[:5], desc=f'TRIM Creating Cropped Images for detector {det.name}'):\n",
    "                cropped_image = CroppedImage()\n",
    "                cropped_image.images = img\n",
    "                cropped_image.detectors = det\n",
    "                fill_cropped_image(cropped_image, ser_fiq = ser_fiq)\n",
    "                session.add(cropped_image)\n",
    "                session.commit()"
   ]
  },
  {
   "cell_type": "code",
   "execution_count": null,
   "metadata": {},
   "outputs": [],
   "source": [
    "#| export\n",
    "def create_face_images(session):\n",
    "        \n",
    "    all_embedding_models = (session.query(EmbeddingModel).all())\n",
    "    for emb in tqdm(all_embedding_models, desc='Embedding models'):\n",
    "        subquery = session.query(FaceImage.croppedImage_id) \\\n",
    "            .filter(FaceImage.embeddingModels == emb)\n",
    "        cropped_images = (\n",
    "            session.query(CroppedImage) \\\n",
    "                .filter(CroppedImage.croppedImage_id.notin_(subquery),\n",
    "                        CroppedImage.face_detected == True)\n",
    "                .all()\n",
    "        )\n",
    "\n",
    "        for cr_img in tqdm(cropped_images, desc=f'Face images in {emb.name}'):\n",
    "            face_image = FaceImage()\n",
    "            face_image.croppedImages = cr_img\n",
    "            face_image.embeddingModels = emb\n",
    "            session.add(face_image)\n",
    "            session.commit()"
   ]
  },
  {
   "cell_type": "code",
   "execution_count": null,
   "metadata": {},
   "outputs": [],
   "source": [
    "#| export\n",
    "\n",
    "def create_quality_images(session):\n",
    "        \n",
    "        all_quality_models = (session.query(QualityModel).all())\n",
    "        for qua in tqdm(all_quality_models, desc='Quality models'):\n",
    "            subquery = session.query(QualityImage.faceImage_id) \\\n",
    "                .filter(QualityImage.qualityModels == qua)\n",
    "            face_images = (\n",
    "                session.query(FaceImage) \\\n",
    "                    .filter(FaceImage.faceImage_id.notin_(subquery))\n",
    "                    .all()\n",
    "            )\n",
    "\n",
    "            for face_img in tqdm(face_images, desc=f'Quality images in {qua.name}'):\n",
    "                qua_image = QualityImage()\n",
    "                qua_image.faceImages = face_img\n",
    "                qua_image.qualityModels = qua\n",
    "                session.add(qua_image)\n",
    "                session.commit()"
   ]
  },
  {
   "cell_type": "markdown",
   "metadata": {},
   "source": [
    "# Table attribute update\n",
    "Once the tables are created, functions to fill in the Image, CroppedImage, FaceImage and Qualityimage attributes."
   ]
  },
  {
   "cell_type": "code",
   "execution_count": null,
   "metadata": {},
   "outputs": [],
   "source": [
    "#| hide\n",
    "import nbdev; nbdev.nbdev_export()"
   ]
  }
 ],
 "metadata": {
  "kernelspec": {
   "display_name": "Python 3.7.13 ('sql-face')",
   "language": "python",
   "name": "python3"
  }
 },
 "nbformat": 4,
 "nbformat_minor": 4
}
