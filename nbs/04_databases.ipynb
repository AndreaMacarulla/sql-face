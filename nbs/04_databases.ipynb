{
 "cells": [
  {
   "cell_type": "markdown",
   "metadata": {},
   "source": [
    "# SQL Tables\n",
    "\n",
    "> Class declarations of the database tables."
   ]
  },
  {
   "cell_type": "code",
   "execution_count": null,
   "metadata": {},
   "outputs": [],
   "source": [
    "#| default_exp databases"
   ]
  },
  {
   "cell_type": "code",
   "execution_count": null,
   "metadata": {},
   "outputs": [],
   "source": [
    "#| hide\n",
    "from nbdev.showdoc import *"
   ]
  },
  {
   "cell_type": "code",
   "execution_count": null,
   "metadata": {},
   "outputs": [],
   "source": [
    "#| export\n",
    "\n",
    "#TODO: add databases module\n",
    "\n",
    "# DATABASES = {'lfw': LFW \n",
    "#                     # 'xqlfw': XQLFW, \n",
    "#                     #  'scface': SCFace, \n",
    "#                     #  'forenface': ForenFace, \n",
    "#                     #  'utkface': UTKFace,\n",
    "#                     #  'enfsi': Enfsi, \n",
    "#                     #  'enfsi2015': Enfsi2015\n",
    "#                      }\n",
    "\n"
   ]
  },
  {
   "cell_type": "code",
   "execution_count": null,
   "metadata": {},
   "outputs": [],
   "source": [
    "# def get_image_db(input_dir:str,\n",
    "#                 database_names:List[str]) -> List[FaceDataBase]:\n",
    "#         \"\"\"\n",
    "#         From str to FaceDataBase class.\n",
    "\n",
    "#         :param scorer_names: List[str]\n",
    "#         :return: List[FaceDataBase]\n",
    "#         \"\"\"\n",
    "#         # todo: update description.\n",
    "#         # todo: Raise error if str input is not contained in the DB dictionary.\n",
    "#         # DATABASES = {'lfw': LFW, \n",
    "#                     # 'xqlfw': XQLFW, \n",
    "#                     #  'scface': SCFace, \n",
    "#                     #  'forenface': ForenFace, \n",
    "#                     #  'utkface': UTKFace,\n",
    "#                     #  'enfsi': Enfsi, \n",
    "#                     #  'enfsi2015': Enfsi2015}\n",
    "#         return [DATABASES[db](input_dir = input_dir) for db in database_names]"
   ]
  },
  {
   "cell_type": "code",
   "execution_count": null,
   "metadata": {},
   "outputs": [],
   "source": [
    "#| hide\n",
    "import nbdev; nbdev.nbdev_export()"
   ]
  }
 ],
 "metadata": {
  "kernelspec": {
   "display_name": "Python 3.7.13 ('sql-face')",
   "language": "python",
   "name": "python3"
  }
 },
 "nbformat": 4,
 "nbformat_minor": 4
}
