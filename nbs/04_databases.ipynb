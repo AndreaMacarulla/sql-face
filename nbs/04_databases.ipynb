{
 "cells": [
  {
   "cell_type": "markdown",
   "metadata": {},
   "source": [
    "# SQL Databases\n",
    "\n",
    "> Class declarations of the face databases."
   ]
  },
  {
   "cell_type": "code",
   "execution_count": null,
   "metadata": {},
   "outputs": [],
   "source": [
    "#| default_exp databases"
   ]
  },
  {
   "cell_type": "code",
   "execution_count": null,
   "metadata": {},
   "outputs": [],
   "source": [
    "#| hide\n",
    "\n",
    "from nbdev.showdoc import *\n",
    "from fastcore.test import *"
   ]
  },
  {
   "cell_type": "code",
   "execution_count": null,
   "metadata": {},
   "outputs": [],
   "source": [
    "#| exporti\n",
    "import os \n",
    "\n",
    "from abc import ABC, abstractmethod\n",
    "from typing import List\n",
    "from tqdm import tqdm\n",
    "\n",
    "from deepface import DeepFace\n",
    "from sql_face.tables import *\n",
    "from sql_face.tables import Gender, Age, Emotion, Race"
   ]
  },
  {
   "cell_type": "code",
   "execution_count": null,
   "metadata": {},
   "outputs": [],
   "source": [
    "#| export\n",
    "class FaceDataBase(ABC):\n",
    "    def __init__(self, \n",
    "    input_dir:str,\n",
    "    source:str\n",
    "    ):\n",
    "        self.input_dir= input_dir\n",
    "        self.source = source\n",
    "        self.path = self.get_path()\n",
    "        self.all_image_paths = self.get_all_image_paths()\n",
    "\n",
    "    \n",
    "    @abstractmethod\n",
    "    def get_path(self):\n",
    "        pass\n",
    "\n",
    "    \n",
    "    @abstractmethod\n",
    "    def get_all_image_paths(self):\n",
    "        pass\n",
    "\n",
    "\n",
    "    def paths_not_in_db(self, session):\n",
    "        db_paths = (\n",
    "            session.query(Image.path)\n",
    "            .filter(Image.source == self.source)\n",
    "            .all()\n",
    "        )\n",
    "        db_paths = [row.path for row in db_paths]\n",
    "\n",
    "        # paths that are not yet in db.\n",
    "        new_paths = set(self.all_image_paths) - set(db_paths)\n",
    "        return new_paths\n",
    "\n",
    "    @staticmethod\n",
    "    @abstractmethod\n",
    "    def identity_from_path(paths: List[str]) -> List[str]:\n",
    "        pass\n",
    "\n",
    "\n",
    "    def create_images(self, session):\n",
    "        paths = self.paths_not_in_db(session)\n",
    "        identities = self.identity_from_path(paths)\n",
    "        for path, identity in tqdm(zip(paths, identities), desc=f'Creating image record from {self.source}'):\n",
    "            image = Image(path=path, identity=identity, source=self.source)\n",
    "            session.add(image)\n",
    "        session.commit()\n"
   ]
  },
  {
   "cell_type": "code",
   "execution_count": null,
   "metadata": {},
   "outputs": [],
   "source": [
    "#| export\n",
    "\n",
    "class LFW(FaceDataBase):\n",
    "    def __init__(self, input_dir):\n",
    "        super().__init__(input_dir, source = 'LFW')\n",
    "\n",
    "    def get_path(self)->str:\n",
    "        return os.path.join(self.input_dir, 'lfw')\n",
    "\n",
    "    def get_all_image_paths(self)->List[str]:\n",
    "        paths = []\n",
    "        for person in os.listdir(self.path):\n",
    "            if os.path.isdir(os.path.join(self.path, person)):\n",
    "                person_dir = os.path.join(self.path, person)\n",
    "                for image_file in os.listdir(person_dir):\n",
    "                    image_path = os.path.join(person_dir, image_file)\n",
    "                    paths.append(image_path)\n",
    "        return paths\n",
    "\n",
    "    @staticmethod\n",
    "    def identity_from_path(paths: List[str]) -> List[str]:\n",
    "        identities = [path.split(os.sep)[-2] for path in paths]\n",
    "        return identities\n",
    "\n",
    "    "
   ]
  },
  {
   "cell_type": "code",
   "execution_count": null,
   "metadata": {},
   "outputs": [],
   "source": [
    "#| export\n",
    "\n",
    "DATABASES = {'lfw': LFW \n",
    "                    # 'xqlfw': XQLFW, \n",
    "                    #  'scface': SCFace, \n",
    "                    #  'forenface': ForenFace, \n",
    "                    #  'utkface': UTKFace,\n",
    "                    #  'enfsi': Enfsi, \n",
    "                    #  'enfsi2015': Enfsi2015\n",
    "                     }\n",
    "\n"
   ]
  },
  {
   "cell_type": "code",
   "execution_count": null,
   "metadata": {},
   "outputs": [],
   "source": [
    "#| export\n",
    "def get_image_db(input_dir:str,\n",
    "                database_names:List[str]) -> List[FaceDataBase]:\n",
    "        \"\"\"\n",
    "        Function that converts str names to FaceDataBase class.\n",
    "        \"\"\"\n",
    "        \n",
    "        all_databases = list(DATABASES.keys())\n",
    "        for name in database_names:\n",
    "                if name not in all_databases:\n",
    "                        raise ValueError(f'Database {name} not contained in the database list. \\n \\\n",
    "                        Database list is {all_databases}')\n",
    "        return [DATABASES[db](input_dir = input_dir) for db in database_names]\n",
    "\n",
    "# test_fail(lambda: get_image_db('input_dir', ['not_a_db_name']), contains=\"database name not in the list\")"
   ]
  },
  {
   "cell_type": "code",
   "execution_count": null,
   "metadata": {},
   "outputs": [],
   "source": [
    "#| hide\n",
    "import nbdev; nbdev.nbdev_export()"
   ]
  }
 ],
 "metadata": {
  "kernelspec": {
   "display_name": "Python 3.7.13 ('sql-face')",
   "language": "python",
   "name": "python3"
  }
 },
 "nbformat": 4,
 "nbformat_minor": 4
}
